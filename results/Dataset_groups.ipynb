{
 "cells": [
  {
   "cell_type": "code",
   "execution_count": 1,
   "metadata": {
    "collapsed": true
   },
   "outputs": [],
   "source": [
    "%matplotlib inline\n",
    "import pandas as pd\n",
    "import numpy as np\n",
    "import matplotlib.pyplot as plt"
   ]
  },
  {
   "cell_type": "code",
   "execution_count": 2,
   "metadata": {
    "collapsed": false,
    "scrolled": false
   },
   "outputs": [
    {
     "data": {
      "text/html": [
       "<div>\n",
       "<table border=\"1\" class=\"dataframe\">\n",
       "  <thead>\n",
       "    <tr style=\"text-align: right;\">\n",
       "      <th></th>\n",
       "      <th>QuestionId</th>\n",
       "      <th>AnsId</th>\n",
       "      <th>Age_vot</th>\n",
       "      <th>AnsWordCount</th>\n",
       "      <th>AcceptedAnsId</th>\n",
       "      <th>QScore</th>\n",
       "      <th>QVotes</th>\n",
       "      <th>Score</th>\n",
       "      <th>Votes</th>\n",
       "      <th>Upvotes</th>\n",
       "      <th>...</th>\n",
       "      <th>CumScore</th>\n",
       "      <th>ReScore</th>\n",
       "      <th>QReScore</th>\n",
       "      <th>Comments</th>\n",
       "      <th>AnsRank</th>\n",
       "      <th>ReScore_rank</th>\n",
       "      <th>Ans_count</th>\n",
       "      <th>Pbias</th>\n",
       "      <th>DRank</th>\n",
       "      <th>EPbias</th>\n",
       "    </tr>\n",
       "  </thead>\n",
       "  <tbody>\n",
       "    <tr>\n",
       "      <th>0</th>\n",
       "      <td>1</td>\n",
       "      <td>56</td>\n",
       "      <td>0</td>\n",
       "      <td>201</td>\n",
       "      <td>56</td>\n",
       "      <td>0</td>\n",
       "      <td>0</td>\n",
       "      <td>2</td>\n",
       "      <td>2</td>\n",
       "      <td>2</td>\n",
       "      <td>...</td>\n",
       "      <td>0</td>\n",
       "      <td>0</td>\n",
       "      <td>0</td>\n",
       "      <td>0</td>\n",
       "      <td>1</td>\n",
       "      <td>1</td>\n",
       "      <td>1</td>\n",
       "      <td>1</td>\n",
       "      <td>0</td>\n",
       "      <td>1</td>\n",
       "    </tr>\n",
       "    <tr>\n",
       "      <th>1</th>\n",
       "      <td>2</td>\n",
       "      <td>10</td>\n",
       "      <td>0</td>\n",
       "      <td>145</td>\n",
       "      <td>10</td>\n",
       "      <td>0</td>\n",
       "      <td>0</td>\n",
       "      <td>3</td>\n",
       "      <td>3</td>\n",
       "      <td>3</td>\n",
       "      <td>...</td>\n",
       "      <td>0</td>\n",
       "      <td>0</td>\n",
       "      <td>0</td>\n",
       "      <td>0</td>\n",
       "      <td>1</td>\n",
       "      <td>1</td>\n",
       "      <td>1</td>\n",
       "      <td>1</td>\n",
       "      <td>0</td>\n",
       "      <td>1</td>\n",
       "    </tr>\n",
       "    <tr>\n",
       "      <th>2</th>\n",
       "      <td>2</td>\n",
       "      <td>10</td>\n",
       "      <td>0</td>\n",
       "      <td>145</td>\n",
       "      <td>10</td>\n",
       "      <td>0</td>\n",
       "      <td>0</td>\n",
       "      <td>3</td>\n",
       "      <td>3</td>\n",
       "      <td>3</td>\n",
       "      <td>...</td>\n",
       "      <td>0</td>\n",
       "      <td>0</td>\n",
       "      <td>0</td>\n",
       "      <td>0</td>\n",
       "      <td>1</td>\n",
       "      <td>1</td>\n",
       "      <td>1</td>\n",
       "      <td>1</td>\n",
       "      <td>0</td>\n",
       "      <td>1</td>\n",
       "    </tr>\n",
       "    <tr>\n",
       "      <th>3</th>\n",
       "      <td>3</td>\n",
       "      <td>9</td>\n",
       "      <td>0</td>\n",
       "      <td>25</td>\n",
       "      <td>109</td>\n",
       "      <td>0</td>\n",
       "      <td>0</td>\n",
       "      <td>4</td>\n",
       "      <td>4</td>\n",
       "      <td>4</td>\n",
       "      <td>...</td>\n",
       "      <td>0</td>\n",
       "      <td>0</td>\n",
       "      <td>0</td>\n",
       "      <td>0</td>\n",
       "      <td>1</td>\n",
       "      <td>1</td>\n",
       "      <td>1</td>\n",
       "      <td>1</td>\n",
       "      <td>0</td>\n",
       "      <td>1</td>\n",
       "    </tr>\n",
       "    <tr>\n",
       "      <th>4</th>\n",
       "      <td>7</td>\n",
       "      <td>16</td>\n",
       "      <td>0</td>\n",
       "      <td>45</td>\n",
       "      <td>2977</td>\n",
       "      <td>0</td>\n",
       "      <td>0</td>\n",
       "      <td>3</td>\n",
       "      <td>3</td>\n",
       "      <td>3</td>\n",
       "      <td>...</td>\n",
       "      <td>0</td>\n",
       "      <td>0</td>\n",
       "      <td>0</td>\n",
       "      <td>0</td>\n",
       "      <td>1</td>\n",
       "      <td>1</td>\n",
       "      <td>1</td>\n",
       "      <td>1</td>\n",
       "      <td>0</td>\n",
       "      <td>1</td>\n",
       "    </tr>\n",
       "  </tbody>\n",
       "</table>\n",
       "<p>5 rows × 22 columns</p>\n",
       "</div>"
      ],
      "text/plain": [
       "   QuestionId  AnsId  Age_vot  AnsWordCount  AcceptedAnsId  QScore  QVotes  \\\n",
       "0           1     56        0           201             56       0       0   \n",
       "1           2     10        0           145             10       0       0   \n",
       "2           2     10        0           145             10       0       0   \n",
       "3           3      9        0            25            109       0       0   \n",
       "4           7     16        0            45           2977       0       0   \n",
       "\n",
       "   Score  Votes  Upvotes   ...    CumScore  ReScore  QReScore  Comments  \\\n",
       "0      2      2        2   ...           0        0         0         0   \n",
       "1      3      3        3   ...           0        0         0         0   \n",
       "2      3      3        3   ...           0        0         0         0   \n",
       "3      4      4        4   ...           0        0         0         0   \n",
       "4      3      3        3   ...           0        0         0         0   \n",
       "\n",
       "   AnsRank  ReScore_rank  Ans_count  Pbias  DRank  EPbias  \n",
       "0        1             1          1      1      0       1  \n",
       "1        1             1          1      1      0       1  \n",
       "2        1             1          1      1      0       1  \n",
       "3        1             1          1      1      0       1  \n",
       "4        1             1          1      1      0       1  \n",
       "\n",
       "[5 rows x 22 columns]"
      ]
     },
     "execution_count": 2,
     "metadata": {},
     "output_type": "execute_result"
    }
   ],
   "source": [
    "#There are deleted users among these votes. To Take into account only active users refer to  ExploratoryPlotsByGroups.ipynb\n",
    "votes = pd.DataFrame.from_csv('c:/Users/Joel/Predictive-model-for-the-voting-system-in-SE-network/spanish_site/AnsVotes_TSeries.csv', index_col=None)\n",
    "votes.head()"
   ]
  },
  {
   "cell_type": "code",
   "execution_count": 3,
   "metadata": {
    "collapsed": false
   },
   "outputs": [
    {
     "data": {
      "text/html": [
       "<div>\n",
       "<table border=\"1\" class=\"dataframe\">\n",
       "  <thead>\n",
       "    <tr style=\"text-align: right;\">\n",
       "      <th></th>\n",
       "      <th>QuestionId</th>\n",
       "      <th>AnsId</th>\n",
       "      <th>Age_vot</th>\n",
       "      <th>AnsWordCount</th>\n",
       "      <th>AcceptedAnsId</th>\n",
       "      <th>QScore</th>\n",
       "      <th>QVotes</th>\n",
       "      <th>Score</th>\n",
       "      <th>Votes</th>\n",
       "      <th>Upvotes</th>\n",
       "      <th>...</th>\n",
       "      <th>CumScore</th>\n",
       "      <th>ReScore</th>\n",
       "      <th>QReScore</th>\n",
       "      <th>Comments</th>\n",
       "      <th>AnsRank</th>\n",
       "      <th>ReScore_rank</th>\n",
       "      <th>Ans_count</th>\n",
       "      <th>Pbias</th>\n",
       "      <th>DRank</th>\n",
       "      <th>EPbias</th>\n",
       "    </tr>\n",
       "  </thead>\n",
       "  <tbody>\n",
       "  </tbody>\n",
       "</table>\n",
       "<p>0 rows × 22 columns</p>\n",
       "</div>"
      ],
      "text/plain": [
       "Empty DataFrame\n",
       "Columns: [QuestionId, AnsId, Age_vot, AnsWordCount, AcceptedAnsId, QScore, QVotes, Score, Votes, Upvotes, Downvotes, CumVotes, CumScore, ReScore, QReScore, Comments, AnsRank, ReScore_rank, Ans_count, Pbias, DRank, EPbias]\n",
       "Index: []\n",
       "\n",
       "[0 rows x 22 columns]"
      ]
     },
     "execution_count": 3,
     "metadata": {},
     "output_type": "execute_result"
    }
   ],
   "source": [
    "# Little test\n",
    "votes[(votes.Upvotes.isnull())|(votes.Downvotes.isnull())]"
   ]
  },
  {
   "cell_type": "code",
   "execution_count": 4,
   "metadata": {
    "collapsed": false
   },
   "outputs": [
    {
     "data": {
      "text/html": [
       "<div>\n",
       "<table border=\"1\" class=\"dataframe\">\n",
       "  <thead>\n",
       "    <tr style=\"text-align: right;\">\n",
       "      <th></th>\n",
       "      <th>QuestionId</th>\n",
       "      <th>AnsId</th>\n",
       "      <th>Age_vot</th>\n",
       "      <th>AnsWordCount</th>\n",
       "      <th>AcceptedAnsId</th>\n",
       "      <th>QScore</th>\n",
       "      <th>QVotes</th>\n",
       "      <th>Score</th>\n",
       "      <th>Votes</th>\n",
       "      <th>Upvotes</th>\n",
       "      <th>...</th>\n",
       "      <th>CumScore</th>\n",
       "      <th>ReScore</th>\n",
       "      <th>QReScore</th>\n",
       "      <th>Comments</th>\n",
       "      <th>AnsRank</th>\n",
       "      <th>ReScore_rank</th>\n",
       "      <th>Ans_count</th>\n",
       "      <th>Pbias</th>\n",
       "      <th>DRank</th>\n",
       "      <th>EPbias</th>\n",
       "    </tr>\n",
       "  </thead>\n",
       "  <tbody>\n",
       "  </tbody>\n",
       "</table>\n",
       "<p>0 rows × 22 columns</p>\n",
       "</div>"
      ],
      "text/plain": [
       "Empty DataFrame\n",
       "Columns: [QuestionId, AnsId, Age_vot, AnsWordCount, AcceptedAnsId, QScore, QVotes, Score, Votes, Upvotes, Downvotes, CumVotes, CumScore, ReScore, QReScore, Comments, AnsRank, ReScore_rank, Ans_count, Pbias, DRank, EPbias]\n",
       "Index: []\n",
       "\n",
       "[0 rows x 22 columns]"
      ]
     },
     "execution_count": 4,
     "metadata": {},
     "output_type": "execute_result"
    }
   ],
   "source": [
    "votes[votes.Votes != (votes.Upvotes+votes.Downvotes)]"
   ]
  },
  {
   "cell_type": "code",
   "execution_count": 5,
   "metadata": {
    "collapsed": false
   },
   "outputs": [
    {
     "data": {
      "text/plain": [
       "Index([u'QuestionId', u'AnsId', u'Age_vot', u'AnsWordCount', u'AcceptedAnsId',\n",
       "       u'QScore', u'QVotes', u'Score', u'Votes', u'Upvotes', u'Downvotes',\n",
       "       u'CumVotes', u'CumScore', u'ReScore', u'QReScore', u'Comments',\n",
       "       u'AnsRank', u'ReScore_rank', u'Ans_count', u'Pbias', u'DRank',\n",
       "       u'EPbias'],\n",
       "      dtype='object')"
      ]
     },
     "execution_count": 5,
     "metadata": {},
     "output_type": "execute_result"
    }
   ],
   "source": [
    "votes.columns"
   ]
  },
  {
   "cell_type": "code",
   "execution_count": 6,
   "metadata": {
    "collapsed": false
   },
   "outputs": [],
   "source": [
    "votes['Norm_DRank'] = votes['DRank']/votes['Ans_count']\n",
    "votes['Norm_Pos'] = votes['AnsRank']/votes['Ans_count']"
   ]
  },
  {
   "cell_type": "code",
   "execution_count": 7,
   "metadata": {
    "collapsed": false
   },
   "outputs": [
    {
     "data": {
      "text/plain": [
       "(23328, 24)"
      ]
     },
     "execution_count": 7,
     "metadata": {},
     "output_type": "execute_result"
    }
   ],
   "source": [
    "votes.shape"
   ]
  },
  {
   "cell_type": "markdown",
   "metadata": {},
   "source": [
    "### Distribution of : number of days an answer is voted on (at least one vote)"
   ]
  },
  {
   "cell_type": "code",
   "execution_count": 8,
   "metadata": {
    "collapsed": false
   },
   "outputs": [
    {
     "data": {
      "text/plain": [
       "1     1638\n",
       "2     1405\n",
       "3      740\n",
       "4      598\n",
       "6      292\n",
       "5      217\n",
       "8      153\n",
       "12      97\n",
       "10      71\n",
       "9       62\n",
       "Name: Age_vot, dtype: int64"
      ]
     },
     "execution_count": 8,
     "metadata": {},
     "output_type": "execute_result"
    }
   ],
   "source": [
    "votes.groupby('AnsId').count().Age_vot.value_counts().head(10)"
   ]
  },
  {
   "cell_type": "markdown",
   "metadata": {},
   "source": [
    "# Regression happens on votes the day after attributes were measured"
   ]
  },
  {
   "cell_type": "code",
   "execution_count": 9,
   "metadata": {
    "collapsed": false
   },
   "outputs": [
    {
     "data": {
      "text/html": [
       "<div>\n",
       "<table border=\"1\" class=\"dataframe\">\n",
       "  <thead>\n",
       "    <tr style=\"text-align: right;\">\n",
       "      <th></th>\n",
       "      <th>AcceptedAnsId</th>\n",
       "      <th>Age_vot</th>\n",
       "      <th>AnsId</th>\n",
       "      <th>AnsRank</th>\n",
       "      <th>AnsWordCount</th>\n",
       "      <th>Ans_count</th>\n",
       "      <th>Comments</th>\n",
       "      <th>CumScore</th>\n",
       "      <th>CumVotes</th>\n",
       "      <th>DRank</th>\n",
       "      <th>...</th>\n",
       "      <th>Pbias</th>\n",
       "      <th>QReScore</th>\n",
       "      <th>QScore</th>\n",
       "      <th>QVotes</th>\n",
       "      <th>QuestionId</th>\n",
       "      <th>ReScore</th>\n",
       "      <th>ReScore_rank</th>\n",
       "      <th>Score</th>\n",
       "      <th>Upvotes</th>\n",
       "      <th>Votes</th>\n",
       "    </tr>\n",
       "  </thead>\n",
       "  <tbody>\n",
       "    <tr>\n",
       "      <th>23329</th>\n",
       "      <td>NaN</td>\n",
       "      <td>0</td>\n",
       "      <td>4</td>\n",
       "      <td>2</td>\n",
       "      <td>NaN</td>\n",
       "      <td>2</td>\n",
       "      <td>NaN</td>\n",
       "      <td>NaN</td>\n",
       "      <td>NaN</td>\n",
       "      <td>NaN</td>\n",
       "      <td>...</td>\n",
       "      <td>NaN</td>\n",
       "      <td>NaN</td>\n",
       "      <td>NaN</td>\n",
       "      <td>NaN</td>\n",
       "      <td>NaN</td>\n",
       "      <td>0.000000</td>\n",
       "      <td>NaN</td>\n",
       "      <td>NaN</td>\n",
       "      <td>0</td>\n",
       "      <td>0</td>\n",
       "    </tr>\n",
       "    <tr>\n",
       "      <th>7132</th>\n",
       "      <td>56</td>\n",
       "      <td>1</td>\n",
       "      <td>4</td>\n",
       "      <td>2</td>\n",
       "      <td>190</td>\n",
       "      <td>2</td>\n",
       "      <td>0</td>\n",
       "      <td>0</td>\n",
       "      <td>0</td>\n",
       "      <td>0</td>\n",
       "      <td>...</td>\n",
       "      <td>0.500000</td>\n",
       "      <td>0.000000</td>\n",
       "      <td>0</td>\n",
       "      <td>0</td>\n",
       "      <td>1</td>\n",
       "      <td>0.000000</td>\n",
       "      <td>2</td>\n",
       "      <td>1</td>\n",
       "      <td>2</td>\n",
       "      <td>3</td>\n",
       "    </tr>\n",
       "    <tr>\n",
       "      <th>21434</th>\n",
       "      <td>56</td>\n",
       "      <td>1437</td>\n",
       "      <td>4</td>\n",
       "      <td>3</td>\n",
       "      <td>190</td>\n",
       "      <td>6</td>\n",
       "      <td>2</td>\n",
       "      <td>1</td>\n",
       "      <td>3</td>\n",
       "      <td>-2</td>\n",
       "      <td>...</td>\n",
       "      <td>0.333333</td>\n",
       "      <td>0.923077</td>\n",
       "      <td>12</td>\n",
       "      <td>12</td>\n",
       "      <td>1</td>\n",
       "      <td>0.250000</td>\n",
       "      <td>5</td>\n",
       "      <td>1</td>\n",
       "      <td>1</td>\n",
       "      <td>1</td>\n",
       "    </tr>\n",
       "    <tr>\n",
       "      <th>23330</th>\n",
       "      <td>NaN</td>\n",
       "      <td>0</td>\n",
       "      <td>5</td>\n",
       "      <td>3</td>\n",
       "      <td>NaN</td>\n",
       "      <td>3</td>\n",
       "      <td>NaN</td>\n",
       "      <td>NaN</td>\n",
       "      <td>NaN</td>\n",
       "      <td>NaN</td>\n",
       "      <td>...</td>\n",
       "      <td>NaN</td>\n",
       "      <td>NaN</td>\n",
       "      <td>NaN</td>\n",
       "      <td>NaN</td>\n",
       "      <td>NaN</td>\n",
       "      <td>0.000000</td>\n",
       "      <td>NaN</td>\n",
       "      <td>NaN</td>\n",
       "      <td>0</td>\n",
       "      <td>0</td>\n",
       "    </tr>\n",
       "    <tr>\n",
       "      <th>13998</th>\n",
       "      <td>56</td>\n",
       "      <td>1</td>\n",
       "      <td>5</td>\n",
       "      <td>3</td>\n",
       "      <td>37</td>\n",
       "      <td>3</td>\n",
       "      <td>0</td>\n",
       "      <td>0</td>\n",
       "      <td>0</td>\n",
       "      <td>0</td>\n",
       "      <td>...</td>\n",
       "      <td>0.333333</td>\n",
       "      <td>0.000000</td>\n",
       "      <td>0</td>\n",
       "      <td>0</td>\n",
       "      <td>1</td>\n",
       "      <td>0.000000</td>\n",
       "      <td>3</td>\n",
       "      <td>1</td>\n",
       "      <td>1</td>\n",
       "      <td>1</td>\n",
       "    </tr>\n",
       "    <tr>\n",
       "      <th>20327</th>\n",
       "      <td>56</td>\n",
       "      <td>109</td>\n",
       "      <td>5</td>\n",
       "      <td>5</td>\n",
       "      <td>37</td>\n",
       "      <td>5</td>\n",
       "      <td>1</td>\n",
       "      <td>1</td>\n",
       "      <td>1</td>\n",
       "      <td>2</td>\n",
       "      <td>...</td>\n",
       "      <td>0.200000</td>\n",
       "      <td>0.923077</td>\n",
       "      <td>12</td>\n",
       "      <td>12</td>\n",
       "      <td>1</td>\n",
       "      <td>0.500000</td>\n",
       "      <td>3</td>\n",
       "      <td>-1</td>\n",
       "      <td>0</td>\n",
       "      <td>1</td>\n",
       "    </tr>\n",
       "    <tr>\n",
       "      <th>23331</th>\n",
       "      <td>NaN</td>\n",
       "      <td>0</td>\n",
       "      <td>6</td>\n",
       "      <td>5</td>\n",
       "      <td>NaN</td>\n",
       "      <td>5</td>\n",
       "      <td>NaN</td>\n",
       "      <td>NaN</td>\n",
       "      <td>NaN</td>\n",
       "      <td>NaN</td>\n",
       "      <td>...</td>\n",
       "      <td>NaN</td>\n",
       "      <td>NaN</td>\n",
       "      <td>NaN</td>\n",
       "      <td>NaN</td>\n",
       "      <td>NaN</td>\n",
       "      <td>0.000000</td>\n",
       "      <td>NaN</td>\n",
       "      <td>NaN</td>\n",
       "      <td>0</td>\n",
       "      <td>0</td>\n",
       "    </tr>\n",
       "    <tr>\n",
       "      <th>20328</th>\n",
       "      <td>10</td>\n",
       "      <td>1</td>\n",
       "      <td>6</td>\n",
       "      <td>5</td>\n",
       "      <td>51</td>\n",
       "      <td>5</td>\n",
       "      <td>0</td>\n",
       "      <td>0</td>\n",
       "      <td>0</td>\n",
       "      <td>0</td>\n",
       "      <td>...</td>\n",
       "      <td>0.200000</td>\n",
       "      <td>0.000000</td>\n",
       "      <td>0</td>\n",
       "      <td>0</td>\n",
       "      <td>2</td>\n",
       "      <td>0.000000</td>\n",
       "      <td>5</td>\n",
       "      <td>1</td>\n",
       "      <td>1</td>\n",
       "      <td>1</td>\n",
       "    </tr>\n",
       "    <tr>\n",
       "      <th>23332</th>\n",
       "      <td>NaN</td>\n",
       "      <td>0</td>\n",
       "      <td>8</td>\n",
       "      <td>4</td>\n",
       "      <td>NaN</td>\n",
       "      <td>4</td>\n",
       "      <td>NaN</td>\n",
       "      <td>NaN</td>\n",
       "      <td>NaN</td>\n",
       "      <td>NaN</td>\n",
       "      <td>...</td>\n",
       "      <td>NaN</td>\n",
       "      <td>NaN</td>\n",
       "      <td>NaN</td>\n",
       "      <td>NaN</td>\n",
       "      <td>NaN</td>\n",
       "      <td>0.000000</td>\n",
       "      <td>NaN</td>\n",
       "      <td>NaN</td>\n",
       "      <td>0</td>\n",
       "      <td>0</td>\n",
       "    </tr>\n",
       "    <tr>\n",
       "      <th>19213</th>\n",
       "      <td>10</td>\n",
       "      <td>1</td>\n",
       "      <td>8</td>\n",
       "      <td>3</td>\n",
       "      <td>46</td>\n",
       "      <td>4</td>\n",
       "      <td>0</td>\n",
       "      <td>0</td>\n",
       "      <td>0</td>\n",
       "      <td>2</td>\n",
       "      <td>...</td>\n",
       "      <td>0.333333</td>\n",
       "      <td>0.000000</td>\n",
       "      <td>0</td>\n",
       "      <td>0</td>\n",
       "      <td>2</td>\n",
       "      <td>0.000000</td>\n",
       "      <td>1</td>\n",
       "      <td>1</td>\n",
       "      <td>1</td>\n",
       "      <td>1</td>\n",
       "    </tr>\n",
       "    <tr>\n",
       "      <th>23333</th>\n",
       "      <td>NaN</td>\n",
       "      <td>0</td>\n",
       "      <td>9</td>\n",
       "      <td>1</td>\n",
       "      <td>NaN</td>\n",
       "      <td>1</td>\n",
       "      <td>NaN</td>\n",
       "      <td>NaN</td>\n",
       "      <td>NaN</td>\n",
       "      <td>NaN</td>\n",
       "      <td>...</td>\n",
       "      <td>NaN</td>\n",
       "      <td>NaN</td>\n",
       "      <td>NaN</td>\n",
       "      <td>NaN</td>\n",
       "      <td>NaN</td>\n",
       "      <td>0.000000</td>\n",
       "      <td>NaN</td>\n",
       "      <td>NaN</td>\n",
       "      <td>0</td>\n",
       "      <td>0</td>\n",
       "    </tr>\n",
       "    <tr>\n",
       "      <th>3</th>\n",
       "      <td>109</td>\n",
       "      <td>1</td>\n",
       "      <td>9</td>\n",
       "      <td>1</td>\n",
       "      <td>25</td>\n",
       "      <td>1</td>\n",
       "      <td>0</td>\n",
       "      <td>0</td>\n",
       "      <td>0</td>\n",
       "      <td>0</td>\n",
       "      <td>...</td>\n",
       "      <td>1.000000</td>\n",
       "      <td>0.000000</td>\n",
       "      <td>0</td>\n",
       "      <td>0</td>\n",
       "      <td>3</td>\n",
       "      <td>0.000000</td>\n",
       "      <td>1</td>\n",
       "      <td>4</td>\n",
       "      <td>4</td>\n",
       "      <td>4</td>\n",
       "    </tr>\n",
       "    <tr>\n",
       "      <th>22231</th>\n",
       "      <td>109</td>\n",
       "      <td>615</td>\n",
       "      <td>9</td>\n",
       "      <td>3</td>\n",
       "      <td>25</td>\n",
       "      <td>8</td>\n",
       "      <td>3</td>\n",
       "      <td>7</td>\n",
       "      <td>7</td>\n",
       "      <td>1</td>\n",
       "      <td>...</td>\n",
       "      <td>0.333333</td>\n",
       "      <td>0.962963</td>\n",
       "      <td>26</td>\n",
       "      <td>26</td>\n",
       "      <td>3</td>\n",
       "      <td>0.875000</td>\n",
       "      <td>2</td>\n",
       "      <td>1</td>\n",
       "      <td>1</td>\n",
       "      <td>1</td>\n",
       "    </tr>\n",
       "    <tr>\n",
       "      <th>22248</th>\n",
       "      <td>109</td>\n",
       "      <td>13</td>\n",
       "      <td>9</td>\n",
       "      <td>2</td>\n",
       "      <td>25</td>\n",
       "      <td>8</td>\n",
       "      <td>3</td>\n",
       "      <td>4</td>\n",
       "      <td>4</td>\n",
       "      <td>0</td>\n",
       "      <td>...</td>\n",
       "      <td>0.500000</td>\n",
       "      <td>0.962963</td>\n",
       "      <td>26</td>\n",
       "      <td>26</td>\n",
       "      <td>3</td>\n",
       "      <td>0.800000</td>\n",
       "      <td>2</td>\n",
       "      <td>1</td>\n",
       "      <td>1</td>\n",
       "      <td>1</td>\n",
       "    </tr>\n",
       "    <tr>\n",
       "      <th>22249</th>\n",
       "      <td>109</td>\n",
       "      <td>362</td>\n",
       "      <td>9</td>\n",
       "      <td>2</td>\n",
       "      <td>25</td>\n",
       "      <td>8</td>\n",
       "      <td>3</td>\n",
       "      <td>5</td>\n",
       "      <td>5</td>\n",
       "      <td>0</td>\n",
       "      <td>...</td>\n",
       "      <td>0.500000</td>\n",
       "      <td>0.962963</td>\n",
       "      <td>26</td>\n",
       "      <td>26</td>\n",
       "      <td>3</td>\n",
       "      <td>0.833333</td>\n",
       "      <td>2</td>\n",
       "      <td>1</td>\n",
       "      <td>1</td>\n",
       "      <td>1</td>\n",
       "    </tr>\n",
       "  </tbody>\n",
       "</table>\n",
       "<p>15 rows × 24 columns</p>\n",
       "</div>"
      ],
      "text/plain": [
       "       AcceptedAnsId  Age_vot  AnsId  AnsRank  AnsWordCount  Ans_count  \\\n",
       "23329            NaN        0      4        2           NaN          2   \n",
       "7132              56        1      4        2           190          2   \n",
       "21434             56     1437      4        3           190          6   \n",
       "23330            NaN        0      5        3           NaN          3   \n",
       "13998             56        1      5        3            37          3   \n",
       "20327             56      109      5        5            37          5   \n",
       "23331            NaN        0      6        5           NaN          5   \n",
       "20328             10        1      6        5            51          5   \n",
       "23332            NaN        0      8        4           NaN          4   \n",
       "19213             10        1      8        3            46          4   \n",
       "23333            NaN        0      9        1           NaN          1   \n",
       "3                109        1      9        1            25          1   \n",
       "22231            109      615      9        3            25          8   \n",
       "22248            109       13      9        2            25          8   \n",
       "22249            109      362      9        2            25          8   \n",
       "\n",
       "       Comments  CumScore  CumVotes  DRank  ...       Pbias  QReScore  QScore  \\\n",
       "23329       NaN       NaN       NaN    NaN  ...         NaN       NaN     NaN   \n",
       "7132          0         0         0      0  ...    0.500000  0.000000       0   \n",
       "21434         2         1         3     -2  ...    0.333333  0.923077      12   \n",
       "23330       NaN       NaN       NaN    NaN  ...         NaN       NaN     NaN   \n",
       "13998         0         0         0      0  ...    0.333333  0.000000       0   \n",
       "20327         1         1         1      2  ...    0.200000  0.923077      12   \n",
       "23331       NaN       NaN       NaN    NaN  ...         NaN       NaN     NaN   \n",
       "20328         0         0         0      0  ...    0.200000  0.000000       0   \n",
       "23332       NaN       NaN       NaN    NaN  ...         NaN       NaN     NaN   \n",
       "19213         0         0         0      2  ...    0.333333  0.000000       0   \n",
       "23333       NaN       NaN       NaN    NaN  ...         NaN       NaN     NaN   \n",
       "3             0         0         0      0  ...    1.000000  0.000000       0   \n",
       "22231         3         7         7      1  ...    0.333333  0.962963      26   \n",
       "22248         3         4         4      0  ...    0.500000  0.962963      26   \n",
       "22249         3         5         5      0  ...    0.500000  0.962963      26   \n",
       "\n",
       "       QVotes  QuestionId   ReScore  ReScore_rank  Score  Upvotes  Votes  \n",
       "23329     NaN         NaN  0.000000           NaN    NaN        0      0  \n",
       "7132        0           1  0.000000             2      1        2      3  \n",
       "21434      12           1  0.250000             5      1        1      1  \n",
       "23330     NaN         NaN  0.000000           NaN    NaN        0      0  \n",
       "13998       0           1  0.000000             3      1        1      1  \n",
       "20327      12           1  0.500000             3     -1        0      1  \n",
       "23331     NaN         NaN  0.000000           NaN    NaN        0      0  \n",
       "20328       0           2  0.000000             5      1        1      1  \n",
       "23332     NaN         NaN  0.000000           NaN    NaN        0      0  \n",
       "19213       0           2  0.000000             1      1        1      1  \n",
       "23333     NaN         NaN  0.000000           NaN    NaN        0      0  \n",
       "3           0           3  0.000000             1      4        4      4  \n",
       "22231      26           3  0.875000             2      1        1      1  \n",
       "22248      26           3  0.800000             2      1        1      1  \n",
       "22249      26           3  0.833333             2      1        1      1  \n",
       "\n",
       "[15 rows x 24 columns]"
      ]
     },
     "execution_count": 9,
     "metadata": {},
     "output_type": "execute_result"
    }
   ],
   "source": [
    "import itertools\n",
    "\n",
    "new_idx_start = votes.shape[0]\n",
    "get_idx = itertools.count(new_idx_start)\n",
    "\n",
    "get_null_row = lambda df,ans_c,a_id: pd.DataFrame({'AnsId':[a_id],'Age_vot':[-1],'Norm_Pos':[1],'Norm_DRank':[0.0],'Ans_count':[ans_c],\n",
    "                                       'ReScore':[0.0],'AnsRank':[ans_c],'Votes':[0],'Upvotes':[0],'Downvotes':[0]},index=[get_idx.next()])\n",
    "append_null_day = lambda df: get_null_row(df,df.sort_values(by='Age_vot').Ans_count.iloc[0],df.AnsId.iloc[0]).append(df)\n",
    "votes = votes.groupby(['AnsId']).apply(append_null_day).reset_index(level=[0],drop=True)\n",
    "votes.loc[:,'Age_vot'] = votes['Age_vot'] + 1\n",
    "votes.head(15)"
   ]
  },
  {
   "cell_type": "code",
   "execution_count": 10,
   "metadata": {
    "collapsed": false
   },
   "outputs": [],
   "source": [
    "atts = ['Age_vot','Norm_Pos','Norm_DRank','Ans_count','ReScore','AnsRank']\n",
    "select = lambda df,one_vote=True: df[atts + ['Votes','Upvotes','Downvotes']] if one_vote else df[atts]\n",
    "shift = lambda df,att : df[att].shift(-1)#.ffill()\n",
    "shift_select = lambda df: select(df) if df.shape[0]==1 else pd.concat([select(df,one_vote=False),shift(df,'Votes'),shift(df,'Upvotes'),shift(df,'Downvotes')],axis=1)\n",
    "shift_votes = lambda df: shift_select(df.sort_values(by='Age_vot'))\n",
    "\n",
    "votes = votes.groupby(['AnsId']).apply(shift_votes).reset_index(level=[0],drop=False)\n",
    "votes = votes[(votes.Upvotes.notnull())|(votes.Downvotes.notnull())|(votes.Votes.notnull())] #drop last registered day for each ans\n"
   ]
  },
  {
   "cell_type": "code",
   "execution_count": 12,
   "metadata": {
    "collapsed": false
   },
   "outputs": [
    {
     "data": {
      "text/html": [
       "<div>\n",
       "<table border=\"1\" class=\"dataframe\">\n",
       "  <thead>\n",
       "    <tr style=\"text-align: right;\">\n",
       "      <th></th>\n",
       "      <th>AnsId</th>\n",
       "      <th>Age_vot</th>\n",
       "      <th>Norm_Pos</th>\n",
       "      <th>Norm_DRank</th>\n",
       "      <th>Ans_count</th>\n",
       "      <th>ReScore</th>\n",
       "      <th>AnsRank</th>\n",
       "      <th>Votes</th>\n",
       "      <th>Upvotes</th>\n",
       "      <th>Downvotes</th>\n",
       "    </tr>\n",
       "  </thead>\n",
       "  <tbody>\n",
       "  </tbody>\n",
       "</table>\n",
       "</div>"
      ],
      "text/plain": [
       "Empty DataFrame\n",
       "Columns: [AnsId, Age_vot, Norm_Pos, Norm_DRank, Ans_count, ReScore, AnsRank, Votes, Upvotes, Downvotes]\n",
       "Index: []"
      ]
     },
     "execution_count": 12,
     "metadata": {},
     "output_type": "execute_result"
    }
   ],
   "source": [
    "votes[votes.isnull().any(axis=1)]"
   ]
  },
  {
   "cell_type": "code",
   "execution_count": 14,
   "metadata": {
    "collapsed": false
   },
   "outputs": [
    {
     "data": {
      "text/plain": [
       "(23328, 10)"
      ]
     },
     "execution_count": 14,
     "metadata": {},
     "output_type": "execute_result"
    }
   ],
   "source": [
    "votes.shape #shape should be the same, we add a row and drop a row per ans"
   ]
  },
  {
   "cell_type": "code",
   "execution_count": 15,
   "metadata": {
    "collapsed": false
   },
   "outputs": [
    {
     "data": {
      "text/plain": [
       "1     1638\n",
       "2     1405\n",
       "3      740\n",
       "4      598\n",
       "6      292\n",
       "5      217\n",
       "8      153\n",
       "12      97\n",
       "10      71\n",
       "9       62\n",
       "7       45\n",
       "16      31\n",
       "18      28\n",
       "15      25\n",
       "24      25\n",
       "Name: Age_vot, dtype: int64"
      ]
     },
     "execution_count": 15,
     "metadata": {},
     "output_type": "execute_result"
    }
   ],
   "source": [
    "votes.groupby('AnsId').count().Age_vot.value_counts().head(15)"
   ]
  },
  {
   "cell_type": "code",
   "execution_count": 16,
   "metadata": {
    "collapsed": false
   },
   "outputs": [
    {
     "data": {
      "text/html": [
       "<div>\n",
       "<table border=\"1\" class=\"dataframe\">\n",
       "  <thead>\n",
       "    <tr style=\"text-align: right;\">\n",
       "      <th></th>\n",
       "      <th>AnsId</th>\n",
       "      <th>Age_vot</th>\n",
       "      <th>Norm_Pos</th>\n",
       "      <th>Norm_DRank</th>\n",
       "      <th>Ans_count</th>\n",
       "      <th>ReScore</th>\n",
       "      <th>AnsRank</th>\n",
       "      <th>Votes</th>\n",
       "      <th>Upvotes</th>\n",
       "      <th>Downvotes</th>\n",
       "    </tr>\n",
       "  </thead>\n",
       "  <tbody>\n",
       "  </tbody>\n",
       "</table>\n",
       "</div>"
      ],
      "text/plain": [
       "Empty DataFrame\n",
       "Columns: [AnsId, Age_vot, Norm_Pos, Norm_DRank, Ans_count, ReScore, AnsRank, Votes, Upvotes, Downvotes]\n",
       "Index: []"
      ]
     },
     "execution_count": 16,
     "metadata": {},
     "output_type": "execute_result"
    }
   ],
   "source": [
    "votes[votes.Votes != (votes.Upvotes+votes.Downvotes)]"
   ]
  },
  {
   "cell_type": "markdown",
   "metadata": {},
   "source": [
    "# Exploratory plots"
   ]
  },
  {
   "cell_type": "markdown",
   "metadata": {},
   "source": [
    "# Group predictors"
   ]
  },
  {
   "cell_type": "code",
   "execution_count": 24,
   "metadata": {
    "collapsed": false
   },
   "outputs": [],
   "source": [
    "def get_intervals(att,quantiles):\n",
    "    qtls = votes[att].quantile(quantiles).values\n",
    "    return dict(zip(zip(qtls,qtls[1:]),[e for e in range(len(zip(qtls,qtls[1:])))]))\n",
    "    \n",
    "def get_group(intervals,pred):\n",
    "    for l,u in intervals:\n",
    "        if l<=pred and pred<u:\n",
    "            return intervals[(l,u)]\n",
    "        \n",
    "def reverse_groups(groups,unit='days'):\n",
    "    if unit == 'Rel Score':\n",
    "        return {groups[(d1,d2)]:\"[%.2f - %.2f[ %s\"%(d1,d2,unit) for d1,d2 in groups}\n",
    "    elif unit in ['Position','Nbr Ans Per Question']:\n",
    "        return {groups[(d1,d2)]:\"[%d - %d[ %s\"%(d1,d2,unit) for d1,d2 in groups} \n",
    "    else:\n",
    "        return {groups[(d1,d2)]:\"%d to %d %s\"%(d1,d2,unit) for d1,d2 in groups}"
   ]
  },
  {
   "cell_type": "code",
   "execution_count": 68,
   "metadata": {
    "collapsed": false
   },
   "outputs": [],
   "source": [
    "from functools import partial\n",
    "\n",
    "age_intervals = get_intervals('Age_vot',[0,.25,.5,.65,.8,.9,1.0])\n",
    "pos_intervals = get_intervals('AnsRank',[0,.75,.85,.95,1.0])\n",
    "rscore_intervals = get_intervals('ReScore',[0,.1,.5,.75,1.0])\n",
    "anscount_intervals = get_intervals('Ans_count',[0,.5,.6,.8,1.0])\n"
   ]
  },
  {
   "cell_type": "code",
   "execution_count": 69,
   "metadata": {
    "collapsed": false
   },
   "outputs": [],
   "source": [
    "votes['Age_vot_group'] = votes['Age_vot'].apply(partial(get_group,age_intervals))\n",
    "votes['AnsRank_group'] = votes['AnsRank'].apply(partial(get_group,pos_intervals))\n",
    "votes['ReScore_group'] = votes['ReScore'].apply(partial(get_group,rscore_intervals))\n",
    "votes['Ans_count_group'] = votes['Ans_count'].apply(partial(get_group,anscount_intervals))"
   ]
  },
  {
   "cell_type": "code",
   "execution_count": 70,
   "metadata": {
    "collapsed": false
   },
   "outputs": [],
   "source": [
    "ReverseGroups = {}\n",
    "ReverseGroups['Age_vot_group'] = reverse_groups(age_intervals)\n",
    "ReverseGroups['AnsRank_group'] = reverse_groups(pos_intervals,unit='Position')\n",
    "ReverseGroups['ReScore_group'] = reverse_groups(rscore_intervals,unit='Rel Score')\n",
    "ReverseGroups['Ans_count_group'] = reverse_groups(anscount_intervals,unit='Nbr Ans Per Question')"
   ]
  },
  {
   "cell_type": "code",
   "execution_count": 71,
   "metadata": {
    "collapsed": false
   },
   "outputs": [
    {
     "data": {
      "text/plain": [
       "{0: '0 to 1 days',\n",
       " 1: '1 to 3 days',\n",
       " 2: '3 to 9 days',\n",
       " 3: '9 to 163 days',\n",
       " 4: '163 to 710 days',\n",
       " 5: '710 to 1505 days'}"
      ]
     },
     "execution_count": 71,
     "metadata": {},
     "output_type": "execute_result"
    }
   ],
   "source": [
    "ReverseGroups['Age_vot_group']"
   ]
  },
  {
   "cell_type": "code",
   "execution_count": 29,
   "metadata": {
    "collapsed": false
   },
   "outputs": [
    {
     "data": {
      "text/plain": [
       "{0: '[1 - 2[ Position',\n",
       " 1: '[2 - 3[ Position',\n",
       " 2: '[3 - 4[ Position',\n",
       " 3: '[4 - 12[ Position'}"
      ]
     },
     "execution_count": 29,
     "metadata": {},
     "output_type": "execute_result"
    }
   ],
   "source": [
    "ReverseGroups['AnsRank_group']"
   ]
  },
  {
   "cell_type": "code",
   "execution_count": 30,
   "metadata": {
    "collapsed": false
   },
   "outputs": [
    {
     "data": {
      "text/plain": [
       "{0: '[-0.86 - 0.00[ Rel Score',\n",
       " 1: '[0.00 - 0.50[ Rel Score',\n",
       " 2: '[0.50 - 0.83[ Rel Score',\n",
       " 3: '[0.83 - 0.98[ Rel Score'}"
      ]
     },
     "execution_count": 30,
     "metadata": {},
     "output_type": "execute_result"
    }
   ],
   "source": [
    "ReverseGroups['ReScore_group']"
   ]
  },
  {
   "cell_type": "code",
   "execution_count": 32,
   "metadata": {
    "collapsed": false
   },
   "outputs": [
    {
     "data": {
      "text/plain": [
       "{0: '[1 - 2[ Nbr Ans Per Question',\n",
       " 1: '[2 - 2[ Nbr Ans Per Question',\n",
       " 2: '[2 - 3[ Nbr Ans Per Question',\n",
       " 3: '[3 - 12[ Nbr Ans Per Question'}"
      ]
     },
     "execution_count": 32,
     "metadata": {},
     "output_type": "execute_result"
    }
   ],
   "source": [
    "ReverseGroups['Ans_count_group']"
   ]
  },
  {
   "cell_type": "code",
   "execution_count": 72,
   "metadata": {
    "collapsed": false
   },
   "outputs": [],
   "source": [
    "votes.loc[votes.ReScore_group.isnull(),'ReScore_group'] = 3"
   ]
  },
  {
   "cell_type": "code",
   "execution_count": 73,
   "metadata": {
    "collapsed": false
   },
   "outputs": [
    {
     "data": {
      "text/html": [
       "<div>\n",
       "<table border=\"1\" class=\"dataframe\">\n",
       "  <thead>\n",
       "    <tr style=\"text-align: right;\">\n",
       "      <th></th>\n",
       "      <th>AnsId</th>\n",
       "      <th>Age_vot</th>\n",
       "      <th>Norm_Pos</th>\n",
       "      <th>Norm_DRank</th>\n",
       "      <th>Ans_count</th>\n",
       "      <th>ReScore</th>\n",
       "      <th>AnsRank</th>\n",
       "      <th>Votes</th>\n",
       "      <th>Upvotes</th>\n",
       "      <th>Downvotes</th>\n",
       "      <th>Age_vot_group</th>\n",
       "      <th>AnsRank_group</th>\n",
       "      <th>ReScore_group</th>\n",
       "      <th>Ans_count_group</th>\n",
       "    </tr>\n",
       "  </thead>\n",
       "  <tbody>\n",
       "  </tbody>\n",
       "</table>\n",
       "</div>"
      ],
      "text/plain": [
       "Empty DataFrame\n",
       "Columns: [AnsId, Age_vot, Norm_Pos, Norm_DRank, Ans_count, ReScore, AnsRank, Votes, Upvotes, Downvotes, Age_vot_group, AnsRank_group, ReScore_group, Ans_count_group]\n",
       "Index: []"
      ]
     },
     "execution_count": 73,
     "metadata": {},
     "output_type": "execute_result"
    }
   ],
   "source": [
    "votes.loc[votes.ReScore_group.isnull()]"
   ]
  },
  {
   "cell_type": "markdown",
   "metadata": {
    "collapsed": true
   },
   "source": [
    "# Group Plots"
   ]
  },
  {
   "cell_type": "code",
   "execution_count": 74,
   "metadata": {
    "collapsed": false
   },
   "outputs": [],
   "source": [
    "from itertools import product\n",
    "def plot_by(filtered_df,row_att_n, col_att_n,xpred_n,ypred_n,xfsize,yfsize,verbose=False,errbars=False):\n",
    "    plt.figure(figsize=(xfsize,yfsize))\n",
    "    \n",
    "    row_group_name = row_att_n+'_group'\n",
    "    col_group_name = col_att_n+'_group'\n",
    "    \n",
    "    groups = filtered_df.sort_values(by=['Age_vot']).groupby([row_group_name,col_group_name])\n",
    "    \n",
    "    n_rows,n_cols = len(filtered_df[row_group_name].unique()),len(filtered_df[col_group_name].unique())\n",
    "    sort_rows = {e:i for i,e in enumerate(filtered_df[row_group_name].sort_values().unique())}\n",
    "    sort_cols = {e:i for i,e in enumerate(filtered_df[col_group_name].sort_values().unique())}\n",
    "    \n",
    "    to_cover = list(product([sort_rows[e] for e in sort_rows],[sort_cols[e]+1 for e in sort_cols]))\n",
    "    axref = plt.subplot(1,n_cols,1)\n",
    "    \n",
    "    for key,group in groups:\n",
    "        to_cover.remove((sort_rows[group[row_group_name].iloc[0]],sort_cols[group[col_group_name].iloc[0]]+1))\n",
    "        #Convention: row index starts at 0, col index starts at 1\n",
    "        rw_g = sort_rows[group[row_group_name].iloc[0]] \n",
    "        col_g = sort_cols[group[col_group_name].iloc[0]] + 1\n",
    "        if verbose:\n",
    "            print 'rw_g %d'%rw_g, 'col_g %d'%col_g\n",
    "            print 'rl_rw_g %d'%group[row_group_name].iloc[0], 'rl_col_g %d'%group[col_group_name].iloc[0]\n",
    "            print \n",
    "        ax = plt.subplot(1, n_cols, col_g ,sharex=axref,sharey=axref)\n",
    "        \n",
    "        get_rates = lambda df: np.mean(df[ypred_n]/(df.Age_vot-df.Age_vot.shift(1).fillna(0) + .5))#(max_rate(df) - min_rate(df))\n",
    "        get_sdev = lambda df : np.std(df[ypred_n]/(df.Age_vot-df.Age_vot.shift(1).fillna(0) + .5))\n",
    "        vote_rates = group.groupby([xpred_n]).apply(get_rates)\n",
    "        std_vtrates = group.groupby([xpred_n]).apply(get_sdev)\n",
    "        \n",
    "        if not errbars:\n",
    "            std_vtrates = np.array([0 for _ in range(len(std_vtrates))])\n",
    "        \n",
    "        row_g_name = '%s'%(ReverseGroups[row_group_name][group[row_group_name].iloc[0]])\n",
    "        plt.errorbar(x = vote_rates.index.values,y=vote_rates.values,yerr=std_vtrates,fmt='-o',label=row_g_name)\n",
    "        \n",
    "        if col_g==len(sort_cols):\n",
    "        \n",
    "            # Put a legend to the right of the current axis\n",
    "            ax.legend(loc='center left',bbox_to_anchor=(1, .5))\n",
    "            \n",
    "        if col_g==1:\n",
    "            plt.ylabel('Mean_%s_rate'%ypred_n)\n",
    "            plt.xlabel(xpred_n)\n",
    "        \n",
    "        if rw_g==0:\n",
    "            plt.title('%s'%(ReverseGroups[col_group_name][group[col_group_name].iloc[0]]))\n",
    "    print to_cover\n",
    "    for rw,col in to_cover:\n",
    "        plt.subplot(1, n_cols, col ,sharex=axref,sharey=axref)\n",
    "        if rw==0:\n",
    "            plt.title('%s'%(ReverseGroups[col_group_name][[e for e,i in sort_cols.items() if i == col-1][0]]))\n",
    "    #plt.suptitle('X=%s, Y=%s'%(xpred_n,ypred_n),fontsize=20,y=1.08)\n",
    "    plt.show()"
   ]
  },
  {
   "cell_type": "code",
   "execution_count": 53,
   "metadata": {
    "collapsed": false
   },
   "outputs": [
    {
     "name": "stdout",
     "output_type": "stream",
     "text": [
      "[]\n"
     ]
    },
    {
     "data": {
      "image/png": "[encoded data removed]",
      "text/plain": [
       "<matplotlib.figure.Figure at 0x10ddae10>"
      ]
     },
     "metadata": {},
     "output_type": "display_data"
    }
   ],
   "source": [
    "nb_ans = 5\n",
    "nb_age_groups = 4\n",
    "data = votes[(votes.Ans_count>1)] #&(votes.Age_vot_group==2)]\n",
    "data = data[(data['Ans_count']<=nb_ans)&(data['Age_vot_group']<=nb_age_groups-1)]\n",
    "plot_by(data,'Age_vot','Ans_count','Norm_DRank','Votes',15,5,errbars=True)"
   ]
  },
  {
   "cell_type": "code",
   "execution_count": 76,
   "metadata": {
    "collapsed": false
   },
   "outputs": [
    {
     "name": "stdout",
     "output_type": "stream",
     "text": [
      "[]\n"
     ]
    },
    {
     "data": {
      "image/png": "[encoded data removed]",
      "text/plain": [
       "<matplotlib.figure.Figure at 0x109b7eb8>"
      ]
     },
     "metadata": {},
     "output_type": "display_data"
    }
   ],
   "source": [
    "nb_ans = 10\n",
    "nb_age_groups = 5\n",
    "data = votes[(votes.Ans_count>1)&(votes.Age_vot_group>2)]#&(votes.Age_vot_group==3)]\n",
    "data = data[(data['Ans_count']<=nb_ans)&(data['Age_vot_group']<=nb_age_groups-1)]\n",
    "plot_by(data,'Age_vot','AnsRank','Norm_DRank','Votes',17,5,errbars=False)"
   ]
  },
  {
   "cell_type": "code",
   "execution_count": 60,
   "metadata": {
    "collapsed": false,
    "scrolled": true
   },
   "outputs": [
    {
     "name": "stdout",
     "output_type": "stream",
     "text": [
      "[(0, 1), (0, 3), (0, 4)]\n"
     ]
    },
    {
     "data": {
      "image/png": "[encoded data removed]",
      "text/plain": [
       "<matplotlib.figure.Figure at 0xf06dcc0>"
      ]
     },
     "metadata": {},
     "output_type": "display_data"
    }
   ],
   "source": [
    "nb_ans = 5\n",
    "nb_age_groups = 3\n",
    "\n",
    "data = votes[(votes.Ans_count>1)]\n",
    "data = data[(data['Ans_count']<=nb_ans)&(data['Age_vot_group']<=nb_age_groups-1)]\n",
    "\n",
    "plot_by(data,'Age_vot','ReScore','Norm_DRank','Votes', 18, 6, errbars=False)"
   ]
  },
  {
   "cell_type": "markdown",
   "metadata": {},
   "source": [
    "## Regression analysis"
   ]
  },
  {
   "cell_type": "code",
   "execution_count": 182,
   "metadata": {
    "collapsed": true
   },
   "outputs": [],
   "source": [
    "import statsmodels.formula.api as smf\n",
    "import statsmodels.api as sm"
   ]
  },
  {
   "cell_type": "code",
   "execution_count": 183,
   "metadata": {
    "collapsed": true
   },
   "outputs": [],
   "source": [
    "votes['Norm_Pos'] = votes['AnsRank']/votes['Ans_count']\n",
    "votes['Norm_Pos_2'] = np.square(votes['Norm_Pos'])"
   ]
  },
  {
   "cell_type": "code",
   "execution_count": 184,
   "metadata": {
    "collapsed": false
   },
   "outputs": [
    {
     "data": {
      "text/html": [
       "<table class=\"simpletable\">\n",
       "<caption>Generalized Linear Model Regression Results</caption>\n",
       "<tr>\n",
       "  <th>Dep. Variable:</th>        <td>Votes</td>      <th>  No. Observations:  </th>     <td> 19389</td>    \n",
       "</tr>\n",
       "<tr>\n",
       "  <th>Model:</th>                 <td>GLM</td>       <th>  Df Residuals:      </th>     <td> 19387</td>    \n",
       "</tr>\n",
       "<tr>\n",
       "  <th>Model Family:</th>   <td>NegativeBinomial</td> <th>  Df Model:          </th>     <td>     1</td>    \n",
       "</tr>\n",
       "<tr>\n",
       "  <th>Link Function:</th>         <td>log</td>       <th>  Scale:             </th> <td>0.241111324353</td>\n",
       "</tr>\n",
       "<tr>\n",
       "  <th>Method:</th>               <td>IRLS</td>       <th>  Log-Likelihood:    </th>    <td> -30733.</td>   \n",
       "</tr>\n",
       "<tr>\n",
       "  <th>Date:</th>           <td>Thu, 28 Apr 2016</td> <th>  Deviance:          </th>    <td>  2517.0</td>   \n",
       "</tr>\n",
       "<tr>\n",
       "  <th>Time:</th>               <td>14:53:50</td>     <th>  Pearson chi2:      </th>    <td>4.67e+03</td>   \n",
       "</tr>\n",
       "<tr>\n",
       "  <th>No. Iterations:</th>         <td>7</td>        <th>                     </th>        <td> </td>      \n",
       "</tr>\n",
       "</table>\n",
       "<table class=\"simpletable\">\n",
       "<tr>\n",
       "       <td></td>         <th>coef</th>     <th>std err</th>      <th>z</th>      <th>P>|z|</th> <th>[95.0% Conf. Int.]</th> \n",
       "</tr>\n",
       "<tr>\n",
       "  <th>Intercept</th>  <td>    0.2828</td> <td>    0.005</td> <td>   59.367</td> <td> 0.000</td> <td>    0.273     0.292</td>\n",
       "</tr>\n",
       "<tr>\n",
       "  <th>Norm_DRank</th> <td>   -0.1275</td> <td>    0.019</td> <td>   -6.656</td> <td> 0.000</td> <td>   -0.165    -0.090</td>\n",
       "</tr>\n",
       "</table>"
      ],
      "text/plain": [
       "<class 'statsmodels.iolib.summary.Summary'>\n",
       "\"\"\"\n",
       "                 Generalized Linear Model Regression Results                  \n",
       "==============================================================================\n",
       "Dep. Variable:                  Votes   No. Observations:                19389\n",
       "Model:                            GLM   Df Residuals:                    19387\n",
       "Model Family:        NegativeBinomial   Df Model:                            1\n",
       "Link Function:                    log   Scale:                  0.241111324353\n",
       "Method:                          IRLS   Log-Likelihood:                -30733.\n",
       "Date:                Thu, 28 Apr 2016   Deviance:                       2517.0\n",
       "Time:                        14:53:50   Pearson chi2:                 4.67e+03\n",
       "No. Iterations:                     7                                         \n",
       "==============================================================================\n",
       "                 coef    std err          z      P>|z|      [95.0% Conf. Int.]\n",
       "------------------------------------------------------------------------------\n",
       "Intercept      0.2828      0.005     59.367      0.000         0.273     0.292\n",
       "Norm_DRank    -0.1275      0.019     -6.656      0.000        -0.165    -0.090\n",
       "==============================================================================\n",
       "\"\"\""
      ]
     },
     "execution_count": 184,
     "metadata": {},
     "output_type": "execute_result"
    }
   ],
   "source": [
    "fml_1 = 'Votes ~ Norm_DRank'\n",
    "r_method = sm.families.NegativeBinomial(link=sm.families.links.log)#sm.families.Poisson(link=sm.families.links.log)\n",
    "datas_1 = votes\n",
    "mod_1 = smf.glm(fml_1, data=datas_1, family=r_method) #, offset=np.log(datas['Age_vot'] + 1))\n",
    "rslt_1 = mod_1.fit(method='bfgs')\n",
    "\n",
    "rslt_1.summary()"
   ]
  },
  {
   "cell_type": "code",
   "execution_count": null,
   "metadata": {
    "collapsed": true
   },
   "outputs": [],
   "source": []
  },
  {
   "cell_type": "code",
   "execution_count": null,
   "metadata": {
    "collapsed": true
   },
   "outputs": [],
   "source": []
  },
  {
   "cell_type": "code",
   "execution_count": 185,
   "metadata": {
    "collapsed": false
   },
   "outputs": [
    {
     "data": {
      "text/html": [
       "<table class=\"simpletable\">\n",
       "<caption>Generalized Linear Model Regression Results</caption>\n",
       "<tr>\n",
       "  <th>Dep. Variable:</th>        <td>Votes</td>      <th>  No. Observations:  </th>     <td> 19389</td>    \n",
       "</tr>\n",
       "<tr>\n",
       "  <th>Model:</th>                 <td>GLM</td>       <th>  Df Residuals:      </th>     <td> 19380</td>    \n",
       "</tr>\n",
       "<tr>\n",
       "  <th>Model Family:</th>   <td>NegativeBinomial</td> <th>  Df Model:          </th>     <td>     8</td>    \n",
       "</tr>\n",
       "<tr>\n",
       "  <th>Link Function:</th>         <td>log</td>       <th>  Scale:             </th> <td>0.186615244235</td>\n",
       "</tr>\n",
       "<tr>\n",
       "  <th>Method:</th>               <td>IRLS</td>       <th>  Log-Likelihood:    </th>    <td> -30574.</td>   \n",
       "</tr>\n",
       "<tr>\n",
       "  <th>Date:</th>           <td>Thu, 28 Apr 2016</td> <th>  Deviance:          </th>    <td>  2198.9</td>   \n",
       "</tr>\n",
       "<tr>\n",
       "  <th>Time:</th>               <td>14:53:53</td>     <th>  Pearson chi2:      </th>    <td>3.62e+03</td>   \n",
       "</tr>\n",
       "<tr>\n",
       "  <th>No. Iterations:</th>         <td>7</td>        <th>                     </th>        <td> </td>      \n",
       "</tr>\n",
       "</table>\n",
       "<table class=\"simpletable\">\n",
       "<tr>\n",
       "            <td></td>               <th>coef</th>     <th>std err</th>      <th>z</th>      <th>P>|z|</th> <th>[95.0% Conf. Int.]</th> \n",
       "</tr>\n",
       "<tr>\n",
       "  <th>Intercept</th>             <td>    1.4352</td> <td>    0.096</td> <td>   14.921</td> <td> 0.000</td> <td>    1.247     1.624</td>\n",
       "</tr>\n",
       "<tr>\n",
       "  <th>Norm_Pos</th>              <td>   -3.6031</td> <td>    0.292</td> <td>  -12.360</td> <td> 0.000</td> <td>   -4.174    -3.032</td>\n",
       "</tr>\n",
       "<tr>\n",
       "  <th>ReScore</th>               <td>   -1.3381</td> <td>    0.105</td> <td>  -12.721</td> <td> 0.000</td> <td>   -1.544    -1.132</td>\n",
       "</tr>\n",
       "<tr>\n",
       "  <th>Norm_Pos:ReScore</th>      <td>    3.5500</td> <td>    0.335</td> <td>   10.593</td> <td> 0.000</td> <td>    2.893     4.207</td>\n",
       "</tr>\n",
       "<tr>\n",
       "  <th>Norm_Pos_2</th>            <td>    2.6660</td> <td>    0.200</td> <td>   13.315</td> <td> 0.000</td> <td>    2.274     3.058</td>\n",
       "</tr>\n",
       "<tr>\n",
       "  <th>Norm_Pos_2:ReScore</th>    <td>   -2.6004</td> <td>    0.239</td> <td>  -10.890</td> <td> 0.000</td> <td>   -3.068    -2.132</td>\n",
       "</tr>\n",
       "<tr>\n",
       "  <th>Norm_DRank</th>            <td>    1.0770</td> <td>    0.140</td> <td>    7.668</td> <td> 0.000</td> <td>    0.802     1.352</td>\n",
       "</tr>\n",
       "<tr>\n",
       "  <th>Norm_Pos:Norm_DRank</th>   <td>   -2.5150</td> <td>    0.444</td> <td>   -5.658</td> <td> 0.000</td> <td>   -3.386    -1.644</td>\n",
       "</tr>\n",
       "<tr>\n",
       "  <th>Norm_Pos_2:Norm_DRank</th> <td>    1.2397</td> <td>    0.323</td> <td>    3.834</td> <td> 0.000</td> <td>    0.606     1.873</td>\n",
       "</tr>\n",
       "</table>"
      ],
      "text/plain": [
       "<class 'statsmodels.iolib.summary.Summary'>\n",
       "\"\"\"\n",
       "                 Generalized Linear Model Regression Results                  \n",
       "==============================================================================\n",
       "Dep. Variable:                  Votes   No. Observations:                19389\n",
       "Model:                            GLM   Df Residuals:                    19380\n",
       "Model Family:        NegativeBinomial   Df Model:                            8\n",
       "Link Function:                    log   Scale:                  0.186615244235\n",
       "Method:                          IRLS   Log-Likelihood:                -30574.\n",
       "Date:                Thu, 28 Apr 2016   Deviance:                       2198.9\n",
       "Time:                        14:53:53   Pearson chi2:                 3.62e+03\n",
       "No. Iterations:                     7                                         \n",
       "=========================================================================================\n",
       "                            coef    std err          z      P>|z|      [95.0% Conf. Int.]\n",
       "-----------------------------------------------------------------------------------------\n",
       "Intercept                 1.4352      0.096     14.921      0.000         1.247     1.624\n",
       "Norm_Pos                 -3.6031      0.292    -12.360      0.000        -4.174    -3.032\n",
       "ReScore                  -1.3381      0.105    -12.721      0.000        -1.544    -1.132\n",
       "Norm_Pos:ReScore          3.5500      0.335     10.593      0.000         2.893     4.207\n",
       "Norm_Pos_2                2.6660      0.200     13.315      0.000         2.274     3.058\n",
       "Norm_Pos_2:ReScore       -2.6004      0.239    -10.890      0.000        -3.068    -2.132\n",
       "Norm_DRank                1.0770      0.140      7.668      0.000         0.802     1.352\n",
       "Norm_Pos:Norm_DRank      -2.5150      0.444     -5.658      0.000        -3.386    -1.644\n",
       "Norm_Pos_2:Norm_DRank     1.2397      0.323      3.834      0.000         0.606     1.873\n",
       "=========================================================================================\n",
       "\"\"\""
      ]
     },
     "execution_count": 185,
     "metadata": {},
     "output_type": "execute_result"
    }
   ],
   "source": [
    "fml_2 = 'Votes ~ Norm_Pos*ReScore + Norm_Pos_2*ReScore + Norm_Pos*Norm_DRank + Norm_Pos_2*Norm_DRank'\n",
    "r_method = sm.families.NegativeBinomial(link=sm.families.links.log)#sm.families.Poisson(link=sm.families.links.log)\n",
    "datas_2 = votes\n",
    "mod_2 = smf.glm(fml_2, data=datas_2, family=r_method) #, offset=np.log(datas['Age_vot'] + 1))\n",
    "rslt_2 = mod_2.fit(method='bfgs')\n",
    "\n",
    "rslt_2.summary()"
   ]
  },
  {
   "cell_type": "code",
   "execution_count": 186,
   "metadata": {
    "collapsed": true
   },
   "outputs": [],
   "source": [
    "votes['Lhs'] = votes['Norm_Pos'] + votes['Norm_Pos_2']\n",
    "votes['Rhs'] = votes['Norm_DRank'] + votes['ReScore']"
   ]
  },
  {
   "cell_type": "code",
   "execution_count": 187,
   "metadata": {
    "collapsed": false
   },
   "outputs": [
    {
     "data": {
      "text/html": [
       "<table class=\"simpletable\">\n",
       "<caption>Generalized Linear Model Regression Results</caption>\n",
       "<tr>\n",
       "  <th>Dep. Variable:</th>        <td>Votes</td>      <th>  No. Observations:  </th>     <td> 19389</td>    \n",
       "</tr>\n",
       "<tr>\n",
       "  <th>Model:</th>                 <td>GLM</td>       <th>  Df Residuals:      </th>     <td> 19386</td>    \n",
       "</tr>\n",
       "<tr>\n",
       "  <th>Model Family:</th>   <td>NegativeBinomial</td> <th>  Df Model:          </th>     <td>     2</td>    \n",
       "</tr>\n",
       "<tr>\n",
       "  <th>Link Function:</th>         <td>log</td>       <th>  Scale:             </th> <td>0.198364057791</td>\n",
       "</tr>\n",
       "<tr>\n",
       "  <th>Method:</th>               <td>IRLS</td>       <th>  Log-Likelihood:    </th>    <td> -30609.</td>   \n",
       "</tr>\n",
       "<tr>\n",
       "  <th>Date:</th>           <td>Thu, 28 Apr 2016</td> <th>  Deviance:          </th>    <td>  2269.1</td>   \n",
       "</tr>\n",
       "<tr>\n",
       "  <th>Time:</th>               <td>14:54:02</td>     <th>  Pearson chi2:      </th>    <td>3.85e+03</td>   \n",
       "</tr>\n",
       "<tr>\n",
       "  <th>No. Iterations:</th>         <td>7</td>        <th>                     </th>        <td> </td>      \n",
       "</tr>\n",
       "</table>\n",
       "<table class=\"simpletable\">\n",
       "<tr>\n",
       "      <td></td>         <th>coef</th>     <th>std err</th>      <th>z</th>      <th>P>|z|</th> <th>[95.0% Conf. Int.]</th> \n",
       "</tr>\n",
       "<tr>\n",
       "  <th>Intercept</th> <td>    0.2646</td> <td>    0.011</td> <td>   23.667</td> <td> 0.000</td> <td>    0.243     0.286</td>\n",
       "</tr>\n",
       "<tr>\n",
       "  <th>Lhs</th>       <td>    0.0942</td> <td>    0.006</td> <td>   15.358</td> <td> 0.000</td> <td>    0.082     0.106</td>\n",
       "</tr>\n",
       "<tr>\n",
       "  <th>Rhs</th>       <td>   -0.2497</td> <td>    0.008</td> <td>  -29.497</td> <td> 0.000</td> <td>   -0.266    -0.233</td>\n",
       "</tr>\n",
       "</table>"
      ],
      "text/plain": [
       "<class 'statsmodels.iolib.summary.Summary'>\n",
       "\"\"\"\n",
       "                 Generalized Linear Model Regression Results                  \n",
       "==============================================================================\n",
       "Dep. Variable:                  Votes   No. Observations:                19389\n",
       "Model:                            GLM   Df Residuals:                    19386\n",
       "Model Family:        NegativeBinomial   Df Model:                            2\n",
       "Link Function:                    log   Scale:                  0.198364057791\n",
       "Method:                          IRLS   Log-Likelihood:                -30609.\n",
       "Date:                Thu, 28 Apr 2016   Deviance:                       2269.1\n",
       "Time:                        14:54:02   Pearson chi2:                 3.85e+03\n",
       "No. Iterations:                     7                                         \n",
       "==============================================================================\n",
       "                 coef    std err          z      P>|z|      [95.0% Conf. Int.]\n",
       "------------------------------------------------------------------------------\n",
       "Intercept      0.2646      0.011     23.667      0.000         0.243     0.286\n",
       "Lhs            0.0942      0.006     15.358      0.000         0.082     0.106\n",
       "Rhs           -0.2497      0.008    -29.497      0.000        -0.266    -0.233\n",
       "==============================================================================\n",
       "\"\"\""
      ]
     },
     "execution_count": 187,
     "metadata": {},
     "output_type": "execute_result"
    }
   ],
   "source": [
    "fml_3 = 'Votes ~ Lhs + Rhs'\n",
    "r_method = sm.families.NegativeBinomial(link=sm.families.links.log)#sm.families.Poisson(link=sm.families.links.log)\n",
    "datas_3 = votes\n",
    "mod_3 = smf.glm(fml_3, data=datas_3, family=r_method) #, offset=np.log(datas['Age_vot'] + 1))\n",
    "rslt_3 = mod_3.fit(method='bfgs')\n",
    "\n",
    "rslt_3.summary()"
   ]
  },
  {
   "cell_type": "markdown",
   "metadata": {},
   "source": [
    "## Lm with mixed effects"
   ]
  },
  {
   "cell_type": "code",
   "execution_count": 207,
   "metadata": {
    "collapsed": false
   },
   "outputs": [
    {
     "name": "stdout",
     "output_type": "stream",
     "text": [
      "          Mixed Linear Model Regression Results\n",
      "=========================================================\n",
      "Model:            MixedLM Dependent Variable: Votes      \n",
      "No. Observations: 19389   Method:             REML       \n",
      "No. Groups:       5577    Scale:              0.7449     \n",
      "Min. group size:  1       Likelihood:         -29413.9915\n",
      "Max. group size:  509     Converged:          Yes        \n",
      "Mean group size:  3.5                                    \n",
      "---------------------------------------------------------\n",
      "               Coef.  Std.Err.   z    P>|z| [0.025 0.975]\n",
      "---------------------------------------------------------\n",
      "Norm_DRank     -0.186    0.038 -4.872 0.000 -0.260 -0.111\n",
      "Intercept RE    1.647    0.054                           \n",
      "=========================================================\n",
      "\n"
     ]
    }
   ],
   "source": [
    "formula = \"Votes ~ Norm_DRank - 1\"\n",
    "model = sm.MixedLM.from_formula(formula, votes, groups=votes[\"AnsId\"])\n",
    "result = model.fit()\n",
    "print result.summary()"
   ]
  },
  {
   "cell_type": "code",
   "execution_count": null,
   "metadata": {
    "collapsed": true
   },
   "outputs": [],
   "source": []
  }
 ],
 "metadata": {
  "kernelspec": {
   "display_name": "Python 2",
   "language": "python",
   "name": "python2"
  },
  "language_info": {
   "codemirror_mode": {
    "name": "ipython",
    "version": 2
   },
   "file_extension": ".py",
   "mimetype": "text/x-python",
   "name": "python",
   "nbconvert_exporter": "python",
   "pygments_lexer": "ipython2",
   "version": "2.7.11"
  }
 },
 "nbformat": 4,
 "nbformat_minor": 0
}
