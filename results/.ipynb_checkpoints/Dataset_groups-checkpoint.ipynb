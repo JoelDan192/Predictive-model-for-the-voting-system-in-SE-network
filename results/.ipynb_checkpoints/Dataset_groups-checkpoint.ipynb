{
 "cells": [
  {
   "cell_type": "code",
   "execution_count": 1,
   "metadata": {
    "collapsed": true
   },
   "outputs": [],
   "source": [
    "%matplotlib inline\n",
    "import pandas as pd\n",
    "import numpy as np\n",
    "import matplotlib.pyplot as plt"
   ]
  },
  {
   "cell_type": "code",
   "execution_count": 2,
   "metadata": {
    "collapsed": false,
    "scrolled": false
   },
   "outputs": [
    {
     "data": {
      "text/html": [
       "<div>\n",
       "<table border=\"1\" class=\"dataframe\">\n",
       "  <thead>\n",
       "    <tr style=\"text-align: right;\">\n",
       "      <th></th>\n",
       "      <th>QuestionId</th>\n",
       "      <th>AnsId</th>\n",
       "      <th>Age_vot</th>\n",
       "      <th>AcceptedAnsId</th>\n",
       "      <th>AnsWordCount</th>\n",
       "      <th>Comments</th>\n",
       "      <th>CumScore</th>\n",
       "      <th>CumVotes</th>\n",
       "      <th>Downvotes</th>\n",
       "      <th>QReScore</th>\n",
       "      <th>...</th>\n",
       "      <th>ReScore</th>\n",
       "      <th>Score</th>\n",
       "      <th>Upvotes</th>\n",
       "      <th>Votes</th>\n",
       "      <th>AnsRank</th>\n",
       "      <th>ReScore_rank</th>\n",
       "      <th>Ans_count</th>\n",
       "      <th>Pbias</th>\n",
       "      <th>DRank</th>\n",
       "      <th>EPbias</th>\n",
       "    </tr>\n",
       "  </thead>\n",
       "  <tbody>\n",
       "    <tr>\n",
       "      <th>0</th>\n",
       "      <td>1</td>\n",
       "      <td>56</td>\n",
       "      <td>0</td>\n",
       "      <td>56</td>\n",
       "      <td>201</td>\n",
       "      <td>0</td>\n",
       "      <td>0</td>\n",
       "      <td>0</td>\n",
       "      <td>0</td>\n",
       "      <td>0</td>\n",
       "      <td>...</td>\n",
       "      <td>0</td>\n",
       "      <td>2</td>\n",
       "      <td>2</td>\n",
       "      <td>2</td>\n",
       "      <td>1</td>\n",
       "      <td>1</td>\n",
       "      <td>1</td>\n",
       "      <td>1</td>\n",
       "      <td>0</td>\n",
       "      <td>1</td>\n",
       "    </tr>\n",
       "    <tr>\n",
       "      <th>1</th>\n",
       "      <td>2</td>\n",
       "      <td>10</td>\n",
       "      <td>0</td>\n",
       "      <td>10</td>\n",
       "      <td>145</td>\n",
       "      <td>0</td>\n",
       "      <td>0</td>\n",
       "      <td>0</td>\n",
       "      <td>0</td>\n",
       "      <td>0</td>\n",
       "      <td>...</td>\n",
       "      <td>0</td>\n",
       "      <td>3</td>\n",
       "      <td>3</td>\n",
       "      <td>3</td>\n",
       "      <td>1</td>\n",
       "      <td>1</td>\n",
       "      <td>1</td>\n",
       "      <td>1</td>\n",
       "      <td>0</td>\n",
       "      <td>1</td>\n",
       "    </tr>\n",
       "    <tr>\n",
       "      <th>2</th>\n",
       "      <td>3</td>\n",
       "      <td>9</td>\n",
       "      <td>0</td>\n",
       "      <td>109</td>\n",
       "      <td>25</td>\n",
       "      <td>0</td>\n",
       "      <td>0</td>\n",
       "      <td>0</td>\n",
       "      <td>0</td>\n",
       "      <td>0</td>\n",
       "      <td>...</td>\n",
       "      <td>0</td>\n",
       "      <td>4</td>\n",
       "      <td>4</td>\n",
       "      <td>4</td>\n",
       "      <td>1</td>\n",
       "      <td>1</td>\n",
       "      <td>1</td>\n",
       "      <td>1</td>\n",
       "      <td>0</td>\n",
       "      <td>1</td>\n",
       "    </tr>\n",
       "    <tr>\n",
       "      <th>3</th>\n",
       "      <td>7</td>\n",
       "      <td>16</td>\n",
       "      <td>0</td>\n",
       "      <td>2977</td>\n",
       "      <td>45</td>\n",
       "      <td>0</td>\n",
       "      <td>0</td>\n",
       "      <td>0</td>\n",
       "      <td>0</td>\n",
       "      <td>0</td>\n",
       "      <td>...</td>\n",
       "      <td>0</td>\n",
       "      <td>3</td>\n",
       "      <td>3</td>\n",
       "      <td>3</td>\n",
       "      <td>1</td>\n",
       "      <td>1</td>\n",
       "      <td>1</td>\n",
       "      <td>1</td>\n",
       "      <td>0</td>\n",
       "      <td>1</td>\n",
       "    </tr>\n",
       "    <tr>\n",
       "      <th>4</th>\n",
       "      <td>14</td>\n",
       "      <td>20</td>\n",
       "      <td>0</td>\n",
       "      <td>20</td>\n",
       "      <td>28</td>\n",
       "      <td>0</td>\n",
       "      <td>0</td>\n",
       "      <td>0</td>\n",
       "      <td>0</td>\n",
       "      <td>0</td>\n",
       "      <td>...</td>\n",
       "      <td>0</td>\n",
       "      <td>7</td>\n",
       "      <td>7</td>\n",
       "      <td>7</td>\n",
       "      <td>1</td>\n",
       "      <td>1</td>\n",
       "      <td>1</td>\n",
       "      <td>1</td>\n",
       "      <td>0</td>\n",
       "      <td>1</td>\n",
       "    </tr>\n",
       "  </tbody>\n",
       "</table>\n",
       "<p>5 rows × 22 columns</p>\n",
       "</div>"
      ],
      "text/plain": [
       "   QuestionId  AnsId  Age_vot  AcceptedAnsId  AnsWordCount  Comments  \\\n",
       "0           1     56        0             56           201         0   \n",
       "1           2     10        0             10           145         0   \n",
       "2           3      9        0            109            25         0   \n",
       "3           7     16        0           2977            45         0   \n",
       "4          14     20        0             20            28         0   \n",
       "\n",
       "   CumScore  CumVotes  Downvotes  QReScore   ...    ReScore  Score  Upvotes  \\\n",
       "0         0         0          0         0   ...          0      2        2   \n",
       "1         0         0          0         0   ...          0      3        3   \n",
       "2         0         0          0         0   ...          0      4        4   \n",
       "3         0         0          0         0   ...          0      3        3   \n",
       "4         0         0          0         0   ...          0      7        7   \n",
       "\n",
       "   Votes  AnsRank  ReScore_rank  Ans_count  Pbias  DRank  EPbias  \n",
       "0      2        1             1          1      1      0       1  \n",
       "1      3        1             1          1      1      0       1  \n",
       "2      4        1             1          1      1      0       1  \n",
       "3      3        1             1          1      1      0       1  \n",
       "4      7        1             1          1      1      0       1  \n",
       "\n",
       "[5 rows x 22 columns]"
      ]
     },
     "execution_count": 2,
     "metadata": {},
     "output_type": "execute_result"
    }
   ],
   "source": [
    "#There are deleted users among these votes. To Take into account only active users refer to  ExploratoryPlotsByGroups.ipynb\n",
    "votes = pd.DataFrame.from_csv('c:/Users/Joel/Predictive-model-for-the-voting-system-in-SE-network/spanish_site/AnsVotes_TSeries.csv', index_col=None)\n",
    "votes.head()"
   ]
  },
  {
   "cell_type": "markdown",
   "metadata": {},
   "source": [
    "## No ties in position for a given AnsId-Age"
   ]
  },
  {
   "cell_type": "code",
   "execution_count": 3,
   "metadata": {
    "collapsed": false
   },
   "outputs": [
    {
     "data": {
      "text/plain": [
       "569"
      ]
     },
     "execution_count": 3,
     "metadata": {},
     "output_type": "execute_result"
    }
   ],
   "source": [
    "get_comp = lambda df: int(df.shape[0])>1 \n",
    "tt = votes.groupby(['QuestionId','Age_vot','AnsRank']).apply(get_comp).reset_index(drop=True)\n",
    "sum(tt)"
   ]
  },
  {
   "cell_type": "markdown",
   "metadata": {},
   "source": [
    "## Always check AnsId-Age are unique pairs"
   ]
  },
  {
   "cell_type": "code",
   "execution_count": 4,
   "metadata": {
    "collapsed": false
   },
   "outputs": [
    {
     "data": {
      "text/plain": [
       "(0, 3)"
      ]
     },
     "execution_count": 4,
     "metadata": {},
     "output_type": "execute_result"
    }
   ],
   "source": [
    "tt = votes.groupby(['AnsId','Age_vot']).Votes.count().reset_index(level=[0,1],drop=False)\n",
    "tt[tt.Votes>1].shape"
   ]
  },
  {
   "cell_type": "code",
   "execution_count": 5,
   "metadata": {
    "collapsed": false
   },
   "outputs": [
    {
     "data": {
      "text/html": [
       "<div>\n",
       "<table border=\"1\" class=\"dataframe\">\n",
       "  <thead>\n",
       "    <tr style=\"text-align: right;\">\n",
       "      <th></th>\n",
       "      <th>QuestionId</th>\n",
       "      <th>AnsId</th>\n",
       "      <th>Age_vot</th>\n",
       "      <th>AcceptedAnsId</th>\n",
       "      <th>AnsWordCount</th>\n",
       "      <th>Comments</th>\n",
       "      <th>CumScore</th>\n",
       "      <th>CumVotes</th>\n",
       "      <th>Downvotes</th>\n",
       "      <th>QReScore</th>\n",
       "      <th>...</th>\n",
       "      <th>ReScore</th>\n",
       "      <th>Score</th>\n",
       "      <th>Upvotes</th>\n",
       "      <th>Votes</th>\n",
       "      <th>AnsRank</th>\n",
       "      <th>ReScore_rank</th>\n",
       "      <th>Ans_count</th>\n",
       "      <th>Pbias</th>\n",
       "      <th>DRank</th>\n",
       "      <th>EPbias</th>\n",
       "    </tr>\n",
       "  </thead>\n",
       "  <tbody>\n",
       "  </tbody>\n",
       "</table>\n",
       "<p>0 rows × 22 columns</p>\n",
       "</div>"
      ],
      "text/plain": [
       "Empty DataFrame\n",
       "Columns: [QuestionId, AnsId, Age_vot, AcceptedAnsId, AnsWordCount, Comments, CumScore, CumVotes, Downvotes, QReScore, QScore, QVotes, ReScore, Score, Upvotes, Votes, AnsRank, ReScore_rank, Ans_count, Pbias, DRank, EPbias]\n",
       "Index: []\n",
       "\n",
       "[0 rows x 22 columns]"
      ]
     },
     "execution_count": 5,
     "metadata": {},
     "output_type": "execute_result"
    }
   ],
   "source": [
    "# Little test\n",
    "votes[(votes.Upvotes.isnull())|(votes.Downvotes.isnull())]"
   ]
  },
  {
   "cell_type": "code",
   "execution_count": 62,
   "metadata": {
    "collapsed": false
   },
   "outputs": [
    {
     "data": {
      "text/html": [
       "<div>\n",
       "<table border=\"1\" class=\"dataframe\">\n",
       "  <thead>\n",
       "    <tr style=\"text-align: right;\">\n",
       "      <th></th>\n",
       "      <th>QuestionId</th>\n",
       "      <th>AnsId</th>\n",
       "      <th>Age_vot</th>\n",
       "      <th>AcceptedAnsId</th>\n",
       "      <th>AnsWordCount</th>\n",
       "      <th>Comments</th>\n",
       "      <th>CumScore</th>\n",
       "      <th>CumVotes</th>\n",
       "      <th>Downvotes</th>\n",
       "      <th>QReScore</th>\n",
       "      <th>...</th>\n",
       "      <th>ReScore</th>\n",
       "      <th>Score</th>\n",
       "      <th>Upvotes</th>\n",
       "      <th>Votes</th>\n",
       "      <th>AnsRank</th>\n",
       "      <th>ReScore_rank</th>\n",
       "      <th>Ans_count</th>\n",
       "      <th>Pbias</th>\n",
       "      <th>DRank</th>\n",
       "      <th>EPbias</th>\n",
       "    </tr>\n",
       "  </thead>\n",
       "  <tbody>\n",
       "  </tbody>\n",
       "</table>\n",
       "<p>0 rows × 22 columns</p>\n",
       "</div>"
      ],
      "text/plain": [
       "Empty DataFrame\n",
       "Columns: [QuestionId, AnsId, Age_vot, AcceptedAnsId, AnsWordCount, Comments, CumScore, CumVotes, Downvotes, QReScore, QScore, QVotes, ReScore, Score, Upvotes, Votes, AnsRank, ReScore_rank, Ans_count, Pbias, DRank, EPbias]\n",
       "Index: []\n",
       "\n",
       "[0 rows x 22 columns]"
      ]
     },
     "execution_count": 62,
     "metadata": {},
     "output_type": "execute_result"
    }
   ],
   "source": [
    "votes[votes.Votes != (votes.Upvotes+votes.Downvotes)]"
   ]
  },
  {
   "cell_type": "code",
   "execution_count": 7,
   "metadata": {
    "collapsed": false
   },
   "outputs": [],
   "source": [
    "votes['Norm_DRank'] = votes['DRank']/votes['Ans_count']\n",
    "votes['Norm_Pos'] = votes['AnsRank']/votes['Ans_count']"
   ]
  },
  {
   "cell_type": "code",
   "execution_count": 64,
   "metadata": {
    "collapsed": false
   },
   "outputs": [
    {
     "data": {
      "text/plain": [
       "(15241, 24)"
      ]
     },
     "execution_count": 64,
     "metadata": {},
     "output_type": "execute_result"
    }
   ],
   "source": [
    "votes.shape"
   ]
  },
  {
   "cell_type": "markdown",
   "metadata": {},
   "source": [
    "# Regression happens on votes the day after attributes were measured"
   ]
  },
  {
   "cell_type": "code",
   "execution_count": 9,
   "metadata": {
    "collapsed": false
   },
   "outputs": [],
   "source": [
    "import itertools\n",
    "import sys\n",
    "\n",
    "def idx_gen(votes):\n",
    "    new_idx_start = votes.shape[0]\n",
    "    return itertools.count(new_idx_start)\n",
    "\n",
    "def merge_two_dicts(x, y):\n",
    "    z = x.copy()\n",
    "    z.update(y)\n",
    "    return z\n",
    "\n",
    "def break_ties(df):\n",
    "    s_df = df.sort_values(by=['AnsRank','Votes'],ascending=[True,False])\n",
    "    if sum(s_df.groupby(['AnsRank']).count().reset_index(drop=False).Votes>1)>0 :\n",
    "        tot = df.shape[0]\n",
    "        s_df.index=range(tot)\n",
    "        fst_mn = s_df[s_df['AnsRank']==s_df['AnsRank'].shift(-1)].index\n",
    "        penalties = np.squeeze(np.asarray(np.matrix([np.concatenate([np.zeros(int(e)+1),np.ones(tot-(int(e)+1))]) for e in fst_mn]).sum(axis=0)))\n",
    "        penalties = pd.Series(penalties)\n",
    "        s_df.loc[:,'AnsRank'] = s_df.loc[:,'AnsRank'] + penalties\n",
    "        s_df.index = df.sort_values(by=['AnsRank','Score'],ascending=[True,False]).index\n",
    "    return s_df\n",
    "    \n",
    "## Attributes that can be filled later\n",
    "\n",
    "def pad_votes(df,a,q,aid_idx,index_gen):\n",
    "    assert (df.AcceptedAnsId==int(df.AcceptedAnsId.iloc[0])).all(),'There can only be an Accepted answer per Qid-time'\n",
    "    if aid_idx[q].size==0:\n",
    "        n_ans = df.shape[0]       \n",
    "        aid_idx[q] = aid_idx[q].append(df)\n",
    "        aid_idx[q].loc[:,'Accepted'] = aid_idx[q].AnsId==aid_idx[q].AcceptedAnsId\n",
    "        aid_idx[q] = aid_idx[q].sort_values(by=['Accepted','Score'],ascending=[False,False])\n",
    "        aid_idx[q].loc[:,'AnsRank'] = range(1,n_ans+1)\n",
    "        aid_idx[q].loc[:,'Ans_count'] = n_ans\n",
    "        \n",
    "        by_ReScore = aid_idx[q].sort_values(by='ReScore',ascending=False)\n",
    "        by_ReScore.loc[:,'ReRank'] = range(1,int(by_ReScore.shape[0])+1)\n",
    "        by_SE = aid_idx[q].sort_values(by=['Accepted','Score'],ascending=[False,False])\n",
    "        by_SE.loc[:,'SeRank'] = range(1,int(by_SE.shape[0])+1)\n",
    "        aid_idx[q].loc[:,'DRank'] = by_SE['SeRank'] - by_ReScore['ReRank']\n",
    "    else:    \n",
    "        padding_aids = set(aid_idx[q].AnsId).difference(set(df.AnsId))\n",
    "        df_padding_aids = aid_idx[q][aid_idx[q].AnsId.isin(padding_aids)]\n",
    "        tot_ans = len(padding_aids) + len(df.AnsId)\n",
    "        #True ranking (best reconstruction)\n",
    "        aid_idx[q] = df.append(df_padding_aids)\n",
    "        aid_idx[q].loc[:,'AcceptedAnsId'] = int(df.AcceptedAnsId.iloc[0])\n",
    "        aid_idx[q].loc[:,'Accepted'] = aid_idx[q].AnsId==aid_idx[q].AcceptedAnsId\n",
    "        assert (aid_idx[q].AcceptedAnsId==int(aid_idx[q].AcceptedAnsId.iloc[0])).all(), 'There can only be an Accepted answer per Qid-time'\n",
    "        aid_idx[q] = aid_idx[q].sort_values(by=['Accepted','Score'],ascending=[False,False])\n",
    "        #Calculating D-rank\n",
    "        by_ReScore = aid_idx[q].sort_values(by='ReScore',ascending=False)\n",
    "        by_ReScore.loc[:,'ReRank'] = range(1,int(by_ReScore.shape[0])+1)\n",
    "        by_SE = aid_idx[q].sort_values(by=['Accepted','Score'],ascending=[False,False])\n",
    "        by_SE.loc[:,'SeRank'] = range(1,int(by_SE.shape[0])+1)\n",
    "        aid_idx[q].loc[:,'DRank'] = by_SE['SeRank'] - by_ReScore['ReRank']\n",
    "        \n",
    "        aid_idx[q].loc[:,'AnsRank'] = range(1,tot_ans+1)\n",
    "        aid_idx[q].loc[:,'Ans_count'] = tot_ans\n",
    "        aid_idx[q].loc[aid_idx[q].AnsId.isin(padding_aids),['Votes']] = 0\n",
    "        aid_idx[q].loc[aid_idx[q].AnsId.isin(padding_aids),['Age_vot']] = a\n",
    "        aid_idx[q][aid_idx[q].AnsId.isin(padding_aids)].index = [index_gen.next() for i in range(len(padding_aids))]\n",
    "    return aid_idx[q]\n",
    "    "
   ]
  },
  {
   "cell_type": "markdown",
   "metadata": {},
   "source": [
    "## Introduce null row for the first day"
   ]
  },
  {
   "cell_type": "code",
   "execution_count": 10,
   "metadata": {
    "collapsed": false,
    "scrolled": true
   },
   "outputs": [
    {
     "data": {
      "text/html": [
       "<div>\n",
       "<table border=\"1\" class=\"dataframe\">\n",
       "  <thead>\n",
       "    <tr style=\"text-align: right;\">\n",
       "      <th></th>\n",
       "      <th>AcceptedAnsId</th>\n",
       "      <th>Age_vot</th>\n",
       "      <th>AnsId</th>\n",
       "      <th>AnsRank</th>\n",
       "      <th>AnsWordCount</th>\n",
       "      <th>Ans_count</th>\n",
       "      <th>Comments</th>\n",
       "      <th>CumScore</th>\n",
       "      <th>CumVotes</th>\n",
       "      <th>DRank</th>\n",
       "      <th>...</th>\n",
       "      <th>Pbias</th>\n",
       "      <th>QReScore</th>\n",
       "      <th>QScore</th>\n",
       "      <th>QVotes</th>\n",
       "      <th>QuestionId</th>\n",
       "      <th>ReScore</th>\n",
       "      <th>ReScore_rank</th>\n",
       "      <th>Score</th>\n",
       "      <th>Upvotes</th>\n",
       "      <th>Votes</th>\n",
       "    </tr>\n",
       "  </thead>\n",
       "  <tbody>\n",
       "    <tr>\n",
       "      <th>15242</th>\n",
       "      <td>NaN</td>\n",
       "      <td>0</td>\n",
       "      <td>4</td>\n",
       "      <td>2</td>\n",
       "      <td>NaN</td>\n",
       "      <td>2</td>\n",
       "      <td>NaN</td>\n",
       "      <td>NaN</td>\n",
       "      <td>NaN</td>\n",
       "      <td>NaN</td>\n",
       "      <td>...</td>\n",
       "      <td>NaN</td>\n",
       "      <td>NaN</td>\n",
       "      <td>NaN</td>\n",
       "      <td>NaN</td>\n",
       "      <td>1</td>\n",
       "      <td>0.00</td>\n",
       "      <td>NaN</td>\n",
       "      <td>0</td>\n",
       "      <td>0</td>\n",
       "      <td>0</td>\n",
       "    </tr>\n",
       "    <tr>\n",
       "      <th>4900</th>\n",
       "      <td>56</td>\n",
       "      <td>1</td>\n",
       "      <td>4</td>\n",
       "      <td>2</td>\n",
       "      <td>190</td>\n",
       "      <td>2</td>\n",
       "      <td>0</td>\n",
       "      <td>0</td>\n",
       "      <td>0</td>\n",
       "      <td>0</td>\n",
       "      <td>...</td>\n",
       "      <td>0.500000</td>\n",
       "      <td>0.000000</td>\n",
       "      <td>0</td>\n",
       "      <td>0</td>\n",
       "      <td>1</td>\n",
       "      <td>0.00</td>\n",
       "      <td>2</td>\n",
       "      <td>1</td>\n",
       "      <td>2</td>\n",
       "      <td>3</td>\n",
       "    </tr>\n",
       "    <tr>\n",
       "      <th>14442</th>\n",
       "      <td>56</td>\n",
       "      <td>1437</td>\n",
       "      <td>4</td>\n",
       "      <td>3</td>\n",
       "      <td>190</td>\n",
       "      <td>6</td>\n",
       "      <td>2</td>\n",
       "      <td>1</td>\n",
       "      <td>3</td>\n",
       "      <td>-2</td>\n",
       "      <td>...</td>\n",
       "      <td>0.333333</td>\n",
       "      <td>0.923077</td>\n",
       "      <td>12</td>\n",
       "      <td>12</td>\n",
       "      <td>1</td>\n",
       "      <td>0.25</td>\n",
       "      <td>5</td>\n",
       "      <td>1</td>\n",
       "      <td>1</td>\n",
       "      <td>1</td>\n",
       "    </tr>\n",
       "    <tr>\n",
       "      <th>15243</th>\n",
       "      <td>NaN</td>\n",
       "      <td>0</td>\n",
       "      <td>5</td>\n",
       "      <td>3</td>\n",
       "      <td>NaN</td>\n",
       "      <td>3</td>\n",
       "      <td>NaN</td>\n",
       "      <td>NaN</td>\n",
       "      <td>NaN</td>\n",
       "      <td>NaN</td>\n",
       "      <td>...</td>\n",
       "      <td>NaN</td>\n",
       "      <td>NaN</td>\n",
       "      <td>NaN</td>\n",
       "      <td>NaN</td>\n",
       "      <td>1</td>\n",
       "      <td>0.00</td>\n",
       "      <td>NaN</td>\n",
       "      <td>0</td>\n",
       "      <td>0</td>\n",
       "      <td>0</td>\n",
       "    </tr>\n",
       "    <tr>\n",
       "      <th>9562</th>\n",
       "      <td>56</td>\n",
       "      <td>1</td>\n",
       "      <td>5</td>\n",
       "      <td>3</td>\n",
       "      <td>37</td>\n",
       "      <td>3</td>\n",
       "      <td>0</td>\n",
       "      <td>0</td>\n",
       "      <td>0</td>\n",
       "      <td>0</td>\n",
       "      <td>...</td>\n",
       "      <td>0.333333</td>\n",
       "      <td>0.000000</td>\n",
       "      <td>0</td>\n",
       "      <td>0</td>\n",
       "      <td>1</td>\n",
       "      <td>0.00</td>\n",
       "      <td>3</td>\n",
       "      <td>1</td>\n",
       "      <td>1</td>\n",
       "      <td>1</td>\n",
       "    </tr>\n",
       "  </tbody>\n",
       "</table>\n",
       "<p>5 rows × 24 columns</p>\n",
       "</div>"
      ],
      "text/plain": [
       "       AcceptedAnsId  Age_vot  AnsId  AnsRank  AnsWordCount  Ans_count  \\\n",
       "15242            NaN        0      4        2           NaN          2   \n",
       "4900              56        1      4        2           190          2   \n",
       "14442             56     1437      4        3           190          6   \n",
       "15243            NaN        0      5        3           NaN          3   \n",
       "9562              56        1      5        3            37          3   \n",
       "\n",
       "       Comments  CumScore  CumVotes  DRank  ...       Pbias  QReScore  QScore  \\\n",
       "15242       NaN       NaN       NaN    NaN  ...         NaN       NaN     NaN   \n",
       "4900          0         0         0      0  ...    0.500000  0.000000       0   \n",
       "14442         2         1         3     -2  ...    0.333333  0.923077      12   \n",
       "15243       NaN       NaN       NaN    NaN  ...         NaN       NaN     NaN   \n",
       "9562          0         0         0      0  ...    0.333333  0.000000       0   \n",
       "\n",
       "       QVotes  QuestionId  ReScore  ReScore_rank  Score  Upvotes  Votes  \n",
       "15242     NaN           1     0.00           NaN      0        0      0  \n",
       "4900        0           1     0.00             2      1        2      3  \n",
       "14442      12           1     0.25             5      1        1      1  \n",
       "15243     NaN           1     0.00           NaN      0        0      0  \n",
       "9562        0           1     0.00             3      1        1      1  \n",
       "\n",
       "[5 rows x 24 columns]"
      ]
     },
     "execution_count": 10,
     "metadata": {},
     "output_type": "execute_result"
    }
   ],
   "source": [
    "get_idx = idx_gen(votes)\n",
    "get_null_row = lambda df,ans_c,age,a_id,q_id: pd.DataFrame({'QuestionId':[q_id],'AnsId':[a_id],'Age_vot':[age-1],'Norm_Pos':[1],'Norm_DRank':[0.0],'Ans_count':[ans_c],\n",
    "                                       'ReScore':[0.0],'AnsRank':[ans_c],'Votes':[0],\n",
    "                                            'Score':[0],'Upvotes':[0],'Downvotes':[0]},index=[get_idx.next()])\n",
    "#Votes:[0] etc will be shifted anyways\n",
    "append_null_day = lambda df: get_null_row(df,df.sort_values(by='Age_vot').Ans_count.iloc[0],int(df['Age_vot'].min()),df.AnsId.iloc[0],df.QuestionId.iloc[0]).append(df)\n",
    "votes = votes.groupby(['AnsId']).apply(append_null_day).reset_index(level=[0],drop=True)\n",
    "votes.loc[:,'Age_vot'] = votes['Age_vot'] + 1\n",
    "votes.head()"
   ]
  },
  {
   "cell_type": "code",
   "execution_count": 11,
   "metadata": {
    "collapsed": false
   },
   "outputs": [
    {
     "data": {
      "text/plain": [
       "569"
      ]
     },
     "execution_count": 11,
     "metadata": {},
     "output_type": "execute_result"
    }
   ],
   "source": [
    "get_comp = lambda df: int(df.shape[0])>1 \n",
    "tt = votes.groupby(['QuestionId','Age_vot','AnsRank']).apply(get_comp).reset_index(drop=True)\n",
    "sum(tt)"
   ]
  },
  {
   "cell_type": "code",
   "execution_count": 12,
   "metadata": {
    "collapsed": false
   },
   "outputs": [
    {
     "data": {
      "text/plain": [
       "5577"
      ]
     },
     "execution_count": 12,
     "metadata": {},
     "output_type": "execute_result"
    }
   ],
   "source": [
    "sum(votes.Votes==0) #Number of rows introduced"
   ]
  },
  {
   "cell_type": "code",
   "execution_count": 13,
   "metadata": {
    "collapsed": false
   },
   "outputs": [
    {
     "data": {
      "text/plain": [
       "(20818, 24)"
      ]
     },
     "execution_count": 13,
     "metadata": {},
     "output_type": "execute_result"
    }
   ],
   "source": [
    "votes.shape"
   ]
  },
  {
   "cell_type": "markdown",
   "metadata": {},
   "source": [
    "### Shift Votes One day before "
   ]
  },
  {
   "cell_type": "code",
   "execution_count": 14,
   "metadata": {
    "collapsed": false
   },
   "outputs": [],
   "source": [
    "atts_sft = ['Score','QuestionId','Age_vot','Norm_Pos','Norm_DRank','Ans_count','ReScore','AnsRank','AcceptedAnsId']\n",
    "select = lambda df,one_vote=True: df[atts_sft + ['Votes','Upvotes','Downvotes']] if one_vote else df[atts_sft]\n",
    "shift = lambda df,att : df[att].shift(-1)#.ffill()\n",
    "shift_select = lambda df: select(df) if df.shape[0]==1 else pd.concat([select(df,one_vote=False),shift(df,'Votes'),shift(df,'Upvotes'),shift(df,'Downvotes')],axis=1)\n",
    "shift_votes = lambda df: shift_select(df.sort_values(by='Age_vot'))\n",
    "\n",
    "votes = votes.groupby(['AnsId']).apply(shift_votes).reset_index(level=[0],drop=False)\n",
    "votes = votes[(votes.Upvotes.notnull())|(votes.Downvotes.notnull())|(votes.Votes.notnull())] #drop last registered day for each ans"
   ]
  },
  {
   "cell_type": "code",
   "execution_count": 15,
   "metadata": {
    "collapsed": false
   },
   "outputs": [
    {
     "data": {
      "text/plain": [
       "241"
      ]
     },
     "execution_count": 15,
     "metadata": {},
     "output_type": "execute_result"
    }
   ],
   "source": [
    "get_comp = lambda df: int(df.shape[0])>1 \n",
    "tt = votes.groupby(['QuestionId','Age_vot','AnsRank']).apply(get_comp).reset_index(drop=True)\n",
    "sum(tt)"
   ]
  },
  {
   "cell_type": "markdown",
   "metadata": {},
   "source": [
    "### Clean accepted ans"
   ]
  },
  {
   "cell_type": "code",
   "execution_count": 16,
   "metadata": {
    "collapsed": false
   },
   "outputs": [],
   "source": [
    "votes.loc[:,'AcceptedAnsId']=votes['AcceptedAnsId'].fillna(-1)\n",
    "def clean_acc(df):\n",
    "    if df[df.AcceptedAnsId!=-1].size==0 or df[df.AcceptedAnsId==-1].size==0:\n",
    "        return df\n",
    "    df.loc[df.AcceptedAnsId==-1,'AcceptedAnsId'] = df[df.AcceptedAnsId!=-1].AcceptedAnsId.iloc[0]\n",
    "    return df\n",
    "votes = votes.groupby(['QuestionId','Age_vot']).apply(clean_acc).reset_index(drop=True)"
   ]
  },
  {
   "cell_type": "code",
   "execution_count": 17,
   "metadata": {
    "collapsed": false
   },
   "outputs": [
    {
     "data": {
      "text/plain": [
       "True"
      ]
     },
     "execution_count": 17,
     "metadata": {},
     "output_type": "execute_result"
    }
   ],
   "source": [
    "#Test if accepted ans is homogeneous\n",
    "homogeneous = votes.groupby(['QuestionId',\n",
    "                             'Age_vot']).apply(\n",
    "    lambda df: (int(df.AcceptedAnsId.iloc[0])==df.AcceptedAnsId).all()).reset_index(drop=True)\n",
    "\n",
    "homogeneous.all()"
   ]
  },
  {
   "cell_type": "code",
   "execution_count": 18,
   "metadata": {
    "collapsed": false
   },
   "outputs": [
    {
     "data": {
      "text/plain": [
       "241"
      ]
     },
     "execution_count": 18,
     "metadata": {},
     "output_type": "execute_result"
    }
   ],
   "source": [
    "get_comp = lambda df: int(df.shape[0])>1 \n",
    "tt = votes.groupby(['QuestionId','Age_vot','AnsRank']).apply(get_comp).reset_index(drop=True)\n",
    "sum(tt)"
   ]
  },
  {
   "cell_type": "code",
   "execution_count": 19,
   "metadata": {
    "collapsed": false
   },
   "outputs": [
    {
     "data": {
      "text/plain": [
       "0"
      ]
     },
     "execution_count": 19,
     "metadata": {},
     "output_type": "execute_result"
    }
   ],
   "source": [
    "sum(votes.Votes==0) # MUST BE ZERO"
   ]
  },
  {
   "cell_type": "markdown",
   "metadata": {},
   "source": [
    "### Fill ans with 0 and prev atts answers with no votes on a given day (if at least one other ans was voted on that day)"
   ]
  },
  {
   "cell_type": "code",
   "execution_count": 21,
   "metadata": {
    "collapsed": false
   },
   "outputs": [
    {
     "data": {
      "text/html": [
       "<div>\n",
       "<table border=\"1\" class=\"dataframe\">\n",
       "  <thead>\n",
       "    <tr style=\"text-align: right;\">\n",
       "      <th></th>\n",
       "      <th>Accepted</th>\n",
       "      <th>AcceptedAnsId</th>\n",
       "      <th>Age_vot</th>\n",
       "      <th>AnsId</th>\n",
       "      <th>AnsRank</th>\n",
       "      <th>Ans_count</th>\n",
       "      <th>DRank</th>\n",
       "      <th>Downvotes</th>\n",
       "      <th>Norm_DRank</th>\n",
       "      <th>Norm_Pos</th>\n",
       "      <th>QuestionId</th>\n",
       "      <th>ReScore</th>\n",
       "      <th>Score</th>\n",
       "      <th>Upvotes</th>\n",
       "      <th>Votes</th>\n",
       "    </tr>\n",
       "  </thead>\n",
       "  <tbody>\n",
       "    <tr>\n",
       "      <th>0</th>\n",
       "      <td>False</td>\n",
       "      <td>-1</td>\n",
       "      <td>0</td>\n",
       "      <td>4</td>\n",
       "      <td>1</td>\n",
       "      <td>3</td>\n",
       "      <td>0</td>\n",
       "      <td>1</td>\n",
       "      <td>0</td>\n",
       "      <td>1.000000</td>\n",
       "      <td>1</td>\n",
       "      <td>0.000000</td>\n",
       "      <td>0</td>\n",
       "      <td>2</td>\n",
       "      <td>3</td>\n",
       "    </tr>\n",
       "    <tr>\n",
       "      <th>2</th>\n",
       "      <td>False</td>\n",
       "      <td>-1</td>\n",
       "      <td>0</td>\n",
       "      <td>5</td>\n",
       "      <td>2</td>\n",
       "      <td>3</td>\n",
       "      <td>0</td>\n",
       "      <td>0</td>\n",
       "      <td>0</td>\n",
       "      <td>1.000000</td>\n",
       "      <td>1</td>\n",
       "      <td>0.000000</td>\n",
       "      <td>0</td>\n",
       "      <td>1</td>\n",
       "      <td>1</td>\n",
       "    </tr>\n",
       "    <tr>\n",
       "      <th>217</th>\n",
       "      <td>False</td>\n",
       "      <td>-1</td>\n",
       "      <td>0</td>\n",
       "      <td>56</td>\n",
       "      <td>3</td>\n",
       "      <td>3</td>\n",
       "      <td>0</td>\n",
       "      <td>0</td>\n",
       "      <td>0</td>\n",
       "      <td>1.000000</td>\n",
       "      <td>1</td>\n",
       "      <td>0.000000</td>\n",
       "      <td>0</td>\n",
       "      <td>2</td>\n",
       "      <td>2</td>\n",
       "    </tr>\n",
       "    <tr>\n",
       "      <th>218</th>\n",
       "      <td>True</td>\n",
       "      <td>56</td>\n",
       "      <td>1</td>\n",
       "      <td>56</td>\n",
       "      <td>1</td>\n",
       "      <td>4</td>\n",
       "      <td>0</td>\n",
       "      <td>0</td>\n",
       "      <td>0</td>\n",
       "      <td>1.000000</td>\n",
       "      <td>1</td>\n",
       "      <td>0.000000</td>\n",
       "      <td>2</td>\n",
       "      <td>3</td>\n",
       "      <td>3</td>\n",
       "    </tr>\n",
       "    <tr>\n",
       "      <th>1</th>\n",
       "      <td>False</td>\n",
       "      <td>56</td>\n",
       "      <td>1</td>\n",
       "      <td>4</td>\n",
       "      <td>2</td>\n",
       "      <td>4</td>\n",
       "      <td>0</td>\n",
       "      <td>0</td>\n",
       "      <td>0</td>\n",
       "      <td>1.000000</td>\n",
       "      <td>1</td>\n",
       "      <td>0.000000</td>\n",
       "      <td>1</td>\n",
       "      <td>1</td>\n",
       "      <td>1</td>\n",
       "    </tr>\n",
       "    <tr>\n",
       "      <th>3</th>\n",
       "      <td>False</td>\n",
       "      <td>56</td>\n",
       "      <td>1</td>\n",
       "      <td>5</td>\n",
       "      <td>3</td>\n",
       "      <td>4</td>\n",
       "      <td>0</td>\n",
       "      <td>1</td>\n",
       "      <td>0</td>\n",
       "      <td>1.000000</td>\n",
       "      <td>1</td>\n",
       "      <td>0.000000</td>\n",
       "      <td>1</td>\n",
       "      <td>0</td>\n",
       "      <td>1</td>\n",
       "    </tr>\n",
       "    <tr>\n",
       "      <th>837</th>\n",
       "      <td>False</td>\n",
       "      <td>56</td>\n",
       "      <td>1</td>\n",
       "      <td>210</td>\n",
       "      <td>4</td>\n",
       "      <td>4</td>\n",
       "      <td>0</td>\n",
       "      <td>0</td>\n",
       "      <td>0</td>\n",
       "      <td>1.000000</td>\n",
       "      <td>1</td>\n",
       "      <td>0.000000</td>\n",
       "      <td>0</td>\n",
       "      <td>1</td>\n",
       "      <td>1</td>\n",
       "    </tr>\n",
       "    <tr>\n",
       "      <th>219</th>\n",
       "      <td>True</td>\n",
       "      <td>56</td>\n",
       "      <td>2</td>\n",
       "      <td>56</td>\n",
       "      <td>1</td>\n",
       "      <td>4</td>\n",
       "      <td>0</td>\n",
       "      <td>0</td>\n",
       "      <td>0</td>\n",
       "      <td>0.333333</td>\n",
       "      <td>1</td>\n",
       "      <td>0.666667</td>\n",
       "      <td>3</td>\n",
       "      <td>1</td>\n",
       "      <td>1</td>\n",
       "    </tr>\n",
       "    <tr>\n",
       "      <th>838</th>\n",
       "      <td>False</td>\n",
       "      <td>56</td>\n",
       "      <td>2</td>\n",
       "      <td>210</td>\n",
       "      <td>2</td>\n",
       "      <td>4</td>\n",
       "      <td>0</td>\n",
       "      <td>0</td>\n",
       "      <td>0</td>\n",
       "      <td>0.500000</td>\n",
       "      <td>1</td>\n",
       "      <td>0.000000</td>\n",
       "      <td>1</td>\n",
       "      <td>1</td>\n",
       "      <td>1</td>\n",
       "    </tr>\n",
       "    <tr>\n",
       "      <th>1</th>\n",
       "      <td>False</td>\n",
       "      <td>56</td>\n",
       "      <td>1</td>\n",
       "      <td>4</td>\n",
       "      <td>3</td>\n",
       "      <td>4</td>\n",
       "      <td>0</td>\n",
       "      <td>0</td>\n",
       "      <td>0</td>\n",
       "      <td>1.000000</td>\n",
       "      <td>1</td>\n",
       "      <td>0.000000</td>\n",
       "      <td>1</td>\n",
       "      <td>1</td>\n",
       "      <td>0</td>\n",
       "    </tr>\n",
       "  </tbody>\n",
       "</table>\n",
       "</div>"
      ],
      "text/plain": [
       "    Accepted  AcceptedAnsId  Age_vot  AnsId  AnsRank  Ans_count  DRank  \\\n",
       "0      False             -1        0      4        1          3      0   \n",
       "2      False             -1        0      5        2          3      0   \n",
       "217    False             -1        0     56        3          3      0   \n",
       "218     True             56        1     56        1          4      0   \n",
       "1      False             56        1      4        2          4      0   \n",
       "3      False             56        1      5        3          4      0   \n",
       "837    False             56        1    210        4          4      0   \n",
       "219     True             56        2     56        1          4      0   \n",
       "838    False             56        2    210        2          4      0   \n",
       "1      False             56        1      4        3          4      0   \n",
       "\n",
       "     Downvotes  Norm_DRank  Norm_Pos  QuestionId   ReScore  Score  Upvotes  \\\n",
       "0            1           0  1.000000           1  0.000000      0        2   \n",
       "2            0           0  1.000000           1  0.000000      0        1   \n",
       "217          0           0  1.000000           1  0.000000      0        2   \n",
       "218          0           0  1.000000           1  0.000000      2        3   \n",
       "1            0           0  1.000000           1  0.000000      1        1   \n",
       "3            1           0  1.000000           1  0.000000      1        0   \n",
       "837          0           0  1.000000           1  0.000000      0        1   \n",
       "219          0           0  0.333333           1  0.666667      3        1   \n",
       "838          0           0  0.500000           1  0.000000      1        1   \n",
       "1            0           0  1.000000           1  0.000000      1        1   \n",
       "\n",
       "     Votes  \n",
       "0        3  \n",
       "2        1  \n",
       "217      2  \n",
       "218      3  \n",
       "1        1  \n",
       "3        1  \n",
       "837      1  \n",
       "219      1  \n",
       "838      1  \n",
       "1        0  "
      ]
     },
     "execution_count": 21,
     "metadata": {},
     "output_type": "execute_result"
    }
   ],
   "source": [
    "from collections import defaultdict\n",
    "#VERY expensive transformation\n",
    "padded_votes = pd.DataFrame()\n",
    "genidx = idx_gen(votes)\n",
    "ans_index = defaultdict(lambda: pd.DataFrame()) #Qid,AnsId,Position\n",
    "for q,g_q in votes.groupby(['QuestionId']):\n",
    "    for a,g_a in g_q.sort_values(by='Age_vot').groupby(['Age_vot']):\n",
    "        padded_votes = padded_votes.append(pad_votes(g_a,a,q,ans_index,genidx))\n",
    "        \n",
    "padded_votes.head(10)"
   ]
  },
  {
   "cell_type": "code",
   "execution_count": 22,
   "metadata": {
    "collapsed": false
   },
   "outputs": [
    {
     "data": {
      "text/html": [
       "<div>\n",
       "<table border=\"1\" class=\"dataframe\">\n",
       "  <thead>\n",
       "    <tr style=\"text-align: right;\">\n",
       "      <th></th>\n",
       "      <th>Accepted</th>\n",
       "      <th>AcceptedAnsId</th>\n",
       "      <th>Age_vot</th>\n",
       "      <th>AnsId</th>\n",
       "      <th>AnsRank</th>\n",
       "      <th>Ans_count</th>\n",
       "      <th>DRank</th>\n",
       "      <th>Downvotes</th>\n",
       "      <th>Norm_DRank</th>\n",
       "      <th>Norm_Pos</th>\n",
       "      <th>QuestionId</th>\n",
       "      <th>ReScore</th>\n",
       "      <th>Score</th>\n",
       "      <th>Upvotes</th>\n",
       "      <th>Votes</th>\n",
       "    </tr>\n",
       "  </thead>\n",
       "  <tbody>\n",
       "    <tr>\n",
       "      <th>15234</th>\n",
       "      <td>False</td>\n",
       "      <td>15675</td>\n",
       "      <td>0</td>\n",
       "      <td>15677</td>\n",
       "      <td>4</td>\n",
       "      <td>4</td>\n",
       "      <td>0</td>\n",
       "      <td>0</td>\n",
       "      <td>0.00</td>\n",
       "      <td>1.0</td>\n",
       "      <td>15670</td>\n",
       "      <td>0.00</td>\n",
       "      <td>0</td>\n",
       "      <td>1</td>\n",
       "      <td>0</td>\n",
       "    </tr>\n",
       "    <tr>\n",
       "      <th>15232</th>\n",
       "      <td>True</td>\n",
       "      <td>15675</td>\n",
       "      <td>0</td>\n",
       "      <td>15675</td>\n",
       "      <td>1</td>\n",
       "      <td>4</td>\n",
       "      <td>-1</td>\n",
       "      <td>0</td>\n",
       "      <td>0.00</td>\n",
       "      <td>1.0</td>\n",
       "      <td>15670</td>\n",
       "      <td>0.00</td>\n",
       "      <td>0</td>\n",
       "      <td>4</td>\n",
       "      <td>0</td>\n",
       "    </tr>\n",
       "    <tr>\n",
       "      <th>15231</th>\n",
       "      <td>False</td>\n",
       "      <td>15675</td>\n",
       "      <td>2</td>\n",
       "      <td>15672</td>\n",
       "      <td>2</td>\n",
       "      <td>4</td>\n",
       "      <td>1</td>\n",
       "      <td>0</td>\n",
       "      <td>0.25</td>\n",
       "      <td>0.5</td>\n",
       "      <td>15670</td>\n",
       "      <td>0.25</td>\n",
       "      <td>1</td>\n",
       "      <td>1</td>\n",
       "      <td>1</td>\n",
       "    </tr>\n",
       "    <tr>\n",
       "      <th>15228</th>\n",
       "      <td>False</td>\n",
       "      <td>15675</td>\n",
       "      <td>0</td>\n",
       "      <td>15671</td>\n",
       "      <td>3</td>\n",
       "      <td>4</td>\n",
       "      <td>0</td>\n",
       "      <td>0</td>\n",
       "      <td>0.00</td>\n",
       "      <td>1.0</td>\n",
       "      <td>15670</td>\n",
       "      <td>0.00</td>\n",
       "      <td>0</td>\n",
       "      <td>1</td>\n",
       "      <td>0</td>\n",
       "    </tr>\n",
       "    <tr>\n",
       "      <th>15234</th>\n",
       "      <td>False</td>\n",
       "      <td>15675</td>\n",
       "      <td>0</td>\n",
       "      <td>15677</td>\n",
       "      <td>4</td>\n",
       "      <td>4</td>\n",
       "      <td>0</td>\n",
       "      <td>0</td>\n",
       "      <td>0.00</td>\n",
       "      <td>1.0</td>\n",
       "      <td>15670</td>\n",
       "      <td>0.00</td>\n",
       "      <td>0</td>\n",
       "      <td>1</td>\n",
       "      <td>0</td>\n",
       "    </tr>\n",
       "    <tr>\n",
       "      <th>15236</th>\n",
       "      <td>False</td>\n",
       "      <td>-1</td>\n",
       "      <td>1</td>\n",
       "      <td>15689</td>\n",
       "      <td>1</td>\n",
       "      <td>1</td>\n",
       "      <td>0</td>\n",
       "      <td>0</td>\n",
       "      <td>0.00</td>\n",
       "      <td>1.0</td>\n",
       "      <td>15684</td>\n",
       "      <td>0.00</td>\n",
       "      <td>0</td>\n",
       "      <td>2</td>\n",
       "      <td>2</td>\n",
       "    </tr>\n",
       "    <tr>\n",
       "      <th>15237</th>\n",
       "      <td>False</td>\n",
       "      <td>-1</td>\n",
       "      <td>1</td>\n",
       "      <td>15694</td>\n",
       "      <td>1</td>\n",
       "      <td>2</td>\n",
       "      <td>0</td>\n",
       "      <td>0</td>\n",
       "      <td>0.00</td>\n",
       "      <td>1.0</td>\n",
       "      <td>15691</td>\n",
       "      <td>0.00</td>\n",
       "      <td>0</td>\n",
       "      <td>1</td>\n",
       "      <td>1</td>\n",
       "    </tr>\n",
       "    <tr>\n",
       "      <th>15238</th>\n",
       "      <td>False</td>\n",
       "      <td>-1</td>\n",
       "      <td>1</td>\n",
       "      <td>15695</td>\n",
       "      <td>2</td>\n",
       "      <td>2</td>\n",
       "      <td>0</td>\n",
       "      <td>0</td>\n",
       "      <td>0.00</td>\n",
       "      <td>1.0</td>\n",
       "      <td>15691</td>\n",
       "      <td>0.00</td>\n",
       "      <td>0</td>\n",
       "      <td>1</td>\n",
       "      <td>1</td>\n",
       "    </tr>\n",
       "    <tr>\n",
       "      <th>15239</th>\n",
       "      <td>False</td>\n",
       "      <td>-1</td>\n",
       "      <td>0</td>\n",
       "      <td>15700</td>\n",
       "      <td>1</td>\n",
       "      <td>1</td>\n",
       "      <td>0</td>\n",
       "      <td>0</td>\n",
       "      <td>0.00</td>\n",
       "      <td>1.0</td>\n",
       "      <td>15699</td>\n",
       "      <td>0.00</td>\n",
       "      <td>0</td>\n",
       "      <td>2</td>\n",
       "      <td>2</td>\n",
       "    </tr>\n",
       "    <tr>\n",
       "      <th>15240</th>\n",
       "      <td>True</td>\n",
       "      <td>15700</td>\n",
       "      <td>1</td>\n",
       "      <td>15700</td>\n",
       "      <td>1</td>\n",
       "      <td>1</td>\n",
       "      <td>0</td>\n",
       "      <td>0</td>\n",
       "      <td>0.00</td>\n",
       "      <td>1.0</td>\n",
       "      <td>15699</td>\n",
       "      <td>0.00</td>\n",
       "      <td>2</td>\n",
       "      <td>1</td>\n",
       "      <td>1</td>\n",
       "    </tr>\n",
       "  </tbody>\n",
       "</table>\n",
       "</div>"
      ],
      "text/plain": [
       "      Accepted  AcceptedAnsId  Age_vot  AnsId  AnsRank  Ans_count  DRank  \\\n",
       "15234    False          15675        0  15677        4          4      0   \n",
       "15232     True          15675        0  15675        1          4     -1   \n",
       "15231    False          15675        2  15672        2          4      1   \n",
       "15228    False          15675        0  15671        3          4      0   \n",
       "15234    False          15675        0  15677        4          4      0   \n",
       "15236    False             -1        1  15689        1          1      0   \n",
       "15237    False             -1        1  15694        1          2      0   \n",
       "15238    False             -1        1  15695        2          2      0   \n",
       "15239    False             -1        0  15700        1          1      0   \n",
       "15240     True          15700        1  15700        1          1      0   \n",
       "\n",
       "       Downvotes  Norm_DRank  Norm_Pos  QuestionId  ReScore  Score  Upvotes  \\\n",
       "15234          0        0.00       1.0       15670     0.00      0        1   \n",
       "15232          0        0.00       1.0       15670     0.00      0        4   \n",
       "15231          0        0.25       0.5       15670     0.25      1        1   \n",
       "15228          0        0.00       1.0       15670     0.00      0        1   \n",
       "15234          0        0.00       1.0       15670     0.00      0        1   \n",
       "15236          0        0.00       1.0       15684     0.00      0        2   \n",
       "15237          0        0.00       1.0       15691     0.00      0        1   \n",
       "15238          0        0.00       1.0       15691     0.00      0        1   \n",
       "15239          0        0.00       1.0       15699     0.00      0        2   \n",
       "15240          0        0.00       1.0       15699     0.00      2        1   \n",
       "\n",
       "       Votes  \n",
       "15234      0  \n",
       "15232      0  \n",
       "15231      1  \n",
       "15228      0  \n",
       "15234      0  \n",
       "15236      2  \n",
       "15237      1  \n",
       "15238      1  \n",
       "15239      2  \n",
       "15240      1  "
      ]
     },
     "execution_count": 22,
     "metadata": {},
     "output_type": "execute_result"
    }
   ],
   "source": [
    "padded_votes.tail(10)"
   ]
  },
  {
   "cell_type": "code",
   "execution_count": 23,
   "metadata": {
    "collapsed": false
   },
   "outputs": [
    {
     "data": {
      "text/plain": [
       "2     7182\n",
       "3     5820\n",
       "1     4121\n",
       "4     3764\n",
       "5     2255\n",
       "6     1212\n",
       "8      680\n",
       "10     660\n",
       "7      616\n",
       "9      504\n",
       "11     143\n",
       "12      84\n",
       "Name: Ans_count, dtype: int64"
      ]
     },
     "execution_count": 23,
     "metadata": {},
     "output_type": "execute_result"
    }
   ],
   "source": [
    "padded_votes.Ans_count.value_counts()"
   ]
  },
  {
   "cell_type": "code",
   "execution_count": 37,
   "metadata": {
    "collapsed": false
   },
   "outputs": [
    {
     "data": {
      "text/plain": [
       "11800"
      ]
     },
     "execution_count": 37,
     "metadata": {},
     "output_type": "execute_result"
    }
   ],
   "source": [
    "sum(padded_votes.Votes==0)"
   ]
  },
  {
   "cell_type": "code",
   "execution_count": 38,
   "metadata": {
    "collapsed": true
   },
   "outputs": [],
   "source": [
    "votes = padded_votes\n",
    "votes.loc[:,\"Norm_DRank\"] = votes['AnsRank']/votes['Ans_count']\n",
    "votes.loc[:,\"Norm_Pos\"] = votes['DRank']/votes['Ans_count']\n",
    "votes.loc[:,'Norm_Pos_2'] = np.square(votes['Norm_Pos'])"
   ]
  },
  {
   "cell_type": "code",
   "execution_count": 39,
   "metadata": {
    "collapsed": false
   },
   "outputs": [
    {
     "data": {
      "text/html": [
       "<div>\n",
       "<table border=\"1\" class=\"dataframe\">\n",
       "  <thead>\n",
       "    <tr style=\"text-align: right;\">\n",
       "      <th></th>\n",
       "      <th>Accepted</th>\n",
       "      <th>AcceptedAnsId</th>\n",
       "      <th>Age_vot</th>\n",
       "      <th>AnsId</th>\n",
       "      <th>AnsRank</th>\n",
       "      <th>Ans_count</th>\n",
       "      <th>DRank</th>\n",
       "      <th>Downvotes</th>\n",
       "      <th>Norm_DRank</th>\n",
       "      <th>Norm_Pos</th>\n",
       "      <th>QuestionId</th>\n",
       "      <th>ReScore</th>\n",
       "      <th>Score</th>\n",
       "      <th>Upvotes</th>\n",
       "      <th>Votes</th>\n",
       "      <th>Norm_Pos_2</th>\n",
       "    </tr>\n",
       "  </thead>\n",
       "  <tbody>\n",
       "  </tbody>\n",
       "</table>\n",
       "</div>"
      ],
      "text/plain": [
       "Empty DataFrame\n",
       "Columns: [Accepted, AcceptedAnsId, Age_vot, AnsId, AnsRank, Ans_count, DRank, Downvotes, Norm_DRank, Norm_Pos, QuestionId, ReScore, Score, Upvotes, Votes, Norm_Pos_2]\n",
       "Index: []"
      ]
     },
     "execution_count": 39,
     "metadata": {},
     "output_type": "execute_result"
    }
   ],
   "source": [
    "votes[votes.isnull().any(axis=1)]"
   ]
  },
  {
   "cell_type": "code",
   "execution_count": 40,
   "metadata": {
    "collapsed": false
   },
   "outputs": [
    {
     "data": {
      "text/plain": [
       "4446"
      ]
     },
     "execution_count": 40,
     "metadata": {},
     "output_type": "execute_result"
    }
   ],
   "source": [
    "## Check position ties,normal for the algorithm for recovering position has some randomness\n",
    "get_comp = lambda df: int(df.shape[0])>1 \n",
    "tt = votes.groupby(['QuestionId','Age_vot','AnsRank']).apply(get_comp).reset_index(drop=True)\n",
    "sum(tt)"
   ]
  },
  {
   "cell_type": "code",
   "execution_count": 53,
   "metadata": {
    "collapsed": false
   },
   "outputs": [
    {
     "data": {
      "text/html": [
       "<div>\n",
       "<table border=\"1\" class=\"dataframe\">\n",
       "  <thead>\n",
       "    <tr style=\"text-align: right;\">\n",
       "      <th></th>\n",
       "      <th>QuestionId</th>\n",
       "      <th>Age_vot</th>\n",
       "      <th>AnsRank</th>\n",
       "      <th>AnsId</th>\n",
       "      <th>Ans_count</th>\n",
       "      <th>Votes</th>\n",
       "      <th>AcceptedAnsId</th>\n",
       "    </tr>\n",
       "  </thead>\n",
       "  <tbody>\n",
       "    <tr>\n",
       "      <th>3</th>\n",
       "      <td>1</td>\n",
       "      <td>1</td>\n",
       "      <td>3</td>\n",
       "      <td>5</td>\n",
       "      <td>4</td>\n",
       "      <td>1</td>\n",
       "      <td>56</td>\n",
       "    </tr>\n",
       "    <tr>\n",
       "      <th>1</th>\n",
       "      <td>1</td>\n",
       "      <td>1</td>\n",
       "      <td>3</td>\n",
       "      <td>4</td>\n",
       "      <td>4</td>\n",
       "      <td>0</td>\n",
       "      <td>56</td>\n",
       "    </tr>\n",
       "    <tr>\n",
       "      <th>1</th>\n",
       "      <td>1</td>\n",
       "      <td>1</td>\n",
       "      <td>3</td>\n",
       "      <td>4</td>\n",
       "      <td>4</td>\n",
       "      <td>0</td>\n",
       "      <td>56</td>\n",
       "    </tr>\n",
       "    <tr>\n",
       "      <th>1</th>\n",
       "      <td>1</td>\n",
       "      <td>1</td>\n",
       "      <td>3</td>\n",
       "      <td>4</td>\n",
       "      <td>4</td>\n",
       "      <td>0</td>\n",
       "      <td>56</td>\n",
       "    </tr>\n",
       "    <tr>\n",
       "      <th>1</th>\n",
       "      <td>1</td>\n",
       "      <td>1</td>\n",
       "      <td>3</td>\n",
       "      <td>4</td>\n",
       "      <td>5</td>\n",
       "      <td>0</td>\n",
       "      <td>-1</td>\n",
       "    </tr>\n",
       "    <tr>\n",
       "      <th>1</th>\n",
       "      <td>1</td>\n",
       "      <td>1</td>\n",
       "      <td>3</td>\n",
       "      <td>4</td>\n",
       "      <td>5</td>\n",
       "      <td>0</td>\n",
       "      <td>56</td>\n",
       "    </tr>\n",
       "    <tr>\n",
       "      <th>1</th>\n",
       "      <td>1</td>\n",
       "      <td>1</td>\n",
       "      <td>3</td>\n",
       "      <td>4</td>\n",
       "      <td>6</td>\n",
       "      <td>0</td>\n",
       "      <td>-1</td>\n",
       "    </tr>\n",
       "    <tr>\n",
       "      <th>837</th>\n",
       "      <td>1</td>\n",
       "      <td>1</td>\n",
       "      <td>4</td>\n",
       "      <td>210</td>\n",
       "      <td>4</td>\n",
       "      <td>1</td>\n",
       "      <td>56</td>\n",
       "    </tr>\n",
       "    <tr>\n",
       "      <th>3</th>\n",
       "      <td>1</td>\n",
       "      <td>1</td>\n",
       "      <td>4</td>\n",
       "      <td>5</td>\n",
       "      <td>4</td>\n",
       "      <td>0</td>\n",
       "      <td>56</td>\n",
       "    </tr>\n",
       "    <tr>\n",
       "      <th>3</th>\n",
       "      <td>1</td>\n",
       "      <td>1</td>\n",
       "      <td>4</td>\n",
       "      <td>5</td>\n",
       "      <td>4</td>\n",
       "      <td>0</td>\n",
       "      <td>56</td>\n",
       "    </tr>\n",
       "  </tbody>\n",
       "</table>\n",
       "</div>"
      ],
      "text/plain": [
       "     QuestionId  Age_vot  AnsRank  AnsId  Ans_count  Votes  AcceptedAnsId\n",
       "3             1        1        3      5          4      1             56\n",
       "1             1        1        3      4          4      0             56\n",
       "1             1        1        3      4          4      0             56\n",
       "1             1        1        3      4          4      0             56\n",
       "1             1        1        3      4          5      0             -1\n",
       "1             1        1        3      4          5      0             56\n",
       "1             1        1        3      4          6      0             -1\n",
       "837           1        1        4    210          4      1             56\n",
       "3             1        1        4      5          4      0             56\n",
       "3             1        1        4      5          4      0             56"
      ]
     },
     "execution_count": 53,
     "metadata": {},
     "output_type": "execute_result"
    }
   ],
   "source": [
    "ties=pd.DataFrame()\n",
    "for k,g in votes.groupby(['QuestionId','Age_vot','AnsRank']):\n",
    "    if g.shape[0]>1:\n",
    "        ties=ties.append(g[['QuestionId','Age_vot','AnsRank','AnsId','Ans_count','Votes','AcceptedAnsId']])\n",
    "ties.head(10)"
   ]
  },
  {
   "cell_type": "code",
   "execution_count": 56,
   "metadata": {
    "collapsed": false
   },
   "outputs": [
    {
     "data": {
      "text/plain": [
       "716"
      ]
     },
     "execution_count": 56,
     "metadata": {},
     "output_type": "execute_result"
    }
   ],
   "source": [
    "spurious_ties = ties.groupby(['QuestionId','Age_vot','AnsRank']).apply(lambda df:df.AnsId.unique().size>1).reset_index(drop=False)\n",
    "sum(spurious_ties.iloc[:,-1])"
   ]
  },
  {
   "cell_type": "code",
   "execution_count": 46,
   "metadata": {
    "collapsed": false
   },
   "outputs": [
    {
     "data": {
      "text/plain": [
       "(27041, 16)"
      ]
     },
     "execution_count": 46,
     "metadata": {},
     "output_type": "execute_result"
    }
   ],
   "source": [
    "votes.shape "
   ]
  },
  {
   "cell_type": "code",
   "execution_count": 22,
   "metadata": {
    "collapsed": false
   },
   "outputs": [
    {
     "data": {
      "text/plain": [
       "1     1819\n",
       "2     1568\n",
       "3      908\n",
       "4      533\n",
       "5      292\n",
       "6      159\n",
       "7       78\n",
       "8       73\n",
       "9       41\n",
       "10      29\n",
       "12      16\n",
       "11      14\n",
       "13      10\n",
       "15       7\n",
       "14       6\n",
       "Name: Age_vot, dtype: int64"
      ]
     },
     "execution_count": 22,
     "metadata": {},
     "output_type": "execute_result"
    }
   ],
   "source": [
    "votes.groupby('AnsId').count().Age_vot.value_counts().head(15)"
   ]
  },
  {
   "cell_type": "markdown",
   "metadata": {},
   "source": [
    "# Exploratory plots"
   ]
  },
  {
   "cell_type": "markdown",
   "metadata": {},
   "source": [
    "# Group predictors"
   ]
  },
  {
   "cell_type": "code",
   "execution_count": 24,
   "metadata": {
    "collapsed": false
   },
   "outputs": [],
   "source": [
    "def get_intervals(att,quantiles):\n",
    "    qtls = votes[att].quantile(quantiles).values\n",
    "    return dict(zip(zip(qtls,qtls[1:]),[e for e in range(len(zip(qtls,qtls[1:])))]))\n",
    "    \n",
    "def get_group(intervals,pred):\n",
    "    for l,u in intervals:\n",
    "        if l<=pred and pred<u:\n",
    "            return intervals[(l,u)]\n",
    "        \n",
    "def reverse_groups(groups,unit='days'):\n",
    "    if unit == 'Rel Score':\n",
    "        return {groups[(d1,d2)]:\"[%.2f - %.2f[ %s\"%(d1,d2,unit) for d1,d2 in groups}\n",
    "    elif unit in ['Position','Nbr Ans Per Question']:\n",
    "        return {groups[(d1,d2)]:\"[%d - %d[ %s\"%(d1,d2,unit) for d1,d2 in groups} \n",
    "    else:\n",
    "        return {groups[(d1,d2)]:\"%d to %d %s\"%(d1,d2,unit) for d1,d2 in groups}"
   ]
  },
  {
   "cell_type": "code",
   "execution_count": 25,
   "metadata": {
    "collapsed": false
   },
   "outputs": [],
   "source": [
    "from functools import partial\n",
    "\n",
    "age_intervals = get_intervals('Age_vot',[0,.25,.5,.65,.8,.9,1.0])\n",
    "pos_intervals = get_intervals('AnsRank',[0,.75,.85,.95,1.0])\n",
    "rscore_intervals = get_intervals('ReScore',[0,.1,.5,.75,1.0])\n",
    "anscount_intervals = get_intervals('Ans_count',[0,.5,.6,.8,1.0])\n"
   ]
  },
  {
   "cell_type": "code",
   "execution_count": 26,
   "metadata": {
    "collapsed": false
   },
   "outputs": [],
   "source": [
    "votes['Age_vot_group'] = votes['Age_vot'].apply(partial(get_group,age_intervals))\n",
    "votes['AnsRank_group'] = votes['AnsRank'].apply(partial(get_group,pos_intervals))\n",
    "votes['ReScore_group'] = votes['ReScore'].apply(partial(get_group,rscore_intervals))\n",
    "votes['Ans_count_group'] = votes['Ans_count'].apply(partial(get_group,anscount_intervals))"
   ]
  },
  {
   "cell_type": "code",
   "execution_count": 27,
   "metadata": {
    "collapsed": false
   },
   "outputs": [],
   "source": [
    "ReverseGroups = {}\n",
    "ReverseGroups['Age_vot_group'] = reverse_groups(age_intervals)\n",
    "ReverseGroups['AnsRank_group'] = reverse_groups(pos_intervals,unit='Position')\n",
    "ReverseGroups['ReScore_group'] = reverse_groups(rscore_intervals,unit='Rel Score')\n",
    "ReverseGroups['Ans_count_group'] = reverse_groups(anscount_intervals,unit='Nbr Ans Per Question')"
   ]
  },
  {
   "cell_type": "code",
   "execution_count": 28,
   "metadata": {
    "collapsed": false
   },
   "outputs": [
    {
     "data": {
      "text/plain": [
       "{0: '0 to 0 days',\n",
       " 1: '0 to 2 days',\n",
       " 2: '2 to 3 days',\n",
       " 3: '3 to 18 days',\n",
       " 4: '18 to 315 days',\n",
       " 5: '315 to 1497 days'}"
      ]
     },
     "execution_count": 28,
     "metadata": {},
     "output_type": "execute_result"
    }
   ],
   "source": [
    "ReverseGroups['Age_vot_group']"
   ]
  },
  {
   "cell_type": "code",
   "execution_count": 29,
   "metadata": {
    "collapsed": false
   },
   "outputs": [
    {
     "data": {
      "text/plain": [
       "{0: '[1 - 2[ Position',\n",
       " 1: '[2 - 3[ Position',\n",
       " 2: '[3 - 4[ Position',\n",
       " 3: '[4 - 12[ Position'}"
      ]
     },
     "execution_count": 29,
     "metadata": {},
     "output_type": "execute_result"
    }
   ],
   "source": [
    "ReverseGroups['AnsRank_group']"
   ]
  },
  {
   "cell_type": "code",
   "execution_count": 30,
   "metadata": {
    "collapsed": false
   },
   "outputs": [
    {
     "data": {
      "text/plain": [
       "{0: '[-0.83 - 0.00[ Rel Score',\n",
       " 1: '[0.00 - 0.00[ Rel Score',\n",
       " 2: '[0.00 - 0.75[ Rel Score',\n",
       " 3: '[0.75 - 0.98[ Rel Score'}"
      ]
     },
     "execution_count": 30,
     "metadata": {},
     "output_type": "execute_result"
    }
   ],
   "source": [
    "ReverseGroups['ReScore_group']"
   ]
  },
  {
   "cell_type": "code",
   "execution_count": 31,
   "metadata": {
    "collapsed": false
   },
   "outputs": [
    {
     "data": {
      "text/plain": [
       "{0: '[1 - 2[ Nbr Ans Per Question',\n",
       " 1: '[2 - 2[ Nbr Ans Per Question',\n",
       " 2: '[2 - 3[ Nbr Ans Per Question',\n",
       " 3: '[3 - 12[ Nbr Ans Per Question'}"
      ]
     },
     "execution_count": 31,
     "metadata": {},
     "output_type": "execute_result"
    }
   ],
   "source": [
    "ReverseGroups['Ans_count_group']"
   ]
  },
  {
   "cell_type": "code",
   "execution_count": 32,
   "metadata": {
    "collapsed": false
   },
   "outputs": [],
   "source": [
    "votes.loc[votes.ReScore_group.isnull(),'ReScore_group'] = 3"
   ]
  },
  {
   "cell_type": "code",
   "execution_count": 50,
   "metadata": {
    "collapsed": false
   },
   "outputs": [
    {
     "data": {
      "text/html": [
       "<div>\n",
       "<table border=\"1\" class=\"dataframe\">\n",
       "  <thead>\n",
       "    <tr style=\"text-align: right;\">\n",
       "      <th></th>\n",
       "      <th>Age_vot</th>\n",
       "      <th>AnsId</th>\n",
       "      <th>AnsRank</th>\n",
       "      <th>Ans_count</th>\n",
       "      <th>Downvotes</th>\n",
       "      <th>Norm_DRank</th>\n",
       "      <th>Norm_Pos</th>\n",
       "      <th>QuestionId</th>\n",
       "      <th>ReScore</th>\n",
       "      <th>Upvotes</th>\n",
       "      <th>Votes</th>\n",
       "      <th>Age_vot_group</th>\n",
       "      <th>AnsRank_group</th>\n",
       "      <th>ReScore_group</th>\n",
       "      <th>Ans_count_group</th>\n",
       "    </tr>\n",
       "  </thead>\n",
       "  <tbody>\n",
       "  </tbody>\n",
       "</table>\n",
       "</div>"
      ],
      "text/plain": [
       "Empty DataFrame\n",
       "Columns: [Age_vot, AnsId, AnsRank, Ans_count, Downvotes, Norm_DRank, Norm_Pos, QuestionId, ReScore, Upvotes, Votes, Age_vot_group, AnsRank_group, ReScore_group, Ans_count_group]\n",
       "Index: []"
      ]
     },
     "execution_count": 50,
     "metadata": {},
     "output_type": "execute_result"
    }
   ],
   "source": [
    "votes[votes.ReScore_group.isnull()]"
   ]
  },
  {
   "cell_type": "markdown",
   "metadata": {
    "collapsed": true
   },
   "source": [
    "# Group Plots"
   ]
  },
  {
   "cell_type": "code",
   "execution_count": 56,
   "metadata": {
    "collapsed": false
   },
   "outputs": [],
   "source": [
    "from itertools import product\n",
    "def plot_by(filtered_df,row_att_n, col_att_n,xpred_n,ypred_n,xfsize,yfsize,verbose=False,errbars=False):\n",
    "    plt.figure(figsize=(xfsize,yfsize))\n",
    "    \n",
    "    row_group_name = row_att_n+'_group'\n",
    "    col_group_name = col_att_n+'_group'\n",
    "    \n",
    "    groups = filtered_df.sort_values(by=['Age_vot']).groupby([row_group_name,col_group_name])\n",
    "    \n",
    "    n_rows,n_cols = len(filtered_df[row_group_name].unique()),len(filtered_df[col_group_name].unique())\n",
    "    sort_rows = {e:i for i,e in enumerate(filtered_df[row_group_name].sort_values().unique())}\n",
    "    sort_cols = {e:i for i,e in enumerate(filtered_df[col_group_name].sort_values().unique())}\n",
    "    \n",
    "    to_cover = list(product([sort_rows[e] for e in sort_rows],[sort_cols[e]+1 for e in sort_cols]))\n",
    "    axref = plt.subplot(1,n_cols,1)\n",
    "    \n",
    "    for key,group in groups:\n",
    "        to_cover.remove((sort_rows[group[row_group_name].iloc[0]],sort_cols[group[col_group_name].iloc[0]]+1))\n",
    "        #Convention: row index starts at 0, col index starts at 1\n",
    "        rw_g = sort_rows[group[row_group_name].iloc[0]] \n",
    "        col_g = sort_cols[group[col_group_name].iloc[0]] + 1\n",
    "        if verbose:\n",
    "            print 'rw_g %d'%rw_g, 'col_g %d'%col_g\n",
    "            print 'rl_rw_g %d'%group[row_group_name].iloc[0], 'rl_col_g %d'%group[col_group_name].iloc[0]\n",
    "            print \n",
    "        ax = plt.subplot(1, n_cols, col_g ,sharex=axref,sharey=axref)\n",
    "        \n",
    "        get_rates = lambda df: np.mean(df[ypred_n]) #/(df.Age_vot-df.Age_vot.shift(1).fillna(0) + 1))\n",
    "        get_sdev = lambda df : np.std(df[ypred_n]) #/(df.Age_vot-df.Age_vot.shift(1).fillna(0) + 1))\n",
    "        vote_rates = group.groupby([xpred_n]).apply(get_rates)\n",
    "        std_vtrates = group.groupby([xpred_n]).apply(get_sdev)\n",
    "        \n",
    "        if not errbars:\n",
    "            std_vtrates = np.array([0 for _ in range(len(std_vtrates))])\n",
    "        \n",
    "        row_g_name = '%s'%(ReverseGroups[row_group_name][group[row_group_name].iloc[0]])\n",
    "        plt.errorbar(x = vote_rates.index.values,y=vote_rates.values,yerr=std_vtrates,fmt='-',label=row_g_name)\n",
    "        \n",
    "        if col_g==len(sort_cols):\n",
    "        \n",
    "            # Put a legend to the right of the current axis\n",
    "            ax.legend(loc='center left',bbox_to_anchor=(1, .5))\n",
    "            \n",
    "        if col_g==1:\n",
    "            plt.ylabel('Mean_%s_rate'%ypred_n)\n",
    "            plt.xlabel(xpred_n)\n",
    "        \n",
    "        if rw_g==0:\n",
    "            plt.title('%s'%(ReverseGroups[col_group_name][group[col_group_name].iloc[0]]))\n",
    "    print to_cover\n",
    "    for rw,col in to_cover:\n",
    "        plt.subplot(1, n_cols, col ,sharex=axref,sharey=axref)\n",
    "        if rw==0:\n",
    "            plt.title('%s'%(ReverseGroups[col_group_name][[e for e,i in sort_cols.items() if i == col-1][0]]))\n",
    "    #plt.suptitle('X=%s, Y=%s'%(xpred_n,ypred_n),fontsize=20,y=1.08)\n",
    "    plt.show()"
   ]
  },
  {
   "cell_type": "code",
   "execution_count": 67,
   "metadata": {
    "collapsed": false
   },
   "outputs": [
    {
     "name": "stdout",
     "output_type": "stream",
     "text": [
      "[]\n"
     ]
    },
    {
     "data": {
      "image/png": "[encoded data removed]",
      "text/plain": [
       "<matplotlib.figure.Figure at 0x11c3e710>"
      ]
     },
     "metadata": {},
     "output_type": "display_data"
    }
   ],
   "source": [
    "nb_ans = 3\n",
    "nb_age_groups = 4\n",
    "data = votes[(votes.Ans_count>1) &(votes.Age_vot_group<=4)]\n",
    "data = data[(data['Ans_count']==nb_ans)&(data['Age_vot_group']<=nb_age_groups-1)]\n",
    "plot_by(data,'Age_vot','Ans_count','Norm_DRank','Votes',15,5,errbars=False)"
   ]
  },
  {
   "cell_type": "code",
   "execution_count": 38,
   "metadata": {
    "collapsed": false
   },
   "outputs": [
    {
     "name": "stdout",
     "output_type": "stream",
     "text": [
      "[]\n"
     ]
    },
    {
     "data": {
      "image/png": "[encoded data removed]",
      "text/plain": [
       "<matplotlib.figure.Figure at 0x10ef8128>"
      ]
     },
     "metadata": {},
     "output_type": "display_data"
    }
   ],
   "source": [
    "nb_ans = 5\n",
    "nb_age_groups = 5\n",
    "data = votes[(votes.Ans_count>1)&(votes.Age_vot_group>2)]#&(votes.Age_vot_group==3)]\n",
    "data = data[(data['Ans_count']==nb_ans)&(data['Age_vot_group']<=nb_age_groups-1)]\n",
    "plot_by(data,'Age_vot','AnsRank','Norm_DRank','Votes',17,5,errbars=False)"
   ]
  },
  {
   "cell_type": "code",
   "execution_count": 41,
   "metadata": {
    "collapsed": false,
    "scrolled": true
   },
   "outputs": [
    {
     "name": "stdout",
     "output_type": "stream",
     "text": [
      "[(0, 1), (0, 3)]\n"
     ]
    },
    {
     "data": {
      "image/png": "[encoded data removed]",
      "text/plain": [
       "<matplotlib.figure.Figure at 0x12d00ba8>"
      ]
     },
     "metadata": {},
     "output_type": "display_data"
    }
   ],
   "source": [
    "nb_ans = 5\n",
    "nb_age_groups = 3\n",
    "\n",
    "data = votes[(votes.Ans_count>1)]\n",
    "dato = data[(data['Ans_count']<=nb_ans)&(data['Age_vot_group']<=nb_age_groups-1)]\n",
    "\n",
    "plot_by(dato,'Age_vot','ReScore','Norm_DRank','Votes', 18, 6, errbars=False)"
   ]
  },
  {
   "cell_type": "markdown",
   "metadata": {},
   "source": [
    "## Regression analysis"
   ]
  },
  {
   "cell_type": "code",
   "execution_count": 182,
   "metadata": {
    "collapsed": true
   },
   "outputs": [],
   "source": [
    "import statsmodels.formula.api as smf\n",
    "import statsmodels.api as sm"
   ]
  },
  {
   "cell_type": "code",
   "execution_count": 201,
   "metadata": {
    "collapsed": false,
    "scrolled": true
   },
   "outputs": [
    {
     "data": {
      "text/plain": [
       "Index([u'Age_vot', u'AnsId', u'AnsRank', u'Ans_count', u'Downvotes',\n",
       "       u'Norm_DRank', u'Norm_Pos', u'QuestionId', u'ReScore', u'Upvotes',\n",
       "       u'Votes', u'Age_vot_group', u'AnsRank_group', u'ReScore_group',\n",
       "       u'Ans_count_group', u'Norm_Pos_2'],\n",
       "      dtype='object')"
      ]
     },
     "execution_count": 201,
     "metadata": {},
     "output_type": "execute_result"
    }
   ],
   "source": [
    "votes.columns"
   ]
  },
  {
   "cell_type": "code",
   "execution_count": 48,
   "metadata": {
    "collapsed": true
   },
   "outputs": [],
   "source": [
    "# test this part later\n",
    "features = ['ReScore','Norm_Pos','Norm_Pos_2','Norm_DRank']\n",
    "def prepare_logit(df):\n",
    "    s_df = df.sort_values(by='AnsRank')\n",
    "    ref = s_df.iloc[-1]\n",
    "    feats_df = s_df.apply(lambda row: row[features] - ref[features], axis=1).iloc[:-1]\n",
    "    feats_df['AnsRank'] = s_df['AnsRank'][:-1]\n",
    "    feats_df['Votes'] = s_df['Votes'][:-1]\n",
    "    return feats_df"
   ]
  },
  {
   "cell_type": "code",
   "execution_count": 49,
   "metadata": {
    "collapsed": false
   },
   "outputs": [],
   "source": [
    "votes_logit = votes.groupby(['QuestionId','Age_vot']).apply(prepare_logit).reset_index(level=[0,1],drop=False)"
   ]
  },
  {
   "cell_type": "code",
   "execution_count": 50,
   "metadata": {
    "collapsed": false
   },
   "outputs": [
    {
     "data": {
      "text/plain": [
       "4093"
      ]
     },
     "execution_count": 50,
     "metadata": {},
     "output_type": "execute_result"
    }
   ],
   "source": [
    "## Individual(Qid-Age) - Choice pairs are uniquely determined\n",
    "sum(votes_logit.groupby(['QuestionId','Age_vot','AnsRank']).count().reset_index(drop=False).AnsRank>1)"
   ]
  },
  {
   "cell_type": "code",
   "execution_count": 51,
   "metadata": {
    "collapsed": false
   },
   "outputs": [
    {
     "data": {
      "text/plain": [
       "(15480, 8)"
      ]
     },
     "execution_count": 51,
     "metadata": {},
     "output_type": "execute_result"
    }
   ],
   "source": [
    "votes_logit.shape"
   ]
  },
  {
   "cell_type": "code",
   "execution_count": 56,
   "metadata": {
    "collapsed": false
   },
   "outputs": [
    {
     "data": {
      "text/plain": [
       "(8720, 8)"
      ]
     },
     "execution_count": 56,
     "metadata": {},
     "output_type": "execute_result"
    }
   ],
   "source": [
    "votes_logit[votes_logit.Votes==0].shape"
   ]
  },
  {
   "cell_type": "code",
   "execution_count": 57,
   "metadata": {
    "collapsed": false
   },
   "outputs": [],
   "source": [
    "map_qt_idx = votes_logit.groupby(['QuestionId','Age_vot']).count().reset_index(level=[0,1],drop=False)[['QuestionId','Age_vot']]"
   ]
  },
  {
   "cell_type": "code",
   "execution_count": 58,
   "metadata": {
    "collapsed": false
   },
   "outputs": [
    {
     "data": {
      "text/html": [
       "<div>\n",
       "<table border=\"1\" class=\"dataframe\">\n",
       "  <thead>\n",
       "    <tr style=\"text-align: right;\">\n",
       "      <th></th>\n",
       "      <th>QuestionId</th>\n",
       "      <th>Age_vot</th>\n",
       "    </tr>\n",
       "  </thead>\n",
       "  <tbody>\n",
       "    <tr>\n",
       "      <th>0</th>\n",
       "      <td>1</td>\n",
       "      <td>0</td>\n",
       "    </tr>\n",
       "    <tr>\n",
       "      <th>1</th>\n",
       "      <td>1</td>\n",
       "      <td>1</td>\n",
       "    </tr>\n",
       "    <tr>\n",
       "      <th>2</th>\n",
       "      <td>1</td>\n",
       "      <td>2</td>\n",
       "    </tr>\n",
       "    <tr>\n",
       "      <th>3</th>\n",
       "      <td>1</td>\n",
       "      <td>8</td>\n",
       "    </tr>\n",
       "    <tr>\n",
       "      <th>4</th>\n",
       "      <td>1</td>\n",
       "      <td>108</td>\n",
       "    </tr>\n",
       "  </tbody>\n",
       "</table>\n",
       "</div>"
      ],
      "text/plain": [
       "   QuestionId  Age_vot\n",
       "0           1        0\n",
       "1           1        1\n",
       "2           1        2\n",
       "3           1        8\n",
       "4           1      108"
      ]
     },
     "execution_count": 58,
     "metadata": {},
     "output_type": "execute_result"
    }
   ],
   "source": [
    "map_qt_idx.head()"
   ]
  },
  {
   "cell_type": "code",
   "execution_count": 60,
   "metadata": {
    "collapsed": false
   },
   "outputs": [
    {
     "data": {
      "text/plain": [
       "False"
      ]
     },
     "execution_count": 60,
     "metadata": {},
     "output_type": "execute_result"
    }
   ],
   "source": [
    "map_qt_idx.duplicated().any()"
   ]
  },
  {
   "cell_type": "code",
   "execution_count": 61,
   "metadata": {
    "collapsed": false
   },
   "outputs": [],
   "source": [
    "## Keep in mind that features are now differences for last choice for a given question-time pair\n",
    "idxed_X = pd.merge(votes_logit,map_qt_idx.reset_index(drop=False),how='left',on=['QuestionId','Age_vot'])\n",
    "\n",
    "for_r = idxed_X[['index','AnsRank','Votes','Age_vot','ReScore','Norm_Pos','Norm_Pos_2','Norm_DRank']]"
   ]
  },
  {
   "cell_type": "code",
   "execution_count": 212,
   "metadata": {
    "collapsed": false
   },
   "outputs": [],
   "source": [
    "for_r.to_csv('QtPos.csv')"
   ]
  },
  {
   "cell_type": "code",
   "execution_count": 63,
   "metadata": {
    "collapsed": false
   },
   "outputs": [
    {
     "data": {
      "text/plain": [
       "(15480, 8)"
      ]
     },
     "execution_count": 63,
     "metadata": {},
     "output_type": "execute_result"
    }
   ],
   "source": [
    "for_r.shape"
   ]
  },
  {
   "cell_type": "code",
   "execution_count": 65,
   "metadata": {
    "collapsed": false
   },
   "outputs": [
    {
     "data": {
      "text/plain": [
       "(8720, 8)"
      ]
     },
     "execution_count": 65,
     "metadata": {},
     "output_type": "execute_result"
    }
   ],
   "source": [
    "for_r[for_r.Votes==0].shape"
   ]
  },
  {
   "cell_type": "code",
   "execution_count": 64,
   "metadata": {
    "collapsed": false
   },
   "outputs": [
    {
     "data": {
      "text/html": [
       "<div>\n",
       "<table border=\"1\" class=\"dataframe\">\n",
       "  <thead>\n",
       "    <tr style=\"text-align: right;\">\n",
       "      <th></th>\n",
       "      <th></th>\n",
       "      <th>Votes</th>\n",
       "      <th>Age_vot</th>\n",
       "      <th>ReScore</th>\n",
       "      <th>Norm_Pos</th>\n",
       "      <th>Norm_Pos_2</th>\n",
       "      <th>Norm_DRank</th>\n",
       "    </tr>\n",
       "    <tr>\n",
       "      <th>index</th>\n",
       "      <th>AnsRank</th>\n",
       "      <th></th>\n",
       "      <th></th>\n",
       "      <th></th>\n",
       "      <th></th>\n",
       "      <th></th>\n",
       "      <th></th>\n",
       "    </tr>\n",
       "  </thead>\n",
       "  <tbody>\n",
       "    <tr>\n",
       "      <th rowspan=\"2\" valign=\"top\">0</th>\n",
       "      <th>1</th>\n",
       "      <td>1</td>\n",
       "      <td>1</td>\n",
       "      <td>1</td>\n",
       "      <td>1</td>\n",
       "      <td>1</td>\n",
       "      <td>1</td>\n",
       "    </tr>\n",
       "    <tr>\n",
       "      <th>2</th>\n",
       "      <td>1</td>\n",
       "      <td>1</td>\n",
       "      <td>1</td>\n",
       "      <td>1</td>\n",
       "      <td>1</td>\n",
       "      <td>1</td>\n",
       "    </tr>\n",
       "    <tr>\n",
       "      <th rowspan=\"5\" valign=\"top\">1</th>\n",
       "      <th>1</th>\n",
       "      <td>1</td>\n",
       "      <td>1</td>\n",
       "      <td>1</td>\n",
       "      <td>1</td>\n",
       "      <td>1</td>\n",
       "      <td>1</td>\n",
       "    </tr>\n",
       "    <tr>\n",
       "      <th>2</th>\n",
       "      <td>1</td>\n",
       "      <td>1</td>\n",
       "      <td>1</td>\n",
       "      <td>1</td>\n",
       "      <td>1</td>\n",
       "      <td>1</td>\n",
       "    </tr>\n",
       "    <tr>\n",
       "      <th>3</th>\n",
       "      <td>7</td>\n",
       "      <td>7</td>\n",
       "      <td>7</td>\n",
       "      <td>7</td>\n",
       "      <td>7</td>\n",
       "      <td>7</td>\n",
       "    </tr>\n",
       "    <tr>\n",
       "      <th>4</th>\n",
       "      <td>13</td>\n",
       "      <td>13</td>\n",
       "      <td>13</td>\n",
       "      <td>13</td>\n",
       "      <td>13</td>\n",
       "      <td>13</td>\n",
       "    </tr>\n",
       "    <tr>\n",
       "      <th>5</th>\n",
       "      <td>5</td>\n",
       "      <td>5</td>\n",
       "      <td>5</td>\n",
       "      <td>5</td>\n",
       "      <td>5</td>\n",
       "      <td>5</td>\n",
       "    </tr>\n",
       "    <tr>\n",
       "      <th rowspan=\"3\" valign=\"top\">2</th>\n",
       "      <th>1</th>\n",
       "      <td>1</td>\n",
       "      <td>1</td>\n",
       "      <td>1</td>\n",
       "      <td>1</td>\n",
       "      <td>1</td>\n",
       "      <td>1</td>\n",
       "    </tr>\n",
       "    <tr>\n",
       "      <th>2</th>\n",
       "      <td>6</td>\n",
       "      <td>6</td>\n",
       "      <td>6</td>\n",
       "      <td>6</td>\n",
       "      <td>6</td>\n",
       "      <td>6</td>\n",
       "    </tr>\n",
       "    <tr>\n",
       "      <th>3</th>\n",
       "      <td>5</td>\n",
       "      <td>5</td>\n",
       "      <td>5</td>\n",
       "      <td>5</td>\n",
       "      <td>5</td>\n",
       "      <td>5</td>\n",
       "    </tr>\n",
       "    <tr>\n",
       "      <th>3</th>\n",
       "      <th>1</th>\n",
       "      <td>1</td>\n",
       "      <td>1</td>\n",
       "      <td>1</td>\n",
       "      <td>1</td>\n",
       "      <td>1</td>\n",
       "      <td>1</td>\n",
       "    </tr>\n",
       "    <tr>\n",
       "      <th rowspan=\"2\" valign=\"top\">4</th>\n",
       "      <th>5</th>\n",
       "      <td>2</td>\n",
       "      <td>2</td>\n",
       "      <td>2</td>\n",
       "      <td>2</td>\n",
       "      <td>2</td>\n",
       "      <td>2</td>\n",
       "    </tr>\n",
       "    <tr>\n",
       "      <th>6</th>\n",
       "      <td>6</td>\n",
       "      <td>6</td>\n",
       "      <td>6</td>\n",
       "      <td>6</td>\n",
       "      <td>6</td>\n",
       "      <td>6</td>\n",
       "    </tr>\n",
       "    <tr>\n",
       "      <th>5</th>\n",
       "      <th>1</th>\n",
       "      <td>7</td>\n",
       "      <td>7</td>\n",
       "      <td>7</td>\n",
       "      <td>7</td>\n",
       "      <td>7</td>\n",
       "      <td>7</td>\n",
       "    </tr>\n",
       "    <tr>\n",
       "      <th>6</th>\n",
       "      <th>2</th>\n",
       "      <td>1</td>\n",
       "      <td>1</td>\n",
       "      <td>1</td>\n",
       "      <td>1</td>\n",
       "      <td>1</td>\n",
       "      <td>1</td>\n",
       "    </tr>\n",
       "    <tr>\n",
       "      <th rowspan=\"5\" valign=\"top\">7</th>\n",
       "      <th>1</th>\n",
       "      <td>1</td>\n",
       "      <td>1</td>\n",
       "      <td>1</td>\n",
       "      <td>1</td>\n",
       "      <td>1</td>\n",
       "      <td>1</td>\n",
       "    </tr>\n",
       "    <tr>\n",
       "      <th>2</th>\n",
       "      <td>1</td>\n",
       "      <td>1</td>\n",
       "      <td>1</td>\n",
       "      <td>1</td>\n",
       "      <td>1</td>\n",
       "      <td>1</td>\n",
       "    </tr>\n",
       "    <tr>\n",
       "      <th>3</th>\n",
       "      <td>6</td>\n",
       "      <td>6</td>\n",
       "      <td>6</td>\n",
       "      <td>6</td>\n",
       "      <td>6</td>\n",
       "      <td>6</td>\n",
       "    </tr>\n",
       "    <tr>\n",
       "      <th>4</th>\n",
       "      <td>6</td>\n",
       "      <td>6</td>\n",
       "      <td>6</td>\n",
       "      <td>6</td>\n",
       "      <td>6</td>\n",
       "      <td>6</td>\n",
       "    </tr>\n",
       "    <tr>\n",
       "      <th>5</th>\n",
       "      <td>5</td>\n",
       "      <td>5</td>\n",
       "      <td>5</td>\n",
       "      <td>5</td>\n",
       "      <td>5</td>\n",
       "      <td>5</td>\n",
       "    </tr>\n",
       "    <tr>\n",
       "      <th rowspan=\"2\" valign=\"top\">8</th>\n",
       "      <th>1</th>\n",
       "      <td>1</td>\n",
       "      <td>1</td>\n",
       "      <td>1</td>\n",
       "      <td>1</td>\n",
       "      <td>1</td>\n",
       "      <td>1</td>\n",
       "    </tr>\n",
       "    <tr>\n",
       "      <th>2</th>\n",
       "      <td>1</td>\n",
       "      <td>1</td>\n",
       "      <td>1</td>\n",
       "      <td>1</td>\n",
       "      <td>1</td>\n",
       "      <td>1</td>\n",
       "    </tr>\n",
       "    <tr>\n",
       "      <th rowspan=\"2\" valign=\"top\">9</th>\n",
       "      <th>1</th>\n",
       "      <td>1</td>\n",
       "      <td>1</td>\n",
       "      <td>1</td>\n",
       "      <td>1</td>\n",
       "      <td>1</td>\n",
       "      <td>1</td>\n",
       "    </tr>\n",
       "    <tr>\n",
       "      <th>2</th>\n",
       "      <td>2</td>\n",
       "      <td>2</td>\n",
       "      <td>2</td>\n",
       "      <td>2</td>\n",
       "      <td>2</td>\n",
       "      <td>2</td>\n",
       "    </tr>\n",
       "    <tr>\n",
       "      <th rowspan=\"5\" valign=\"top\">10</th>\n",
       "      <th>1</th>\n",
       "      <td>1</td>\n",
       "      <td>1</td>\n",
       "      <td>1</td>\n",
       "      <td>1</td>\n",
       "      <td>1</td>\n",
       "      <td>1</td>\n",
       "    </tr>\n",
       "    <tr>\n",
       "      <th>2</th>\n",
       "      <td>1</td>\n",
       "      <td>1</td>\n",
       "      <td>1</td>\n",
       "      <td>1</td>\n",
       "      <td>1</td>\n",
       "      <td>1</td>\n",
       "    </tr>\n",
       "    <tr>\n",
       "      <th>3</th>\n",
       "      <td>1</td>\n",
       "      <td>1</td>\n",
       "      <td>1</td>\n",
       "      <td>1</td>\n",
       "      <td>1</td>\n",
       "      <td>1</td>\n",
       "    </tr>\n",
       "    <tr>\n",
       "      <th>4</th>\n",
       "      <td>1</td>\n",
       "      <td>1</td>\n",
       "      <td>1</td>\n",
       "      <td>1</td>\n",
       "      <td>1</td>\n",
       "      <td>1</td>\n",
       "    </tr>\n",
       "    <tr>\n",
       "      <th>5</th>\n",
       "      <td>1</td>\n",
       "      <td>1</td>\n",
       "      <td>1</td>\n",
       "      <td>1</td>\n",
       "      <td>1</td>\n",
       "      <td>1</td>\n",
       "    </tr>\n",
       "    <tr>\n",
       "      <th>11</th>\n",
       "      <th>1</th>\n",
       "      <td>2</td>\n",
       "      <td>2</td>\n",
       "      <td>2</td>\n",
       "      <td>2</td>\n",
       "      <td>2</td>\n",
       "      <td>2</td>\n",
       "    </tr>\n",
       "    <tr>\n",
       "      <th>...</th>\n",
       "      <th>...</th>\n",
       "      <td>...</td>\n",
       "      <td>...</td>\n",
       "      <td>...</td>\n",
       "      <td>...</td>\n",
       "      <td>...</td>\n",
       "      <td>...</td>\n",
       "    </tr>\n",
       "    <tr>\n",
       "      <th>4467</th>\n",
       "      <th>3</th>\n",
       "      <td>1</td>\n",
       "      <td>1</td>\n",
       "      <td>1</td>\n",
       "      <td>1</td>\n",
       "      <td>1</td>\n",
       "      <td>1</td>\n",
       "    </tr>\n",
       "    <tr>\n",
       "      <th>4468</th>\n",
       "      <th>1</th>\n",
       "      <td>1</td>\n",
       "      <td>1</td>\n",
       "      <td>1</td>\n",
       "      <td>1</td>\n",
       "      <td>1</td>\n",
       "      <td>1</td>\n",
       "    </tr>\n",
       "    <tr>\n",
       "      <th rowspan=\"2\" valign=\"top\">4469</th>\n",
       "      <th>1</th>\n",
       "      <td>2</td>\n",
       "      <td>2</td>\n",
       "      <td>2</td>\n",
       "      <td>2</td>\n",
       "      <td>2</td>\n",
       "      <td>2</td>\n",
       "    </tr>\n",
       "    <tr>\n",
       "      <th>2</th>\n",
       "      <td>1</td>\n",
       "      <td>1</td>\n",
       "      <td>1</td>\n",
       "      <td>1</td>\n",
       "      <td>1</td>\n",
       "      <td>1</td>\n",
       "    </tr>\n",
       "    <tr>\n",
       "      <th rowspan=\"2\" valign=\"top\">4470</th>\n",
       "      <th>3</th>\n",
       "      <td>1</td>\n",
       "      <td>1</td>\n",
       "      <td>1</td>\n",
       "      <td>1</td>\n",
       "      <td>1</td>\n",
       "      <td>1</td>\n",
       "    </tr>\n",
       "    <tr>\n",
       "      <th>4</th>\n",
       "      <td>1</td>\n",
       "      <td>1</td>\n",
       "      <td>1</td>\n",
       "      <td>1</td>\n",
       "      <td>1</td>\n",
       "      <td>1</td>\n",
       "    </tr>\n",
       "    <tr>\n",
       "      <th>4471</th>\n",
       "      <th>1</th>\n",
       "      <td>1</td>\n",
       "      <td>1</td>\n",
       "      <td>1</td>\n",
       "      <td>1</td>\n",
       "      <td>1</td>\n",
       "      <td>1</td>\n",
       "    </tr>\n",
       "    <tr>\n",
       "      <th rowspan=\"2\" valign=\"top\">4472</th>\n",
       "      <th>1</th>\n",
       "      <td>1</td>\n",
       "      <td>1</td>\n",
       "      <td>1</td>\n",
       "      <td>1</td>\n",
       "      <td>1</td>\n",
       "      <td>1</td>\n",
       "    </tr>\n",
       "    <tr>\n",
       "      <th>2</th>\n",
       "      <td>2</td>\n",
       "      <td>2</td>\n",
       "      <td>2</td>\n",
       "      <td>2</td>\n",
       "      <td>2</td>\n",
       "      <td>2</td>\n",
       "    </tr>\n",
       "    <tr>\n",
       "      <th rowspan=\"2\" valign=\"top\">4473</th>\n",
       "      <th>1</th>\n",
       "      <td>1</td>\n",
       "      <td>1</td>\n",
       "      <td>1</td>\n",
       "      <td>1</td>\n",
       "      <td>1</td>\n",
       "      <td>1</td>\n",
       "    </tr>\n",
       "    <tr>\n",
       "      <th>2</th>\n",
       "      <td>1</td>\n",
       "      <td>1</td>\n",
       "      <td>1</td>\n",
       "      <td>1</td>\n",
       "      <td>1</td>\n",
       "      <td>1</td>\n",
       "    </tr>\n",
       "    <tr>\n",
       "      <th rowspan=\"2\" valign=\"top\">4474</th>\n",
       "      <th>1</th>\n",
       "      <td>1</td>\n",
       "      <td>1</td>\n",
       "      <td>1</td>\n",
       "      <td>1</td>\n",
       "      <td>1</td>\n",
       "      <td>1</td>\n",
       "    </tr>\n",
       "    <tr>\n",
       "      <th>2</th>\n",
       "      <td>2</td>\n",
       "      <td>2</td>\n",
       "      <td>2</td>\n",
       "      <td>2</td>\n",
       "      <td>2</td>\n",
       "      <td>2</td>\n",
       "    </tr>\n",
       "    <tr>\n",
       "      <th rowspan=\"2\" valign=\"top\">4475</th>\n",
       "      <th>1</th>\n",
       "      <td>1</td>\n",
       "      <td>1</td>\n",
       "      <td>1</td>\n",
       "      <td>1</td>\n",
       "      <td>1</td>\n",
       "      <td>1</td>\n",
       "    </tr>\n",
       "    <tr>\n",
       "      <th>2</th>\n",
       "      <td>1</td>\n",
       "      <td>1</td>\n",
       "      <td>1</td>\n",
       "      <td>1</td>\n",
       "      <td>1</td>\n",
       "      <td>1</td>\n",
       "    </tr>\n",
       "    <tr>\n",
       "      <th rowspan=\"2\" valign=\"top\">4476</th>\n",
       "      <th>1</th>\n",
       "      <td>1</td>\n",
       "      <td>1</td>\n",
       "      <td>1</td>\n",
       "      <td>1</td>\n",
       "      <td>1</td>\n",
       "      <td>1</td>\n",
       "    </tr>\n",
       "    <tr>\n",
       "      <th>2</th>\n",
       "      <td>1</td>\n",
       "      <td>1</td>\n",
       "      <td>1</td>\n",
       "      <td>1</td>\n",
       "      <td>1</td>\n",
       "      <td>1</td>\n",
       "    </tr>\n",
       "    <tr>\n",
       "      <th rowspan=\"2\" valign=\"top\">4477</th>\n",
       "      <th>1</th>\n",
       "      <td>1</td>\n",
       "      <td>1</td>\n",
       "      <td>1</td>\n",
       "      <td>1</td>\n",
       "      <td>1</td>\n",
       "      <td>1</td>\n",
       "    </tr>\n",
       "    <tr>\n",
       "      <th>2</th>\n",
       "      <td>1</td>\n",
       "      <td>1</td>\n",
       "      <td>1</td>\n",
       "      <td>1</td>\n",
       "      <td>1</td>\n",
       "      <td>1</td>\n",
       "    </tr>\n",
       "    <tr>\n",
       "      <th rowspan=\"2\" valign=\"top\">4478</th>\n",
       "      <th>1</th>\n",
       "      <td>1</td>\n",
       "      <td>1</td>\n",
       "      <td>1</td>\n",
       "      <td>1</td>\n",
       "      <td>1</td>\n",
       "      <td>1</td>\n",
       "    </tr>\n",
       "    <tr>\n",
       "      <th>2</th>\n",
       "      <td>1</td>\n",
       "      <td>1</td>\n",
       "      <td>1</td>\n",
       "      <td>1</td>\n",
       "      <td>1</td>\n",
       "      <td>1</td>\n",
       "    </tr>\n",
       "    <tr>\n",
       "      <th>4479</th>\n",
       "      <th>1</th>\n",
       "      <td>1</td>\n",
       "      <td>1</td>\n",
       "      <td>1</td>\n",
       "      <td>1</td>\n",
       "      <td>1</td>\n",
       "      <td>1</td>\n",
       "    </tr>\n",
       "    <tr>\n",
       "      <th rowspan=\"2\" valign=\"top\">4480</th>\n",
       "      <th>1</th>\n",
       "      <td>1</td>\n",
       "      <td>1</td>\n",
       "      <td>1</td>\n",
       "      <td>1</td>\n",
       "      <td>1</td>\n",
       "      <td>1</td>\n",
       "    </tr>\n",
       "    <tr>\n",
       "      <th>2</th>\n",
       "      <td>2</td>\n",
       "      <td>2</td>\n",
       "      <td>2</td>\n",
       "      <td>2</td>\n",
       "      <td>2</td>\n",
       "      <td>2</td>\n",
       "    </tr>\n",
       "    <tr>\n",
       "      <th>4481</th>\n",
       "      <th>1</th>\n",
       "      <td>1</td>\n",
       "      <td>1</td>\n",
       "      <td>1</td>\n",
       "      <td>1</td>\n",
       "      <td>1</td>\n",
       "      <td>1</td>\n",
       "    </tr>\n",
       "    <tr>\n",
       "      <th rowspan=\"4\" valign=\"top\">4482</th>\n",
       "      <th>1</th>\n",
       "      <td>3</td>\n",
       "      <td>3</td>\n",
       "      <td>3</td>\n",
       "      <td>3</td>\n",
       "      <td>3</td>\n",
       "      <td>3</td>\n",
       "    </tr>\n",
       "    <tr>\n",
       "      <th>2</th>\n",
       "      <td>1</td>\n",
       "      <td>1</td>\n",
       "      <td>1</td>\n",
       "      <td>1</td>\n",
       "      <td>1</td>\n",
       "      <td>1</td>\n",
       "    </tr>\n",
       "    <tr>\n",
       "      <th>3</th>\n",
       "      <td>3</td>\n",
       "      <td>3</td>\n",
       "      <td>3</td>\n",
       "      <td>3</td>\n",
       "      <td>3</td>\n",
       "      <td>3</td>\n",
       "    </tr>\n",
       "    <tr>\n",
       "      <th>4</th>\n",
       "      <td>2</td>\n",
       "      <td>2</td>\n",
       "      <td>2</td>\n",
       "      <td>2</td>\n",
       "      <td>2</td>\n",
       "      <td>2</td>\n",
       "    </tr>\n",
       "    <tr>\n",
       "      <th>4483</th>\n",
       "      <th>1</th>\n",
       "      <td>1</td>\n",
       "      <td>1</td>\n",
       "      <td>1</td>\n",
       "      <td>1</td>\n",
       "      <td>1</td>\n",
       "      <td>1</td>\n",
       "    </tr>\n",
       "  </tbody>\n",
       "</table>\n",
       "<p>7742 rows × 6 columns</p>\n",
       "</div>"
      ],
      "text/plain": [
       "               Votes  Age_vot  ReScore  Norm_Pos  Norm_Pos_2  Norm_DRank\n",
       "index AnsRank                                                           \n",
       "0     1            1        1        1         1           1           1\n",
       "      2            1        1        1         1           1           1\n",
       "1     1            1        1        1         1           1           1\n",
       "      2            1        1        1         1           1           1\n",
       "      3            7        7        7         7           7           7\n",
       "      4           13       13       13        13          13          13\n",
       "      5            5        5        5         5           5           5\n",
       "2     1            1        1        1         1           1           1\n",
       "      2            6        6        6         6           6           6\n",
       "      3            5        5        5         5           5           5\n",
       "3     1            1        1        1         1           1           1\n",
       "4     5            2        2        2         2           2           2\n",
       "      6            6        6        6         6           6           6\n",
       "5     1            7        7        7         7           7           7\n",
       "6     2            1        1        1         1           1           1\n",
       "7     1            1        1        1         1           1           1\n",
       "      2            1        1        1         1           1           1\n",
       "      3            6        6        6         6           6           6\n",
       "      4            6        6        6         6           6           6\n",
       "      5            5        5        5         5           5           5\n",
       "8     1            1        1        1         1           1           1\n",
       "      2            1        1        1         1           1           1\n",
       "9     1            1        1        1         1           1           1\n",
       "      2            2        2        2         2           2           2\n",
       "10    1            1        1        1         1           1           1\n",
       "      2            1        1        1         1           1           1\n",
       "      3            1        1        1         1           1           1\n",
       "      4            1        1        1         1           1           1\n",
       "      5            1        1        1         1           1           1\n",
       "11    1            2        2        2         2           2           2\n",
       "...              ...      ...      ...       ...         ...         ...\n",
       "4467  3            1        1        1         1           1           1\n",
       "4468  1            1        1        1         1           1           1\n",
       "4469  1            2        2        2         2           2           2\n",
       "      2            1        1        1         1           1           1\n",
       "4470  3            1        1        1         1           1           1\n",
       "      4            1        1        1         1           1           1\n",
       "4471  1            1        1        1         1           1           1\n",
       "4472  1            1        1        1         1           1           1\n",
       "      2            2        2        2         2           2           2\n",
       "4473  1            1        1        1         1           1           1\n",
       "      2            1        1        1         1           1           1\n",
       "4474  1            1        1        1         1           1           1\n",
       "      2            2        2        2         2           2           2\n",
       "4475  1            1        1        1         1           1           1\n",
       "      2            1        1        1         1           1           1\n",
       "4476  1            1        1        1         1           1           1\n",
       "      2            1        1        1         1           1           1\n",
       "4477  1            1        1        1         1           1           1\n",
       "      2            1        1        1         1           1           1\n",
       "4478  1            1        1        1         1           1           1\n",
       "      2            1        1        1         1           1           1\n",
       "4479  1            1        1        1         1           1           1\n",
       "4480  1            1        1        1         1           1           1\n",
       "      2            2        2        2         2           2           2\n",
       "4481  1            1        1        1         1           1           1\n",
       "4482  1            3        3        3         3           3           3\n",
       "      2            1        1        1         1           1           1\n",
       "      3            3        3        3         3           3           3\n",
       "      4            2        2        2         2           2           2\n",
       "4483  1            1        1        1         1           1           1\n",
       "\n",
       "[7742 rows x 6 columns]"
      ]
     },
     "execution_count": 64,
     "metadata": {},
     "output_type": "execute_result"
    }
   ],
   "source": [
    "for_r.groupby(['index','AnsRank']).count()"
   ]
  },
  {
   "cell_type": "code",
   "execution_count": 153,
   "metadata": {
    "collapsed": false
   },
   "outputs": [
    {
     "data": {
      "text/html": [
       "<div>\n",
       "<table border=\"1\" class=\"dataframe\">\n",
       "  <thead>\n",
       "    <tr style=\"text-align: right;\">\n",
       "      <th></th>\n",
       "      <th>QuestionId</th>\n",
       "      <th>Age_vot</th>\n",
       "      <th>ReScore</th>\n",
       "      <th>Norm_Pos</th>\n",
       "      <th>Norm_Pos_2</th>\n",
       "      <th>Norm_DRank</th>\n",
       "    </tr>\n",
       "  </thead>\n",
       "  <tbody>\n",
       "    <tr>\n",
       "      <th>217</th>\n",
       "      <td>1</td>\n",
       "      <td>0</td>\n",
       "      <td>0.000000</td>\n",
       "      <td>0.000000</td>\n",
       "      <td>0.000000</td>\n",
       "      <td>0</td>\n",
       "    </tr>\n",
       "    <tr>\n",
       "      <th>0</th>\n",
       "      <td>1</td>\n",
       "      <td>0</td>\n",
       "      <td>0.000000</td>\n",
       "      <td>0.000000</td>\n",
       "      <td>0.000000</td>\n",
       "      <td>0</td>\n",
       "    </tr>\n",
       "    <tr>\n",
       "      <th>2</th>\n",
       "      <td>1</td>\n",
       "      <td>0</td>\n",
       "      <td>0.000000</td>\n",
       "      <td>0.000000</td>\n",
       "      <td>0.000000</td>\n",
       "      <td>0</td>\n",
       "    </tr>\n",
       "    <tr>\n",
       "      <th>837</th>\n",
       "      <td>1</td>\n",
       "      <td>0</td>\n",
       "      <td>0.000000</td>\n",
       "      <td>0.000000</td>\n",
       "      <td>0.000000</td>\n",
       "      <td>0</td>\n",
       "    </tr>\n",
       "    <tr>\n",
       "      <th>2553</th>\n",
       "      <td>1</td>\n",
       "      <td>0</td>\n",
       "      <td>0.000000</td>\n",
       "      <td>0.000000</td>\n",
       "      <td>0.000000</td>\n",
       "      <td>0</td>\n",
       "    </tr>\n",
       "    <tr>\n",
       "      <th>10550</th>\n",
       "      <td>1</td>\n",
       "      <td>0</td>\n",
       "      <td>0.000000</td>\n",
       "      <td>0.000000</td>\n",
       "      <td>0.000000</td>\n",
       "      <td>0</td>\n",
       "    </tr>\n",
       "    <tr>\n",
       "      <th>218</th>\n",
       "      <td>1</td>\n",
       "      <td>1</td>\n",
       "      <td>0.000000</td>\n",
       "      <td>0.000000</td>\n",
       "      <td>0.000000</td>\n",
       "      <td>0</td>\n",
       "    </tr>\n",
       "    <tr>\n",
       "      <th>1</th>\n",
       "      <td>1</td>\n",
       "      <td>1</td>\n",
       "      <td>0.000000</td>\n",
       "      <td>0.000000</td>\n",
       "      <td>0.000000</td>\n",
       "      <td>0</td>\n",
       "    </tr>\n",
       "    <tr>\n",
       "      <th>219</th>\n",
       "      <td>1</td>\n",
       "      <td>2</td>\n",
       "      <td>0.666667</td>\n",
       "      <td>-0.166667</td>\n",
       "      <td>-0.138889</td>\n",
       "      <td>0</td>\n",
       "    </tr>\n",
       "    <tr>\n",
       "      <th>12</th>\n",
       "      <td>2</td>\n",
       "      <td>0</td>\n",
       "      <td>0.000000</td>\n",
       "      <td>0.000000</td>\n",
       "      <td>0.000000</td>\n",
       "      <td>0</td>\n",
       "    </tr>\n",
       "  </tbody>\n",
       "</table>\n",
       "</div>"
      ],
      "text/plain": [
       "       QuestionId  Age_vot   ReScore  Norm_Pos  Norm_Pos_2  Norm_DRank\n",
       "217             1        0  0.000000  0.000000    0.000000           0\n",
       "0               1        0  0.000000  0.000000    0.000000           0\n",
       "2               1        0  0.000000  0.000000    0.000000           0\n",
       "837             1        0  0.000000  0.000000    0.000000           0\n",
       "2553            1        0  0.000000  0.000000    0.000000           0\n",
       "10550           1        0  0.000000  0.000000    0.000000           0\n",
       "218             1        1  0.000000  0.000000    0.000000           0\n",
       "1               1        1  0.000000  0.000000    0.000000           0\n",
       "219             1        2  0.666667 -0.166667   -0.138889           0\n",
       "12              2        0  0.000000  0.000000    0.000000           0"
      ]
     },
     "execution_count": 153,
     "metadata": {},
     "output_type": "execute_result"
    }
   ],
   "source": [
    "votes_logit.head(10)"
   ]
  },
  {
   "cell_type": "code",
   "execution_count": 185,
   "metadata": {
    "collapsed": false
   },
   "outputs": [
    {
     "data": {
      "text/html": [
       "<table class=\"simpletable\">\n",
       "<caption>Generalized Linear Model Regression Results</caption>\n",
       "<tr>\n",
       "  <th>Dep. Variable:</th>        <td>Votes</td>      <th>  No. Observations:  </th>     <td> 19389</td>    \n",
       "</tr>\n",
       "<tr>\n",
       "  <th>Model:</th>                 <td>GLM</td>       <th>  Df Residuals:      </th>     <td> 19380</td>    \n",
       "</tr>\n",
       "<tr>\n",
       "  <th>Model Family:</th>   <td>NegativeBinomial</td> <th>  Df Model:          </th>     <td>     8</td>    \n",
       "</tr>\n",
       "<tr>\n",
       "  <th>Link Function:</th>         <td>log</td>       <th>  Scale:             </th> <td>0.186615244235</td>\n",
       "</tr>\n",
       "<tr>\n",
       "  <th>Method:</th>               <td>IRLS</td>       <th>  Log-Likelihood:    </th>    <td> -30574.</td>   \n",
       "</tr>\n",
       "<tr>\n",
       "  <th>Date:</th>           <td>Thu, 28 Apr 2016</td> <th>  Deviance:          </th>    <td>  2198.9</td>   \n",
       "</tr>\n",
       "<tr>\n",
       "  <th>Time:</th>               <td>14:53:53</td>     <th>  Pearson chi2:      </th>    <td>3.62e+03</td>   \n",
       "</tr>\n",
       "<tr>\n",
       "  <th>No. Iterations:</th>         <td>7</td>        <th>                     </th>        <td> </td>      \n",
       "</tr>\n",
       "</table>\n",
       "<table class=\"simpletable\">\n",
       "<tr>\n",
       "            <td></td>               <th>coef</th>     <th>std err</th>      <th>z</th>      <th>P>|z|</th> <th>[95.0% Conf. Int.]</th> \n",
       "</tr>\n",
       "<tr>\n",
       "  <th>Intercept</th>             <td>    1.4352</td> <td>    0.096</td> <td>   14.921</td> <td> 0.000</td> <td>    1.247     1.624</td>\n",
       "</tr>\n",
       "<tr>\n",
       "  <th>Norm_Pos</th>              <td>   -3.6031</td> <td>    0.292</td> <td>  -12.360</td> <td> 0.000</td> <td>   -4.174    -3.032</td>\n",
       "</tr>\n",
       "<tr>\n",
       "  <th>ReScore</th>               <td>   -1.3381</td> <td>    0.105</td> <td>  -12.721</td> <td> 0.000</td> <td>   -1.544    -1.132</td>\n",
       "</tr>\n",
       "<tr>\n",
       "  <th>Norm_Pos:ReScore</th>      <td>    3.5500</td> <td>    0.335</td> <td>   10.593</td> <td> 0.000</td> <td>    2.893     4.207</td>\n",
       "</tr>\n",
       "<tr>\n",
       "  <th>Norm_Pos_2</th>            <td>    2.6660</td> <td>    0.200</td> <td>   13.315</td> <td> 0.000</td> <td>    2.274     3.058</td>\n",
       "</tr>\n",
       "<tr>\n",
       "  <th>Norm_Pos_2:ReScore</th>    <td>   -2.6004</td> <td>    0.239</td> <td>  -10.890</td> <td> 0.000</td> <td>   -3.068    -2.132</td>\n",
       "</tr>\n",
       "<tr>\n",
       "  <th>Norm_DRank</th>            <td>    1.0770</td> <td>    0.140</td> <td>    7.668</td> <td> 0.000</td> <td>    0.802     1.352</td>\n",
       "</tr>\n",
       "<tr>\n",
       "  <th>Norm_Pos:Norm_DRank</th>   <td>   -2.5150</td> <td>    0.444</td> <td>   -5.658</td> <td> 0.000</td> <td>   -3.386    -1.644</td>\n",
       "</tr>\n",
       "<tr>\n",
       "  <th>Norm_Pos_2:Norm_DRank</th> <td>    1.2397</td> <td>    0.323</td> <td>    3.834</td> <td> 0.000</td> <td>    0.606     1.873</td>\n",
       "</tr>\n",
       "</table>"
      ],
      "text/plain": [
       "<class 'statsmodels.iolib.summary.Summary'>\n",
       "\"\"\"\n",
       "                 Generalized Linear Model Regression Results                  \n",
       "==============================================================================\n",
       "Dep. Variable:                  Votes   No. Observations:                19389\n",
       "Model:                            GLM   Df Residuals:                    19380\n",
       "Model Family:        NegativeBinomial   Df Model:                            8\n",
       "Link Function:                    log   Scale:                  0.186615244235\n",
       "Method:                          IRLS   Log-Likelihood:                -30574.\n",
       "Date:                Thu, 28 Apr 2016   Deviance:                       2198.9\n",
       "Time:                        14:53:53   Pearson chi2:                 3.62e+03\n",
       "No. Iterations:                     7                                         \n",
       "=========================================================================================\n",
       "                            coef    std err          z      P>|z|      [95.0% Conf. Int.]\n",
       "-----------------------------------------------------------------------------------------\n",
       "Intercept                 1.4352      0.096     14.921      0.000         1.247     1.624\n",
       "Norm_Pos                 -3.6031      0.292    -12.360      0.000        -4.174    -3.032\n",
       "ReScore                  -1.3381      0.105    -12.721      0.000        -1.544    -1.132\n",
       "Norm_Pos:ReScore          3.5500      0.335     10.593      0.000         2.893     4.207\n",
       "Norm_Pos_2                2.6660      0.200     13.315      0.000         2.274     3.058\n",
       "Norm_Pos_2:ReScore       -2.6004      0.239    -10.890      0.000        -3.068    -2.132\n",
       "Norm_DRank                1.0770      0.140      7.668      0.000         0.802     1.352\n",
       "Norm_Pos:Norm_DRank      -2.5150      0.444     -5.658      0.000        -3.386    -1.644\n",
       "Norm_Pos_2:Norm_DRank     1.2397      0.323      3.834      0.000         0.606     1.873\n",
       "=========================================================================================\n",
       "\"\"\""
      ]
     },
     "execution_count": 185,
     "metadata": {},
     "output_type": "execute_result"
    }
   ],
   "source": [
    "fml_2 = 'Votes ~ Norm_Pos*ReScore + Norm_Pos_2*ReScore + Norm_Pos*Norm_DRank + Norm_Pos_2*Norm_DRank'\n",
    "r_method = sm.families.NegativeBinomial(link=sm.families.links.log)#sm.families.Poisson(link=sm.families.links.log)\n",
    "datas_2 = votes\n",
    "mod_2 = smf.glm(fml_2, data=datas_2, family=r_method) #, offset=np.log(datas['Age_vot'] + 1))\n",
    "rslt_2 = mod_2.fit(method='bfgs')\n",
    "\n",
    "rslt_2.summary()"
   ]
  },
  {
   "cell_type": "code",
   "execution_count": 186,
   "metadata": {
    "collapsed": true
   },
   "outputs": [],
   "source": [
    "votes['Lhs'] = votes['Norm_Pos'] + votes['Norm_Pos_2']\n",
    "votes['Rhs'] = votes['Norm_DRank'] + votes['ReScore']"
   ]
  },
  {
   "cell_type": "code",
   "execution_count": 187,
   "metadata": {
    "collapsed": false
   },
   "outputs": [
    {
     "data": {
      "text/html": [
       "<table class=\"simpletable\">\n",
       "<caption>Generalized Linear Model Regression Results</caption>\n",
       "<tr>\n",
       "  <th>Dep. Variable:</th>        <td>Votes</td>      <th>  No. Observations:  </th>     <td> 19389</td>    \n",
       "</tr>\n",
       "<tr>\n",
       "  <th>Model:</th>                 <td>GLM</td>       <th>  Df Residuals:      </th>     <td> 19386</td>    \n",
       "</tr>\n",
       "<tr>\n",
       "  <th>Model Family:</th>   <td>NegativeBinomial</td> <th>  Df Model:          </th>     <td>     2</td>    \n",
       "</tr>\n",
       "<tr>\n",
       "  <th>Link Function:</th>         <td>log</td>       <th>  Scale:             </th> <td>0.198364057791</td>\n",
       "</tr>\n",
       "<tr>\n",
       "  <th>Method:</th>               <td>IRLS</td>       <th>  Log-Likelihood:    </th>    <td> -30609.</td>   \n",
       "</tr>\n",
       "<tr>\n",
       "  <th>Date:</th>           <td>Thu, 28 Apr 2016</td> <th>  Deviance:          </th>    <td>  2269.1</td>   \n",
       "</tr>\n",
       "<tr>\n",
       "  <th>Time:</th>               <td>14:54:02</td>     <th>  Pearson chi2:      </th>    <td>3.85e+03</td>   \n",
       "</tr>\n",
       "<tr>\n",
       "  <th>No. Iterations:</th>         <td>7</td>        <th>                     </th>        <td> </td>      \n",
       "</tr>\n",
       "</table>\n",
       "<table class=\"simpletable\">\n",
       "<tr>\n",
       "      <td></td>         <th>coef</th>     <th>std err</th>      <th>z</th>      <th>P>|z|</th> <th>[95.0% Conf. Int.]</th> \n",
       "</tr>\n",
       "<tr>\n",
       "  <th>Intercept</th> <td>    0.2646</td> <td>    0.011</td> <td>   23.667</td> <td> 0.000</td> <td>    0.243     0.286</td>\n",
       "</tr>\n",
       "<tr>\n",
       "  <th>Lhs</th>       <td>    0.0942</td> <td>    0.006</td> <td>   15.358</td> <td> 0.000</td> <td>    0.082     0.106</td>\n",
       "</tr>\n",
       "<tr>\n",
       "  <th>Rhs</th>       <td>   -0.2497</td> <td>    0.008</td> <td>  -29.497</td> <td> 0.000</td> <td>   -0.266    -0.233</td>\n",
       "</tr>\n",
       "</table>"
      ],
      "text/plain": [
       "<class 'statsmodels.iolib.summary.Summary'>\n",
       "\"\"\"\n",
       "                 Generalized Linear Model Regression Results                  \n",
       "==============================================================================\n",
       "Dep. Variable:                  Votes   No. Observations:                19389\n",
       "Model:                            GLM   Df Residuals:                    19386\n",
       "Model Family:        NegativeBinomial   Df Model:                            2\n",
       "Link Function:                    log   Scale:                  0.198364057791\n",
       "Method:                          IRLS   Log-Likelihood:                -30609.\n",
       "Date:                Thu, 28 Apr 2016   Deviance:                       2269.1\n",
       "Time:                        14:54:02   Pearson chi2:                 3.85e+03\n",
       "No. Iterations:                     7                                         \n",
       "==============================================================================\n",
       "                 coef    std err          z      P>|z|      [95.0% Conf. Int.]\n",
       "------------------------------------------------------------------------------\n",
       "Intercept      0.2646      0.011     23.667      0.000         0.243     0.286\n",
       "Lhs            0.0942      0.006     15.358      0.000         0.082     0.106\n",
       "Rhs           -0.2497      0.008    -29.497      0.000        -0.266    -0.233\n",
       "==============================================================================\n",
       "\"\"\""
      ]
     },
     "execution_count": 187,
     "metadata": {},
     "output_type": "execute_result"
    }
   ],
   "source": [
    "fml_3 = 'Votes ~ Lhs + Rhs'\n",
    "r_method = sm.families.NegativeBinomial(link=sm.families.links.log)#sm.families.Poisson(link=sm.families.links.log)\n",
    "datas_3 = votes\n",
    "mod_3 = smf.glm(fml_3, data=datas_3, family=r_method) #, offset=np.log(datas['Age_vot'] + 1))\n",
    "rslt_3 = mod_3.fit(method='bfgs')\n",
    "\n",
    "rslt_3.summary()"
   ]
  },
  {
   "cell_type": "markdown",
   "metadata": {},
   "source": [
    "## Lm with mixed effects"
   ]
  },
  {
   "cell_type": "code",
   "execution_count": 207,
   "metadata": {
    "collapsed": false
   },
   "outputs": [
    {
     "name": "stdout",
     "output_type": "stream",
     "text": [
      "          Mixed Linear Model Regression Results\n",
      "=========================================================\n",
      "Model:            MixedLM Dependent Variable: Votes      \n",
      "No. Observations: 19389   Method:             REML       \n",
      "No. Groups:       5577    Scale:              0.7449     \n",
      "Min. group size:  1       Likelihood:         -29413.9915\n",
      "Max. group size:  509     Converged:          Yes        \n",
      "Mean group size:  3.5                                    \n",
      "---------------------------------------------------------\n",
      "               Coef.  Std.Err.   z    P>|z| [0.025 0.975]\n",
      "---------------------------------------------------------\n",
      "Norm_DRank     -0.186    0.038 -4.872 0.000 -0.260 -0.111\n",
      "Intercept RE    1.647    0.054                           \n",
      "=========================================================\n",
      "\n"
     ]
    }
   ],
   "source": [
    "formula = \"Votes ~ Norm_DRank - 1\"\n",
    "model = sm.MixedLM.from_formula(formula, votes, groups=votes[\"AnsId\"])\n",
    "result = model.fit()\n",
    "print result.summary()"
   ]
  },
  {
   "cell_type": "code",
   "execution_count": null,
   "metadata": {
    "collapsed": true
   },
   "outputs": [],
   "source": []
  }
 ],
 "metadata": {
  "kernelspec": {
   "display_name": "Python 2",
   "language": "python",
   "name": "python2"
  },
  "language_info": {
   "codemirror_mode": {
    "name": "ipython",
    "version": 2
   },
   "file_extension": ".py",
   "mimetype": "text/x-python",
   "name": "python",
   "nbconvert_exporter": "python",
   "pygments_lexer": "ipython2",
   "version": "2.7.11"
  }
 },
 "nbformat": 4,
 "nbformat_minor": 0
}
