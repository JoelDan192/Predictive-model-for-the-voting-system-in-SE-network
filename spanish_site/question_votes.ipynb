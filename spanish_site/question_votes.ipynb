{
 "cells": [
  {
   "cell_type": "code",
   "execution_count": 1,
   "metadata": {
    "collapsed": true
   },
   "outputs": [],
   "source": [
    "%matplotlib inline\n",
    "import pandas as pd\n",
    "import numpy as np"
   ]
  },
  {
   "cell_type": "code",
   "execution_count": 2,
   "metadata": {
    "collapsed": false
   },
   "outputs": [
    {
     "data": {
      "text/html": [
       "<div>\n",
       "<table border=\"1\" class=\"dataframe\">\n",
       "  <thead>\n",
       "    <tr style=\"text-align: right;\">\n",
       "      <th></th>\n",
       "      <th>CreationVote</th>\n",
       "      <th>CreationPost</th>\n",
       "      <th>VoteType</th>\n",
       "      <th>PostId</th>\n",
       "    </tr>\n",
       "  </thead>\n",
       "  <tbody>\n",
       "    <tr>\n",
       "      <th>0</th>\n",
       "      <td>2011-11-15T00:00:00.000</td>\n",
       "      <td>2011-11-15T20:45:51.037</td>\n",
       "      <td>2</td>\n",
       "      <td>1</td>\n",
       "    </tr>\n",
       "    <tr>\n",
       "      <th>1</th>\n",
       "      <td>2011-11-15T00:00:00.000</td>\n",
       "      <td>2011-11-15T20:45:51.037</td>\n",
       "      <td>2</td>\n",
       "      <td>1</td>\n",
       "    </tr>\n",
       "    <tr>\n",
       "      <th>2</th>\n",
       "      <td>2011-11-16T00:00:00.000</td>\n",
       "      <td>2011-11-15T20:45:51.037</td>\n",
       "      <td>2</td>\n",
       "      <td>1</td>\n",
       "    </tr>\n",
       "    <tr>\n",
       "      <th>3</th>\n",
       "      <td>2011-11-16T00:00:00.000</td>\n",
       "      <td>2011-11-15T20:45:51.037</td>\n",
       "      <td>2</td>\n",
       "      <td>1</td>\n",
       "    </tr>\n",
       "    <tr>\n",
       "      <th>4</th>\n",
       "      <td>2011-11-16T00:00:00.000</td>\n",
       "      <td>2011-11-15T20:45:51.037</td>\n",
       "      <td>2</td>\n",
       "      <td>1</td>\n",
       "    </tr>\n",
       "    <tr>\n",
       "      <th>5</th>\n",
       "      <td>2011-11-22T00:00:00.000</td>\n",
       "      <td>2011-11-15T20:45:51.037</td>\n",
       "      <td>2</td>\n",
       "      <td>1</td>\n",
       "    </tr>\n",
       "    <tr>\n",
       "      <th>6</th>\n",
       "      <td>2011-11-28T00:00:00.000</td>\n",
       "      <td>2011-11-15T20:45:51.037</td>\n",
       "      <td>2</td>\n",
       "      <td>1</td>\n",
       "    </tr>\n",
       "    <tr>\n",
       "      <th>7</th>\n",
       "      <td>2011-12-13T00:00:00.000</td>\n",
       "      <td>2011-11-15T20:45:51.037</td>\n",
       "      <td>2</td>\n",
       "      <td>1</td>\n",
       "    </tr>\n",
       "  </tbody>\n",
       "</table>\n",
       "</div>"
      ],
      "text/plain": [
       "              CreationVote             CreationPost  VoteType  PostId\n",
       "0  2011-11-15T00:00:00.000  2011-11-15T20:45:51.037         2       1\n",
       "1  2011-11-15T00:00:00.000  2011-11-15T20:45:51.037         2       1\n",
       "2  2011-11-16T00:00:00.000  2011-11-15T20:45:51.037         2       1\n",
       "3  2011-11-16T00:00:00.000  2011-11-15T20:45:51.037         2       1\n",
       "4  2011-11-16T00:00:00.000  2011-11-15T20:45:51.037         2       1\n",
       "5  2011-11-22T00:00:00.000  2011-11-15T20:45:51.037         2       1\n",
       "6  2011-11-28T00:00:00.000  2011-11-15T20:45:51.037         2       1\n",
       "7  2011-12-13T00:00:00.000  2011-11-15T20:45:51.037         2       1"
      ]
     },
     "execution_count": 2,
     "metadata": {},
     "output_type": "execute_result"
    }
   ],
   "source": [
    "q_votes = pd.DataFrame.from_csv('question-votes.csv', index_col=None)\n",
    "q_votes.head(8)"
   ]
  },
  {
   "cell_type": "code",
   "execution_count": 3,
   "metadata": {
    "collapsed": false
   },
   "outputs": [
    {
     "data": {
      "text/plain": [
       "2    10438\n",
       "3      374\n",
       "Name: VoteType, dtype: int64"
      ]
     },
     "execution_count": 3,
     "metadata": {},
     "output_type": "execute_result"
    }
   ],
   "source": [
    "q_votes.VoteType.value_counts()"
   ]
  },
  {
   "cell_type": "code",
   "execution_count": 13,
   "metadata": {
    "collapsed": false
   },
   "outputs": [],
   "source": [
    "q_votes['age'] = (pd.to_datetime(q_votes.CreationVote,format='%Y-%m-%d %H:%M:%S.%f')\n",
    "                  -pd.to_datetime(q_votes.CreationPost,format='%Y-%m-%d %H:%M:%S.%f')).apply(lambda x: x.astype('timedelta64[D]').item().days)\n",
    "q_votes['age'] = q_votes['age'] + 1\n",
    "#q_votes.age.value_counts()"
   ]
  },
  {
   "cell_type": "code",
   "execution_count": 15,
   "metadata": {
    "collapsed": false
   },
   "outputs": [],
   "source": [
    "q_votes_q = q_votes.sort_values(by='age').groupby(['PostId','age']).apply(lambda x: sum(x.VoteType==2) - sum(x.VoteType==3))"
   ]
  },
  {
   "cell_type": "code",
   "execution_count": 16,
   "metadata": {
    "collapsed": false
   },
   "outputs": [
    {
     "data": {
      "text/plain": [
       "PostId  age \n",
       "1       0       2\n",
       "        1       3\n",
       "        7       1\n",
       "        13      1\n",
       "        28      1\n",
       "        76      1\n",
       "        157     1\n",
       "        1401    1\n",
       "        1405    1\n",
       "2       0       6\n",
       "        1       1\n",
       "        4       1\n",
       "        14      1\n",
       "        76      1\n",
       "        1317    1\n",
       "        1444    1\n",
       "3       0       6\n",
       "        1       4\n",
       "        2       1\n",
       "        5       2\n",
       "        6       1\n",
       "        12      1\n",
       "        62      1\n",
       "        361     1\n",
       "        614     1\n",
       "        707     1\n",
       "        775     1\n",
       "        780     1\n",
       "        781     1\n",
       "        939     1\n",
       "               ..\n",
       "15625   0       1\n",
       "        1       2\n",
       "15627   1       3\n",
       "15631   3       1\n",
       "        4      -1\n",
       "        9       1\n",
       "15636   1       4\n",
       "15639   0       1\n",
       "        1       1\n",
       "15644   2       2\n",
       "15646   0       2\n",
       "        1       1\n",
       "15649   0       1\n",
       "15651   1       2\n",
       "        2       1\n",
       "15655   1       1\n",
       "        2       1\n",
       "15657   0       2\n",
       "        2       1\n",
       "15662   0      -1\n",
       "        1       1\n",
       "15664   0       1\n",
       "        2       1\n",
       "15667   0       2\n",
       "        2       1\n",
       "        4       1\n",
       "15670   1       1\n",
       "15684   1       1\n",
       "15691   0       1\n",
       "15699   0       2\n",
       "dtype: int64"
      ]
     },
     "execution_count": 16,
     "metadata": {},
     "output_type": "execute_result"
    }
   ],
   "source": [
    "q_votes_q "
   ]
  },
  {
   "cell_type": "code",
   "execution_count": 17,
   "metadata": {
    "collapsed": true
   },
   "outputs": [],
   "source": [
    "import statsmodels.formula.api as smf\n",
    "import statsmodels.api as sm"
   ]
  },
  {
   "cell_type": "code",
   "execution_count": null,
   "metadata": {
    "collapsed": true
   },
   "outputs": [],
   "source": [
    "mod_poi = smf.glm('ViewAge ~ Score + FavCount + AnsCount + CommentCount - 1 ', data=q_votes_q,\n",
    "                  family=sm.families.Poisson(link=sm.families.links.log)).fit(method='bfgs')\n",
    "#print mod_poi.mle_retvals['converged']\n",
    "print mod_poi.summary()"
   ]
  }
 ],
 "metadata": {
  "kernelspec": {
   "display_name": "Python 2",
   "language": "python",
   "name": "python2"
  },
  "language_info": {
   "codemirror_mode": {
    "name": "ipython",
    "version": 2
   },
   "file_extension": ".py",
   "mimetype": "text/x-python",
   "name": "python",
   "nbconvert_exporter": "python",
   "pygments_lexer": "ipython2",
   "version": "2.7.11"
  }
 },
 "nbformat": 4,
 "nbformat_minor": 0
}
