{
 "cells": [
  {
   "cell_type": "code",
   "execution_count": 1,
   "metadata": {
    "collapsed": true
   },
   "outputs": [],
   "source": [
    "%matplotlib inline\n",
    "import pandas as pd\n",
    "import numpy as np\n",
    "import matplotlib.pyplot as plt"
   ]
  },
  {
   "cell_type": "code",
   "execution_count": 2,
   "metadata": {
    "collapsed": true
   },
   "outputs": [],
   "source": [
    "import statsmodels.formula.api as smf\n",
    "import statsmodels.api as sm"
   ]
  },
  {
   "cell_type": "code",
   "execution_count": 3,
   "metadata": {
    "collapsed": false
   },
   "outputs": [
    {
     "data": {
      "text/html": [
       "<div>\n",
       "<table border=\"1\" class=\"dataframe\">\n",
       "  <thead>\n",
       "    <tr style=\"text-align: right;\">\n",
       "      <th></th>\n",
       "      <th>QuestionId</th>\n",
       "      <th>AnsId</th>\n",
       "      <th>Age_vot</th>\n",
       "      <th>AnsWordCount</th>\n",
       "      <th>AcceptedAnsId</th>\n",
       "      <th>QScore</th>\n",
       "      <th>QVotes</th>\n",
       "      <th>Score</th>\n",
       "      <th>Votes</th>\n",
       "      <th>Upvotes</th>\n",
       "      <th>...</th>\n",
       "      <th>CumScore</th>\n",
       "      <th>ReScore</th>\n",
       "      <th>QReScore</th>\n",
       "      <th>Comments</th>\n",
       "      <th>AnsRank</th>\n",
       "      <th>ReScore_rank</th>\n",
       "      <th>Ans_count</th>\n",
       "      <th>Pbias</th>\n",
       "      <th>DRank</th>\n",
       "      <th>EPbias</th>\n",
       "    </tr>\n",
       "  </thead>\n",
       "  <tbody>\n",
       "    <tr>\n",
       "      <th>0</th>\n",
       "      <td>1</td>\n",
       "      <td>56</td>\n",
       "      <td>0</td>\n",
       "      <td>201</td>\n",
       "      <td>56</td>\n",
       "      <td>0</td>\n",
       "      <td>0</td>\n",
       "      <td>2</td>\n",
       "      <td>2</td>\n",
       "      <td>2</td>\n",
       "      <td>...</td>\n",
       "      <td>0</td>\n",
       "      <td>0</td>\n",
       "      <td>0</td>\n",
       "      <td>0</td>\n",
       "      <td>1</td>\n",
       "      <td>1</td>\n",
       "      <td>1</td>\n",
       "      <td>1</td>\n",
       "      <td>0</td>\n",
       "      <td>1</td>\n",
       "    </tr>\n",
       "    <tr>\n",
       "      <th>1</th>\n",
       "      <td>2</td>\n",
       "      <td>10</td>\n",
       "      <td>0</td>\n",
       "      <td>145</td>\n",
       "      <td>10</td>\n",
       "      <td>0</td>\n",
       "      <td>0</td>\n",
       "      <td>3</td>\n",
       "      <td>3</td>\n",
       "      <td>3</td>\n",
       "      <td>...</td>\n",
       "      <td>0</td>\n",
       "      <td>0</td>\n",
       "      <td>0</td>\n",
       "      <td>0</td>\n",
       "      <td>1</td>\n",
       "      <td>1</td>\n",
       "      <td>1</td>\n",
       "      <td>1</td>\n",
       "      <td>0</td>\n",
       "      <td>1</td>\n",
       "    </tr>\n",
       "    <tr>\n",
       "      <th>2</th>\n",
       "      <td>2</td>\n",
       "      <td>10</td>\n",
       "      <td>0</td>\n",
       "      <td>145</td>\n",
       "      <td>10</td>\n",
       "      <td>0</td>\n",
       "      <td>0</td>\n",
       "      <td>3</td>\n",
       "      <td>3</td>\n",
       "      <td>3</td>\n",
       "      <td>...</td>\n",
       "      <td>0</td>\n",
       "      <td>0</td>\n",
       "      <td>0</td>\n",
       "      <td>0</td>\n",
       "      <td>1</td>\n",
       "      <td>1</td>\n",
       "      <td>1</td>\n",
       "      <td>1</td>\n",
       "      <td>0</td>\n",
       "      <td>1</td>\n",
       "    </tr>\n",
       "    <tr>\n",
       "      <th>3</th>\n",
       "      <td>3</td>\n",
       "      <td>9</td>\n",
       "      <td>0</td>\n",
       "      <td>25</td>\n",
       "      <td>109</td>\n",
       "      <td>0</td>\n",
       "      <td>0</td>\n",
       "      <td>4</td>\n",
       "      <td>4</td>\n",
       "      <td>4</td>\n",
       "      <td>...</td>\n",
       "      <td>0</td>\n",
       "      <td>0</td>\n",
       "      <td>0</td>\n",
       "      <td>0</td>\n",
       "      <td>1</td>\n",
       "      <td>1</td>\n",
       "      <td>1</td>\n",
       "      <td>1</td>\n",
       "      <td>0</td>\n",
       "      <td>1</td>\n",
       "    </tr>\n",
       "    <tr>\n",
       "      <th>4</th>\n",
       "      <td>7</td>\n",
       "      <td>16</td>\n",
       "      <td>0</td>\n",
       "      <td>45</td>\n",
       "      <td>2977</td>\n",
       "      <td>0</td>\n",
       "      <td>0</td>\n",
       "      <td>3</td>\n",
       "      <td>3</td>\n",
       "      <td>3</td>\n",
       "      <td>...</td>\n",
       "      <td>0</td>\n",
       "      <td>0</td>\n",
       "      <td>0</td>\n",
       "      <td>0</td>\n",
       "      <td>1</td>\n",
       "      <td>1</td>\n",
       "      <td>1</td>\n",
       "      <td>1</td>\n",
       "      <td>0</td>\n",
       "      <td>1</td>\n",
       "    </tr>\n",
       "  </tbody>\n",
       "</table>\n",
       "<p>5 rows × 22 columns</p>\n",
       "</div>"
      ],
      "text/plain": [
       "   QuestionId  AnsId  Age_vot  AnsWordCount  AcceptedAnsId  QScore  QVotes  \\\n",
       "0           1     56        0           201             56       0       0   \n",
       "1           2     10        0           145             10       0       0   \n",
       "2           2     10        0           145             10       0       0   \n",
       "3           3      9        0            25            109       0       0   \n",
       "4           7     16        0            45           2977       0       0   \n",
       "\n",
       "   Score  Votes  Upvotes   ...    CumScore  ReScore  QReScore  Comments  \\\n",
       "0      2      2        2   ...           0        0         0         0   \n",
       "1      3      3        3   ...           0        0         0         0   \n",
       "2      3      3        3   ...           0        0         0         0   \n",
       "3      4      4        4   ...           0        0         0         0   \n",
       "4      3      3        3   ...           0        0         0         0   \n",
       "\n",
       "   AnsRank  ReScore_rank  Ans_count  Pbias  DRank  EPbias  \n",
       "0        1             1          1      1      0       1  \n",
       "1        1             1          1      1      0       1  \n",
       "2        1             1          1      1      0       1  \n",
       "3        1             1          1      1      0       1  \n",
       "4        1             1          1      1      0       1  \n",
       "\n",
       "[5 rows x 22 columns]"
      ]
     },
     "execution_count": 3,
     "metadata": {},
     "output_type": "execute_result"
    }
   ],
   "source": [
    "votes = pd.DataFrame.from_csv('AnsVotes_TSeries.csv', index_col=None)\n",
    "votes.head()"
   ]
  },
  {
   "cell_type": "code",
   "execution_count": 4,
   "metadata": {
    "collapsed": false
   },
   "outputs": [
    {
     "data": {
      "text/html": [
       "<div>\n",
       "<table border=\"1\" class=\"dataframe\">\n",
       "  <thead>\n",
       "    <tr style=\"text-align: right;\">\n",
       "      <th></th>\n",
       "      <th>AnsId</th>\n",
       "      <th>QContributed</th>\n",
       "      <th>AnsContributed</th>\n",
       "      <th>ScoreRcvQ</th>\n",
       "      <th>VotRcvQ</th>\n",
       "      <th>ScoreRcvAns</th>\n",
       "      <th>VotRcvAns</th>\n",
       "      <th>Age</th>\n",
       "    </tr>\n",
       "  </thead>\n",
       "  <tbody>\n",
       "    <tr>\n",
       "      <th>0</th>\n",
       "      <td>1</td>\n",
       "      <td>1</td>\n",
       "      <td>0</td>\n",
       "      <td>1</td>\n",
       "      <td>1</td>\n",
       "      <td>0</td>\n",
       "      <td>0</td>\n",
       "      <td>0</td>\n",
       "    </tr>\n",
       "    <tr>\n",
       "      <th>1</th>\n",
       "      <td>55</td>\n",
       "      <td>0</td>\n",
       "      <td>1</td>\n",
       "      <td>0</td>\n",
       "      <td>0</td>\n",
       "      <td>1</td>\n",
       "      <td>1</td>\n",
       "      <td>0</td>\n",
       "    </tr>\n",
       "    <tr>\n",
       "      <th>2</th>\n",
       "      <td>55</td>\n",
       "      <td>0</td>\n",
       "      <td>1</td>\n",
       "      <td>0</td>\n",
       "      <td>0</td>\n",
       "      <td>2</td>\n",
       "      <td>2</td>\n",
       "      <td>0</td>\n",
       "    </tr>\n",
       "    <tr>\n",
       "      <th>3</th>\n",
       "      <td>55</td>\n",
       "      <td>0</td>\n",
       "      <td>1</td>\n",
       "      <td>0</td>\n",
       "      <td>0</td>\n",
       "      <td>3</td>\n",
       "      <td>3</td>\n",
       "      <td>0</td>\n",
       "    </tr>\n",
       "    <tr>\n",
       "      <th>4</th>\n",
       "      <td>55</td>\n",
       "      <td>0</td>\n",
       "      <td>1</td>\n",
       "      <td>0</td>\n",
       "      <td>0</td>\n",
       "      <td>4</td>\n",
       "      <td>4</td>\n",
       "      <td>0</td>\n",
       "    </tr>\n",
       "  </tbody>\n",
       "</table>\n",
       "</div>"
      ],
      "text/plain": [
       "   AnsId  QContributed  AnsContributed  ScoreRcvQ  VotRcvQ  ScoreRcvAns  \\\n",
       "0      1             1               0          1        1            0   \n",
       "1     55             0               1          0        0            1   \n",
       "2     55             0               1          0        0            2   \n",
       "3     55             0               1          0        0            3   \n",
       "4     55             0               1          0        0            4   \n",
       "\n",
       "   VotRcvAns  Age  \n",
       "0          0    0  \n",
       "1          1    0  \n",
       "2          2    0  \n",
       "3          3    0  \n",
       "4          4    0  "
      ]
     },
     "execution_count": 4,
     "metadata": {},
     "output_type": "execute_result"
    }
   ],
   "source": [
    "users = pd.DataFrame.from_csv('user_reputation_votes.csv', index_col=None)\n",
    "users.head()"
   ]
  },
  {
   "cell_type": "code",
   "execution_count": 5,
   "metadata": {
    "collapsed": false
   },
   "outputs": [
    {
     "data": {
      "text/html": [
       "<div>\n",
       "<table border=\"1\" class=\"dataframe\">\n",
       "  <thead>\n",
       "    <tr style=\"text-align: right;\">\n",
       "      <th></th>\n",
       "      <th>AcceptedAnsId</th>\n",
       "      <th>Age</th>\n",
       "      <th>Age_vot</th>\n",
       "      <th>AnsContributed</th>\n",
       "      <th>AnsId</th>\n",
       "      <th>AnsRank</th>\n",
       "      <th>AnsWordCount</th>\n",
       "      <th>Ans_count</th>\n",
       "      <th>Comments</th>\n",
       "      <th>CumScore</th>\n",
       "      <th>...</th>\n",
       "      <th>QuestionId</th>\n",
       "      <th>ReScore</th>\n",
       "      <th>ReScore_rank</th>\n",
       "      <th>Score</th>\n",
       "      <th>ScoreRcvAns</th>\n",
       "      <th>ScoreRcvQ</th>\n",
       "      <th>Upvotes</th>\n",
       "      <th>VotRcvAns</th>\n",
       "      <th>VotRcvQ</th>\n",
       "      <th>Votes</th>\n",
       "    </tr>\n",
       "  </thead>\n",
       "  <tbody>\n",
       "    <tr>\n",
       "      <th>0</th>\n",
       "      <td>56</td>\n",
       "      <td>0</td>\n",
       "      <td>0</td>\n",
       "      <td>5</td>\n",
       "      <td>4</td>\n",
       "      <td>2</td>\n",
       "      <td>190</td>\n",
       "      <td>2</td>\n",
       "      <td>0</td>\n",
       "      <td>0</td>\n",
       "      <td>...</td>\n",
       "      <td>1</td>\n",
       "      <td>0.00</td>\n",
       "      <td>2</td>\n",
       "      <td>1</td>\n",
       "      <td>12</td>\n",
       "      <td>0</td>\n",
       "      <td>2</td>\n",
       "      <td>14</td>\n",
       "      <td>0</td>\n",
       "      <td>3</td>\n",
       "    </tr>\n",
       "    <tr>\n",
       "      <th>1</th>\n",
       "      <td>56</td>\n",
       "      <td>1436</td>\n",
       "      <td>1436</td>\n",
       "      <td>7</td>\n",
       "      <td>4</td>\n",
       "      <td>3</td>\n",
       "      <td>190</td>\n",
       "      <td>6</td>\n",
       "      <td>2</td>\n",
       "      <td>1</td>\n",
       "      <td>...</td>\n",
       "      <td>1</td>\n",
       "      <td>0.25</td>\n",
       "      <td>5</td>\n",
       "      <td>1</td>\n",
       "      <td>49</td>\n",
       "      <td>11</td>\n",
       "      <td>1</td>\n",
       "      <td>55</td>\n",
       "      <td>11</td>\n",
       "      <td>1</td>\n",
       "    </tr>\n",
       "    <tr>\n",
       "      <th>2</th>\n",
       "      <td>56</td>\n",
       "      <td>0</td>\n",
       "      <td>0</td>\n",
       "      <td>1</td>\n",
       "      <td>5</td>\n",
       "      <td>3</td>\n",
       "      <td>37</td>\n",
       "      <td>3</td>\n",
       "      <td>0</td>\n",
       "      <td>0</td>\n",
       "      <td>...</td>\n",
       "      <td>1</td>\n",
       "      <td>0.00</td>\n",
       "      <td>3</td>\n",
       "      <td>1</td>\n",
       "      <td>1</td>\n",
       "      <td>0</td>\n",
       "      <td>1</td>\n",
       "      <td>1</td>\n",
       "      <td>0</td>\n",
       "      <td>1</td>\n",
       "    </tr>\n",
       "    <tr>\n",
       "      <th>3</th>\n",
       "      <td>56</td>\n",
       "      <td>108</td>\n",
       "      <td>108</td>\n",
       "      <td>2</td>\n",
       "      <td>5</td>\n",
       "      <td>5</td>\n",
       "      <td>37</td>\n",
       "      <td>5</td>\n",
       "      <td>1</td>\n",
       "      <td>1</td>\n",
       "      <td>...</td>\n",
       "      <td>1</td>\n",
       "      <td>0.50</td>\n",
       "      <td>3</td>\n",
       "      <td>-1</td>\n",
       "      <td>-2</td>\n",
       "      <td>0</td>\n",
       "      <td>0</td>\n",
       "      <td>4</td>\n",
       "      <td>0</td>\n",
       "      <td>1</td>\n",
       "    </tr>\n",
       "    <tr>\n",
       "      <th>4</th>\n",
       "      <td>10</td>\n",
       "      <td>0</td>\n",
       "      <td>0</td>\n",
       "      <td>1</td>\n",
       "      <td>6</td>\n",
       "      <td>5</td>\n",
       "      <td>51</td>\n",
       "      <td>5</td>\n",
       "      <td>0</td>\n",
       "      <td>0</td>\n",
       "      <td>...</td>\n",
       "      <td>2</td>\n",
       "      <td>0.00</td>\n",
       "      <td>5</td>\n",
       "      <td>1</td>\n",
       "      <td>1</td>\n",
       "      <td>0</td>\n",
       "      <td>1</td>\n",
       "      <td>1</td>\n",
       "      <td>0</td>\n",
       "      <td>1</td>\n",
       "    </tr>\n",
       "  </tbody>\n",
       "</table>\n",
       "<p>5 rows × 29 columns</p>\n",
       "</div>"
      ],
      "text/plain": [
       "   AcceptedAnsId   Age  Age_vot  AnsContributed  AnsId  AnsRank  AnsWordCount  \\\n",
       "0             56     0        0               5      4        2           190   \n",
       "1             56  1436     1436               7      4        3           190   \n",
       "2             56     0        0               1      5        3            37   \n",
       "3             56   108      108               2      5        5            37   \n",
       "4             10     0        0               1      6        5            51   \n",
       "\n",
       "   Ans_count  Comments  CumScore  ...    QuestionId  ReScore  ReScore_rank  \\\n",
       "0          2         0         0  ...             1     0.00             2   \n",
       "1          6         2         1  ...             1     0.25             5   \n",
       "2          3         0         0  ...             1     0.00             3   \n",
       "3          5         1         1  ...             1     0.50             3   \n",
       "4          5         0         0  ...             2     0.00             5   \n",
       "\n",
       "   Score  ScoreRcvAns  ScoreRcvQ  Upvotes  VotRcvAns  VotRcvQ  Votes  \n",
       "0      1           12          0        2         14        0      3  \n",
       "1      1           49         11        1         55       11      1  \n",
       "2      1            1          0        1          1        0      1  \n",
       "3     -1           -2          0        0          4        0      1  \n",
       "4      1            1          0        1          1        0      1  \n",
       "\n",
       "[5 rows x 29 columns]"
      ]
     },
     "execution_count": 5,
     "metadata": {},
     "output_type": "execute_result"
    }
   ],
   "source": [
    "#There can be posts/votes with deleted users, we avoid them here\n",
    "m_votes = pd.merge(users, votes, how='inner', on=['AnsId'],suffixes=['_vot', '_user'])\n",
    "get_head = lambda df: pd.DataFrame(dict(zip(df.iloc[0].index,[[e] for e in df.iloc[0].values])))\n",
    "ff = lambda df: get_head(df.sort_values(by=[\"Age\"],ascending=False))\n",
    "votes_complete = m_votes[m_votes.Age_vot>=m_votes.Age].groupby(['AnsId','Age_vot']).apply(ff).reset_index(drop=True)\n",
    "votes_complete.head()"
   ]
  },
  {
   "cell_type": "code",
   "execution_count": 6,
   "metadata": {
    "collapsed": true
   },
   "outputs": [],
   "source": [
    "from functools import partial\n",
    "\n",
    "votes_complete['Reputation'] = votes_complete['VotRcvQ'] + votes_complete['VotRcvAns']\n",
    "qtls_age = votes_complete['Age_vot'].quantile([0,.1,.2,.3,.4,.5,.6,.7,.8,.9,1.0]).values\n",
    "age_groups = dict(zip(zip(qtls_age,qtls_age[1:]),[e for e in range(len(zip(qtls_age,qtls_age[1:])))]))\n",
    "\n",
    "qtls_rep = votes_complete['Reputation'].quantile([0,.25,.5,.75,1.0]).values\n",
    "rep_groups = dict(zip(zip(qtls_rep,qtls_rep[1:]),[e for e in range(len(zip(qtls_rep,qtls_rep[1:])))]))\n",
    "\n",
    "def get_group(intervals,pred):\n",
    "    for l,u in intervals:\n",
    "        if l<=pred and pred<=u:\n",
    "            return intervals[(l,u)]\n",
    "get_age_group = partial(get_group,age_groups)\n",
    "get_rep_group = partial(get_group,rep_groups)"
   ]
  },
  {
   "cell_type": "code",
   "execution_count": 7,
   "metadata": {
    "collapsed": true
   },
   "outputs": [],
   "source": [
    "votes_complete['Age_group'] = votes_complete['Age_vot'].apply(get_age_group)\n",
    "votes_complete['Rep_group'] = votes_complete['Reputation'].apply(get_rep_group)\n",
    "votes_r = votes_complete"
   ]
  },
  {
   "cell_type": "code",
   "execution_count": 8,
   "metadata": {
    "collapsed": true
   },
   "outputs": [],
   "source": [
    "rev_age_groups = {age_groups[(d1,d2)]:\"%d to %d days\"%(d1,d2) for d1,d2 in age_groups}"
   ]
  },
  {
   "cell_type": "markdown",
   "metadata": {},
   "source": [
    "# Start Last"
   ]
  },
  {
   "cell_type": "code",
   "execution_count": 15,
   "metadata": {
    "collapsed": false
   },
   "outputs": [
    {
     "data": {
      "text/plain": [
       "<matplotlib.axes._subplots.AxesSubplot at 0x40c2e8d0>"
      ]
     },
     "execution_count": 15,
     "metadata": {},
     "output_type": "execute_result"
    },
    {
     "data": {
      "image/png": "[encoded data removed]",
      "text/plain": [
       "<matplotlib.figure.Figure at 0x40ccc908>"
      ]
     },
     "metadata": {},
     "output_type": "display_data"
    }
   ],
   "source": [
    "\n",
    "up_to_age = 8\n",
    "level_top = 5\n",
    "level_start = 3\n",
    "first_occs = votes_complete.sort_values(by='Age_vot').groupby('AnsId').first().reset_index(drop=False)\n",
    "first_occs = first_occs[(first_occs.AnsRank==level_start)&(first_occs.Ans_count==level_start)]['AnsId']\n",
    "all_eq = votes_complete.sort_values(by='Age_vot').groupby('AnsId').apply(lambda df: (df.Ans_count==df.Ans_count.iloc[0]).all())\n",
    "to_level = votes_complete.groupby('AnsId').apply(lambda df: df.Ans_count.max()>1 and df.Ans_count.max()<=level_top)\n",
    "\n",
    "sel_occs = votes_complete[votes_complete['AnsId'].isin(all_eq[all_eq==False].index)]\n",
    "sel_occs = sel_occs[sel_occs['AnsId'].isin(to_level[to_level==True].index)]\n",
    "sel_occs = sel_occs[sel_occs['AnsId'].isin(first_occs)]['AnsId']\n",
    "\n",
    "\n",
    "end_first_path_1 = votes_complete[votes_complete['AnsId'].isin(sel_occs)][['AnsId','AnsRank','DRank','Age_vot','Votes','Score','ReScore','Age_group','Ans_count']]\n",
    "end_first_path_1[(end_first_path_1.Age_group<=up_to_age)].groupby(['Age_vot']).mean().reset_index(drop=False).plot(x='Age_vot',y='AnsRank',kind='scatter')"
   ]
  },
  {
   "cell_type": "code",
   "execution_count": 392,
   "metadata": {
    "collapsed": false
   },
   "outputs": [],
   "source": [
    "inc_seq = end_first_path_1.groupby(['AnsId']).apply(lambda df: pd.algos.is_monotonic_float64(df.AnsRank.values, False)[0] and not (df.Ans_count==df.Ans_count.iloc[0]).all())\n",
    "inc_seq = inc_seq[inc_seq==True].index\n",
    "dec_seq = end_first_path_1.groupby(['AnsId']).apply(lambda df: pd.algos.is_monotonic_float64(df.AnsRank.iloc[::-1].values, False)[0] and not (df.Ans_count==df.Ans_count.iloc[0]).all())\n",
    "dec_seq = dec_seq[dec_seq==True].index"
   ]
  },
  {
   "cell_type": "code",
   "execution_count": 393,
   "metadata": {
    "collapsed": false
   },
   "outputs": [
    {
     "name": "stdout",
     "output_type": "stream",
     "text": [
      "Mean: 0.58 , Var:0.09 \n"
     ]
    },
    {
     "data": {
      "image/png": "[encoded data removed]",
      "text/plain": [
       "<matplotlib.figure.Figure at 0x5840fe80>"
      ]
     },
     "metadata": {},
     "output_type": "display_data"
    }
   ],
   "source": [
    "rscore_time_nm = end_first_path_1.sort_values(by='Age_vot')[(~end_first_path_1.AnsId.isin(dec_seq))&(~end_first_path_1.AnsId.isin(inc_seq))]\n",
    "rscore_time_nm = rscore_time_nm.groupby(by='Age_vot').mean().reset_index(drop=False)\n",
    "\n",
    "rscore_time_nm.plot(x='Age_vot',y='ReScore', kind='scatter')\n",
    "print \"Mean: %.2f , Var:%.2f \"%(rscore_time_nm.ReScore.mean(),rscore_time_nm.ReScore.var())"
   ]
  },
  {
   "cell_type": "code",
   "execution_count": 394,
   "metadata": {
    "collapsed": false
   },
   "outputs": [
    {
     "name": "stdout",
     "output_type": "stream",
     "text": [
      "Mean: 0.46 , Var:0.08 \n"
     ]
    },
    {
     "data": {
      "image/png": "[encoded data removed]",
      "text/plain": [
       "<matplotlib.figure.Figure at 0x5837add8>"
      ]
     },
     "metadata": {},
     "output_type": "display_data"
    }
   ],
   "source": [
    "rscore_time_inc = end_first_path_1.sort_values(by='Age_vot')[end_first_path_1.AnsId.isin(inc_seq)]\n",
    "rscore_time_inc = rscore_time_inc.groupby(by='Age_vot').mean().reset_index(drop=False)\n",
    "\n",
    "rscore_time_inc.plot(x='Age_vot',y='ReScore', kind='scatter')\n",
    "print \"Mean: %.2f , Var:%.2f \"%(rscore_time_inc.ReScore.mean(),rscore_time_inc.ReScore.var())"
   ]
  },
  {
   "cell_type": "code",
   "execution_count": 395,
   "metadata": {
    "collapsed": false
   },
   "outputs": [
    {
     "name": "stdout",
     "output_type": "stream",
     "text": [
      "Mean: 0.41 , Var:0.15 \n"
     ]
    },
    {
     "data": {
      "image/png": "[encoded data removed]",
      "text/plain": [
       "<matplotlib.figure.Figure at 0x5841c898>"
      ]
     },
     "metadata": {},
     "output_type": "display_data"
    }
   ],
   "source": [
    "rscore_time_dec = end_first_path_1.sort_values(by='Age_vot')[end_first_path_1.AnsId.isin(dec_seq)]\n",
    "rscore_time_dec = rscore_time_dec.groupby(by='Age_vot').mean().reset_index(drop=False)\n",
    "rscore_time_dec.plot(x='Age_vot',y='ReScore', kind='scatter')\n",
    "print \"Mean: %.2f , Var:%.2f \"%(rscore_time_dec.ReScore.mean(),rscore_time_dec.ReScore.var())"
   ]
  },
  {
   "cell_type": "markdown",
   "metadata": {},
   "source": [
    "# Classify slope"
   ]
  },
  {
   "cell_type": "code",
   "execution_count": 261,
   "metadata": {
    "collapsed": false
   },
   "outputs": [
    {
     "data": {
      "image/png": "[encoded data removed]",
      "text/plain": [
       "<matplotlib.figure.Figure at 0x4b67c160>"
      ]
     },
     "metadata": {},
     "output_type": "display_data"
    }
   ],
   "source": [
    "fml = 'AnsRank ~ Age_vot'\n",
    "\n",
    "r_method = sm.families.NegativeBinomial(link=sm.families.links.log)\n",
    "datas = end_first_path_1[(end_first_path_1.AnsRank<=level)]\n",
    "\n",
    "fit_nbin = lambda df : smf.glm(fml, data=df, family=r_method, offset=np.log(df['Age_vot'])).fit(method='bfgs')\n",
    "classify_slope = lambda df: 'k' if (df.shape[0]<3 or fit_nbin(df).pvalues[1]>0.05) else 'r' if fit_nbin(df).params[1]>=0 else 'b'\n",
    "fill_slope = lambda df: pd.Series([classify_slope(df)],index=df.index,name='color')\n",
    "\n",
    "class_data = datas.sort_values(by='Age_vot').groupby(['AnsId']).apply(lambda df: pd.concat([df.Age_vot,df.AnsRank,fill_slope(df),df.Age_group],axis=1))\n",
    "class_data = class_data[(class_data.color!='k')&(class_data.Age_group<=up_to)]\n",
    "\n",
    "fig, ax = plt.subplots()\n",
    "colors = {'k':'black', 'b':'blue', 'r':'red'}\n",
    "ax.scatter(class_data['Age_vot'], class_data['AnsRank'], c=class_data['color'].apply(lambda x: colors[x]))\n",
    "plt.show()"
   ]
  },
  {
   "cell_type": "markdown",
   "metadata": {},
   "source": [
    "## Start First"
   ]
  },
  {
   "cell_type": "code",
   "execution_count": 262,
   "metadata": {
    "collapsed": false
   },
   "outputs": [
    {
     "data": {
      "text/plain": [
       "<matplotlib.axes._subplots.AxesSubplot at 0x4a9276d8>"
      ]
     },
     "execution_count": 262,
     "metadata": {},
     "output_type": "execute_result"
    },
    {
     "data": {
      "image/png": "[encoded data removed]",
      "text/plain": [
       "<matplotlib.figure.Figure at 0x4a76fe10>"
      ]
     },
     "metadata": {},
     "output_type": "display_data"
    }
   ],
   "source": [
    "level = 3\n",
    "up_to = 7\n",
    "\n",
    "first_occs = votes_complete.sort_values(by='Age_vot').groupby('AnsId').first().reset_index(drop=False)\n",
    "first_occs = first_occs[(first_occs.AnsRank==1)]['AnsId']\n",
    "first_occs = votes_complete[votes_complete['AnsId'].isin(first_occs)]['AnsId']\n",
    "\n",
    "end_first_path_2 = votes_complete[votes_complete['AnsId'].isin(first_occs)][['AnsId','AnsRank','DRank','Age_vot','Votes','Score','ReScore','Age_group']]\n",
    "end_first_path_2[(end_first_path_2.AnsRank<=level)&(end_first_path_2.Age_group<=up_to)].groupby(['Age_vot']).mean().reset_index(drop=False).plot(x='Age_vot',y='AnsRank',kind='scatter')"
   ]
  },
  {
   "cell_type": "code",
   "execution_count": 264,
   "metadata": {
    "collapsed": false
   },
   "outputs": [
    {
     "data": {
      "image/png": "[encoded data removed]",
      "text/plain": [
       "<matplotlib.figure.Figure at 0x49d440b8>"
      ]
     },
     "metadata": {},
     "output_type": "display_data"
    }
   ],
   "source": [
    "fml = 'AnsRank ~ Age_vot'\n",
    "\n",
    "r_method = sm.families.NegativeBinomial(link=sm.families.links.log)\n",
    "datas = end_first_path_2[(end_first_path_2.AnsRank<=level)]\n",
    "\n",
    "fit_nbin = lambda df : smf.glm(fml, data=df, family=r_method, offset=np.log(df['Age_vot'])).fit(method='bfgs')\n",
    "classify_slope = lambda df: 'k' if (df.shape[0]<3 or fit_nbin(df).pvalues[1]>0.05) else 'r' if fit_nbin(df).params[1]>=0 else 'b'\n",
    "fill_slope = lambda df: pd.Series([classify_slope(df)],index=df.index,name='color')\n",
    "\n",
    "class_data = datas.sort_values(by='Age_vot').groupby(['AnsId']).apply(lambda df: pd.concat([df.Age_vot,df.AnsRank,fill_slope(df),df.Age_group,df.AnsId],axis=1))\n",
    "class_data = class_data[(class_data.color!='k')&(class_data.Age_group<=up_to)&(class_data['AnsId'].isin(first_occs))]\n",
    "\n",
    "fig, ax = plt.subplots()\n",
    "colors = {'k':'black', 'b':'blue', 'r':'red'}\n",
    "ax.scatter(class_data['Age_vot'], class_data['AnsRank'], c=class_data['color'].apply(lambda x: colors[x]))\n",
    "plt.show()"
   ]
  },
  {
   "cell_type": "markdown",
   "metadata": {},
   "source": [
    "## Start last end first"
   ]
  },
  {
   "cell_type": "code",
   "execution_count": 274,
   "metadata": {
    "collapsed": false
   },
   "outputs": [
    {
     "data": {
      "text/plain": [
       "<matplotlib.axes._subplots.AxesSubplot at 0x4b040a20>"
      ]
     },
     "execution_count": 274,
     "metadata": {},
     "output_type": "execute_result"
    },
    {
     "data": {
      "image/png": "[encoded data removed]",
      "text/plain": [
       "<matplotlib.figure.Figure at 0x4c58f198>"
      ]
     },
     "metadata": {},
     "output_type": "display_data"
    }
   ],
   "source": [
    "level = 3\n",
    "up_to = 7\n",
    "\n",
    "first_occs = votes_complete.sort_values(by='Age_vot').groupby('AnsId').first().reset_index(drop=False)\n",
    "first_occs = first_occs[(first_occs.AnsRank==level)]['AnsId']\n",
    "last_occs = votes_complete.sort_values(by='Age_vot').groupby('AnsId').last().reset_index(drop=False)\n",
    "sel_occs = last_occs[(last_occs.AnsRank==1)&(last_occs.Ans_count==level)&(last_occs['AnsId'].isin(first_occs))]['AnsId']\n",
    "\n",
    "end_first_path_3 = votes_complete[votes_complete['AnsId'].isin(sel_occs)][['AnsId','AnsRank','DRank','Age_vot','Votes','Score','ReScore','Age_group']]\n",
    "end_first_path_3[(end_first_path_3.AnsRank<=level)&(end_first_path_3.Age_group<=up_to)].groupby(['Age_vot']).mean().reset_index(drop=False).plot(x='Age_vot',y='AnsRank',kind='scatter')"
   ]
  },
  {
   "cell_type": "code",
   "execution_count": 270,
   "metadata": {
    "collapsed": false
   },
   "outputs": [
    {
     "data": {
      "image/png": "[encoded data removed]",
      "text/plain": [
       "<matplotlib.figure.Figure at 0x4976bb70>"
      ]
     },
     "metadata": {},
     "output_type": "display_data"
    }
   ],
   "source": [
    "fml = 'AnsRank ~ Age_vot'\n",
    "\n",
    "r_method = sm.families.NegativeBinomial(link=sm.families.links.log)\n",
    "datas = end_first_path_3[(end_first_path_3.AnsRank<=level)]\n",
    "\n",
    "fit_nbin = lambda df : smf.glm(fml, data=df, family=r_method, offset=np.log(df['Age_vot'])).fit(method='bfgs')\n",
    "classify_slope = lambda df: 'k' if (df.shape[0]<3 or fit_nbin(df).pvalues[1]>0.05) else 'r' if fit_nbin(df).params[1]>=0 else 'b'\n",
    "fill_slope = lambda df: pd.Series([classify_slope(df)],index=df.index,name='color')\n",
    "\n",
    "class_data = datas.sort_values(by='Age_vot').groupby(['AnsId']).apply(lambda df: pd.concat([df.Age_vot,df.AnsRank,fill_slope(df),df.Age_group,df.AnsId],axis=1))\n",
    "class_data = class_data[(class_data.color!='k')&(class_data.Age_group<=up_to)&(class_data['AnsId'].isin(first_occs))]\n",
    "\n",
    "fig, ax = plt.subplots()\n",
    "colors = {'k':'black', 'b':'blue', 'r':'red'}\n",
    "ax.scatter(class_data['Age_vot'], class_data['AnsRank'], c=class_data['color'].apply(lambda x: colors[x]))\n",
    "plt.show()"
   ]
  },
  {
   "cell_type": "markdown",
   "metadata": {},
   "source": [
    "## Start first end last"
   ]
  },
  {
   "cell_type": "code",
   "execution_count": 271,
   "metadata": {
    "collapsed": false
   },
   "outputs": [
    {
     "data": {
      "text/plain": [
       "<matplotlib.axes._subplots.AxesSubplot at 0x49a1c630>"
      ]
     },
     "execution_count": 271,
     "metadata": {},
     "output_type": "execute_result"
    },
    {
     "data": {
      "image/png": "[encoded data removed]",
      "text/plain": [
       "<matplotlib.figure.Figure at 0x49a1cf60>"
      ]
     },
     "metadata": {},
     "output_type": "display_data"
    }
   ],
   "source": [
    "level = 3\n",
    "up_to = 6\n",
    "\n",
    "first_occs = votes_complete.sort_values(by='Age_vot').groupby('AnsId').first().reset_index(drop=False)\n",
    "first_occs = first_occs[(first_occs.AnsRank==1)]['AnsId']\n",
    "last_occs = votes_complete.sort_values(by='Age_vot').groupby('AnsId').last().reset_index(drop=False)\n",
    "sel_occs = last_occs[(last_occs.AnsRank==level)&(last_occs.Ans_count==level)&(last_occs['AnsId'].isin(first_occs))]['AnsId']\n",
    "\n",
    "end_first_path_4 = votes_complete[votes_complete['AnsId'].isin(sel_occs)][['AnsId','AnsRank','DRank','Age_vot','Votes','Score','ReScore','Age_group']]\n",
    "end_first_path_4[(end_first_path_4.AnsRank<=level)&(end_first_path_4.Age_group<=up_to)].groupby(['Age_vot']).mean().reset_index(drop=False).plot(x='Age_vot',y='AnsRank',kind='scatter')"
   ]
  },
  {
   "cell_type": "code",
   "execution_count": 272,
   "metadata": {
    "collapsed": false
   },
   "outputs": [
    {
     "data": {
      "image/png": "[encoded data removed]",
      "text/plain": [
       "<matplotlib.figure.Figure at 0x4a675cf8>"
      ]
     },
     "metadata": {},
     "output_type": "display_data"
    }
   ],
   "source": [
    "fml = 'AnsRank ~ Age_vot'\n",
    "\n",
    "r_method = sm.families.NegativeBinomial(link=sm.families.links.log)\n",
    "datas = end_first_path_4[(end_first_path_4.AnsRank<=level)]\n",
    "\n",
    "fit_nbin = lambda df : smf.glm(fml, data=df, family=r_method, offset=np.log(df['Age_vot'])).fit(method='bfgs')\n",
    "classify_slope = lambda df: 'k' if (df.shape[0]<3 or fit_nbin(df).pvalues[1]>0.05) else 'r' if fit_nbin(df).params[1]>=0 else 'b'\n",
    "fill_slope = lambda df: pd.Series([classify_slope(df)],index=df.index,name='color')\n",
    "\n",
    "class_data = datas.sort_values(by='Age_vot').groupby(['AnsId']).apply(lambda df: pd.concat([df.Age_vot,df.AnsRank,fill_slope(df),df.Age_group,df.AnsId],axis=1))\n",
    "class_data = class_data[(class_data.color!='k')&(class_data.Age_group<=up_to)&(class_data['AnsId'].isin(first_occs))]\n",
    "\n",
    "fig, ax = plt.subplots()\n",
    "colors = {'k':'black', 'b':'blue', 'r':'red'}\n",
    "ax.scatter(class_data['Age_vot'], class_data['AnsRank'], c=class_data['color'].apply(lambda x: colors[x]))\n",
    "plt.show()"
   ]
  },
  {
   "cell_type": "code",
   "execution_count": null,
   "metadata": {
    "collapsed": true
   },
   "outputs": [],
   "source": []
  },
  {
   "cell_type": "code",
   "execution_count": null,
   "metadata": {
    "collapsed": true
   },
   "outputs": [],
   "source": []
  },
  {
   "cell_type": "code",
   "execution_count": null,
   "metadata": {
    "collapsed": true
   },
   "outputs": [],
   "source": []
  },
  {
   "cell_type": "code",
   "execution_count": null,
   "metadata": {
    "collapsed": true
   },
   "outputs": [],
   "source": []
  }
 ],
 "metadata": {
  "kernelspec": {
   "display_name": "Python 2",
   "language": "python",
   "name": "python2"
  },
  "language_info": {
   "codemirror_mode": {
    "name": "ipython",
    "version": 2
   },
   "file_extension": ".py",
   "mimetype": "text/x-python",
   "name": "python",
   "nbconvert_exporter": "python",
   "pygments_lexer": "ipython2",
   "version": "2.7.11"
  }
 },
 "nbformat": 4,
 "nbformat_minor": 0
}
