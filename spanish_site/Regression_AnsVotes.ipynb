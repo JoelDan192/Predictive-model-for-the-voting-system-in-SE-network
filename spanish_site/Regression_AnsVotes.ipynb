{
 "cells": [
  {
   "cell_type": "code",
   "execution_count": 1,
   "metadata": {
    "collapsed": true
   },
   "outputs": [],
   "source": [
    "%matplotlib inline\n",
    "import pandas as pd\n",
    "import numpy as np\n",
    "import matplotlib.pyplot as plt\n",
    "\n",
    "import statsmodels.formula.api as smf\n",
    "import statsmodels.api as sm"
   ]
  },
  {
   "cell_type": "code",
   "execution_count": 2,
   "metadata": {
    "collapsed": false,
    "scrolled": false
   },
   "outputs": [
    {
     "data": {
      "text/html": [
       "<div>\n",
       "<table border=\"1\" class=\"dataframe\">\n",
       "  <thead>\n",
       "    <tr style=\"text-align: right;\">\n",
       "      <th></th>\n",
       "      <th>QuestionId</th>\n",
       "      <th>AnsId</th>\n",
       "      <th>Age_vot</th>\n",
       "      <th>AnsWordCount</th>\n",
       "      <th>AcceptedAnsId</th>\n",
       "      <th>QScore</th>\n",
       "      <th>QVotes</th>\n",
       "      <th>Score</th>\n",
       "      <th>Votes</th>\n",
       "      <th>Upvotes</th>\n",
       "      <th>...</th>\n",
       "      <th>CumScore</th>\n",
       "      <th>ReScore</th>\n",
       "      <th>QReScore</th>\n",
       "      <th>Comments</th>\n",
       "      <th>AnsRank</th>\n",
       "      <th>ReScore_rank</th>\n",
       "      <th>Ans_count</th>\n",
       "      <th>Pbias</th>\n",
       "      <th>DRank</th>\n",
       "      <th>EPbias</th>\n",
       "    </tr>\n",
       "  </thead>\n",
       "  <tbody>\n",
       "    <tr>\n",
       "      <th>0</th>\n",
       "      <td>1</td>\n",
       "      <td>56</td>\n",
       "      <td>0</td>\n",
       "      <td>201</td>\n",
       "      <td>56</td>\n",
       "      <td>0</td>\n",
       "      <td>0</td>\n",
       "      <td>2</td>\n",
       "      <td>2</td>\n",
       "      <td>2</td>\n",
       "      <td>...</td>\n",
       "      <td>0</td>\n",
       "      <td>0</td>\n",
       "      <td>0</td>\n",
       "      <td>0</td>\n",
       "      <td>1</td>\n",
       "      <td>1</td>\n",
       "      <td>1</td>\n",
       "      <td>1</td>\n",
       "      <td>0</td>\n",
       "      <td>1</td>\n",
       "    </tr>\n",
       "    <tr>\n",
       "      <th>1</th>\n",
       "      <td>2</td>\n",
       "      <td>10</td>\n",
       "      <td>0</td>\n",
       "      <td>145</td>\n",
       "      <td>10</td>\n",
       "      <td>0</td>\n",
       "      <td>0</td>\n",
       "      <td>3</td>\n",
       "      <td>3</td>\n",
       "      <td>3</td>\n",
       "      <td>...</td>\n",
       "      <td>0</td>\n",
       "      <td>0</td>\n",
       "      <td>0</td>\n",
       "      <td>0</td>\n",
       "      <td>1</td>\n",
       "      <td>1</td>\n",
       "      <td>1</td>\n",
       "      <td>1</td>\n",
       "      <td>0</td>\n",
       "      <td>1</td>\n",
       "    </tr>\n",
       "    <tr>\n",
       "      <th>2</th>\n",
       "      <td>2</td>\n",
       "      <td>10</td>\n",
       "      <td>0</td>\n",
       "      <td>145</td>\n",
       "      <td>10</td>\n",
       "      <td>0</td>\n",
       "      <td>0</td>\n",
       "      <td>3</td>\n",
       "      <td>3</td>\n",
       "      <td>3</td>\n",
       "      <td>...</td>\n",
       "      <td>0</td>\n",
       "      <td>0</td>\n",
       "      <td>0</td>\n",
       "      <td>0</td>\n",
       "      <td>1</td>\n",
       "      <td>1</td>\n",
       "      <td>1</td>\n",
       "      <td>1</td>\n",
       "      <td>0</td>\n",
       "      <td>1</td>\n",
       "    </tr>\n",
       "    <tr>\n",
       "      <th>3</th>\n",
       "      <td>3</td>\n",
       "      <td>9</td>\n",
       "      <td>0</td>\n",
       "      <td>25</td>\n",
       "      <td>109</td>\n",
       "      <td>0</td>\n",
       "      <td>0</td>\n",
       "      <td>4</td>\n",
       "      <td>4</td>\n",
       "      <td>4</td>\n",
       "      <td>...</td>\n",
       "      <td>0</td>\n",
       "      <td>0</td>\n",
       "      <td>0</td>\n",
       "      <td>0</td>\n",
       "      <td>1</td>\n",
       "      <td>1</td>\n",
       "      <td>1</td>\n",
       "      <td>1</td>\n",
       "      <td>0</td>\n",
       "      <td>1</td>\n",
       "    </tr>\n",
       "    <tr>\n",
       "      <th>4</th>\n",
       "      <td>7</td>\n",
       "      <td>16</td>\n",
       "      <td>0</td>\n",
       "      <td>45</td>\n",
       "      <td>2977</td>\n",
       "      <td>0</td>\n",
       "      <td>0</td>\n",
       "      <td>3</td>\n",
       "      <td>3</td>\n",
       "      <td>3</td>\n",
       "      <td>...</td>\n",
       "      <td>0</td>\n",
       "      <td>0</td>\n",
       "      <td>0</td>\n",
       "      <td>0</td>\n",
       "      <td>1</td>\n",
       "      <td>1</td>\n",
       "      <td>1</td>\n",
       "      <td>1</td>\n",
       "      <td>0</td>\n",
       "      <td>1</td>\n",
       "    </tr>\n",
       "  </tbody>\n",
       "</table>\n",
       "<p>5 rows × 22 columns</p>\n",
       "</div>"
      ],
      "text/plain": [
       "   QuestionId  AnsId  Age_vot  AnsWordCount  AcceptedAnsId  QScore  QVotes  \\\n",
       "0           1     56        0           201             56       0       0   \n",
       "1           2     10        0           145             10       0       0   \n",
       "2           2     10        0           145             10       0       0   \n",
       "3           3      9        0            25            109       0       0   \n",
       "4           7     16        0            45           2977       0       0   \n",
       "\n",
       "   Score  Votes  Upvotes   ...    CumScore  ReScore  QReScore  Comments  \\\n",
       "0      2      2        2   ...           0        0         0         0   \n",
       "1      3      3        3   ...           0        0         0         0   \n",
       "2      3      3        3   ...           0        0         0         0   \n",
       "3      4      4        4   ...           0        0         0         0   \n",
       "4      3      3        3   ...           0        0         0         0   \n",
       "\n",
       "   AnsRank  ReScore_rank  Ans_count  Pbias  DRank  EPbias  \n",
       "0        1             1          1      1      0       1  \n",
       "1        1             1          1      1      0       1  \n",
       "2        1             1          1      1      0       1  \n",
       "3        1             1          1      1      0       1  \n",
       "4        1             1          1      1      0       1  \n",
       "\n",
       "[5 rows x 22 columns]"
      ]
     },
     "execution_count": 2,
     "metadata": {},
     "output_type": "execute_result"
    }
   ],
   "source": [
    "votes = pd.DataFrame.from_csv('AnsVotes_TSeries.csv', index_col=None)\n",
    "votes.head()"
   ]
  },
  {
   "cell_type": "code",
   "execution_count": 3,
   "metadata": {
    "collapsed": false,
    "scrolled": true
   },
   "outputs": [
    {
     "data": {
      "text/html": [
       "<div>\n",
       "<table border=\"1\" class=\"dataframe\">\n",
       "  <thead>\n",
       "    <tr style=\"text-align: right;\">\n",
       "      <th></th>\n",
       "      <th>AnsId</th>\n",
       "      <th>QContributed</th>\n",
       "      <th>AnsContributed</th>\n",
       "      <th>ScoreRcvQ</th>\n",
       "      <th>VotRcvQ</th>\n",
       "      <th>ScoreRcvAns</th>\n",
       "      <th>VotRcvAns</th>\n",
       "      <th>Age</th>\n",
       "    </tr>\n",
       "  </thead>\n",
       "  <tbody>\n",
       "    <tr>\n",
       "      <th>0</th>\n",
       "      <td>1</td>\n",
       "      <td>1</td>\n",
       "      <td>0</td>\n",
       "      <td>1</td>\n",
       "      <td>1</td>\n",
       "      <td>0</td>\n",
       "      <td>0</td>\n",
       "      <td>0</td>\n",
       "    </tr>\n",
       "    <tr>\n",
       "      <th>1</th>\n",
       "      <td>55</td>\n",
       "      <td>0</td>\n",
       "      <td>1</td>\n",
       "      <td>0</td>\n",
       "      <td>0</td>\n",
       "      <td>1</td>\n",
       "      <td>1</td>\n",
       "      <td>0</td>\n",
       "    </tr>\n",
       "    <tr>\n",
       "      <th>2</th>\n",
       "      <td>55</td>\n",
       "      <td>0</td>\n",
       "      <td>1</td>\n",
       "      <td>0</td>\n",
       "      <td>0</td>\n",
       "      <td>2</td>\n",
       "      <td>2</td>\n",
       "      <td>0</td>\n",
       "    </tr>\n",
       "    <tr>\n",
       "      <th>3</th>\n",
       "      <td>55</td>\n",
       "      <td>0</td>\n",
       "      <td>1</td>\n",
       "      <td>0</td>\n",
       "      <td>0</td>\n",
       "      <td>3</td>\n",
       "      <td>3</td>\n",
       "      <td>0</td>\n",
       "    </tr>\n",
       "    <tr>\n",
       "      <th>4</th>\n",
       "      <td>55</td>\n",
       "      <td>0</td>\n",
       "      <td>1</td>\n",
       "      <td>0</td>\n",
       "      <td>0</td>\n",
       "      <td>4</td>\n",
       "      <td>4</td>\n",
       "      <td>0</td>\n",
       "    </tr>\n",
       "  </tbody>\n",
       "</table>\n",
       "</div>"
      ],
      "text/plain": [
       "   AnsId  QContributed  AnsContributed  ScoreRcvQ  VotRcvQ  ScoreRcvAns  \\\n",
       "0      1             1               0          1        1            0   \n",
       "1     55             0               1          0        0            1   \n",
       "2     55             0               1          0        0            2   \n",
       "3     55             0               1          0        0            3   \n",
       "4     55             0               1          0        0            4   \n",
       "\n",
       "   VotRcvAns  Age  \n",
       "0          0    0  \n",
       "1          1    0  \n",
       "2          2    0  \n",
       "3          3    0  \n",
       "4          4    0  "
      ]
     },
     "execution_count": 3,
     "metadata": {},
     "output_type": "execute_result"
    }
   ],
   "source": [
    "users = pd.DataFrame.from_csv('user_reputation_votes.csv', index_col=None)\n",
    "users.head()"
   ]
  },
  {
   "cell_type": "code",
   "execution_count": 16,
   "metadata": {
    "collapsed": false
   },
   "outputs": [
    {
     "data": {
      "text/plain": [
       "Index([u'QuestionId', u'AnsId', u'Age_vot', u'AnsWordCount', u'AcceptedAnsId',\n",
       "       u'QScore', u'QVotes', u'Score', u'Votes', u'Upvotes', u'Downvotes',\n",
       "       u'CumVotes', u'CumScore', u'ReScore', u'QReScore', u'Comments',\n",
       "       u'AnsRank', u'ReScore_rank', u'Ans_count', u'Pbias', u'DRank',\n",
       "       u'EPbias'],\n",
       "      dtype='object')"
      ]
     },
     "execution_count": 16,
     "metadata": {},
     "output_type": "execute_result"
    }
   ],
   "source": [
    "votes.columns"
   ]
  },
  {
   "cell_type": "code",
   "execution_count": 4,
   "metadata": {
    "collapsed": false
   },
   "outputs": [
    {
     "data": {
      "text/html": [
       "<div>\n",
       "<table border=\"1\" class=\"dataframe\">\n",
       "  <thead>\n",
       "    <tr style=\"text-align: right;\">\n",
       "      <th></th>\n",
       "      <th>AcceptedAnsId</th>\n",
       "      <th>Age</th>\n",
       "      <th>Age_vot</th>\n",
       "      <th>AnsContributed</th>\n",
       "      <th>AnsId</th>\n",
       "      <th>AnsRank</th>\n",
       "      <th>AnsWordCount</th>\n",
       "      <th>Ans_count</th>\n",
       "      <th>Comments</th>\n",
       "      <th>CumScore</th>\n",
       "      <th>...</th>\n",
       "      <th>QuestionId</th>\n",
       "      <th>ReScore</th>\n",
       "      <th>ReScore_rank</th>\n",
       "      <th>Score</th>\n",
       "      <th>ScoreRcvAns</th>\n",
       "      <th>ScoreRcvQ</th>\n",
       "      <th>Upvotes</th>\n",
       "      <th>VotRcvAns</th>\n",
       "      <th>VotRcvQ</th>\n",
       "      <th>Votes</th>\n",
       "    </tr>\n",
       "  </thead>\n",
       "  <tbody>\n",
       "    <tr>\n",
       "      <th>0</th>\n",
       "      <td>56</td>\n",
       "      <td>0</td>\n",
       "      <td>0</td>\n",
       "      <td>5</td>\n",
       "      <td>4</td>\n",
       "      <td>2</td>\n",
       "      <td>190</td>\n",
       "      <td>2</td>\n",
       "      <td>0</td>\n",
       "      <td>0</td>\n",
       "      <td>...</td>\n",
       "      <td>1</td>\n",
       "      <td>0.00</td>\n",
       "      <td>2</td>\n",
       "      <td>1</td>\n",
       "      <td>12</td>\n",
       "      <td>0</td>\n",
       "      <td>2</td>\n",
       "      <td>14</td>\n",
       "      <td>0</td>\n",
       "      <td>3</td>\n",
       "    </tr>\n",
       "    <tr>\n",
       "      <th>1</th>\n",
       "      <td>56</td>\n",
       "      <td>1436</td>\n",
       "      <td>1436</td>\n",
       "      <td>7</td>\n",
       "      <td>4</td>\n",
       "      <td>3</td>\n",
       "      <td>190</td>\n",
       "      <td>6</td>\n",
       "      <td>2</td>\n",
       "      <td>1</td>\n",
       "      <td>...</td>\n",
       "      <td>1</td>\n",
       "      <td>0.25</td>\n",
       "      <td>5</td>\n",
       "      <td>1</td>\n",
       "      <td>49</td>\n",
       "      <td>11</td>\n",
       "      <td>1</td>\n",
       "      <td>55</td>\n",
       "      <td>11</td>\n",
       "      <td>1</td>\n",
       "    </tr>\n",
       "    <tr>\n",
       "      <th>2</th>\n",
       "      <td>56</td>\n",
       "      <td>0</td>\n",
       "      <td>0</td>\n",
       "      <td>1</td>\n",
       "      <td>5</td>\n",
       "      <td>3</td>\n",
       "      <td>37</td>\n",
       "      <td>3</td>\n",
       "      <td>0</td>\n",
       "      <td>0</td>\n",
       "      <td>...</td>\n",
       "      <td>1</td>\n",
       "      <td>0.00</td>\n",
       "      <td>3</td>\n",
       "      <td>1</td>\n",
       "      <td>1</td>\n",
       "      <td>0</td>\n",
       "      <td>1</td>\n",
       "      <td>1</td>\n",
       "      <td>0</td>\n",
       "      <td>1</td>\n",
       "    </tr>\n",
       "    <tr>\n",
       "      <th>3</th>\n",
       "      <td>56</td>\n",
       "      <td>108</td>\n",
       "      <td>108</td>\n",
       "      <td>2</td>\n",
       "      <td>5</td>\n",
       "      <td>5</td>\n",
       "      <td>37</td>\n",
       "      <td>5</td>\n",
       "      <td>1</td>\n",
       "      <td>1</td>\n",
       "      <td>...</td>\n",
       "      <td>1</td>\n",
       "      <td>0.50</td>\n",
       "      <td>3</td>\n",
       "      <td>-1</td>\n",
       "      <td>-2</td>\n",
       "      <td>0</td>\n",
       "      <td>0</td>\n",
       "      <td>4</td>\n",
       "      <td>0</td>\n",
       "      <td>1</td>\n",
       "    </tr>\n",
       "    <tr>\n",
       "      <th>4</th>\n",
       "      <td>10</td>\n",
       "      <td>0</td>\n",
       "      <td>0</td>\n",
       "      <td>1</td>\n",
       "      <td>6</td>\n",
       "      <td>5</td>\n",
       "      <td>51</td>\n",
       "      <td>5</td>\n",
       "      <td>0</td>\n",
       "      <td>0</td>\n",
       "      <td>...</td>\n",
       "      <td>2</td>\n",
       "      <td>0.00</td>\n",
       "      <td>5</td>\n",
       "      <td>1</td>\n",
       "      <td>1</td>\n",
       "      <td>0</td>\n",
       "      <td>1</td>\n",
       "      <td>1</td>\n",
       "      <td>0</td>\n",
       "      <td>1</td>\n",
       "    </tr>\n",
       "  </tbody>\n",
       "</table>\n",
       "<p>5 rows × 29 columns</p>\n",
       "</div>"
      ],
      "text/plain": [
       "   AcceptedAnsId   Age  Age_vot  AnsContributed  AnsId  AnsRank  AnsWordCount  \\\n",
       "0             56     0        0               5      4        2           190   \n",
       "1             56  1436     1436               7      4        3           190   \n",
       "2             56     0        0               1      5        3            37   \n",
       "3             56   108      108               2      5        5            37   \n",
       "4             10     0        0               1      6        5            51   \n",
       "\n",
       "   Ans_count  Comments  CumScore  ...    QuestionId  ReScore  ReScore_rank  \\\n",
       "0          2         0         0  ...             1     0.00             2   \n",
       "1          6         2         1  ...             1     0.25             5   \n",
       "2          3         0         0  ...             1     0.00             3   \n",
       "3          5         1         1  ...             1     0.50             3   \n",
       "4          5         0         0  ...             2     0.00             5   \n",
       "\n",
       "   Score  ScoreRcvAns  ScoreRcvQ  Upvotes  VotRcvAns  VotRcvQ  Votes  \n",
       "0      1           12          0        2         14        0      3  \n",
       "1      1           49         11        1         55       11      1  \n",
       "2      1            1          0        1          1        0      1  \n",
       "3     -1           -2          0        0          4        0      1  \n",
       "4      1            1          0        1          1        0      1  \n",
       "\n",
       "[5 rows x 29 columns]"
      ]
     },
     "execution_count": 4,
     "metadata": {},
     "output_type": "execute_result"
    }
   ],
   "source": [
    "#There can be posts/votes with deleted users, we avoid them here\n",
    "m_votes = pd.merge(users, votes, how='inner', on=['AnsId'],suffixes=['_vot', '_user'])\n",
    "\n",
    "get_head = lambda df: pd.DataFrame(dict(zip(df.iloc[0].index,[[e] for e in df.iloc[0].values])))\n",
    "ff = lambda df: get_head(df.sort_values(by=[\"Age\"],ascending=False))\n",
    "votes_complete = m_votes[m_votes.Age_vot>=m_votes.Age].groupby(['AnsId','Age_vot']).apply(ff).reset_index(drop=True)\n",
    "votes_complete.head()"
   ]
  },
  {
   "cell_type": "code",
   "execution_count": 5,
   "metadata": {
    "collapsed": false
   },
   "outputs": [
    {
     "data": {
      "text/plain": [
       "Index([u'AcceptedAnsId', u'Age', u'Age_vot', u'AnsContributed', u'AnsId',\n",
       "       u'AnsRank', u'AnsWordCount', u'Ans_count', u'Comments', u'CumScore',\n",
       "       u'CumVotes', u'DRank', u'Downvotes', u'EPbias', u'Pbias',\n",
       "       u'QContributed', u'QReScore', u'QScore', u'QVotes', u'QuestionId',\n",
       "       u'ReScore', u'ReScore_rank', u'Score', u'ScoreRcvAns', u'ScoreRcvQ',\n",
       "       u'Upvotes', u'VotRcvAns', u'VotRcvQ', u'Votes'],\n",
       "      dtype='object')"
      ]
     },
     "execution_count": 5,
     "metadata": {},
     "output_type": "execute_result"
    }
   ],
   "source": [
    "votes_complete.columns"
   ]
  },
  {
   "cell_type": "code",
   "execution_count": 34,
   "metadata": {
    "collapsed": false
   },
   "outputs": [],
   "source": [
    "#Age: age of vote on user post\n",
    "#votes_complete.to_csv(path_or_buf='votes_ans_complete.csv')"
   ]
  },
  {
   "cell_type": "code",
   "execution_count": 5,
   "metadata": {
    "collapsed": false,
    "scrolled": false
   },
   "outputs": [
    {
     "data": {
      "text/html": [
       "<div>\n",
       "<table border=\"1\" class=\"dataframe\">\n",
       "  <thead>\n",
       "    <tr style=\"text-align: right;\">\n",
       "      <th></th>\n",
       "      <th>Age_vot</th>\n",
       "      <th>Ans_count</th>\n",
       "      <th>AnsWordCount</th>\n",
       "      <th>Comments</th>\n",
       "    </tr>\n",
       "  </thead>\n",
       "  <tbody>\n",
       "    <tr>\n",
       "      <th>count</th>\n",
       "      <td>15159.000000</td>\n",
       "      <td>15159.000000</td>\n",
       "      <td>15159.000000</td>\n",
       "      <td>15159.000000</td>\n",
       "    </tr>\n",
       "    <tr>\n",
       "      <th>mean</th>\n",
       "      <td>182.389604</td>\n",
       "      <td>2.501418</td>\n",
       "      <td>126.575368</td>\n",
       "      <td>1.222772</td>\n",
       "    </tr>\n",
       "    <tr>\n",
       "      <th>std</th>\n",
       "      <td>355.905957</td>\n",
       "      <td>1.707417</td>\n",
       "      <td>129.736440</td>\n",
       "      <td>2.032405</td>\n",
       "    </tr>\n",
       "    <tr>\n",
       "      <th>min</th>\n",
       "      <td>0.000000</td>\n",
       "      <td>1.000000</td>\n",
       "      <td>3.000000</td>\n",
       "      <td>0.000000</td>\n",
       "    </tr>\n",
       "    <tr>\n",
       "      <th>25%</th>\n",
       "      <td>1.000000</td>\n",
       "      <td>1.000000</td>\n",
       "      <td>46.000000</td>\n",
       "      <td>0.000000</td>\n",
       "    </tr>\n",
       "    <tr>\n",
       "      <th>50%</th>\n",
       "      <td>5.000000</td>\n",
       "      <td>2.000000</td>\n",
       "      <td>89.000000</td>\n",
       "      <td>0.000000</td>\n",
       "    </tr>\n",
       "    <tr>\n",
       "      <th>75%</th>\n",
       "      <td>131.500000</td>\n",
       "      <td>3.000000</td>\n",
       "      <td>160.000000</td>\n",
       "      <td>2.000000</td>\n",
       "    </tr>\n",
       "    <tr>\n",
       "      <th>max</th>\n",
       "      <td>1504.000000</td>\n",
       "      <td>12.000000</td>\n",
       "      <td>2142.000000</td>\n",
       "      <td>18.000000</td>\n",
       "    </tr>\n",
       "  </tbody>\n",
       "</table>\n",
       "</div>"
      ],
      "text/plain": [
       "            Age_vot     Ans_count  AnsWordCount      Comments\n",
       "count  15159.000000  15159.000000  15159.000000  15159.000000\n",
       "mean     182.389604      2.501418    126.575368      1.222772\n",
       "std      355.905957      1.707417    129.736440      2.032405\n",
       "min        0.000000      1.000000      3.000000      0.000000\n",
       "25%        1.000000      1.000000     46.000000      0.000000\n",
       "50%        5.000000      2.000000     89.000000      0.000000\n",
       "75%      131.500000      3.000000    160.000000      2.000000\n",
       "max     1504.000000     12.000000   2142.000000     18.000000"
      ]
     },
     "execution_count": 5,
     "metadata": {},
     "output_type": "execute_result"
    }
   ],
   "source": [
    "votes_complete[['Age_vot','Ans_count','AnsWordCount','Comments']].describe()"
   ]
  },
  {
   "cell_type": "code",
   "execution_count": 20,
   "metadata": {
    "collapsed": false
   },
   "outputs": [
    {
     "data": {
      "text/html": [
       "<div>\n",
       "<table border=\"1\" class=\"dataframe\">\n",
       "  <thead>\n",
       "    <tr style=\"text-align: right;\">\n",
       "      <th></th>\n",
       "      <th>ScoreRcvQ</th>\n",
       "      <th>VotRcvQ</th>\n",
       "      <th>ScoreRcvAns</th>\n",
       "      <th>VotRcvAns</th>\n",
       "    </tr>\n",
       "  </thead>\n",
       "  <tbody>\n",
       "    <tr>\n",
       "      <th>count</th>\n",
       "      <td>15159.000000</td>\n",
       "      <td>15159.000000</td>\n",
       "      <td>15159.00000</td>\n",
       "      <td>15159.000000</td>\n",
       "    </tr>\n",
       "    <tr>\n",
       "      <th>mean</th>\n",
       "      <td>23.224553</td>\n",
       "      <td>23.840425</td>\n",
       "      <td>114.21855</td>\n",
       "      <td>118.612375</td>\n",
       "    </tr>\n",
       "    <tr>\n",
       "      <th>std</th>\n",
       "      <td>85.785722</td>\n",
       "      <td>87.881195</td>\n",
       "      <td>181.81826</td>\n",
       "      <td>186.426627</td>\n",
       "    </tr>\n",
       "    <tr>\n",
       "      <th>min</th>\n",
       "      <td>-1.000000</td>\n",
       "      <td>0.000000</td>\n",
       "      <td>-7.00000</td>\n",
       "      <td>1.000000</td>\n",
       "    </tr>\n",
       "    <tr>\n",
       "      <th>25%</th>\n",
       "      <td>0.000000</td>\n",
       "      <td>0.000000</td>\n",
       "      <td>9.00000</td>\n",
       "      <td>10.000000</td>\n",
       "    </tr>\n",
       "    <tr>\n",
       "      <th>50%</th>\n",
       "      <td>0.000000</td>\n",
       "      <td>0.000000</td>\n",
       "      <td>43.00000</td>\n",
       "      <td>46.000000</td>\n",
       "    </tr>\n",
       "    <tr>\n",
       "      <th>75%</th>\n",
       "      <td>12.000000</td>\n",
       "      <td>12.000000</td>\n",
       "      <td>144.00000</td>\n",
       "      <td>151.000000</td>\n",
       "    </tr>\n",
       "    <tr>\n",
       "      <th>max</th>\n",
       "      <td>1025.000000</td>\n",
       "      <td>1061.000000</td>\n",
       "      <td>1194.00000</td>\n",
       "      <td>1232.000000</td>\n",
       "    </tr>\n",
       "  </tbody>\n",
       "</table>\n",
       "</div>"
      ],
      "text/plain": [
       "          ScoreRcvQ       VotRcvQ  ScoreRcvAns     VotRcvAns\n",
       "count  15159.000000  15159.000000  15159.00000  15159.000000\n",
       "mean      23.224553     23.840425    114.21855    118.612375\n",
       "std       85.785722     87.881195    181.81826    186.426627\n",
       "min       -1.000000      0.000000     -7.00000      1.000000\n",
       "25%        0.000000      0.000000      9.00000     10.000000\n",
       "50%        0.000000      0.000000     43.00000     46.000000\n",
       "75%       12.000000     12.000000    144.00000    151.000000\n",
       "max     1025.000000   1061.000000   1194.00000   1232.000000"
      ]
     },
     "execution_count": 20,
     "metadata": {},
     "output_type": "execute_result"
    }
   ],
   "source": [
    "votes_complete[['ScoreRcvQ','VotRcvQ','ScoreRcvAns','VotRcvAns']].describe()"
   ]
  },
  {
   "cell_type": "code",
   "execution_count": 23,
   "metadata": {
    "collapsed": false
   },
   "outputs": [
    {
     "data": {
      "text/html": [
       "<div>\n",
       "<table border=\"1\" class=\"dataframe\">\n",
       "  <thead>\n",
       "    <tr style=\"text-align: right;\">\n",
       "      <th></th>\n",
       "      <th>ReScore</th>\n",
       "      <th>QReScore</th>\n",
       "      <th>Pbias</th>\n",
       "      <th>EPbias</th>\n",
       "    </tr>\n",
       "  </thead>\n",
       "  <tbody>\n",
       "    <tr>\n",
       "      <th>count</th>\n",
       "      <td>15159.000000</td>\n",
       "      <td>15159.000000</td>\n",
       "      <td>15159.000000</td>\n",
       "      <td>15159.000000</td>\n",
       "    </tr>\n",
       "    <tr>\n",
       "      <th>mean</th>\n",
       "      <td>0.450750</td>\n",
       "      <td>0.636234</td>\n",
       "      <td>0.756411</td>\n",
       "      <td>0.580921</td>\n",
       "    </tr>\n",
       "    <tr>\n",
       "      <th>std</th>\n",
       "      <td>0.388616</td>\n",
       "      <td>0.339490</td>\n",
       "      <td>0.299720</td>\n",
       "      <td>0.309246</td>\n",
       "    </tr>\n",
       "    <tr>\n",
       "      <th>min</th>\n",
       "      <td>-0.857143</td>\n",
       "      <td>-0.875000</td>\n",
       "      <td>0.090909</td>\n",
       "      <td>0.005837</td>\n",
       "    </tr>\n",
       "    <tr>\n",
       "      <th>25%</th>\n",
       "      <td>0.000000</td>\n",
       "      <td>0.500000</td>\n",
       "      <td>0.500000</td>\n",
       "      <td>0.330017</td>\n",
       "    </tr>\n",
       "    <tr>\n",
       "      <th>50%</th>\n",
       "      <td>0.500000</td>\n",
       "      <td>0.800000</td>\n",
       "      <td>1.000000</td>\n",
       "      <td>0.496412</td>\n",
       "    </tr>\n",
       "    <tr>\n",
       "      <th>75%</th>\n",
       "      <td>0.800000</td>\n",
       "      <td>0.875000</td>\n",
       "      <td>1.000000</td>\n",
       "      <td>1.000000</td>\n",
       "    </tr>\n",
       "    <tr>\n",
       "      <th>max</th>\n",
       "      <td>0.981132</td>\n",
       "      <td>0.979592</td>\n",
       "      <td>1.000000</td>\n",
       "      <td>1.000000</td>\n",
       "    </tr>\n",
       "  </tbody>\n",
       "</table>\n",
       "</div>"
      ],
      "text/plain": [
       "            ReScore      QReScore         Pbias        EPbias\n",
       "count  15159.000000  15159.000000  15159.000000  15159.000000\n",
       "mean       0.450750      0.636234      0.756411      0.580921\n",
       "std        0.388616      0.339490      0.299720      0.309246\n",
       "min       -0.857143     -0.875000      0.090909      0.005837\n",
       "25%        0.000000      0.500000      0.500000      0.330017\n",
       "50%        0.500000      0.800000      1.000000      0.496412\n",
       "75%        0.800000      0.875000      1.000000      1.000000\n",
       "max        0.981132      0.979592      1.000000      1.000000"
      ]
     },
     "execution_count": 23,
     "metadata": {},
     "output_type": "execute_result"
    }
   ],
   "source": [
    "votes_complete[['ReScore','QReScore','Pbias','EPbias']].describe()"
   ]
  },
  {
   "cell_type": "markdown",
   "metadata": {},
   "source": [
    "## Making Groups"
   ]
  },
  {
   "cell_type": "code",
   "execution_count": 5,
   "metadata": {
    "collapsed": false
   },
   "outputs": [],
   "source": [
    "from functools import partial\n",
    "\n",
    "votes_complete['Reputation'] = votes_complete['VotRcvQ'] + votes_complete['VotRcvAns']\n",
    "qtls_age = votes_complete['Age_vot'].quantile([0,.25,.5,.75,1.0]).values\n",
    "age_groups = dict(zip(zip(qtls_age,qtls_age[1:]),[e for e in range(len(zip(qtls_age,qtls_age[1:])))]))\n",
    "\n",
    "qtls_rep = votes_complete['Reputation'].quantile([0,.25,.5,.75,1.0]).values\n",
    "rep_groups = dict(zip(zip(qtls_rep,qtls_rep[1:]),[e for e in range(len(zip(qtls_rep,qtls_rep[1:])))]))\n",
    "\n",
    "def get_group(intervals,pred):\n",
    "    for l,u in intervals:\n",
    "        if l<=pred and pred<=u:\n",
    "            return intervals[(l,u)]\n",
    "get_age_group = partial(get_group,age_groups)\n",
    "get_rep_group = partial(get_group,rep_groups)"
   ]
  },
  {
   "cell_type": "code",
   "execution_count": 6,
   "metadata": {
    "collapsed": false
   },
   "outputs": [],
   "source": [
    "votes_complete['Age_group'] = votes_complete['Age_vot'].apply(get_age_group)\n",
    "votes_complete['Rep_group'] = votes_complete['Reputation'].apply(get_rep_group)"
   ]
  },
  {
   "cell_type": "code",
   "execution_count": 9,
   "metadata": {
    "collapsed": false
   },
   "outputs": [
    {
     "data": {
      "text/plain": [
       "array([  1.00000000e+00,   1.20000000e+01,   5.40000000e+01,\n",
       "         1.82000000e+02,   1.29200000e+03])"
      ]
     },
     "execution_count": 9,
     "metadata": {},
     "output_type": "execute_result"
    }
   ],
   "source": [
    "votes_r = votes_complete\n",
    "qtls_rep"
   ]
  },
  {
   "cell_type": "code",
   "execution_count": 10,
   "metadata": {
    "collapsed": false
   },
   "outputs": [
    {
     "data": {
      "image/png": "[encoded data removed]",
      "text/plain": [
       "<matplotlib.figure.Figure at 0x400bfd0>"
      ]
     },
     "metadata": {},
     "output_type": "display_data"
    }
   ],
   "source": [
    "plt.scatter(votes_complete.Ans_count.values,votes_complete.Votes.values,label='Votes-Nb_ans')\n",
    "plt.legend(loc='upper right')\n",
    "plt.show()"
   ]
  },
  {
   "cell_type": "code",
   "execution_count": 7,
   "metadata": {
    "collapsed": false
   },
   "outputs": [
    {
     "data": {
      "image/png": "[encoded data removed]",
      "text/plain": [
       "<matplotlib.figure.Figure at 0x4084978>"
      ]
     },
     "metadata": {},
     "output_type": "display_data"
    }
   ],
   "source": [
    "plt.scatter(votes_complete[votes_complete.Age_vot<=10].Age_vot.values,votes_complete[votes_complete.Age_vot<=10].Votes.values,label='Votes-Age')\n",
    "plt.legend(loc='upper right')\n",
    "plt.show()"
   ]
  },
  {
   "cell_type": "code",
   "execution_count": 123,
   "metadata": {
    "collapsed": false
   },
   "outputs": [
    {
     "data": {
      "text/html": [
       "<div>\n",
       "<table border=\"1\" class=\"dataframe\">\n",
       "  <thead>\n",
       "    <tr style=\"text-align: right;\">\n",
       "      <th></th>\n",
       "      <th>Ans_count</th>\n",
       "      <th>AnsRank</th>\n",
       "      <th>level_2</th>\n",
       "      <th>count</th>\n",
       "      <th>mean</th>\n",
       "      <th>var</th>\n",
       "    </tr>\n",
       "  </thead>\n",
       "  <tbody>\n",
       "    <tr>\n",
       "      <th>0</th>\n",
       "      <td>1</td>\n",
       "      <td>1</td>\n",
       "      <td>0</td>\n",
       "      <td>4819</td>\n",
       "      <td>1.911</td>\n",
       "      <td>2.063</td>\n",
       "    </tr>\n",
       "    <tr>\n",
       "      <th>1</th>\n",
       "      <td>2</td>\n",
       "      <td>1</td>\n",
       "      <td>0</td>\n",
       "      <td>2154</td>\n",
       "      <td>1.332</td>\n",
       "      <td>0.643</td>\n",
       "    </tr>\n",
       "    <tr>\n",
       "      <th>2</th>\n",
       "      <td>2</td>\n",
       "      <td>2</td>\n",
       "      <td>0</td>\n",
       "      <td>2465</td>\n",
       "      <td>1.325</td>\n",
       "      <td>0.550</td>\n",
       "    </tr>\n",
       "    <tr>\n",
       "      <th>3</th>\n",
       "      <td>3</td>\n",
       "      <td>1</td>\n",
       "      <td>0</td>\n",
       "      <td>1005</td>\n",
       "      <td>1.224</td>\n",
       "      <td>0.459</td>\n",
       "    </tr>\n",
       "    <tr>\n",
       "      <th>4</th>\n",
       "      <td>3</td>\n",
       "      <td>2</td>\n",
       "      <td>0</td>\n",
       "      <td>725</td>\n",
       "      <td>1.178</td>\n",
       "      <td>0.224</td>\n",
       "    </tr>\n",
       "  </tbody>\n",
       "</table>\n",
       "</div>"
      ],
      "text/plain": [
       "   Ans_count  AnsRank  level_2  count   mean    var\n",
       "0          1        1        0   4819  1.911  2.063\n",
       "1          2        1        0   2154  1.332  0.643\n",
       "2          2        2        0   2465  1.325  0.550\n",
       "3          3        1        0   1005  1.224  0.459\n",
       "4          3        2        0    725  1.178  0.224"
      ]
     },
     "execution_count": 123,
     "metadata": {},
     "output_type": "execute_result"
    }
   ],
   "source": [
    "ff1 = lambda df: pd.DataFrame(dict(zip(['mean','var','count'],[[e] for e in np.around([df['Votes'].mean(),df['Votes'].var(),df['Votes'].count()],decimals=3)])))\n",
    "mean_var_v = votes_complete.groupby(['Ans_count','AnsRank']).apply(ff1).reset_index(level=[0,1,2],drop=False)\n",
    "mean_var_v.head()"
   ]
  },
  {
   "cell_type": "code",
   "execution_count": 10,
   "metadata": {
    "collapsed": false
   },
   "outputs": [
    {
     "data": {
      "text/html": [
       "<div>\n",
       "<table border=\"1\" class=\"dataframe\">\n",
       "  <thead>\n",
       "    <tr style=\"text-align: right;\">\n",
       "      <th></th>\n",
       "      <th>count</th>\n",
       "      <th>mean</th>\n",
       "      <th>var</th>\n",
       "    </tr>\n",
       "  </thead>\n",
       "  <tbody>\n",
       "    <tr>\n",
       "      <th>count</th>\n",
       "      <td>179.000000</td>\n",
       "      <td>179.000000</td>\n",
       "      <td>149.000000</td>\n",
       "    </tr>\n",
       "    <tr>\n",
       "      <th>mean</th>\n",
       "      <td>84.687151</td>\n",
       "      <td>1.235620</td>\n",
       "      <td>0.297114</td>\n",
       "    </tr>\n",
       "    <tr>\n",
       "      <th>std</th>\n",
       "      <td>260.448581</td>\n",
       "      <td>0.641556</td>\n",
       "      <td>1.095704</td>\n",
       "    </tr>\n",
       "    <tr>\n",
       "      <th>min</th>\n",
       "      <td>1.000000</td>\n",
       "      <td>1.000000</td>\n",
       "      <td>0.000000</td>\n",
       "    </tr>\n",
       "    <tr>\n",
       "      <th>25%</th>\n",
       "      <td>2.000000</td>\n",
       "      <td>1.000000</td>\n",
       "      <td>0.000000</td>\n",
       "    </tr>\n",
       "    <tr>\n",
       "      <th>50%</th>\n",
       "      <td>7.000000</td>\n",
       "      <td>1.026000</td>\n",
       "      <td>0.067000</td>\n",
       "    </tr>\n",
       "    <tr>\n",
       "      <th>75%</th>\n",
       "      <td>42.000000</td>\n",
       "      <td>1.200000</td>\n",
       "      <td>0.221000</td>\n",
       "    </tr>\n",
       "    <tr>\n",
       "      <th>max</th>\n",
       "      <td>2821.000000</td>\n",
       "      <td>7.000000</td>\n",
       "      <td>12.500000</td>\n",
       "    </tr>\n",
       "  </tbody>\n",
       "</table>\n",
       "</div>"
      ],
      "text/plain": [
       "             count        mean         var\n",
       "count   179.000000  179.000000  149.000000\n",
       "mean     84.687151    1.235620    0.297114\n",
       "std     260.448581    0.641556    1.095704\n",
       "min       1.000000    1.000000    0.000000\n",
       "25%       2.000000    1.000000    0.000000\n",
       "50%       7.000000    1.026000    0.067000\n",
       "75%      42.000000    1.200000    0.221000\n",
       "max    2821.000000    7.000000   12.500000"
      ]
     },
     "execution_count": 10,
     "metadata": {},
     "output_type": "execute_result"
    }
   ],
   "source": [
    "mean_var_v[['count','mean','var']].describe()"
   ]
  },
  {
   "cell_type": "code",
   "execution_count": 156,
   "metadata": {
    "collapsed": false,
    "scrolled": true
   },
   "outputs": [
    {
     "data": {
      "image/png": "[encoded data removed]",
      "text/plain": [
       "<matplotlib.figure.Figure at 0x4b43beb8>"
      ]
     },
     "metadata": {},
     "output_type": "display_data"
    }
   ],
   "source": [
    "plt.scatter(x = np.log(mean_var_v[mean_var_v['count']>=7]['mean']), y = np.log(mean_var_v[mean_var_v['count']>=7]['var']))\n",
    "\n",
    "#plt.legend(loc='lower right')\n",
    "plt.xlabel('log(Mean)')\n",
    "plt.ylabel('log(Var)')\n",
    "plt.savefig('MeanVar_votes.pdf',format='pdf')"
   ]
  },
  {
   "cell_type": "markdown",
   "metadata": {},
   "source": [
    "# The outlier"
   ]
  },
  {
   "cell_type": "code",
   "execution_count": 132,
   "metadata": {
    "collapsed": false
   },
   "outputs": [
    {
     "data": {
      "text/html": [
       "<div>\n",
       "<table border=\"1\" class=\"dataframe\">\n",
       "  <thead>\n",
       "    <tr style=\"text-align: right;\">\n",
       "      <th></th>\n",
       "      <th>Ans_count</th>\n",
       "      <th>AnsRank</th>\n",
       "      <th>level_2</th>\n",
       "      <th>count</th>\n",
       "      <th>mean</th>\n",
       "      <th>var</th>\n",
       "    </tr>\n",
       "  </thead>\n",
       "  <tbody>\n",
       "    <tr>\n",
       "      <th>0</th>\n",
       "      <td>1</td>\n",
       "      <td>1</td>\n",
       "      <td>0</td>\n",
       "      <td>4819</td>\n",
       "      <td>1.911</td>\n",
       "      <td>2.063</td>\n",
       "    </tr>\n",
       "  </tbody>\n",
       "</table>\n",
       "</div>"
      ],
      "text/plain": [
       "   Ans_count  AnsRank  level_2  count   mean    var\n",
       "0          1        1        0   4819  1.911  2.063"
      ]
     },
     "execution_count": 132,
     "metadata": {},
     "output_type": "execute_result"
    }
   ],
   "source": [
    "mean_var_v[np.log(mean_var_v['var'])>0.5]"
   ]
  },
  {
   "cell_type": "markdown",
   "metadata": {},
   "source": [
    "# Votes/day on a given answer . (Context information: question, ans aggregates)"
   ]
  },
  {
   "cell_type": "markdown",
   "metadata": {},
   "source": [
    "# Does user quality estimation boost/reduce votes with respect to quality?"
   ]
  },
  {
   "cell_type": "markdown",
   "metadata": {},
   "source": [
    "# Do users correct for position bias?"
   ]
  },
  {
   "cell_type": "code",
   "execution_count": 155,
   "metadata": {
    "collapsed": false
   },
   "outputs": [
    {
     "name": "stdout",
     "output_type": "stream",
     "text": [
      "                               0         1         2         3         4\n",
      "C(AnsRank, Sum)[mean]  -0.230776 -0.799213 -1.955753 -3.797860 -3.797860\n",
      "C(AnsRank, Sum)[S.1.0]  0.164587  0.000000 -0.156278 -0.393910 -0.393910\n",
      "C(AnsRank, Sum)[S.2.0]  0.000000  0.000000  0.000000  0.241719  0.241719\n",
      "C(AnsRank, Sum)[S.3.0]  0.000000  0.000000  0.141840  0.325431  0.325431\n",
      "C(AnsRank, Sum)[S.4.0]  0.000000  0.000000  0.000000  0.000000  0.000000\n",
      "ReScore                -0.586199 -0.987113 -1.704387 -2.936222 -2.936222\n",
      "EPbias                  0.846111  1.466839  3.287317  6.825569  6.825569\n"
     ]
    },
    {
     "data": {
      "image/png": "[encoded data removed]",
      "text/plain": [
       "<matplotlib.figure.Figure at 0x48f4b3c8>"
      ]
     },
     "metadata": {},
     "output_type": "display_data"
    }
   ],
   "source": [
    "\n",
    "nb_ans = 5\n",
    "#+ C(AnsRank,Sum(omit=3)) + C(Rep_group,Sum(omit=0))\n",
    "# \n",
    "# + Ans_count + Comments + VotRcvAns + VotRcvQ\n",
    "fml = 'Votes ~ ReScore + EPbias + C(AnsRank,Sum) - 1'\n",
    "mat_1 = []\n",
    "dev_1 = []\n",
    "mat_ps_1 = []\n",
    "acounts = [0,1,2,3,4]\n",
    "CN = []\n",
    "r_method = sm.families.NegativeBinomial(link=sm.families.links.log)#sm.families.Poisson(link=sm.families.links.log)\n",
    "for age in acounts:\n",
    "    datas = votes_r[(votes_r.Ans_count > 1)&(votes_r.Ans_count<=nb_ans) & (votes_r.Age_group <= age)]\n",
    "    mod = smf.glm(fml, data=datas,\n",
    "                  family=r_method, offset=np.log(datas['Age_vot'] + 1))\n",
    "    rslt = mod.fit(method='bfgs')\n",
    "    mat_1.append(rslt.params[rslt.pvalues<=0.05].reindex(rslt.params.index).fillna(0))\n",
    "    dev_1.append(rslt.deviance)\n",
    "    mat_ps_1.append(rslt.pvalues)\n",
    "    #print rslt.summary()\n",
    "mat_1 = pd.DataFrame(mat_1, index=[str(x) for x in acounts])\n",
    "mat_ps_1 = pd.DataFrame(mat_ps_1, index=[str(x) for x in acounts])\n",
    "print mat_1.T\n",
    "\n",
    "mat_1.plot(legend=False)\n",
    "mat_1.plot()\n",
    "#mat_1.plot()\n",
    "plt.xlabel(\"Days since post creation\")\n",
    "plt.ylabel(\"Reg. coefficients (p<=0.05)\")\n",
    "#plt.savefig('CAnsRank.pdf',format='pdf')\n",
    "\n"
   ]
  },
  {
   "cell_type": "code",
   "execution_count": 138,
   "metadata": {
    "collapsed": false
   },
   "outputs": [
    {
     "data": {
      "image/png": "[encoded data removed]",
      "text/plain": [
       "<matplotlib.figure.Figure at 0x4ac92e10>"
      ]
     },
     "metadata": {},
     "output_type": "display_data"
    }
   ],
   "source": [
    "plt.plot(acounts,dev_1,label='Deviance')\n",
    "plt.legend(loc='upper right')\n",
    "plt.show()"
   ]
  },
  {
   "cell_type": "code",
   "execution_count": 154,
   "metadata": {
    "collapsed": false
   },
   "outputs": [
    {
     "name": "stdout",
     "output_type": "stream",
     "text": [
      "                                               0         1         2  \\\n",
      "C(DRank, Treatment(reference=2))[-2.0] -0.795497 -1.216857 -2.534399   \n",
      "C(DRank, Treatment(reference=2))[-1.0] -0.350870 -1.083451 -2.058247   \n",
      "C(DRank, Treatment(reference=2))[0.0]  -0.370929 -0.897179 -1.690905   \n",
      "C(DRank, Treatment(reference=2))[1.0]  -0.339720 -0.748642 -1.266092   \n",
      "C(DRank, Treatment(reference=2))[2.0]  -0.379933 -0.675993 -1.019738   \n",
      "ReScore                                -0.549923 -1.074718 -1.934838   \n",
      "EPbias                                  1.284285  1.765820  2.743643   \n",
      "\n",
      "                                               3         4  \n",
      "C(DRank, Treatment(reference=2))[-2.0] -4.879481 -4.879481  \n",
      "C(DRank, Treatment(reference=2))[-1.0] -3.741693 -3.741693  \n",
      "C(DRank, Treatment(reference=2))[0.0]  -3.298650 -3.298650  \n",
      "C(DRank, Treatment(reference=2))[1.0]  -2.389846 -2.389846  \n",
      "C(DRank, Treatment(reference=2))[2.0]  -1.891278 -1.891278  \n",
      "ReScore                                -3.286611 -3.286611  \n",
      "EPbias                                  5.708107  5.708107  \n"
     ]
    },
    {
     "data": {
      "image/png": "[encoded data removed]",
      "text/plain": [
       "<matplotlib.figure.Figure at 0x498ba198>"
      ]
     },
     "metadata": {},
     "output_type": "display_data"
    }
   ],
   "source": [
    "votes_r = votes_complete\n",
    "\n",
    "nb_ans = 3\n",
    "fml = 'Votes ~ ReScore+EPbias + C(DRank,Treatment(reference=%d)) - 1 '%(nb_ans-1)\n",
    "#fml = 'np.log(Votes+1) ~ C(DRank,Sum(omit=%d)) - 1 '%(0)\n",
    "mat_2 = []\n",
    "dev = []\n",
    "mat_ps = []\n",
    "acounts = [0,1,2,3,4]\n",
    "r_method = sm.families.NegativeBinomial(link=sm.families.links.log)#sm.families.Poisson(link=sm.families.links.log)\n",
    "for age in acounts:\n",
    "    datas = votes_r[(votes_r.Ans_count > 1) & (votes_r.Ans_count<=nb_ans) & (votes_r.Age_group <= age)]\n",
    "    mod = smf.glm(fml, data=datas,\n",
    "                  family=r_method, offset=np.log(datas['Age_vot'] + 1))\n",
    "    rslt = mod.fit(method='bfgs')\n",
    "    mat_2.append(rslt.params[rslt.pvalues<=0.05].reindex(rslt.params.index).fillna(0))\n",
    "    dev.append(rslt.deviance)\n",
    "    mat_ps.append(rslt.pvalues)\n",
    "mat_2 = pd.DataFrame(mat_2, index=[str(x) for x in acounts])\n",
    "mat_ps = pd.DataFrame(mat_ps, index=[str(x) for x in acounts])\n",
    "print mat_2.T\n",
    "mat_2.plot(legend=False)\n",
    "mat_2.plot()\n",
    "plt.xlabel(\"Days since post creation\")\n",
    "plt.ylabel(\"Reg. coefficients (p<=0.05)\")\n",
    "#plt.savefig('CDRankVignette.pdf',format='pdf')\n",
    "#Mean effect of positive levels (under estimation) have the highest mean effects \n",
    "#(either with dummy or Sum deviation coding)"
   ]
  },
  {
   "cell_type": "code",
   "execution_count": 162,
   "metadata": {
    "collapsed": false
   },
   "outputs": [
    {
     "name": "stdout",
     "output_type": "stream",
     "text": [
      "                        0             1             2             3  \\\n",
      "C(Rep_group)[0]  0.135542  1.469307e-10  1.310413e-20  3.368009e-21   \n",
      "C(Rep_group)[1]  0.019420  5.315998e-08  4.325308e-17  1.139090e-10   \n",
      "C(Rep_group)[2]  0.101878  3.847232e-08  5.014268e-14  7.147285e-19   \n",
      "C(Rep_group)[3]  0.023391  1.485266e-07  4.784383e-12  9.558159e-24   \n",
      "ReScore          0.000001  9.084499e-15  4.814479e-10  2.389031e-13   \n",
      "Pbias            0.001443  2.132869e-02  5.407792e-01  6.637984e-01   \n",
      "CumScore         0.000881  6.674776e-02  4.240161e-04  1.125778e-15   \n",
      "\n",
      "                            4  \n",
      "C(Rep_group)[0]  3.368009e-21  \n",
      "C(Rep_group)[1]  1.139090e-10  \n",
      "C(Rep_group)[2]  7.147285e-19  \n",
      "C(Rep_group)[3]  9.558159e-24  \n",
      "ReScore          2.389031e-13  \n",
      "Pbias            6.637984e-01  \n",
      "CumScore         1.125778e-15  \n"
     ]
    },
    {
     "data": {
      "text/plain": [
       "<matplotlib.axes._subplots.AxesSubplot at 0x4f3ec048>"
      ]
     },
     "execution_count": 162,
     "metadata": {},
     "output_type": "execute_result"
    },
    {
     "data": {
      "image/png": "[encoded data removed]",
      "text/plain": [
       "<matplotlib.figure.Figure at 0x5343a128>"
      ]
     },
     "metadata": {},
     "output_type": "display_data"
    },
    {
     "data": {
      "image/png": "[encoded data removed]",
      "text/plain": [
       "<matplotlib.figure.Figure at 0x52cb76d8>"
      ]
     },
     "metadata": {},
     "output_type": "display_data"
    }
   ],
   "source": [
    "print mat_ps.T\n",
    "mat_ps.plot(legend=False)\n",
    "mat_ps.plot()"
   ]
  },
  {
   "cell_type": "code",
   "execution_count": 94,
   "metadata": {
    "collapsed": false
   },
   "outputs": [
    {
     "data": {
      "image/png": "[encoded data removed]",
      "text/plain": [
       "<matplotlib.figure.Figure at 0x37212d68>"
      ]
     },
     "metadata": {},
     "output_type": "display_data"
    }
   ],
   "source": [
    "plt.plot(acounts,dev,label='Deviance')\n",
    "plt.legend(loc='upper right')\n",
    "plt.show()"
   ]
  },
  {
   "cell_type": "markdown",
   "metadata": {},
   "source": [
    "# Group Ranks"
   ]
  },
  {
   "cell_type": "code",
   "execution_count": 173,
   "metadata": {
    "collapsed": false
   },
   "outputs": [
    {
     "name": "stdout",
     "output_type": "stream",
     "text": [
      "[[ 1.  3.  0.  0.]\n",
      " [ 1. -1.  2.  0.]\n",
      " [ 1. -1. -1.  1.]\n",
      " [ 1. -1. -1. -1.]]\n"
     ]
    }
   ],
   "source": [
    "levels = [e+1 for e in range(4)]\n",
    "contrast = KRanksG().code_with_intercept(levels)\n",
    "print contrast.matrix"
   ]
  },
  {
   "cell_type": "code",
   "execution_count": 15,
   "metadata": {
    "collapsed": false
   },
   "outputs": [
    {
     "name": "stdout",
     "output_type": "stream",
     "text": [
      "                            OLS Regression Results                            \n",
      "==============================================================================\n",
      "Dep. Variable:      np.log(Votes + 1)   R-squared:                       0.849\n",
      "Model:                            OLS   Adj. R-squared:                  0.848\n",
      "Method:                 Least Squares   F-statistic:                 1.080e+04\n",
      "Date:                Mon, 04 Apr 2016   Prob (F-statistic):               0.00\n",
      "Time:                        03:57:34   Log-Likelihood:                 6125.1\n",
      "No. Observations:               11573   AIC:                        -1.224e+04\n",
      "Df Residuals:                   11566   BIC:                        -1.218e+04\n",
      "Df Model:                           6                                         \n",
      "Covariance Type:            nonrobust                                         \n",
      "======================================================================================================\n",
      "                                         coef    std err          t      P>|t|      [95.0% Conf. Int.]\n",
      "------------------------------------------------------------------------------------------------------\n",
      "C(AnsRank, KRanksG)[K-r.intercept] -2.941e+10   3.21e+10     -0.917      0.359     -9.23e+10  3.35e+10\n",
      "C(AnsRank, KRanksG)[K-r.2]          -9.02e+09   9.84e+09     -0.917      0.359     -2.83e+10  1.03e+10\n",
      "C(AnsRank, KRanksG)[K-r.3]         -3.922e+09   4.28e+09     -0.917      0.359     -1.23e+10  4.46e+09\n",
      "C(AnsRank, KRanksG)[K-r.4]         -2.353e+09   2.57e+09     -0.917      0.359     -7.38e+09  2.68e+09\n",
      "ReScore                               -0.4015      0.007    -60.170      0.000        -0.415    -0.388\n",
      "Score                                  0.2629      0.001    241.030      0.000         0.261     0.265\n",
      "Pbias                               5.648e+10   6.16e+10      0.917      0.359     -6.43e+10  1.77e+11\n",
      "==============================================================================\n",
      "Omnibus:                     4295.029   Durbin-Watson:                   1.222\n",
      "Prob(Omnibus):                  0.000   Jarque-Bera (JB):            59733.950\n",
      "Skew:                           1.393   Prob(JB):                         0.00\n",
      "Kurtosis:                      13.776   Cond. No.                     1.76e+14\n",
      "==============================================================================\n",
      "\n",
      "Warnings:\n",
      "[1] Standard Errors assume that the covariance matrix of the errors is correctly specified.\n",
      "[2] The smallest eigenvalue is 4.11e-24. This might indicate that there are\n",
      "strong multicollinearity problems or that the design matrix is singular.\n"
     ]
    }
   ],
   "source": [
    "#Comments Ans_count AnsWordCount DRank Age_vot \n",
    "mod_ols = smf.ols(formula='np.log(Votes+1) ~ ReScore + Score + Pbias + C(AnsRank,KRanksG) -1', data= votes_r[votes_r.Ans_count<=4])\n",
    "res = mod_ols.fit()\n",
    "print res.summary()\n",
    "##EPbias collinear with C(AnsRank,KRanks)"
   ]
  },
  {
   "cell_type": "markdown",
   "metadata": {},
   "source": [
    "## Kranks (NB: mean of contrast is relative to mean of individual effect of top answer)"
   ]
  },
  {
   "cell_type": "code",
   "execution_count": 12,
   "metadata": {
    "collapsed": false
   },
   "outputs": [
    {
     "name": "stdout",
     "output_type": "stream",
     "text": [
      "                            OLS Regression Results                            \n",
      "==============================================================================\n",
      "Dep. Variable:      np.log(Votes + 1)   R-squared:                       0.850\n",
      "Model:                            OLS   Adj. R-squared:                  0.849\n",
      "Method:                 Least Squares   F-statistic:                 1.088e+04\n",
      "Date:                Sun, 03 Apr 2016   Prob (F-statistic):               0.00\n",
      "Time:                        02:50:46   Log-Likelihood:                 6162.6\n",
      "No. Observations:               11573   AIC:                        -1.231e+04\n",
      "Df Residuals:                   11566   BIC:                        -1.226e+04\n",
      "Df Model:                           6                                         \n",
      "Covariance Type:            nonrobust                                         \n",
      "===============================================================================================\n",
      "                                  coef    std err          t      P>|t|      [95.0% Conf. Int.]\n",
      "-----------------------------------------------------------------------------------------------\n",
      "C(AnsRank, KRanks(1))[mean]    -3.0614      0.023   -133.308      0.000        -3.106    -3.016\n",
      "C(AnsRank, KRanks(1))[S.2]      0.7626      0.006    135.425      0.000         0.752     0.774\n",
      "C(AnsRank, KRanks(1))[S.3]      0.7604      0.006    118.860      0.000         0.748     0.773\n",
      "C(AnsRank, KRanks(1))[S.4]      0.7620      0.011     70.708      0.000         0.741     0.783\n",
      "ReScore                        -0.4009      0.007    -59.384      0.000        -0.414    -0.388\n",
      "Score                           0.2628      0.001    236.678      0.000         0.261     0.265\n",
      "EPbias                          0.0038      0.007      0.555      0.579        -0.010     0.017\n",
      "==============================================================================\n",
      "Omnibus:                     4274.580   Durbin-Watson:                   1.230\n",
      "Prob(Omnibus):                  0.000   Jarque-Bera (JB):            58931.493\n",
      "Skew:                           1.387   Prob(JB):                         0.00\n",
      "Kurtosis:                      13.701   Cond. No.                         52.8\n",
      "==============================================================================\n",
      "\n",
      "Warnings:\n",
      "[1] Standard Errors assume that the covariance matrix of the errors is correctly specified.\n"
     ]
    }
   ],
   "source": [
    "#Comments Ans_count AnsWordCount DRank Age_vot \n",
    "mod_ols = smf.ols(formula='np.log(Votes+1) ~ ReScore + Score + EPbias + C(AnsRank,KRanks(1)) -1', data= votes_r[votes_r.Ans_count<=4])\n",
    "res = mod_ols.fit()\n",
    "print res.summary()\n",
    "##EPbias collinear with C(AnsRank,KRanks)"
   ]
  },
  {
   "cell_type": "code",
   "execution_count": 86,
   "metadata": {
    "collapsed": false
   },
   "outputs": [
    {
     "name": "stdout",
     "output_type": "stream",
     "text": [
      "                                2.526     2.659     2.813     2.996     3.219  \\\n",
      "C(AnsRank, KRanks(1))[mean]  0.000000  0.000000  0.000000  0.000000  0.000000   \n",
      "C(AnsRank, KRanks(1))[S.2]   0.000000  0.000000  0.000000  0.000000  0.031282   \n",
      "C(AnsRank, KRanks(1))[S.3]   0.000000  0.000000  0.000000  0.000000  0.000000   \n",
      "C(AnsRank, KRanks(1))[S.4]   0.000000  0.000000  0.000000  0.000000  0.000000   \n",
      "ReScore                      0.034259  0.073109  0.111959  0.150808  0.172518   \n",
      "EPbias                       0.369929  0.379168  0.388407  0.397646  0.443181   \n",
      "Score                        0.302274  0.291494  0.280713  0.269932  0.260467   \n",
      "\n",
      "                                3.507     3.912     4.605  \n",
      "C(AnsRank, KRanks(1))[mean]  0.000000 -0.264903 -3.060290  \n",
      "C(AnsRank, KRanks(1))[S.2]   0.063715  0.176830  0.762379  \n",
      "C(AnsRank, KRanks(1))[S.3]   0.000000  0.070336  0.760198  \n",
      "C(AnsRank, KRanks(1))[S.4]   0.000000  0.000000  0.761587  \n",
      "ReScore                      0.193598  0.144608 -0.400710  \n",
      "EPbias                       0.490050  0.458805  0.004016  \n",
      "Score                        0.251050  0.244704  0.262795  \n"
     ]
    }
   ],
   "source": [
    "# Removes contrast tag against level to compare to (omit_i)\n",
    "fml = 'np.log(Votes+1) ~ ReScore + EPbias + Score +  C(AnsRank,KRanks(1)) -1'\n",
    "mat = []\n",
    "mses = []\n",
    "r2s = []\n",
    "alphas = np.arange(0, 0.07, 0.01)\n",
    "for alpha in alphas:\n",
    "    mod = sm.OLS.from_formula(fml, votes_r[votes_r.Ans_count<=4])\n",
    "    rslt = mod.fit_regularized(alpha=alpha)\n",
    "    mat.append(rslt.params)\n",
    "    mses.append(rslt.mse_resid)\n",
    "    r2s.append(rslt.rsquared)\n",
    "mat = pd.DataFrame(mat[::-1], index=[str(x) for x in np.around(-np.log(alphas + 0.01),decimals=3)[::-1]])\n",
    "print mat.T"
   ]
  },
  {
   "cell_type": "code",
   "execution_count": 87,
   "metadata": {
    "collapsed": false
   },
   "outputs": [
    {
     "data": {
      "text/plain": [
       "<matplotlib.axes._subplots.AxesSubplot at 0x3b096d68>"
      ]
     },
     "execution_count": 87,
     "metadata": {},
     "output_type": "execute_result"
    },
    {
     "data": {
      "image/png": "[encoded data removed]",
      "text/plain": [
       "<matplotlib.figure.Figure at 0x3a800c50>"
      ]
     },
     "metadata": {},
     "output_type": "display_data"
    },
    {
     "data": {
      "image/png": "[encoded data removed]",
      "text/plain": [
       "<matplotlib.figure.Figure at 0x3ace8eb8>"
      ]
     },
     "metadata": {},
     "output_type": "display_data"
    }
   ],
   "source": [
    "# Coefficients are small because these are relative increase/decrease\n",
    "# After first setp of regularization(0.015) there's evidence for the model: (e.g. 2 optimizes w/r to 3)\n",
    "# ReScore+EPbias+Score (all pos) + C(AnsRank,KRanks(2))[s.2,3,4] (neg e.g. pos 2 contributes positively w/r to 3)\n",
    "#\n",
    "#Interestingly, lower positions contribute positively compared to top position (rel to individual eff of first).\n",
    "#Does this mean they compensate for Pbias,Score ? Also, note that C(AnsRank,KRanks(2))[s.2] has max value among contrasts (joint information with top pos)\n",
    "#\n",
    "# Note that C(AnsRank,KRanks(2))[s.2] and C(AnsRank,KRanks(2))[mean] die after (0.015)\n",
    "# At 0.0 coeffs are really inflated (interpretation between -1,1 is not useless for Score,ReScore and EPbias at that point). Indeed, regularization is necessary\n",
    "mat.plot(legend=False)\n",
    "mat.plot()"
   ]
  },
  {
   "cell_type": "markdown",
   "metadata": {
    "collapsed": true
   },
   "source": [
    "## How does question quality relate to answer quality"
   ]
  },
  {
   "cell_type": "code",
   "execution_count": 143,
   "metadata": {
    "collapsed": false
   },
   "outputs": [
    {
     "name": "stdout",
     "output_type": "stream",
     "text": [
      "                0         1         2         3\n",
      "ReScore  0.660508  0.219504  0.284264  0.340334\n",
      "EPbias   0.690765  1.371342  1.369560  1.448960\n"
     ]
    },
    {
     "data": {
      "image/png": "[encoded data removed]",
      "text/plain": [
       "<matplotlib.figure.Figure at 0x48c306a0>"
      ]
     },
     "metadata": {},
     "output_type": "display_data"
    }
   ],
   "source": [
    "#Comments Ans_count AnsWordCount DRank Age_vot\n",
    "\n",
    "nb_ans = 5\n",
    "\n",
    "mat_q = []\n",
    "rsq = []\n",
    "mat_ps_q = []\n",
    "acounts = [0,1,2,3]\n",
    "\n",
    "for age in acounts:\n",
    "    datas = votes_r[(votes_r.Ans_count > 1) & (votes_r.Ans_count<=nb_ans) & (votes_r.Age_group == age)]\n",
    "    mod = smf.ols(formula='QReScore ~ ReScore + EPbias - 1 ', data=datas)\n",
    "    rslt = mod.fit()\n",
    "    mat_q.append(rslt.params[rslt.pvalues<=0.05].reindex(rslt.params.index).fillna(0))\n",
    "    rsq.append(rslt.rsquared_adj)\n",
    "    mat_ps_q.append(rslt.pvalues)\n",
    "mat_q = pd.DataFrame(mat_q, index=[str(x) for x in acounts])\n",
    "mat_ps_q = pd.DataFrame(mat_ps_q, index=[str(x) for x in acounts])\n",
    "print mat_q.T\n",
    "\n",
    "mat_q.plot()\n",
    "plt.xlabel(\"Days since post creation\")\n",
    "plt.ylabel(\"Reg. coefficients (p<=0.05)\")\n",
    "plt.savefig('QReScore.pdf',format='pdf')\n"
   ]
  },
  {
   "cell_type": "code",
   "execution_count": 140,
   "metadata": {
    "collapsed": false
   },
   "outputs": [
    {
     "data": {
      "image/png": "[encoded data removed]",
      "text/plain": [
       "<matplotlib.figure.Figure at 0x4afb2748>"
      ]
     },
     "metadata": {},
     "output_type": "display_data"
    }
   ],
   "source": [
    "plt.plot(acounts,rsq)\n",
    "plt.legend(loc='lower right')\n",
    "plt.xlabel('Days since post creation')\n",
    "plt.ylabel('Adjusted RSS')\n",
    "plt.savefig('RSSQReScore.pdf',format='pdf')\n",
    "plt.show()"
   ]
  },
  {
   "cell_type": "code",
   "execution_count": 106,
   "metadata": {
    "collapsed": false,
    "scrolled": true
   },
   "outputs": [
    {
     "name": "stdout",
     "output_type": "stream",
     "text": [
      "                 Generalized Linear Model Regression Results                  \n",
      "==============================================================================\n",
      "Dep. Variable:               QReScore   No. Observations:                 2172\n",
      "Model:                            GLM   Df Residuals:                     2170\n",
      "Model Family:                 Poisson   Df Model:                            1\n",
      "Link Function:                    log   Scale:                             1.0\n",
      "Method:                          IRLS   Log-Likelihood:                -2016.8\n",
      "Date:                Sat, 02 Apr 2016   Deviance:                       168.97\n",
      "Time:                        14:28:45   Pearson chi2:                     143.\n",
      "No. Iterations:                     7                                         \n",
      "==============================================================================\n",
      "                 coef    std err          z      P>|z|      [95.0% Conf. Int.]\n",
      "------------------------------------------------------------------------------\n",
      "ReScore        0.0081      0.067      0.121      0.904        -0.123     0.139\n",
      "EPbias        -0.7037      0.172     -4.091      0.000        -1.041    -0.367\n",
      "==============================================================================\n"
     ]
    }
   ],
   "source": [
    "mod_poi = smf.glm('QReScore ~ ReScore + EPbias - 1 ', data=votes[votes['Ans_count']==4],\n",
    "                  family=sm.families.Poisson(link=sm.families.links.log)).fit(method='bfgs') #\n",
    "#print mod_poi.mle_retvals['converged']\n",
    "print mod_poi.summary()"
   ]
  },
  {
   "cell_type": "code",
   "execution_count": 6,
   "metadata": {
    "collapsed": true
   },
   "outputs": [],
   "source": [
    "from patsy.contrasts import ContrastMatrix\n",
    "\n",
    "def _name_levels(prefix, levels):\n",
    "    return [\"[%s%s]\" % (prefix, level) for level in levels]\n",
    "\n",
    "class KRanksG(object):\n",
    "    \"\"\"K-rank contrasts.\n",
    "       Compare relative effect on output variable for a given level\n",
    "       against all those below.\n",
    "       \n",
    "       # Reduced rank\n",
    "       dmatrix(\"C(a, KRanks)\", balanced(a=4))\n",
    "       # Full rank\n",
    "       dmatrix(\"0 + C(a, KRanks)\", balanced(a=4))\n",
    "    \"\"\"\n",
    "    def _kranksg_contrast(self, levels):\n",
    "        n = len(levels)\n",
    "        contr = np.zeros((n, n - 1))\n",
    "        contr[:-1][np.diag_indices(n - 1)] = np.arange(1, n)[::-1]\n",
    "        rows,cols = np.tril_indices(n-1)\n",
    "        contr[(rows+1,cols)] = -1\n",
    "        return contr\n",
    "\n",
    "    def code_with_intercept(self, levels):\n",
    "        contrast = np.column_stack((np.ones(len(levels)),\n",
    "                                    self._kranksg_contrast(levels)))\n",
    "        column_suffixes = _name_levels(\"K-r.\", [\"intercept\"] + list(levels[1:]))\n",
    "        return ContrastMatrix(contrast, column_suffixes)\n",
    "\n",
    "    def code_without_intercept(self, levels):\n",
    "        contrast = self._kranksg_contrast(levels)\n",
    "        return ContrastMatrix(contrast, _name_levels(\"K-r.\", levels[1:]))\n",
    "                              "
   ]
  },
  {
   "cell_type": "code",
   "execution_count": 7,
   "metadata": {
    "collapsed": true
   },
   "outputs": [],
   "source": [
    "from patsy.contrasts import ContrastMatrix\n",
    "class KRanks(object):\n",
    "    \"\"\"\n",
    "       # Reduced rank\n",
    "       dmatrix(\"C(a, TwoRanks)\", balanced(a=4))\n",
    "       # Full rank\n",
    "       dmatrix(\"0 + C(a, TwoRanks)\", balanced(a=4))\n",
    "       # Omit a different level\n",
    "       dmatrix(\"C(a, TwoRanks(1))\", balanced(a=3))\n",
    "       dmatrix(\"C(a, TwoRanks('a1'))\", balanced(a=3))\n",
    "    \"\"\"\n",
    "    #We assume levels are all different\n",
    "    def _get_level(self,levels,omit):\n",
    "        return levels.index(omit)\n",
    "    \n",
    "    def __init__(self, omit=None):\n",
    "        self.omit = omit\n",
    "\n",
    "    def _omit_i(self, levels):\n",
    "        if self.omit is None:\n",
    "            # We assume below that this is positive\n",
    "            return len(levels) - 1\n",
    "        else:\n",
    "            return self._get_level(levels, self.omit)\n",
    "\n",
    "    def _kranks_contrast(self, levels):\n",
    "        n = len(levels)\n",
    "        omit_i = self._omit_i(levels)\n",
    "        #self._omit_i(levels)\n",
    "        eye = np.eye(n - 1)\n",
    "        out = np.empty((n, n - 1))\n",
    "        out[:omit_i, :] = eye[:omit_i, :]\n",
    "        out[omit_i, :] = -1\n",
    "        out[omit_i + 1:, :] = eye[omit_i:, :]\n",
    "        return out\n",
    "\n",
    "    def code_with_intercept(self, levels):\n",
    "        contrast = self.code_without_intercept(levels)\n",
    "        n_zeros = np.zeros(len(levels))\n",
    "        np.put(n_zeros,0,[-1])\n",
    "        matrix = np.column_stack((n_zeros,\n",
    "                                  contrast.matrix))\n",
    "        column_suffixes = [\"[mean]\"] + contrast.column_suffixes\n",
    "        return ContrastMatrix(matrix, column_suffixes)\n",
    "\n",
    "    def code_without_intercept(self, levels):\n",
    "        matrix = self._kranks_contrast(levels)\n",
    "        omit_i = self._omit_i(levels)\n",
    "        included_levels = levels[:omit_i] + levels[omit_i + 1:]\n",
    "        return ContrastMatrix(matrix, _name_levels(\"S.\", included_levels))\n"
   ]
  },
  {
   "cell_type": "code",
   "execution_count": 43,
   "metadata": {
    "collapsed": false
   },
   "outputs": [],
   "source": [
    "from patsy.contrasts import *\n",
    "Treatment??"
   ]
  },
  {
   "cell_type": "code",
   "execution_count": null,
   "metadata": {
    "collapsed": true
   },
   "outputs": [],
   "source": []
  }
 ],
 "metadata": {
  "kernelspec": {
   "display_name": "Python 2",
   "language": "python",
   "name": "python2"
  },
  "language_info": {
   "codemirror_mode": {
    "name": "ipython",
    "version": 2
   },
   "file_extension": ".py",
   "mimetype": "text/x-python",
   "name": "python",
   "nbconvert_exporter": "python",
   "pygments_lexer": "ipython2",
   "version": "2.7.11"
  }
 },
 "nbformat": 4,
 "nbformat_minor": 0
}
