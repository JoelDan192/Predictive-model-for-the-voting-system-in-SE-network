{
 "cells": [
  {
   "cell_type": "code",
   "execution_count": 3,
   "metadata": {
    "collapsed": true
   },
   "outputs": [],
   "source": [
    "%matplotlib inline\n",
    "import pandas as pd\n",
    "import numpy as np\n",
    "\n",
    "import os"
   ]
  },
  {
   "cell_type": "code",
   "execution_count": 88,
   "metadata": {
    "collapsed": true
   },
   "outputs": [],
   "source": [
    "votes = pd.DataFrame.from_csv('VotesRaw.csv')\n",
    "votes.index = range(votes.shape[0])"
   ]
  },
  {
   "cell_type": "code",
   "execution_count": 89,
   "metadata": {
    "collapsed": false
   },
   "outputs": [],
   "source": [
    "feats = [\"QuestionId\",\"AnsRank\",\"Votes\",\"ReScore\",\"Norm_Pos\",\"Norm_Pos_2\",\"Norm_DRank\"]\n",
    "get_row_at = lambda df,at: pd.DataFrame(dict(zip(df.iloc[at].index,[[v] for v in df.iloc[at].values])),index=[df.iloc[at].name])\n",
    "get_arrival = lambda df: df[feats] if df.shape[0]==1 else get_row_at(df[feats],1)\n",
    "first_arrivals = votes.sort_values(by='Age_vot').groupby(['AnsId']).apply(get_arrival).reset_index(level=[0],drop=False)\n",
    "fst_arr_idx = first_arrivals.index"
   ]
  },
  {
   "cell_type": "code",
   "execution_count": 103,
   "metadata": {
    "collapsed": false
   },
   "outputs": [],
   "source": [
    "# can take into account more than one arrival if happens the same day\n",
    "feats = [f for f in feats if f not in ['QuestionId','Age_vot']]\n",
    "has_first_arrival = lambda df: np.intersect1d(df.index.values,fst_arr_idx).size>=1\n",
    "votes_w_fstarr = votes.groupby(['QuestionId','Age_vot']).apply(lambda df: df[feats] if has_first_arrival(df) else pd.DataFrame()).reset_index(level=[0,1],drop=False)"
   ]
  },
  {
   "cell_type": "code",
   "execution_count": 113,
   "metadata": {
    "collapsed": false
   },
   "outputs": [],
   "source": [
    "non_fst_idx = np.setdiff1d(votes.index.values,fst_arr_idx)\n",
    "train = votes.loc[votes.index.isin(non_fst_idx),:]"
   ]
  },
  {
   "cell_type": "code",
   "execution_count": null,
   "metadata": {
    "collapsed": true
   },
   "outputs": [],
   "source": []
  }
 ],
 "metadata": {
  "kernelspec": {
   "display_name": "Python 2",
   "language": "python",
   "name": "python2"
  },
  "language_info": {
   "codemirror_mode": {
    "name": "ipython",
    "version": 2
   },
   "file_extension": ".py",
   "mimetype": "text/x-python",
   "name": "python",
   "nbconvert_exporter": "python",
   "pygments_lexer": "ipython2",
   "version": "2.7.11"
  }
 },
 "nbformat": 4,
 "nbformat_minor": 0
}
