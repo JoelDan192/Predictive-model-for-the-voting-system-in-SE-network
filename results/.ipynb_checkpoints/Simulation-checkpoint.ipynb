{
 "cells": [
  {
   "cell_type": "code",
   "execution_count": 16,
   "metadata": {
    "collapsed": true
   },
   "outputs": [],
   "source": [
    "%matplotlib inline\n",
    "import pandas as pd\n",
    "import numpy as np\n",
    "\n",
    "import os"
   ]
  },
  {
   "cell_type": "code",
   "execution_count": 17,
   "metadata": {
    "collapsed": false
   },
   "outputs": [
    {
     "name": "stdout",
     "output_type": "stream",
     "text": [
      "(27041, 17)\n"
     ]
    }
   ],
   "source": [
    "votes = pd.DataFrame.from_csv('VotesRaw.csv')\n",
    "votes.index = range(votes.shape[0])\n",
    "print votes.shape"
   ]
  },
  {
   "cell_type": "code",
   "execution_count": 18,
   "metadata": {
    "collapsed": false
   },
   "outputs": [],
   "source": [
    "# Note: there are some spurious entries Ans with only one entry in the whole dataset.\n",
    "feats = ['Ans_count',\"QuestionId\",\"AnsRank\",\"Votes\",\"ReScore\",\"Norm_Pos\",\"Norm_Pos_2\",\"Norm_DRank\",\"EPbias\"]\n",
    "## preserves index\n",
    "get_row_at = lambda df,at: pd.DataFrame(dict(zip(df.iloc[at].index,[[v] for v in df.iloc[at].values])),index=[df.iloc[at].name])\n",
    "get_arrival = lambda df: get_row_at(df[feats],1) if df.shape[0]>1 else pd.DataFrame()\n",
    "first_arrivals = votes.sort_values(by='Age').groupby(['AnsId']).apply(get_arrival).reset_index(level=[0]\n",
    "                                                                                                   ,drop=False)\n",
    "fst_arr_idx = first_arrivals.index"
   ]
  },
  {
   "cell_type": "code",
   "execution_count": 19,
   "metadata": {
    "collapsed": false
   },
   "outputs": [
    {
     "data": {
      "text/plain": [
       "4759"
      ]
     },
     "execution_count": 19,
     "metadata": {},
     "output_type": "execute_result"
    }
   ],
   "source": [
    "fst_arr_idx.size"
   ]
  },
  {
   "cell_type": "code",
   "execution_count": 20,
   "metadata": {
    "collapsed": false
   },
   "outputs": [
    {
     "data": {
      "text/plain": [
       "2516"
      ]
     },
     "execution_count": 20,
     "metadata": {},
     "output_type": "execute_result"
    }
   ],
   "source": [
    "np.unique(votes.QuestionId.values).size"
   ]
  },
  {
   "cell_type": "markdown",
   "metadata": {},
   "source": [
    "## For regression, take Qid and time at which ans arrives"
   ]
  },
  {
   "cell_type": "code",
   "execution_count": 21,
   "metadata": {
    "collapsed": false
   },
   "outputs": [
    {
     "data": {
      "text/plain": [
       "(54939, 18)"
      ]
     },
     "execution_count": 21,
     "metadata": {},
     "output_type": "execute_result"
    }
   ],
   "source": [
    "# can take into account more than one arrival if happens the same day\n",
    "\n",
    "has_first_arrival = lambda df: np.intersect1d(df.index.values,fst_arr_idx.values).size==1\n",
    "qid_age_fstarr = votes.groupby(['QuestionId','Age']).apply(\n",
    "    lambda df: get_row_at(df[['QuestionId','Age']],0)\n",
    "        if has_first_arrival(df) else pd.DataFrame()).reset_index(level=[0,1],drop=True)\n",
    "votes_from_fstarr = pd.merge(qid_age_fstarr,votes,how='inner',on=['QuestionId'],suffixes=['_from','_curr'])\n",
    "votes_from_fstarr.shape"
   ]
  },
  {
   "cell_type": "code",
   "execution_count": 34,
   "metadata": {
    "collapsed": false
   },
   "outputs": [
    {
     "data": {
      "text/plain": [
       "1      998\n",
       "2      539\n",
       "3      200\n",
       "4      102\n",
       "5       74\n",
       "6       63\n",
       "7       36\n",
       "8       36\n",
       "9       26\n",
       "10      19\n",
       "11      16\n",
       "12      16\n",
       "18      14\n",
       "14      14\n",
       "13      13\n",
       "16      11\n",
       "17      10\n",
       "15       9\n",
       "24       9\n",
       "21       8\n",
       "20       7\n",
       "35       7\n",
       "36       6\n",
       "29       5\n",
       "19       4\n",
       "169      4\n",
       "244      4\n",
       "27       4\n",
       "47       4\n",
       "25       4\n",
       "      ... \n",
       "705      1\n",
       "709      1\n",
       "711      1\n",
       "713      1\n",
       "717      1\n",
       "718      1\n",
       "721      1\n",
       "614      1\n",
       "613      1\n",
       "610      1\n",
       "558      1\n",
       "540      1\n",
       "545      1\n",
       "547      1\n",
       "548      1\n",
       "550      1\n",
       "555      1\n",
       "556      1\n",
       "557      1\n",
       "561      1\n",
       "606      1\n",
       "569      1\n",
       "570      1\n",
       "577      1\n",
       "584      1\n",
       "585      1\n",
       "591      1\n",
       "602      1\n",
       "605      1\n",
       "408      1\n",
       "Name: Age, dtype: int64"
      ]
     },
     "execution_count": 34,
     "metadata": {},
     "output_type": "execute_result"
    }
   ],
   "source": [
    "qid_age_fstarr['Age'].value_counts()"
   ]
  },
  {
   "cell_type": "code",
   "execution_count": 22,
   "metadata": {
    "collapsed": false
   },
   "outputs": [],
   "source": [
    "feats_reg = ['QuestionId','Age_curr',\n",
    "             'Ans_count','AnsId','Votes','AnsRank','ReScore', 'Norm_Pos','Norm_Pos_2','Norm_DRank','EPbias']\n",
    "votes_from_fstarr = votes_from_fstarr[votes_from_fstarr['Age_curr']>=votes_from_fstarr['Age_from']]\n",
    "votes_from_fstarr = votes_from_fstarr[feats_reg].drop_duplicates()"
   ]
  },
  {
   "cell_type": "code",
   "execution_count": 32,
   "metadata": {
    "collapsed": false
   },
   "outputs": [
    {
     "data": {
      "text/html": [
       "<div>\n",
       "<table border=\"1\" class=\"dataframe\">\n",
       "  <thead>\n",
       "    <tr style=\"text-align: right;\">\n",
       "      <th></th>\n",
       "      <th>QuestionId</th>\n",
       "      <th>Age_curr</th>\n",
       "      <th>Ans_count</th>\n",
       "      <th>AnsId</th>\n",
       "      <th>Votes</th>\n",
       "      <th>AnsRank</th>\n",
       "      <th>ReScore</th>\n",
       "      <th>Norm_Pos</th>\n",
       "      <th>Norm_Pos_2</th>\n",
       "      <th>Norm_DRank</th>\n",
       "      <th>EPbias</th>\n",
       "    </tr>\n",
       "  </thead>\n",
       "  <tbody>\n",
       "    <tr>\n",
       "      <th>7</th>\n",
       "      <td>1</td>\n",
       "      <td>2</td>\n",
       "      <td>4</td>\n",
       "      <td>56</td>\n",
       "      <td>1</td>\n",
       "      <td>1</td>\n",
       "      <td>0.666667</td>\n",
       "      <td>0.25</td>\n",
       "      <td>0.0625</td>\n",
       "      <td>0</td>\n",
       "      <td>0.327900</td>\n",
       "    </tr>\n",
       "    <tr>\n",
       "      <th>8</th>\n",
       "      <td>1</td>\n",
       "      <td>2</td>\n",
       "      <td>4</td>\n",
       "      <td>210</td>\n",
       "      <td>1</td>\n",
       "      <td>2</td>\n",
       "      <td>0.000000</td>\n",
       "      <td>0.50</td>\n",
       "      <td>0.2500</td>\n",
       "      <td>0</td>\n",
       "      <td>0.191223</td>\n",
       "    </tr>\n",
       "    <tr>\n",
       "      <th>9</th>\n",
       "      <td>1</td>\n",
       "      <td>2</td>\n",
       "      <td>4</td>\n",
       "      <td>4</td>\n",
       "      <td>0</td>\n",
       "      <td>3</td>\n",
       "      <td>0.000000</td>\n",
       "      <td>0.75</td>\n",
       "      <td>0.5625</td>\n",
       "      <td>0</td>\n",
       "      <td>0.221944</td>\n",
       "    </tr>\n",
       "    <tr>\n",
       "      <th>10</th>\n",
       "      <td>1</td>\n",
       "      <td>2</td>\n",
       "      <td>4</td>\n",
       "      <td>5</td>\n",
       "      <td>0</td>\n",
       "      <td>4</td>\n",
       "      <td>0.000000</td>\n",
       "      <td>1.00</td>\n",
       "      <td>1.0000</td>\n",
       "      <td>0</td>\n",
       "      <td>0.258934</td>\n",
       "    </tr>\n",
       "    <tr>\n",
       "      <th>11</th>\n",
       "      <td>1</td>\n",
       "      <td>5</td>\n",
       "      <td>4</td>\n",
       "      <td>56</td>\n",
       "      <td>1</td>\n",
       "      <td>1</td>\n",
       "      <td>0.833333</td>\n",
       "      <td>0.25</td>\n",
       "      <td>0.0625</td>\n",
       "      <td>0</td>\n",
       "      <td>0.327900</td>\n",
       "    </tr>\n",
       "  </tbody>\n",
       "</table>\n",
       "</div>"
      ],
      "text/plain": [
       "    QuestionId  Age_curr  Ans_count  AnsId  Votes  AnsRank   ReScore  \\\n",
       "7            1         2          4     56      1        1  0.666667   \n",
       "8            1         2          4    210      1        2  0.000000   \n",
       "9            1         2          4      4      0        3  0.000000   \n",
       "10           1         2          4      5      0        4  0.000000   \n",
       "11           1         5          4     56      1        1  0.833333   \n",
       "\n",
       "    Norm_Pos  Norm_Pos_2  Norm_DRank    EPbias  \n",
       "7       0.25      0.0625           0  0.327900  \n",
       "8       0.50      0.2500           0  0.191223  \n",
       "9       0.75      0.5625           0  0.221944  \n",
       "10      1.00      1.0000           0  0.258934  \n",
       "11      0.25      0.0625           0  0.327900  "
      ]
     },
     "execution_count": 32,
     "metadata": {},
     "output_type": "execute_result"
    }
   ],
   "source": [
    "votes_from_fstarr.head()"
   ]
  },
  {
   "cell_type": "code",
   "execution_count": 29,
   "metadata": {
    "collapsed": false
   },
   "outputs": [],
   "source": [
    "nb_choices_nnet = 2\n",
    "for_nnet = pd.DataFrame()\n",
    "for k,g in votes_from_fstarr[votes_from_fstarr['Ans_count']==nb_choices_nnet].groupby(['Votes']):\n",
    "    if k>1:\n",
    "        for_nnet = for_nnet.append([g]*(int(k-1)),ignore_index=True)\n",
    "    else:\n",
    "        for_nnet = for_nnet.append(g,ignore_index=True)\n",
    "for_nnet.loc[for_nnet.Votes>1,'Votes']=1\n",
    "for_nnet = for_nnet[for_nnet.Votes>0]\n",
    "for_nnet.to_csv('Qtnnet%dFirstArr.csv'%nb_choices_nnet)  "
   ]
  },
  {
   "cell_type": "markdown",
   "metadata": {},
   "source": [
    "## For simulation take exactly the question state when ans arrives"
   ]
  },
  {
   "cell_type": "code",
   "execution_count": 29,
   "metadata": {
    "collapsed": false
   },
   "outputs": [],
   "source": [
    "# can take into account more than one arrival if happens the same day\n",
    "feats = ['Ans_count',\"AnsRank\",\"Votes\",\"ReScore\",\"Norm_Pos\",\"Norm_Pos_2\",\"Norm_DRank\"]\n",
    "has_first_arrival = lambda df: np.intersect1d(df.index.values,fst_arr_idx.values).size==1\n",
    "votes_on_fstarr = votes.groupby(['QuestionId','Age_vot']).apply(\n",
    "    lambda df: df[feats] if has_first_arrival(df) else pd.DataFrame()).reset_index(level=[0,1],drop=False)"
   ]
  },
  {
   "cell_type": "code",
   "execution_count": null,
   "metadata": {
    "collapsed": true
   },
   "outputs": [],
   "source": []
  },
  {
   "cell_type": "code",
   "execution_count": null,
   "metadata": {
    "collapsed": true
   },
   "outputs": [],
   "source": []
  },
  {
   "cell_type": "code",
   "execution_count": null,
   "metadata": {
    "collapsed": true
   },
   "outputs": [],
   "source": []
  },
  {
   "cell_type": "code",
   "execution_count": null,
   "metadata": {
    "collapsed": true
   },
   "outputs": [],
   "source": []
  },
  {
   "cell_type": "code",
   "execution_count": 112,
   "metadata": {
    "collapsed": true
   },
   "outputs": [],
   "source": [
    "nb_choices_nnet = 6\n",
    "for_nnet = pd.DataFrame()\n",
    "for k,g in votes_on_fstarr[votes_on_fstarr['Ans_count']==nb_choices_nnet].groupby(['Votes']):\n",
    "    if k>1:\n",
    "        for_nnet = for_nnet.append([g]*(int(k-1)),ignore_index=True)\n",
    "    else:\n",
    "        for_nnet = for_nnet.append(g,ignore_index=True)\n",
    "for_nnet.loc[for_nnet.Votes>1,'Votes']=1\n",
    "for_nnet = for_nnet[for_nnet.Votes>0]\n",
    "for_nnet.to_csv('VotesOnArr%d.csv'%nb_choices_nnet)"
   ]
  },
  {
   "cell_type": "code",
   "execution_count": null,
   "metadata": {
    "collapsed": true
   },
   "outputs": [],
   "source": []
  },
  {
   "cell_type": "code",
   "execution_count": 113,
   "metadata": {
    "collapsed": false
   },
   "outputs": [],
   "source": [
    "#non_fst_idx = np.setdiff1d(votes.index.values,fst_arr_idx)\n",
    "#train = votes.loc[votes.index.isin(non_fst_idx),:]"
   ]
  },
  {
   "cell_type": "code",
   "execution_count": null,
   "metadata": {
    "collapsed": true
   },
   "outputs": [],
   "source": []
  }
 ],
 "metadata": {
  "kernelspec": {
   "display_name": "Python 2",
   "language": "python",
   "name": "python2"
  },
  "language_info": {
   "codemirror_mode": {
    "name": "ipython",
    "version": 2
   },
   "file_extension": ".py",
   "mimetype": "text/x-python",
   "name": "python",
   "nbconvert_exporter": "python",
   "pygments_lexer": "ipython2",
   "version": "2.7.11"
  }
 },
 "nbformat": 4,
 "nbformat_minor": 0
}
