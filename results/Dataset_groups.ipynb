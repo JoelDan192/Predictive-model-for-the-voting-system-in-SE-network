{
 "cells": [
  {
   "cell_type": "code",
   "execution_count": 1,
   "metadata": {
    "collapsed": true
   },
   "outputs": [],
   "source": [
    "%matplotlib inline\n",
    "import pandas as pd\n",
    "import numpy as np\n",
    "import matplotlib.pyplot as plt"
   ]
  },
  {
   "cell_type": "code",
   "execution_count": 12,
   "metadata": {
    "collapsed": false,
    "scrolled": true
   },
   "outputs": [
    {
     "data": {
      "text/html": [
       "<div>\n",
       "<table border=\"1\" class=\"dataframe\">\n",
       "  <thead>\n",
       "    <tr style=\"text-align: right;\">\n",
       "      <th></th>\n",
       "      <th>QuestionId</th>\n",
       "      <th>AnsId</th>\n",
       "      <th>Age_vot</th>\n",
       "      <th>AnsWordCount</th>\n",
       "      <th>AcceptedAnsId</th>\n",
       "      <th>QScore</th>\n",
       "      <th>QVotes</th>\n",
       "      <th>Score</th>\n",
       "      <th>Votes</th>\n",
       "      <th>Upvotes</th>\n",
       "      <th>...</th>\n",
       "      <th>CumScore</th>\n",
       "      <th>ReScore</th>\n",
       "      <th>QReScore</th>\n",
       "      <th>Comments</th>\n",
       "      <th>AnsRank</th>\n",
       "      <th>ReScore_rank</th>\n",
       "      <th>Ans_count</th>\n",
       "      <th>Pbias</th>\n",
       "      <th>DRank</th>\n",
       "      <th>EPbias</th>\n",
       "    </tr>\n",
       "  </thead>\n",
       "  <tbody>\n",
       "    <tr>\n",
       "      <th>0</th>\n",
       "      <td>1</td>\n",
       "      <td>56</td>\n",
       "      <td>0</td>\n",
       "      <td>201</td>\n",
       "      <td>56</td>\n",
       "      <td>0</td>\n",
       "      <td>0</td>\n",
       "      <td>2</td>\n",
       "      <td>2</td>\n",
       "      <td>2</td>\n",
       "      <td>...</td>\n",
       "      <td>0</td>\n",
       "      <td>0</td>\n",
       "      <td>0</td>\n",
       "      <td>0</td>\n",
       "      <td>1</td>\n",
       "      <td>1</td>\n",
       "      <td>1</td>\n",
       "      <td>1</td>\n",
       "      <td>0</td>\n",
       "      <td>1</td>\n",
       "    </tr>\n",
       "    <tr>\n",
       "      <th>1</th>\n",
       "      <td>2</td>\n",
       "      <td>10</td>\n",
       "      <td>0</td>\n",
       "      <td>145</td>\n",
       "      <td>10</td>\n",
       "      <td>0</td>\n",
       "      <td>0</td>\n",
       "      <td>3</td>\n",
       "      <td>3</td>\n",
       "      <td>3</td>\n",
       "      <td>...</td>\n",
       "      <td>0</td>\n",
       "      <td>0</td>\n",
       "      <td>0</td>\n",
       "      <td>0</td>\n",
       "      <td>1</td>\n",
       "      <td>1</td>\n",
       "      <td>1</td>\n",
       "      <td>1</td>\n",
       "      <td>0</td>\n",
       "      <td>1</td>\n",
       "    </tr>\n",
       "    <tr>\n",
       "      <th>2</th>\n",
       "      <td>2</td>\n",
       "      <td>10</td>\n",
       "      <td>0</td>\n",
       "      <td>145</td>\n",
       "      <td>10</td>\n",
       "      <td>0</td>\n",
       "      <td>0</td>\n",
       "      <td>3</td>\n",
       "      <td>3</td>\n",
       "      <td>3</td>\n",
       "      <td>...</td>\n",
       "      <td>0</td>\n",
       "      <td>0</td>\n",
       "      <td>0</td>\n",
       "      <td>0</td>\n",
       "      <td>1</td>\n",
       "      <td>1</td>\n",
       "      <td>1</td>\n",
       "      <td>1</td>\n",
       "      <td>0</td>\n",
       "      <td>1</td>\n",
       "    </tr>\n",
       "    <tr>\n",
       "      <th>3</th>\n",
       "      <td>3</td>\n",
       "      <td>9</td>\n",
       "      <td>0</td>\n",
       "      <td>25</td>\n",
       "      <td>109</td>\n",
       "      <td>0</td>\n",
       "      <td>0</td>\n",
       "      <td>4</td>\n",
       "      <td>4</td>\n",
       "      <td>4</td>\n",
       "      <td>...</td>\n",
       "      <td>0</td>\n",
       "      <td>0</td>\n",
       "      <td>0</td>\n",
       "      <td>0</td>\n",
       "      <td>1</td>\n",
       "      <td>1</td>\n",
       "      <td>1</td>\n",
       "      <td>1</td>\n",
       "      <td>0</td>\n",
       "      <td>1</td>\n",
       "    </tr>\n",
       "    <tr>\n",
       "      <th>4</th>\n",
       "      <td>7</td>\n",
       "      <td>16</td>\n",
       "      <td>0</td>\n",
       "      <td>45</td>\n",
       "      <td>2977</td>\n",
       "      <td>0</td>\n",
       "      <td>0</td>\n",
       "      <td>3</td>\n",
       "      <td>3</td>\n",
       "      <td>3</td>\n",
       "      <td>...</td>\n",
       "      <td>0</td>\n",
       "      <td>0</td>\n",
       "      <td>0</td>\n",
       "      <td>0</td>\n",
       "      <td>1</td>\n",
       "      <td>1</td>\n",
       "      <td>1</td>\n",
       "      <td>1</td>\n",
       "      <td>0</td>\n",
       "      <td>1</td>\n",
       "    </tr>\n",
       "  </tbody>\n",
       "</table>\n",
       "<p>5 rows × 22 columns</p>\n",
       "</div>"
      ],
      "text/plain": [
       "   QuestionId  AnsId  Age_vot  AnsWordCount  AcceptedAnsId  QScore  QVotes  \\\n",
       "0           1     56        0           201             56       0       0   \n",
       "1           2     10        0           145             10       0       0   \n",
       "2           2     10        0           145             10       0       0   \n",
       "3           3      9        0            25            109       0       0   \n",
       "4           7     16        0            45           2977       0       0   \n",
       "\n",
       "   Score  Votes  Upvotes   ...    CumScore  ReScore  QReScore  Comments  \\\n",
       "0      2      2        2   ...           0        0         0         0   \n",
       "1      3      3        3   ...           0        0         0         0   \n",
       "2      3      3        3   ...           0        0         0         0   \n",
       "3      4      4        4   ...           0        0         0         0   \n",
       "4      3      3        3   ...           0        0         0         0   \n",
       "\n",
       "   AnsRank  ReScore_rank  Ans_count  Pbias  DRank  EPbias  \n",
       "0        1             1          1      1      0       1  \n",
       "1        1             1          1      1      0       1  \n",
       "2        1             1          1      1      0       1  \n",
       "3        1             1          1      1      0       1  \n",
       "4        1             1          1      1      0       1  \n",
       "\n",
       "[5 rows x 22 columns]"
      ]
     },
     "execution_count": 12,
     "metadata": {},
     "output_type": "execute_result"
    }
   ],
   "source": [
    "#There are deleted users among these votes. To Take into account only active users refer to  ExploratoryPlotsByGroups.ipynb\n",
    "votes = pd.DataFrame.from_csv('c:/Users/Joel/Predictive-model-for-the-voting-system-in-SE-network/spanish_site/AnsVotes_TSeries.csv', index_col=None)\n",
    "votes.head()"
   ]
  },
  {
   "cell_type": "code",
   "execution_count": 13,
   "metadata": {
    "collapsed": true
   },
   "outputs": [],
   "source": [
    "votes['Norm_Pos'] = votes['AnsRank']/votes['Ans_count']\n",
    "votes['Norm_DRank'] = votes['DRank']/votes['Ans_count']"
   ]
  },
  {
   "cell_type": "code",
   "execution_count": 14,
   "metadata": {
    "collapsed": false
   },
   "outputs": [
    {
     "data": {
      "text/plain": [
       "(23328, 24)"
      ]
     },
     "execution_count": 14,
     "metadata": {},
     "output_type": "execute_result"
    }
   ],
   "source": [
    "votes.shape"
   ]
  },
  {
   "cell_type": "markdown",
   "metadata": {},
   "source": [
    "### Distribution of : number of days an answer is voted on (at least one vote)"
   ]
  },
  {
   "cell_type": "code",
   "execution_count": 15,
   "metadata": {
    "collapsed": false
   },
   "outputs": [
    {
     "data": {
      "text/plain": [
       "1     1638\n",
       "2     1405\n",
       "3      740\n",
       "4      598\n",
       "6      292\n",
       "5      217\n",
       "8      153\n",
       "12      97\n",
       "10      71\n",
       "9       62\n",
       "7       45\n",
       "16      31\n",
       "18      28\n",
       "15      25\n",
       "24      25\n",
       "Name: Age_vot, dtype: int64"
      ]
     },
     "execution_count": 15,
     "metadata": {},
     "output_type": "execute_result"
    }
   ],
   "source": [
    "votes.groupby('AnsId').count().Age_vot.value_counts().head(15)"
   ]
  },
  {
   "cell_type": "markdown",
   "metadata": {},
   "source": [
    "# Regression happens on votes the day after attributes were measured"
   ]
  },
  {
   "cell_type": "code",
   "execution_count": 16,
   "metadata": {
    "collapsed": true
   },
   "outputs": [],
   "source": [
    "select = lambda df,one_vote=True: df[['Age_vot','Norm_Pos','Norm_DRank','ReScore','Votes']]if one_vote else df[['Age_vot','Norm_Pos','Norm_DRank','ReScore']]\n",
    "shift_select = lambda df: select(df) if df.shape[0]==1 else pd.concat([select(df,one_vote=False),df['Votes'].shift(-1)],axis=1)\n",
    "sort_shift = lambda df: shift_select(df.sort_values(by='Age_vot'))\n",
    "def shift_votes(df):\n",
    "    s_df = sort_shift(df)\n",
    "    s_df.loc[:,'Votes'] = s_df.Votes.fillna(method='ffill')\n",
    "    return s_df[s_df.Votes.notnull()]"
   ]
  },
  {
   "cell_type": "code",
   "execution_count": 17,
   "metadata": {
    "collapsed": false
   },
   "outputs": [],
   "source": [
    "votes = votes.groupby(['AnsId']).apply(shift_votes).reset_index(level=[0],drop=False)"
   ]
  },
  {
   "cell_type": "code",
   "execution_count": 18,
   "metadata": {
    "collapsed": false
   },
   "outputs": [
    {
     "data": {
      "text/plain": [
       "(23328, 6)"
      ]
     },
     "execution_count": 18,
     "metadata": {},
     "output_type": "execute_result"
    }
   ],
   "source": [
    "votes.shape #shape should be the same"
   ]
  },
  {
   "cell_type": "code",
   "execution_count": 20,
   "metadata": {
    "collapsed": false
   },
   "outputs": [
    {
     "data": {
      "text/plain": [
       "1     1638\n",
       "2     1405\n",
       "3      740\n",
       "4      598\n",
       "6      292\n",
       "5      217\n",
       "8      153\n",
       "12      97\n",
       "10      71\n",
       "9       62\n",
       "7       45\n",
       "16      31\n",
       "18      28\n",
       "15      25\n",
       "24      25\n",
       "Name: Age_vot, dtype: int64"
      ]
     },
     "execution_count": 20,
     "metadata": {},
     "output_type": "execute_result"
    }
   ],
   "source": [
    "votes.groupby('AnsId').count().Age_vot.value_counts().head(15)"
   ]
  },
  {
   "cell_type": "code",
   "execution_count": 22,
   "metadata": {
    "collapsed": false
   },
   "outputs": [
    {
     "data": {
      "text/html": [
       "<div>\n",
       "<table border=\"1\" class=\"dataframe\">\n",
       "  <thead>\n",
       "    <tr style=\"text-align: right;\">\n",
       "      <th></th>\n",
       "      <th>AnsId</th>\n",
       "      <th>Age_vot</th>\n",
       "      <th>Norm_Pos</th>\n",
       "      <th>Norm_DRank</th>\n",
       "      <th>ReScore</th>\n",
       "      <th>Votes</th>\n",
       "    </tr>\n",
       "  </thead>\n",
       "  <tbody>\n",
       "    <tr>\n",
       "      <th>7132</th>\n",
       "      <td>4</td>\n",
       "      <td>0</td>\n",
       "      <td>1.000000</td>\n",
       "      <td>0.000000</td>\n",
       "      <td>0.000000</td>\n",
       "      <td>1</td>\n",
       "    </tr>\n",
       "    <tr>\n",
       "      <th>21434</th>\n",
       "      <td>4</td>\n",
       "      <td>1436</td>\n",
       "      <td>0.500000</td>\n",
       "      <td>-0.333333</td>\n",
       "      <td>0.250000</td>\n",
       "      <td>1</td>\n",
       "    </tr>\n",
       "    <tr>\n",
       "      <th>13998</th>\n",
       "      <td>5</td>\n",
       "      <td>0</td>\n",
       "      <td>1.000000</td>\n",
       "      <td>0.000000</td>\n",
       "      <td>0.000000</td>\n",
       "      <td>1</td>\n",
       "    </tr>\n",
       "    <tr>\n",
       "      <th>20327</th>\n",
       "      <td>5</td>\n",
       "      <td>108</td>\n",
       "      <td>1.000000</td>\n",
       "      <td>0.400000</td>\n",
       "      <td>0.500000</td>\n",
       "      <td>1</td>\n",
       "    </tr>\n",
       "    <tr>\n",
       "      <th>20328</th>\n",
       "      <td>6</td>\n",
       "      <td>0</td>\n",
       "      <td>1.000000</td>\n",
       "      <td>0.000000</td>\n",
       "      <td>0.000000</td>\n",
       "      <td>1</td>\n",
       "    </tr>\n",
       "    <tr>\n",
       "      <th>19213</th>\n",
       "      <td>8</td>\n",
       "      <td>0</td>\n",
       "      <td>0.750000</td>\n",
       "      <td>0.500000</td>\n",
       "      <td>0.000000</td>\n",
       "      <td>1</td>\n",
       "    </tr>\n",
       "    <tr>\n",
       "      <th>3</th>\n",
       "      <td>9</td>\n",
       "      <td>0</td>\n",
       "      <td>1.000000</td>\n",
       "      <td>0.000000</td>\n",
       "      <td>0.000000</td>\n",
       "      <td>1</td>\n",
       "    </tr>\n",
       "    <tr>\n",
       "      <th>22248</th>\n",
       "      <td>9</td>\n",
       "      <td>12</td>\n",
       "      <td>0.250000</td>\n",
       "      <td>0.000000</td>\n",
       "      <td>0.800000</td>\n",
       "      <td>1</td>\n",
       "    </tr>\n",
       "    <tr>\n",
       "      <th>22249</th>\n",
       "      <td>9</td>\n",
       "      <td>361</td>\n",
       "      <td>0.250000</td>\n",
       "      <td>0.000000</td>\n",
       "      <td>0.833333</td>\n",
       "      <td>1</td>\n",
       "    </tr>\n",
       "    <tr>\n",
       "      <th>22250</th>\n",
       "      <td>9</td>\n",
       "      <td>400</td>\n",
       "      <td>0.250000</td>\n",
       "      <td>0.000000</td>\n",
       "      <td>0.857143</td>\n",
       "      <td>1</td>\n",
       "    </tr>\n",
       "    <tr>\n",
       "      <th>22231</th>\n",
       "      <td>9</td>\n",
       "      <td>614</td>\n",
       "      <td>0.375000</td>\n",
       "      <td>0.125000</td>\n",
       "      <td>0.875000</td>\n",
       "      <td>1</td>\n",
       "    </tr>\n",
       "    <tr>\n",
       "      <th>23253</th>\n",
       "      <td>9</td>\n",
       "      <td>1501</td>\n",
       "      <td>0.272727</td>\n",
       "      <td>0.181818</td>\n",
       "      <td>0.888889</td>\n",
       "      <td>1</td>\n",
       "    </tr>\n",
       "    <tr>\n",
       "      <th>1</th>\n",
       "      <td>10</td>\n",
       "      <td>0</td>\n",
       "      <td>1.000000</td>\n",
       "      <td>0.000000</td>\n",
       "      <td>0.000000</td>\n",
       "      <td>3</td>\n",
       "    </tr>\n",
       "    <tr>\n",
       "      <th>2</th>\n",
       "      <td>10</td>\n",
       "      <td>0</td>\n",
       "      <td>1.000000</td>\n",
       "      <td>0.000000</td>\n",
       "      <td>0.000000</td>\n",
       "      <td>1</td>\n",
       "    </tr>\n",
       "    <tr>\n",
       "      <th>20531</th>\n",
       "      <td>10</td>\n",
       "      <td>1</td>\n",
       "      <td>0.200000</td>\n",
       "      <td>0.000000</td>\n",
       "      <td>0.750000</td>\n",
       "      <td>1</td>\n",
       "    </tr>\n",
       "    <tr>\n",
       "      <th>20532</th>\n",
       "      <td>10</td>\n",
       "      <td>1</td>\n",
       "      <td>0.200000</td>\n",
       "      <td>0.000000</td>\n",
       "      <td>0.750000</td>\n",
       "      <td>1</td>\n",
       "    </tr>\n",
       "    <tr>\n",
       "      <th>20533</th>\n",
       "      <td>10</td>\n",
       "      <td>14</td>\n",
       "      <td>0.200000</td>\n",
       "      <td>0.000000</td>\n",
       "      <td>0.800000</td>\n",
       "      <td>1</td>\n",
       "    </tr>\n",
       "    <tr>\n",
       "      <th>20534</th>\n",
       "      <td>10</td>\n",
       "      <td>14</td>\n",
       "      <td>0.200000</td>\n",
       "      <td>0.000000</td>\n",
       "      <td>0.800000</td>\n",
       "      <td>1</td>\n",
       "    </tr>\n",
       "    <tr>\n",
       "      <th>20535</th>\n",
       "      <td>10</td>\n",
       "      <td>25</td>\n",
       "      <td>0.200000</td>\n",
       "      <td>0.000000</td>\n",
       "      <td>0.833333</td>\n",
       "      <td>1</td>\n",
       "    </tr>\n",
       "    <tr>\n",
       "      <th>20536</th>\n",
       "      <td>10</td>\n",
       "      <td>25</td>\n",
       "      <td>0.200000</td>\n",
       "      <td>0.000000</td>\n",
       "      <td>0.833333</td>\n",
       "      <td>1</td>\n",
       "    </tr>\n",
       "  </tbody>\n",
       "</table>\n",
       "</div>"
      ],
      "text/plain": [
       "       AnsId  Age_vot  Norm_Pos  Norm_DRank   ReScore  Votes\n",
       "7132       4        0  1.000000    0.000000  0.000000      1\n",
       "21434      4     1436  0.500000   -0.333333  0.250000      1\n",
       "13998      5        0  1.000000    0.000000  0.000000      1\n",
       "20327      5      108  1.000000    0.400000  0.500000      1\n",
       "20328      6        0  1.000000    0.000000  0.000000      1\n",
       "19213      8        0  0.750000    0.500000  0.000000      1\n",
       "3          9        0  1.000000    0.000000  0.000000      1\n",
       "22248      9       12  0.250000    0.000000  0.800000      1\n",
       "22249      9      361  0.250000    0.000000  0.833333      1\n",
       "22250      9      400  0.250000    0.000000  0.857143      1\n",
       "22231      9      614  0.375000    0.125000  0.875000      1\n",
       "23253      9     1501  0.272727    0.181818  0.888889      1\n",
       "1         10        0  1.000000    0.000000  0.000000      3\n",
       "2         10        0  1.000000    0.000000  0.000000      1\n",
       "20531     10        1  0.200000    0.000000  0.750000      1\n",
       "20532     10        1  0.200000    0.000000  0.750000      1\n",
       "20533     10       14  0.200000    0.000000  0.800000      1\n",
       "20534     10       14  0.200000    0.000000  0.800000      1\n",
       "20535     10       25  0.200000    0.000000  0.833333      1\n",
       "20536     10       25  0.200000    0.000000  0.833333      1"
      ]
     },
     "execution_count": 22,
     "metadata": {},
     "output_type": "execute_result"
    }
   ],
   "source": [
    "votes.head(20)"
   ]
  },
  {
   "cell_type": "code",
   "execution_count": null,
   "metadata": {
    "collapsed": true
   },
   "outputs": [],
   "source": []
  },
  {
   "cell_type": "code",
   "execution_count": 27,
   "metadata": {
    "collapsed": true
   },
   "outputs": [],
   "source": [
    "def get_intervals(att,quantiles):\n",
    "    qtls = votes[att].quantile(quantiles).values\n",
    "    return dict(zip(zip(qtls,qtls[1:]),[e for e in range(len(zip(qtls,qtls[1:])))]))\n",
    "    \n",
    "def get_group(intervals,pred):\n",
    "    for l,u in intervals:\n",
    "        if l<=pred and pred<=u:\n",
    "            return intervals[(l,u)]\n",
    "        \n",
    "def reverse_groups(groups,unit='days'):\n",
    "    return {groups[(d1,d2)]:\"%.2f to %.2f %s\"%(d1,d2,unit) for d1,d2 in groups}"
   ]
  },
  {
   "cell_type": "code",
   "execution_count": 24,
   "metadata": {
    "collapsed": true
   },
   "outputs": [],
   "source": [
    "from functools import partial\n",
    "\n",
    "age_intervals = get_intervals('Age_vot',[0,.1,.2,.3,.4,.5,.6,.7,.8,.9,1.0])\n",
    "rep_intervals = get_intervals('Reputation',[0,.25,.5,.75,1.0])\n",
    "pos_intervals = get_intervals('AnsRank',[0,.25,.5,.75,1.0])\n",
    "rscore_intervals = get_intervals('ReScore',[0,.25,.5,.75,1.0])\n",
    "anscount_intervals = get_intervals('Ans_count',[0,.25,.5,.75,1.0])\n",
    "\n",
    "get_age_group = partial(get_group,age_intervals)\n",
    "get_rep_group = partial(get_group,rep_intervals)\n",
    "get_pos_group = partial(get_group,pos_intervals)\n",
    "get_rscore_group = partial(get_group,rscore_intervals)\n",
    "get_anscount_group = partial(get_group,anscount_intervals)\n"
   ]
  },
  {
   "cell_type": "code",
   "execution_count": 25,
   "metadata": {
    "collapsed": true
   },
   "outputs": [],
   "source": [
    "votes['Age_group'] = votes['Age_vot'].apply(get_age_group)\n",
    "votes['Rep_group'] = votes['Reputation'].apply(get_rep_group)\n",
    "votes['Pos_group'] = votes['AnsRank'].apply(get_age_group)\n",
    "votes['RScore_group'] = votes['ReScore'].apply(get_age_group)\n",
    "votes['AnsCount_group'] = votes['Ans_count'].apply(get_age_group)"
   ]
  },
  {
   "cell_type": "code",
   "execution_count": 28,
   "metadata": {
    "collapsed": false
   },
   "outputs": [],
   "source": [
    "rev_age_groups = reverse_groups(age_intervals)\n",
    "rev_rep_groups = reverse_groups(rep_intervals,unit='Points')\n",
    "rev_pos_groups = reverse_groups(pos_intervals,unit='Position')\n",
    "rev_rscore_groups = reverse_groups(rscore_intervals,unit='Relative Score')\n",
    "rev_anscount_groups = reverse_groups(anscount_intervals,unit='Total Answers in Question')"
   ]
  },
  {
   "cell_type": "code",
   "execution_count": 32,
   "metadata": {
    "collapsed": false
   },
   "outputs": [
    {
     "data": {
      "text/plain": [
       "{0: '1.00 to 1.00 Total Answers in Question',\n",
       " 1: '1.00 to 2.00 Total Answers in Question',\n",
       " 2: '2.00 to 3.00 Total Answers in Question',\n",
       " 3: '3.00 to 12.00 Total Answers in Question'}"
      ]
     },
     "execution_count": 32,
     "metadata": {},
     "output_type": "execute_result"
    }
   ],
   "source": [
    "rev_anscount_groups"
   ]
  },
  {
   "cell_type": "code",
   "execution_count": null,
   "metadata": {
    "collapsed": true
   },
   "outputs": [],
   "source": []
  }
 ],
 "metadata": {
  "kernelspec": {
   "display_name": "Python 2",
   "language": "python",
   "name": "python2"
  },
  "language_info": {
   "codemirror_mode": {
    "name": "ipython",
    "version": 2
   },
   "file_extension": ".py",
   "mimetype": "text/x-python",
   "name": "python",
   "nbconvert_exporter": "python",
   "pygments_lexer": "ipython2",
   "version": "2.7.11"
  }
 },
 "nbformat": 4,
 "nbformat_minor": 0
}
