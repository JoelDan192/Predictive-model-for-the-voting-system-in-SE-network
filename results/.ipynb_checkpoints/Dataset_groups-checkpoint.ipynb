{
 "cells": [
  {
   "cell_type": "code",
   "execution_count": 1,
   "metadata": {
    "collapsed": true
   },
   "outputs": [],
   "source": [
    "%matplotlib inline\n",
    "import pandas as pd\n",
    "import numpy as np\n",
    "import matplotlib.pyplot as plt"
   ]
  },
  {
   "cell_type": "code",
   "execution_count": 2,
   "metadata": {
    "collapsed": false,
    "scrolled": false
   },
   "outputs": [
    {
     "data": {
      "text/html": [
       "<div>\n",
       "<table border=\"1\" class=\"dataframe\">\n",
       "  <thead>\n",
       "    <tr style=\"text-align: right;\">\n",
       "      <th></th>\n",
       "      <th>QuestionId</th>\n",
       "      <th>AnsId</th>\n",
       "      <th>Age_vot</th>\n",
       "      <th>AnsWordCount</th>\n",
       "      <th>AcceptedAnsId</th>\n",
       "      <th>QScore</th>\n",
       "      <th>QVotes</th>\n",
       "      <th>Score</th>\n",
       "      <th>Votes</th>\n",
       "      <th>Upvotes</th>\n",
       "      <th>...</th>\n",
       "      <th>CumScore</th>\n",
       "      <th>ReScore</th>\n",
       "      <th>QReScore</th>\n",
       "      <th>Comments</th>\n",
       "      <th>AnsRank</th>\n",
       "      <th>ReScore_rank</th>\n",
       "      <th>Ans_count</th>\n",
       "      <th>Pbias</th>\n",
       "      <th>DRank</th>\n",
       "      <th>EPbias</th>\n",
       "    </tr>\n",
       "  </thead>\n",
       "  <tbody>\n",
       "    <tr>\n",
       "      <th>0</th>\n",
       "      <td>1</td>\n",
       "      <td>56</td>\n",
       "      <td>0</td>\n",
       "      <td>201</td>\n",
       "      <td>56</td>\n",
       "      <td>0</td>\n",
       "      <td>0</td>\n",
       "      <td>2</td>\n",
       "      <td>2</td>\n",
       "      <td>2</td>\n",
       "      <td>...</td>\n",
       "      <td>0</td>\n",
       "      <td>0</td>\n",
       "      <td>0</td>\n",
       "      <td>0</td>\n",
       "      <td>1</td>\n",
       "      <td>1</td>\n",
       "      <td>1</td>\n",
       "      <td>1</td>\n",
       "      <td>0</td>\n",
       "      <td>1</td>\n",
       "    </tr>\n",
       "    <tr>\n",
       "      <th>1</th>\n",
       "      <td>2</td>\n",
       "      <td>10</td>\n",
       "      <td>0</td>\n",
       "      <td>145</td>\n",
       "      <td>10</td>\n",
       "      <td>0</td>\n",
       "      <td>0</td>\n",
       "      <td>3</td>\n",
       "      <td>3</td>\n",
       "      <td>3</td>\n",
       "      <td>...</td>\n",
       "      <td>0</td>\n",
       "      <td>0</td>\n",
       "      <td>0</td>\n",
       "      <td>0</td>\n",
       "      <td>1</td>\n",
       "      <td>1</td>\n",
       "      <td>1</td>\n",
       "      <td>1</td>\n",
       "      <td>0</td>\n",
       "      <td>1</td>\n",
       "    </tr>\n",
       "    <tr>\n",
       "      <th>2</th>\n",
       "      <td>2</td>\n",
       "      <td>10</td>\n",
       "      <td>0</td>\n",
       "      <td>145</td>\n",
       "      <td>10</td>\n",
       "      <td>0</td>\n",
       "      <td>0</td>\n",
       "      <td>3</td>\n",
       "      <td>3</td>\n",
       "      <td>3</td>\n",
       "      <td>...</td>\n",
       "      <td>0</td>\n",
       "      <td>0</td>\n",
       "      <td>0</td>\n",
       "      <td>0</td>\n",
       "      <td>1</td>\n",
       "      <td>1</td>\n",
       "      <td>1</td>\n",
       "      <td>1</td>\n",
       "      <td>0</td>\n",
       "      <td>1</td>\n",
       "    </tr>\n",
       "    <tr>\n",
       "      <th>3</th>\n",
       "      <td>3</td>\n",
       "      <td>9</td>\n",
       "      <td>0</td>\n",
       "      <td>25</td>\n",
       "      <td>109</td>\n",
       "      <td>0</td>\n",
       "      <td>0</td>\n",
       "      <td>4</td>\n",
       "      <td>4</td>\n",
       "      <td>4</td>\n",
       "      <td>...</td>\n",
       "      <td>0</td>\n",
       "      <td>0</td>\n",
       "      <td>0</td>\n",
       "      <td>0</td>\n",
       "      <td>1</td>\n",
       "      <td>1</td>\n",
       "      <td>1</td>\n",
       "      <td>1</td>\n",
       "      <td>0</td>\n",
       "      <td>1</td>\n",
       "    </tr>\n",
       "    <tr>\n",
       "      <th>4</th>\n",
       "      <td>7</td>\n",
       "      <td>16</td>\n",
       "      <td>0</td>\n",
       "      <td>45</td>\n",
       "      <td>2977</td>\n",
       "      <td>0</td>\n",
       "      <td>0</td>\n",
       "      <td>3</td>\n",
       "      <td>3</td>\n",
       "      <td>3</td>\n",
       "      <td>...</td>\n",
       "      <td>0</td>\n",
       "      <td>0</td>\n",
       "      <td>0</td>\n",
       "      <td>0</td>\n",
       "      <td>1</td>\n",
       "      <td>1</td>\n",
       "      <td>1</td>\n",
       "      <td>1</td>\n",
       "      <td>0</td>\n",
       "      <td>1</td>\n",
       "    </tr>\n",
       "  </tbody>\n",
       "</table>\n",
       "<p>5 rows × 22 columns</p>\n",
       "</div>"
      ],
      "text/plain": [
       "   QuestionId  AnsId  Age_vot  AnsWordCount  AcceptedAnsId  QScore  QVotes  \\\n",
       "0           1     56        0           201             56       0       0   \n",
       "1           2     10        0           145             10       0       0   \n",
       "2           2     10        0           145             10       0       0   \n",
       "3           3      9        0            25            109       0       0   \n",
       "4           7     16        0            45           2977       0       0   \n",
       "\n",
       "   Score  Votes  Upvotes   ...    CumScore  ReScore  QReScore  Comments  \\\n",
       "0      2      2        2   ...           0        0         0         0   \n",
       "1      3      3        3   ...           0        0         0         0   \n",
       "2      3      3        3   ...           0        0         0         0   \n",
       "3      4      4        4   ...           0        0         0         0   \n",
       "4      3      3        3   ...           0        0         0         0   \n",
       "\n",
       "   AnsRank  ReScore_rank  Ans_count  Pbias  DRank  EPbias  \n",
       "0        1             1          1      1      0       1  \n",
       "1        1             1          1      1      0       1  \n",
       "2        1             1          1      1      0       1  \n",
       "3        1             1          1      1      0       1  \n",
       "4        1             1          1      1      0       1  \n",
       "\n",
       "[5 rows x 22 columns]"
      ]
     },
     "execution_count": 2,
     "metadata": {},
     "output_type": "execute_result"
    }
   ],
   "source": [
    "#There are deleted users among these votes. To Take into account only active users refer to  ExploratoryPlotsByGroups.ipynb\n",
    "votes = pd.DataFrame.from_csv('c:/Users/Joel/Predictive-model-for-the-voting-system-in-SE-network/spanish_site/AnsVotes_TSeries.csv', index_col=None)\n",
    "votes.head()"
   ]
  },
  {
   "cell_type": "code",
   "execution_count": 3,
   "metadata": {
    "collapsed": false
   },
   "outputs": [
    {
     "data": {
      "text/html": [
       "<div>\n",
       "<table border=\"1\" class=\"dataframe\">\n",
       "  <thead>\n",
       "    <tr style=\"text-align: right;\">\n",
       "      <th></th>\n",
       "      <th>QuestionId</th>\n",
       "      <th>AnsId</th>\n",
       "      <th>Age_vot</th>\n",
       "      <th>AnsWordCount</th>\n",
       "      <th>AcceptedAnsId</th>\n",
       "      <th>QScore</th>\n",
       "      <th>QVotes</th>\n",
       "      <th>Score</th>\n",
       "      <th>Votes</th>\n",
       "      <th>Upvotes</th>\n",
       "      <th>...</th>\n",
       "      <th>CumScore</th>\n",
       "      <th>ReScore</th>\n",
       "      <th>QReScore</th>\n",
       "      <th>Comments</th>\n",
       "      <th>AnsRank</th>\n",
       "      <th>ReScore_rank</th>\n",
       "      <th>Ans_count</th>\n",
       "      <th>Pbias</th>\n",
       "      <th>DRank</th>\n",
       "      <th>EPbias</th>\n",
       "    </tr>\n",
       "  </thead>\n",
       "  <tbody>\n",
       "  </tbody>\n",
       "</table>\n",
       "<p>0 rows × 22 columns</p>\n",
       "</div>"
      ],
      "text/plain": [
       "Empty DataFrame\n",
       "Columns: [QuestionId, AnsId, Age_vot, AnsWordCount, AcceptedAnsId, QScore, QVotes, Score, Votes, Upvotes, Downvotes, CumVotes, CumScore, ReScore, QReScore, Comments, AnsRank, ReScore_rank, Ans_count, Pbias, DRank, EPbias]\n",
       "Index: []\n",
       "\n",
       "[0 rows x 22 columns]"
      ]
     },
     "execution_count": 3,
     "metadata": {},
     "output_type": "execute_result"
    }
   ],
   "source": [
    "# Little test\n",
    "votes[(votes.Upvotes.isnull())|(votes.Downvotes.isnull())]"
   ]
  },
  {
   "cell_type": "code",
   "execution_count": 4,
   "metadata": {
    "collapsed": false
   },
   "outputs": [
    {
     "data": {
      "text/html": [
       "<div>\n",
       "<table border=\"1\" class=\"dataframe\">\n",
       "  <thead>\n",
       "    <tr style=\"text-align: right;\">\n",
       "      <th></th>\n",
       "      <th>QuestionId</th>\n",
       "      <th>AnsId</th>\n",
       "      <th>Age_vot</th>\n",
       "      <th>AnsWordCount</th>\n",
       "      <th>AcceptedAnsId</th>\n",
       "      <th>QScore</th>\n",
       "      <th>QVotes</th>\n",
       "      <th>Score</th>\n",
       "      <th>Votes</th>\n",
       "      <th>Upvotes</th>\n",
       "      <th>...</th>\n",
       "      <th>CumScore</th>\n",
       "      <th>ReScore</th>\n",
       "      <th>QReScore</th>\n",
       "      <th>Comments</th>\n",
       "      <th>AnsRank</th>\n",
       "      <th>ReScore_rank</th>\n",
       "      <th>Ans_count</th>\n",
       "      <th>Pbias</th>\n",
       "      <th>DRank</th>\n",
       "      <th>EPbias</th>\n",
       "    </tr>\n",
       "  </thead>\n",
       "  <tbody>\n",
       "  </tbody>\n",
       "</table>\n",
       "<p>0 rows × 22 columns</p>\n",
       "</div>"
      ],
      "text/plain": [
       "Empty DataFrame\n",
       "Columns: [QuestionId, AnsId, Age_vot, AnsWordCount, AcceptedAnsId, QScore, QVotes, Score, Votes, Upvotes, Downvotes, CumVotes, CumScore, ReScore, QReScore, Comments, AnsRank, ReScore_rank, Ans_count, Pbias, DRank, EPbias]\n",
       "Index: []\n",
       "\n",
       "[0 rows x 22 columns]"
      ]
     },
     "execution_count": 4,
     "metadata": {},
     "output_type": "execute_result"
    }
   ],
   "source": [
    "votes[votes.Votes != (votes.Upvotes+votes.Downvotes)]"
   ]
  },
  {
   "cell_type": "code",
   "execution_count": 156,
   "metadata": {
    "collapsed": false
   },
   "outputs": [
    {
     "data": {
      "text/plain": [
       "Index([u'QuestionId', u'AnsId', u'Age_vot', u'AnsWordCount', u'AcceptedAnsId',\n",
       "       u'QScore', u'QVotes', u'Score', u'Votes', u'Upvotes', u'Downvotes',\n",
       "       u'CumVotes', u'CumScore', u'ReScore', u'QReScore', u'Comments',\n",
       "       u'AnsRank', u'ReScore_rank', u'Ans_count', u'Pbias', u'DRank',\n",
       "       u'EPbias'],\n",
       "      dtype='object')"
      ]
     },
     "execution_count": 156,
     "metadata": {},
     "output_type": "execute_result"
    }
   ],
   "source": [
    "votes.columns"
   ]
  },
  {
   "cell_type": "code",
   "execution_count": 5,
   "metadata": {
    "collapsed": false
   },
   "outputs": [],
   "source": [
    "votes['Norm_DRank'] = votes['DRank']/votes['Ans_count']\n",
    "votes['Norm_Pos'] = votes['AnsRank']/votes['Ans_count']"
   ]
  },
  {
   "cell_type": "code",
   "execution_count": 158,
   "metadata": {
    "collapsed": false
   },
   "outputs": [
    {
     "data": {
      "text/plain": [
       "(23328, 23)"
      ]
     },
     "execution_count": 158,
     "metadata": {},
     "output_type": "execute_result"
    }
   ],
   "source": [
    "votes.shape"
   ]
  },
  {
   "cell_type": "markdown",
   "metadata": {},
   "source": [
    "### Distribution of : number of days an answer is voted on (at least one vote)"
   ]
  },
  {
   "cell_type": "code",
   "execution_count": 6,
   "metadata": {
    "collapsed": false
   },
   "outputs": [
    {
     "data": {
      "text/plain": [
       "1     1638\n",
       "2     1405\n",
       "3      740\n",
       "4      598\n",
       "6      292\n",
       "5      217\n",
       "8      153\n",
       "12      97\n",
       "10      71\n",
       "9       62\n",
       "7       45\n",
       "16      31\n",
       "18      28\n",
       "15      25\n",
       "24      25\n",
       "Name: Age_vot, dtype: int64"
      ]
     },
     "execution_count": 6,
     "metadata": {},
     "output_type": "execute_result"
    }
   ],
   "source": [
    "votes.groupby('AnsId').count().Age_vot.value_counts().head(15)"
   ]
  },
  {
   "cell_type": "markdown",
   "metadata": {},
   "source": [
    "# Regression happens on votes the day after attributes were measured"
   ]
  },
  {
   "cell_type": "code",
   "execution_count": 7,
   "metadata": {
    "collapsed": false
   },
   "outputs": [],
   "source": [
    "atts = ['Age_vot','Norm_Pos','Norm_DRank','Ans_count','ReScore','AnsRank']\n",
    "select = lambda df,one_vote=True: df[atts + ['Votes','Upvotes','Downvotes']] if one_vote else df[atts]\n",
    "shift = lambda df,att : df[att].shift(-1)#.ffill()\n",
    "shift_select = lambda df: select(df) if df.shape[0]==1 else pd.concat([select(df,one_vote=False),shift(df,'Votes'),shift(df,'Upvotes'),shift(df,'Downvotes')],axis=1)\n",
    "shift_votes = lambda df: shift_select(df.sort_values(by='Age_vot'))\n",
    "\n",
    "votes = votes.groupby(['AnsId']).apply(shift_votes).reset_index(level=[0],drop=False)\n",
    "votes = votes[(votes.Upvotes.notnull())|(votes.Downvotes.notnull())|(votes.Votes.notnull())] #drop last registered day for each ans"
   ]
  },
  {
   "cell_type": "code",
   "execution_count": 121,
   "metadata": {
    "collapsed": false
   },
   "outputs": [
    {
     "data": {
      "text/plain": [
       "(19389, 10)"
      ]
     },
     "execution_count": 121,
     "metadata": {},
     "output_type": "execute_result"
    }
   ],
   "source": [
    "votes.shape #shape should be the same when not dropping last day"
   ]
  },
  {
   "cell_type": "code",
   "execution_count": 22,
   "metadata": {
    "collapsed": false
   },
   "outputs": [
    {
     "data": {
      "text/plain": [
       "1     3043\n",
       "2      740\n",
       "3      598\n",
       "5      292\n",
       "4      217\n",
       "7      153\n",
       "11      97\n",
       "9       71\n",
       "8       62\n",
       "6       45\n",
       "15      31\n",
       "17      28\n",
       "14      25\n",
       "23      25\n",
       "13      22\n",
       "Name: Age_vot, dtype: int64"
      ]
     },
     "execution_count": 22,
     "metadata": {},
     "output_type": "execute_result"
    }
   ],
   "source": [
    "votes.groupby('AnsId').count().Age_vot.value_counts().head(15)"
   ]
  },
  {
   "cell_type": "code",
   "execution_count": 9,
   "metadata": {
    "collapsed": false
   },
   "outputs": [
    {
     "data": {
      "text/html": [
       "<div>\n",
       "<table border=\"1\" class=\"dataframe\">\n",
       "  <thead>\n",
       "    <tr style=\"text-align: right;\">\n",
       "      <th></th>\n",
       "      <th>AnsId</th>\n",
       "      <th>Age_vot</th>\n",
       "      <th>Norm_Pos</th>\n",
       "      <th>Norm_DRank</th>\n",
       "      <th>Ans_count</th>\n",
       "      <th>ReScore</th>\n",
       "      <th>AnsRank</th>\n",
       "      <th>Votes</th>\n",
       "      <th>Upvotes</th>\n",
       "      <th>Downvotes</th>\n",
       "    </tr>\n",
       "  </thead>\n",
       "  <tbody>\n",
       "  </tbody>\n",
       "</table>\n",
       "</div>"
      ],
      "text/plain": [
       "Empty DataFrame\n",
       "Columns: [AnsId, Age_vot, Norm_Pos, Norm_DRank, Ans_count, ReScore, AnsRank, Votes, Upvotes, Downvotes]\n",
       "Index: []"
      ]
     },
     "execution_count": 9,
     "metadata": {},
     "output_type": "execute_result"
    }
   ],
   "source": [
    "votes[votes.Votes != (votes.Upvotes+votes.Downvotes)]"
   ]
  },
  {
   "cell_type": "code",
   "execution_count": 24,
   "metadata": {
    "collapsed": false
   },
   "outputs": [
    {
     "data": {
      "text/html": [
       "<div>\n",
       "<table border=\"1\" class=\"dataframe\">\n",
       "  <thead>\n",
       "    <tr style=\"text-align: right;\">\n",
       "      <th></th>\n",
       "      <th>AnsId</th>\n",
       "      <th>Age_vot</th>\n",
       "      <th>Norm_Pos</th>\n",
       "      <th>Norm_DRank</th>\n",
       "      <th>Ans_count</th>\n",
       "      <th>ReScore</th>\n",
       "      <th>AnsRank</th>\n",
       "      <th>Votes</th>\n",
       "      <th>Upvotes</th>\n",
       "      <th>Downvotes</th>\n",
       "    </tr>\n",
       "  </thead>\n",
       "  <tbody>\n",
       "    <tr>\n",
       "      <th>7132</th>\n",
       "      <td>4</td>\n",
       "      <td>0</td>\n",
       "      <td>1.00</td>\n",
       "      <td>0.0</td>\n",
       "      <td>2</td>\n",
       "      <td>0</td>\n",
       "      <td>2</td>\n",
       "      <td>1</td>\n",
       "      <td>1</td>\n",
       "      <td>0</td>\n",
       "    </tr>\n",
       "    <tr>\n",
       "      <th>13998</th>\n",
       "      <td>5</td>\n",
       "      <td>0</td>\n",
       "      <td>1.00</td>\n",
       "      <td>0.0</td>\n",
       "      <td>3</td>\n",
       "      <td>0</td>\n",
       "      <td>3</td>\n",
       "      <td>1</td>\n",
       "      <td>0</td>\n",
       "      <td>1</td>\n",
       "    </tr>\n",
       "    <tr>\n",
       "      <th>20328</th>\n",
       "      <td>6</td>\n",
       "      <td>0</td>\n",
       "      <td>1.00</td>\n",
       "      <td>0.0</td>\n",
       "      <td>5</td>\n",
       "      <td>0</td>\n",
       "      <td>5</td>\n",
       "      <td>1</td>\n",
       "      <td>1</td>\n",
       "      <td>0</td>\n",
       "    </tr>\n",
       "    <tr>\n",
       "      <th>19213</th>\n",
       "      <td>8</td>\n",
       "      <td>0</td>\n",
       "      <td>0.75</td>\n",
       "      <td>0.5</td>\n",
       "      <td>4</td>\n",
       "      <td>0</td>\n",
       "      <td>3</td>\n",
       "      <td>1</td>\n",
       "      <td>1</td>\n",
       "      <td>0</td>\n",
       "    </tr>\n",
       "    <tr>\n",
       "      <th>3</th>\n",
       "      <td>9</td>\n",
       "      <td>0</td>\n",
       "      <td>1.00</td>\n",
       "      <td>0.0</td>\n",
       "      <td>1</td>\n",
       "      <td>0</td>\n",
       "      <td>1</td>\n",
       "      <td>1</td>\n",
       "      <td>1</td>\n",
       "      <td>0</td>\n",
       "    </tr>\n",
       "  </tbody>\n",
       "</table>\n",
       "</div>"
      ],
      "text/plain": [
       "       AnsId  Age_vot  Norm_Pos  Norm_DRank  Ans_count  ReScore  AnsRank  \\\n",
       "7132       4        0      1.00         0.0          2        0        2   \n",
       "13998      5        0      1.00         0.0          3        0        3   \n",
       "20328      6        0      1.00         0.0          5        0        5   \n",
       "19213      8        0      0.75         0.5          4        0        3   \n",
       "3          9        0      1.00         0.0          1        0        1   \n",
       "\n",
       "       Votes  Upvotes  Downvotes  \n",
       "7132       1        1          0  \n",
       "13998      1        0          1  \n",
       "20328      1        1          0  \n",
       "19213      1        1          0  \n",
       "3          1        1          0  "
      ]
     },
     "execution_count": 24,
     "metadata": {},
     "output_type": "execute_result"
    }
   ],
   "source": [
    "votes.head()"
   ]
  },
  {
   "cell_type": "code",
   "execution_count": 31,
   "metadata": {
    "collapsed": false
   },
   "outputs": [
    {
     "data": {
      "text/plain": [
       "<matplotlib.text.Text at 0x11fdde10>"
      ]
     },
     "execution_count": 31,
     "metadata": {},
     "output_type": "execute_result"
    },
    {
     "data": {
      "image/png": "[encoded data removed]",
      "text/plain": [
       "<matplotlib.figure.Figure at 0x122aff60>"
      ]
     },
     "metadata": {},
     "output_type": "display_data"
    }
   ],
   "source": [
    "ff = lambda df: np.mean(df.Votes/(df.Age_vot-df.Age_vot.shift(1).fillna(0) + .5))\n",
    "cumvotes_uv =  votes.groupby(['Norm_DRank']).apply(ff)\n",
    "plt.scatter(x = cumvotes_uv.index.values,y=cumvotes_uv.values)\n",
    "plt.ylabel('Upvotes')\n"
   ]
  },
  {
   "cell_type": "markdown",
   "metadata": {},
   "source": [
    "# Exploratory plots"
   ]
  },
  {
   "cell_type": "code",
   "execution_count": 27,
   "metadata": {
    "collapsed": false
   },
   "outputs": [
    {
     "data": {
      "image/png": "[encoded data removed]",
      "text/plain": [
       "<matplotlib.figure.Figure at 0x10c0e518>"
      ]
     },
     "metadata": {},
     "output_type": "display_data"
    }
   ],
   "source": [
    "plt.figure(figsize=(4,10))\n",
    "\n",
    "axref = plt.subplot(3,1,1)\n",
    "plt.subplot(3, 1, 1,sharex=axref)\n",
    "ff = lambda df: np.mean(df.Votes/(df.Age_vot-df.Age_vot.shift(1).fillna(0)))\n",
    "cumvotes_uv =  votes.groupby(['Norm_DRank']).apply(ff)\n",
    "plt.scatter(x = cumvotes_uv.index.values,y=cumvotes_uv.values)\n",
    "plt.ylabel('Upvotes')\n",
    "\n",
    "plt.subplot(3, 1, 2,sharex=axref)\n",
    "cumvotes_dv = votes.groupby(['Norm_DRank']).sum()['Downvotes'].cumsum()\n",
    "plt.scatter(x = cumvotes_dv.index.values,y=cumvotes_dv.values)\n",
    "plt.ylabel('Downvotes')\n",
    "\n",
    "plt.subplot(3, 1, 3,sharex=axref)\n",
    "cumvotes_v = votes.groupby(['Norm_DRank']).sum()['Votes'].cumsum()\n",
    "plt.scatter(x = cumvotes_v.index.values,y=cumvotes_v.values)\n",
    "plt.ylabel('Votes')\n",
    "plt.xlabel('Norm_DRank')\n",
    "\n",
    "plt.suptitle('X=Norm_DRank, Y= Upvotes-DownVotes-Votes',fontsize=20)\n",
    "plt.show()"
   ]
  },
  {
   "cell_type": "markdown",
   "metadata": {},
   "source": [
    "# Group predictors"
   ]
  },
  {
   "cell_type": "code",
   "execution_count": 34,
   "metadata": {
    "collapsed": false
   },
   "outputs": [],
   "source": [
    "def get_intervals(att,quantiles):\n",
    "    qtls = votes[att].quantile(quantiles).values\n",
    "    return dict(zip(zip(qtls,qtls[1:]),[e for e in range(len(zip(qtls,qtls[1:])))]))\n",
    "    \n",
    "def get_group(intervals,pred):\n",
    "    for l,u in intervals:\n",
    "        if l<=pred and pred<u:\n",
    "            return intervals[(l,u)]\n",
    "        \n",
    "def reverse_groups(groups,unit='days'):\n",
    "    if unit == 'Rel Score':\n",
    "        return {groups[(d1,d2)]:\"[%.2f - %.2f[ %s\"%(d1,d2,unit) for d1,d2 in groups}\n",
    "    elif unit in ['Position','Nbr Ans Per Question']:\n",
    "        return {groups[(d1,d2)]:\"[%d - %d[ %s\"%(d1,d2,unit) for d1,d2 in groups} \n",
    "    else:\n",
    "        return {groups[(d1,d2)]:\"%d to %d %s\"%(d1,d2,unit) for d1,d2 in groups}"
   ]
  },
  {
   "cell_type": "code",
   "execution_count": 35,
   "metadata": {
    "collapsed": false
   },
   "outputs": [],
   "source": [
    "from functools import partial\n",
    "\n",
    "age_intervals = get_intervals('Age_vot',[0,.25,.5,.75,1.0])\n",
    "pos_intervals = get_intervals('AnsRank',[0,.75,.85,.95,1.0])\n",
    "rscore_intervals = get_intervals('ReScore',[0,.1,.5,.75,1.0])\n",
    "anscount_intervals = get_intervals('Ans_count',[0,.5,.6,.8,1.0])\n"
   ]
  },
  {
   "cell_type": "code",
   "execution_count": 36,
   "metadata": {
    "collapsed": false
   },
   "outputs": [],
   "source": [
    "votes['Age_vot_group'] = votes['Age_vot'].apply(partial(get_group,age_intervals))\n",
    "votes['AnsRank_group'] = votes['AnsRank'].apply(partial(get_group,pos_intervals))\n",
    "votes['ReScore_group'] = votes['ReScore'].apply(partial(get_group,rscore_intervals))\n",
    "votes['Ans_count_group'] = votes['Ans_count'].apply(partial(get_group,anscount_intervals))"
   ]
  },
  {
   "cell_type": "code",
   "execution_count": 37,
   "metadata": {
    "collapsed": false
   },
   "outputs": [],
   "source": [
    "ReverseGroups = {}\n",
    "ReverseGroups['Age_vot_group'] = reverse_groups(age_intervals)\n",
    "ReverseGroups['AnsRank_group'] = reverse_groups(pos_intervals,unit='Position')\n",
    "ReverseGroups['ReScore_group'] = reverse_groups(rscore_intervals,unit='Rel Score')\n",
    "ReverseGroups['Ans_count_group'] = reverse_groups(anscount_intervals,unit='Nbr Ans Per Question')"
   ]
  },
  {
   "cell_type": "code",
   "execution_count": 38,
   "metadata": {
    "collapsed": false
   },
   "outputs": [
    {
     "data": {
      "text/plain": [
       "{0: '0 to 1 days', 1: '1 to 5 days', 2: '5 to 170 days', 3: '170 to 1504 days'}"
      ]
     },
     "execution_count": 38,
     "metadata": {},
     "output_type": "execute_result"
    }
   ],
   "source": [
    "ReverseGroups['Age_vot_group']"
   ]
  },
  {
   "cell_type": "code",
   "execution_count": 39,
   "metadata": {
    "collapsed": false
   },
   "outputs": [
    {
     "data": {
      "text/plain": [
       "{0: '[1 - 2[ Position',\n",
       " 1: '[2 - 2[ Position',\n",
       " 2: '[2 - 4[ Position',\n",
       " 3: '[4 - 11[ Position'}"
      ]
     },
     "execution_count": 39,
     "metadata": {},
     "output_type": "execute_result"
    }
   ],
   "source": [
    "ReverseGroups['AnsRank_group']"
   ]
  },
  {
   "cell_type": "code",
   "execution_count": 40,
   "metadata": {
    "collapsed": false
   },
   "outputs": [
    {
     "data": {
      "text/plain": [
       "{0: '[-0.86 - 0.00[ Rel Score',\n",
       " 1: '[0.00 - 0.67[ Rel Score',\n",
       " 2: '[0.67 - 0.86[ Rel Score',\n",
       " 3: '[0.86 - 0.98[ Rel Score'}"
      ]
     },
     "execution_count": 40,
     "metadata": {},
     "output_type": "execute_result"
    }
   ],
   "source": [
    "ReverseGroups['ReScore_group']"
   ]
  },
  {
   "cell_type": "code",
   "execution_count": 41,
   "metadata": {
    "collapsed": false
   },
   "outputs": [
    {
     "data": {
      "text/plain": [
       "{0: '[1 - 2[ Nbr Ans Per Question',\n",
       " 1: '[2 - 2[ Nbr Ans Per Question',\n",
       " 2: '[2 - 4[ Nbr Ans Per Question',\n",
       " 3: '[4 - 12[ Nbr Ans Per Question'}"
      ]
     },
     "execution_count": 41,
     "metadata": {},
     "output_type": "execute_result"
    }
   ],
   "source": [
    "ReverseGroups['Ans_count_group']"
   ]
  },
  {
   "cell_type": "code",
   "execution_count": 42,
   "metadata": {
    "collapsed": false
   },
   "outputs": [],
   "source": [
    "votes.loc[votes.ReScore_group.isnull(),'ReScore_group'] = 3"
   ]
  },
  {
   "cell_type": "code",
   "execution_count": 43,
   "metadata": {
    "collapsed": false
   },
   "outputs": [
    {
     "data": {
      "text/html": [
       "<div>\n",
       "<table border=\"1\" class=\"dataframe\">\n",
       "  <thead>\n",
       "    <tr style=\"text-align: right;\">\n",
       "      <th></th>\n",
       "      <th>AnsId</th>\n",
       "      <th>Age_vot</th>\n",
       "      <th>Norm_Pos</th>\n",
       "      <th>Norm_DRank</th>\n",
       "      <th>Ans_count</th>\n",
       "      <th>ReScore</th>\n",
       "      <th>AnsRank</th>\n",
       "      <th>Votes</th>\n",
       "      <th>Upvotes</th>\n",
       "      <th>Downvotes</th>\n",
       "      <th>Age_vot_group</th>\n",
       "      <th>AnsRank_group</th>\n",
       "      <th>ReScore_group</th>\n",
       "      <th>Ans_count_group</th>\n",
       "    </tr>\n",
       "  </thead>\n",
       "  <tbody>\n",
       "  </tbody>\n",
       "</table>\n",
       "</div>"
      ],
      "text/plain": [
       "Empty DataFrame\n",
       "Columns: [AnsId, Age_vot, Norm_Pos, Norm_DRank, Ans_count, ReScore, AnsRank, Votes, Upvotes, Downvotes, Age_vot_group, AnsRank_group, ReScore_group, Ans_count_group]\n",
       "Index: []"
      ]
     },
     "execution_count": 43,
     "metadata": {},
     "output_type": "execute_result"
    }
   ],
   "source": [
    "votes.loc[votes.ReScore_group.isnull()]"
   ]
  },
  {
   "cell_type": "markdown",
   "metadata": {
    "collapsed": true
   },
   "source": [
    "# Group Plots"
   ]
  },
  {
   "cell_type": "code",
   "execution_count": 184,
   "metadata": {
    "collapsed": false
   },
   "outputs": [],
   "source": [
    "from itertools import product\n",
    "def plot_by(filtered_df,row_att_n, col_att_n,xpred_n,ypred_n,xfsize,yfsize,verbose=False,errbars=False):\n",
    "    plt.figure(figsize=(xfsize,yfsize))\n",
    "    \n",
    "    row_group_name = row_att_n+'_group'\n",
    "    col_group_name = col_att_n+'_group'\n",
    "    \n",
    "    groups = filtered_df.sort_values(by=['Age_vot']).groupby([row_group_name,col_group_name])\n",
    "    \n",
    "    n_rows,n_cols = len(filtered_df[row_group_name].unique()),len(filtered_df[col_group_name].unique())\n",
    "    sort_rows = {e:i for i,e in enumerate(filtered_df[row_group_name].sort_values().unique())}\n",
    "    sort_cols = {e:i for i,e in enumerate(filtered_df[col_group_name].sort_values().unique())}\n",
    "    \n",
    "    to_cover = list(product([sort_rows[e] for e in sort_rows],[sort_cols[e]+1 for e in sort_cols]))\n",
    "    axref = plt.subplot(1,n_cols,1)\n",
    "    \n",
    "    for key,group in groups:\n",
    "        to_cover.remove((sort_rows[group[row_group_name].iloc[0]],sort_cols[group[col_group_name].iloc[0]]+1))\n",
    "        #Convention: row index starts at 0, col index starts at 1\n",
    "        rw_g = sort_rows[group[row_group_name].iloc[0]] \n",
    "        col_g = sort_cols[group[col_group_name].iloc[0]] + 1\n",
    "        if verbose:\n",
    "            print 'rw_g %d'%rw_g, 'col_g %d'%col_g\n",
    "            print 'rl_rw_g %d'%group[row_group_name].iloc[0], 'rl_col_g %d'%group[col_group_name].iloc[0]\n",
    "            print \n",
    "        ax = plt.subplot(1, n_cols, col_g ,sharex=axref,sharey=axref)\n",
    "        \n",
    "        get_rates = lambda df: np.mean(df[ypred_n]/(df.Age_vot-df.Age_vot.shift(1).fillna(0) + .5))#(max_rate(df) - min_rate(df))\n",
    "        get_sdev = lambda df : np.std(df[ypred_n]/(df.Age_vot-df.Age_vot.shift(1).fillna(0) + .5))\n",
    "        vote_rates = group.groupby([xpred_n]).apply(get_rates)\n",
    "        std_vtrates = group.groupby([xpred_n]).apply(get_sdev)\n",
    "        \n",
    "        if not errbars:\n",
    "            std_vtrates = np.array([0 for _ in range(len(std_vtrates))])\n",
    "        \n",
    "        row_g_name = '%s'%(ReverseGroups[row_group_name][group[row_group_name].iloc[0]])\n",
    "        plt.errorbar(x = vote_rates.index.values,y=vote_rates.values,yerr=std_vtrates,fmt='-o',label=row_g_name)\n",
    "        \n",
    "        if col_g==len(sort_cols):\n",
    "        \n",
    "            # Put a legend to the right of the current axis\n",
    "            ax.legend(loc='center left',bbox_to_anchor=(1, .5))\n",
    "            \n",
    "        if col_g==1:\n",
    "            plt.ylabel('Mean_%s_rate'%ypred_n)\n",
    "            plt.xlabel(xpred_n)\n",
    "        \n",
    "        if rw_g==0:\n",
    "            plt.title('%s'%(ReverseGroups[col_group_name][group[col_group_name].iloc[0]]))\n",
    "    print to_cover\n",
    "    for rw,col in to_cover:\n",
    "        plt.subplot(1, n_cols, col ,sharex=axref,sharey=axref)\n",
    "        if rw==0:\n",
    "            plt.title('%s'%(ReverseGroups[col_group_name][[e for e,i in sort_cols.items() if i == col-1][0]]))\n",
    "    #plt.suptitle('X=%s, Y=%s'%(xpred_n,ypred_n),fontsize=20,y=1.08)\n",
    "    plt.show()"
   ]
  },
  {
   "cell_type": "code",
   "execution_count": 199,
   "metadata": {
    "collapsed": false
   },
   "outputs": [
    {
     "name": "stdout",
     "output_type": "stream",
     "text": [
      "[]\n"
     ]
    },
    {
     "data": {
      "image/png": "[encoded data removed]",
      "text/plain": [
       "<matplotlib.figure.Figure at 0x105f2860>"
      ]
     },
     "metadata": {},
     "output_type": "display_data"
    }
   ],
   "source": [
    "nb_ans = 5\n",
    "nb_age_groups = 4\n",
    "data = votes[(votes.Ans_count>1)&(votes.Age_vot_group==1)]\n",
    "data = data[(data['Ans_count']<=nb_ans)&(data['Age_vot_group']<=nb_age_groups-1)]\n",
    "plot_by(data,'Age_vot','Ans_count','Norm_DRank','Votes',15,5,errbars=True)"
   ]
  },
  {
   "cell_type": "code",
   "execution_count": 212,
   "metadata": {
    "collapsed": false
   },
   "outputs": [
    {
     "name": "stdout",
     "output_type": "stream",
     "text": [
      "[]\n"
     ]
    },
    {
     "data": {
      "image/png": "[encoded data removed]",
      "text/plain": [
       "<matplotlib.figure.Figure at 0xc1d6320>"
      ]
     },
     "metadata": {},
     "output_type": "display_data"
    }
   ],
   "source": [
    "nb_ans = 5\n",
    "nb_age_groups = 3\n",
    "data = votes[(votes.Ans_count>1)]\n",
    "data = data[(data['Ans_count']<=nb_ans)&(data['Age_vot_group']<=nb_age_groups-1)]\n",
    "plot_by(data,'Age_vot','AnsRank','Norm_DRank','Votes',17,5,errbars=True)"
   ]
  },
  {
   "cell_type": "code",
   "execution_count": 213,
   "metadata": {
    "collapsed": false,
    "scrolled": true
   },
   "outputs": [
    {
     "name": "stdout",
     "output_type": "stream",
     "text": [
      "[(0, 1), (0, 3), (0, 4)]\n"
     ]
    },
    {
     "data": {
      "image/png": "[encoded data removed]",
      "text/plain": [
       "<matplotlib.figure.Figure at 0x14026c88>"
      ]
     },
     "metadata": {},
     "output_type": "display_data"
    }
   ],
   "source": [
    "nb_ans = 5\n",
    "nb_age_groups = 3\n",
    "\n",
    "data = votes[(votes.Ans_count>1)]\n",
    "data = data[(data['Ans_count']<=nb_ans)&(data['Age_vot_group']<=nb_age_groups-1)]\n",
    "\n",
    "plot_by(data,'Age_vot','ReScore','Norm_DRank','Votes', 18, 8, errbars=False)"
   ]
  },
  {
   "cell_type": "markdown",
   "metadata": {},
   "source": [
    "## Regression analysis"
   ]
  },
  {
   "cell_type": "code",
   "execution_count": 182,
   "metadata": {
    "collapsed": true
   },
   "outputs": [],
   "source": [
    "import statsmodels.formula.api as smf\n",
    "import statsmodels.api as sm"
   ]
  },
  {
   "cell_type": "code",
   "execution_count": 183,
   "metadata": {
    "collapsed": true
   },
   "outputs": [],
   "source": [
    "votes['Norm_Pos'] = votes['AnsRank']/votes['Ans_count']\n",
    "votes['Norm_Pos_2'] = np.square(votes['Norm_Pos'])"
   ]
  },
  {
   "cell_type": "code",
   "execution_count": 184,
   "metadata": {
    "collapsed": false
   },
   "outputs": [
    {
     "data": {
      "text/html": [
       "<table class=\"simpletable\">\n",
       "<caption>Generalized Linear Model Regression Results</caption>\n",
       "<tr>\n",
       "  <th>Dep. Variable:</th>        <td>Votes</td>      <th>  No. Observations:  </th>     <td> 19389</td>    \n",
       "</tr>\n",
       "<tr>\n",
       "  <th>Model:</th>                 <td>GLM</td>       <th>  Df Residuals:      </th>     <td> 19387</td>    \n",
       "</tr>\n",
       "<tr>\n",
       "  <th>Model Family:</th>   <td>NegativeBinomial</td> <th>  Df Model:          </th>     <td>     1</td>    \n",
       "</tr>\n",
       "<tr>\n",
       "  <th>Link Function:</th>         <td>log</td>       <th>  Scale:             </th> <td>0.241111324353</td>\n",
       "</tr>\n",
       "<tr>\n",
       "  <th>Method:</th>               <td>IRLS</td>       <th>  Log-Likelihood:    </th>    <td> -30733.</td>   \n",
       "</tr>\n",
       "<tr>\n",
       "  <th>Date:</th>           <td>Thu, 28 Apr 2016</td> <th>  Deviance:          </th>    <td>  2517.0</td>   \n",
       "</tr>\n",
       "<tr>\n",
       "  <th>Time:</th>               <td>14:53:50</td>     <th>  Pearson chi2:      </th>    <td>4.67e+03</td>   \n",
       "</tr>\n",
       "<tr>\n",
       "  <th>No. Iterations:</th>         <td>7</td>        <th>                     </th>        <td> </td>      \n",
       "</tr>\n",
       "</table>\n",
       "<table class=\"simpletable\">\n",
       "<tr>\n",
       "       <td></td>         <th>coef</th>     <th>std err</th>      <th>z</th>      <th>P>|z|</th> <th>[95.0% Conf. Int.]</th> \n",
       "</tr>\n",
       "<tr>\n",
       "  <th>Intercept</th>  <td>    0.2828</td> <td>    0.005</td> <td>   59.367</td> <td> 0.000</td> <td>    0.273     0.292</td>\n",
       "</tr>\n",
       "<tr>\n",
       "  <th>Norm_DRank</th> <td>   -0.1275</td> <td>    0.019</td> <td>   -6.656</td> <td> 0.000</td> <td>   -0.165    -0.090</td>\n",
       "</tr>\n",
       "</table>"
      ],
      "text/plain": [
       "<class 'statsmodels.iolib.summary.Summary'>\n",
       "\"\"\"\n",
       "                 Generalized Linear Model Regression Results                  \n",
       "==============================================================================\n",
       "Dep. Variable:                  Votes   No. Observations:                19389\n",
       "Model:                            GLM   Df Residuals:                    19387\n",
       "Model Family:        NegativeBinomial   Df Model:                            1\n",
       "Link Function:                    log   Scale:                  0.241111324353\n",
       "Method:                          IRLS   Log-Likelihood:                -30733.\n",
       "Date:                Thu, 28 Apr 2016   Deviance:                       2517.0\n",
       "Time:                        14:53:50   Pearson chi2:                 4.67e+03\n",
       "No. Iterations:                     7                                         \n",
       "==============================================================================\n",
       "                 coef    std err          z      P>|z|      [95.0% Conf. Int.]\n",
       "------------------------------------------------------------------------------\n",
       "Intercept      0.2828      0.005     59.367      0.000         0.273     0.292\n",
       "Norm_DRank    -0.1275      0.019     -6.656      0.000        -0.165    -0.090\n",
       "==============================================================================\n",
       "\"\"\""
      ]
     },
     "execution_count": 184,
     "metadata": {},
     "output_type": "execute_result"
    }
   ],
   "source": [
    "fml_1 = 'Votes ~ Norm_DRank'\n",
    "r_method = sm.families.NegativeBinomial(link=sm.families.links.log)#sm.families.Poisson(link=sm.families.links.log)\n",
    "datas_1 = votes\n",
    "mod_1 = smf.glm(fml_1, data=datas_1, family=r_method) #, offset=np.log(datas['Age_vot'] + 1))\n",
    "rslt_1 = mod_1.fit(method='bfgs')\n",
    "\n",
    "rslt_1.summary()"
   ]
  },
  {
   "cell_type": "code",
   "execution_count": null,
   "metadata": {
    "collapsed": true
   },
   "outputs": [],
   "source": []
  },
  {
   "cell_type": "code",
   "execution_count": null,
   "metadata": {
    "collapsed": true
   },
   "outputs": [],
   "source": []
  },
  {
   "cell_type": "code",
   "execution_count": 185,
   "metadata": {
    "collapsed": false
   },
   "outputs": [
    {
     "data": {
      "text/html": [
       "<table class=\"simpletable\">\n",
       "<caption>Generalized Linear Model Regression Results</caption>\n",
       "<tr>\n",
       "  <th>Dep. Variable:</th>        <td>Votes</td>      <th>  No. Observations:  </th>     <td> 19389</td>    \n",
       "</tr>\n",
       "<tr>\n",
       "  <th>Model:</th>                 <td>GLM</td>       <th>  Df Residuals:      </th>     <td> 19380</td>    \n",
       "</tr>\n",
       "<tr>\n",
       "  <th>Model Family:</th>   <td>NegativeBinomial</td> <th>  Df Model:          </th>     <td>     8</td>    \n",
       "</tr>\n",
       "<tr>\n",
       "  <th>Link Function:</th>         <td>log</td>       <th>  Scale:             </th> <td>0.186615244235</td>\n",
       "</tr>\n",
       "<tr>\n",
       "  <th>Method:</th>               <td>IRLS</td>       <th>  Log-Likelihood:    </th>    <td> -30574.</td>   \n",
       "</tr>\n",
       "<tr>\n",
       "  <th>Date:</th>           <td>Thu, 28 Apr 2016</td> <th>  Deviance:          </th>    <td>  2198.9</td>   \n",
       "</tr>\n",
       "<tr>\n",
       "  <th>Time:</th>               <td>14:53:53</td>     <th>  Pearson chi2:      </th>    <td>3.62e+03</td>   \n",
       "</tr>\n",
       "<tr>\n",
       "  <th>No. Iterations:</th>         <td>7</td>        <th>                     </th>        <td> </td>      \n",
       "</tr>\n",
       "</table>\n",
       "<table class=\"simpletable\">\n",
       "<tr>\n",
       "            <td></td>               <th>coef</th>     <th>std err</th>      <th>z</th>      <th>P>|z|</th> <th>[95.0% Conf. Int.]</th> \n",
       "</tr>\n",
       "<tr>\n",
       "  <th>Intercept</th>             <td>    1.4352</td> <td>    0.096</td> <td>   14.921</td> <td> 0.000</td> <td>    1.247     1.624</td>\n",
       "</tr>\n",
       "<tr>\n",
       "  <th>Norm_Pos</th>              <td>   -3.6031</td> <td>    0.292</td> <td>  -12.360</td> <td> 0.000</td> <td>   -4.174    -3.032</td>\n",
       "</tr>\n",
       "<tr>\n",
       "  <th>ReScore</th>               <td>   -1.3381</td> <td>    0.105</td> <td>  -12.721</td> <td> 0.000</td> <td>   -1.544    -1.132</td>\n",
       "</tr>\n",
       "<tr>\n",
       "  <th>Norm_Pos:ReScore</th>      <td>    3.5500</td> <td>    0.335</td> <td>   10.593</td> <td> 0.000</td> <td>    2.893     4.207</td>\n",
       "</tr>\n",
       "<tr>\n",
       "  <th>Norm_Pos_2</th>            <td>    2.6660</td> <td>    0.200</td> <td>   13.315</td> <td> 0.000</td> <td>    2.274     3.058</td>\n",
       "</tr>\n",
       "<tr>\n",
       "  <th>Norm_Pos_2:ReScore</th>    <td>   -2.6004</td> <td>    0.239</td> <td>  -10.890</td> <td> 0.000</td> <td>   -3.068    -2.132</td>\n",
       "</tr>\n",
       "<tr>\n",
       "  <th>Norm_DRank</th>            <td>    1.0770</td> <td>    0.140</td> <td>    7.668</td> <td> 0.000</td> <td>    0.802     1.352</td>\n",
       "</tr>\n",
       "<tr>\n",
       "  <th>Norm_Pos:Norm_DRank</th>   <td>   -2.5150</td> <td>    0.444</td> <td>   -5.658</td> <td> 0.000</td> <td>   -3.386    -1.644</td>\n",
       "</tr>\n",
       "<tr>\n",
       "  <th>Norm_Pos_2:Norm_DRank</th> <td>    1.2397</td> <td>    0.323</td> <td>    3.834</td> <td> 0.000</td> <td>    0.606     1.873</td>\n",
       "</tr>\n",
       "</table>"
      ],
      "text/plain": [
       "<class 'statsmodels.iolib.summary.Summary'>\n",
       "\"\"\"\n",
       "                 Generalized Linear Model Regression Results                  \n",
       "==============================================================================\n",
       "Dep. Variable:                  Votes   No. Observations:                19389\n",
       "Model:                            GLM   Df Residuals:                    19380\n",
       "Model Family:        NegativeBinomial   Df Model:                            8\n",
       "Link Function:                    log   Scale:                  0.186615244235\n",
       "Method:                          IRLS   Log-Likelihood:                -30574.\n",
       "Date:                Thu, 28 Apr 2016   Deviance:                       2198.9\n",
       "Time:                        14:53:53   Pearson chi2:                 3.62e+03\n",
       "No. Iterations:                     7                                         \n",
       "=========================================================================================\n",
       "                            coef    std err          z      P>|z|      [95.0% Conf. Int.]\n",
       "-----------------------------------------------------------------------------------------\n",
       "Intercept                 1.4352      0.096     14.921      0.000         1.247     1.624\n",
       "Norm_Pos                 -3.6031      0.292    -12.360      0.000        -4.174    -3.032\n",
       "ReScore                  -1.3381      0.105    -12.721      0.000        -1.544    -1.132\n",
       "Norm_Pos:ReScore          3.5500      0.335     10.593      0.000         2.893     4.207\n",
       "Norm_Pos_2                2.6660      0.200     13.315      0.000         2.274     3.058\n",
       "Norm_Pos_2:ReScore       -2.6004      0.239    -10.890      0.000        -3.068    -2.132\n",
       "Norm_DRank                1.0770      0.140      7.668      0.000         0.802     1.352\n",
       "Norm_Pos:Norm_DRank      -2.5150      0.444     -5.658      0.000        -3.386    -1.644\n",
       "Norm_Pos_2:Norm_DRank     1.2397      0.323      3.834      0.000         0.606     1.873\n",
       "=========================================================================================\n",
       "\"\"\""
      ]
     },
     "execution_count": 185,
     "metadata": {},
     "output_type": "execute_result"
    }
   ],
   "source": [
    "fml_2 = 'Votes ~ Norm_Pos*ReScore + Norm_Pos_2*ReScore + Norm_Pos*Norm_DRank + Norm_Pos_2*Norm_DRank'\n",
    "r_method = sm.families.NegativeBinomial(link=sm.families.links.log)#sm.families.Poisson(link=sm.families.links.log)\n",
    "datas_2 = votes\n",
    "mod_2 = smf.glm(fml_2, data=datas_2, family=r_method) #, offset=np.log(datas['Age_vot'] + 1))\n",
    "rslt_2 = mod_2.fit(method='bfgs')\n",
    "\n",
    "rslt_2.summary()"
   ]
  },
  {
   "cell_type": "code",
   "execution_count": 186,
   "metadata": {
    "collapsed": true
   },
   "outputs": [],
   "source": [
    "votes['Lhs'] = votes['Norm_Pos'] + votes['Norm_Pos_2']\n",
    "votes['Rhs'] = votes['Norm_DRank'] + votes['ReScore']"
   ]
  },
  {
   "cell_type": "code",
   "execution_count": 187,
   "metadata": {
    "collapsed": false
   },
   "outputs": [
    {
     "data": {
      "text/html": [
       "<table class=\"simpletable\">\n",
       "<caption>Generalized Linear Model Regression Results</caption>\n",
       "<tr>\n",
       "  <th>Dep. Variable:</th>        <td>Votes</td>      <th>  No. Observations:  </th>     <td> 19389</td>    \n",
       "</tr>\n",
       "<tr>\n",
       "  <th>Model:</th>                 <td>GLM</td>       <th>  Df Residuals:      </th>     <td> 19386</td>    \n",
       "</tr>\n",
       "<tr>\n",
       "  <th>Model Family:</th>   <td>NegativeBinomial</td> <th>  Df Model:          </th>     <td>     2</td>    \n",
       "</tr>\n",
       "<tr>\n",
       "  <th>Link Function:</th>         <td>log</td>       <th>  Scale:             </th> <td>0.198364057791</td>\n",
       "</tr>\n",
       "<tr>\n",
       "  <th>Method:</th>               <td>IRLS</td>       <th>  Log-Likelihood:    </th>    <td> -30609.</td>   \n",
       "</tr>\n",
       "<tr>\n",
       "  <th>Date:</th>           <td>Thu, 28 Apr 2016</td> <th>  Deviance:          </th>    <td>  2269.1</td>   \n",
       "</tr>\n",
       "<tr>\n",
       "  <th>Time:</th>               <td>14:54:02</td>     <th>  Pearson chi2:      </th>    <td>3.85e+03</td>   \n",
       "</tr>\n",
       "<tr>\n",
       "  <th>No. Iterations:</th>         <td>7</td>        <th>                     </th>        <td> </td>      \n",
       "</tr>\n",
       "</table>\n",
       "<table class=\"simpletable\">\n",
       "<tr>\n",
       "      <td></td>         <th>coef</th>     <th>std err</th>      <th>z</th>      <th>P>|z|</th> <th>[95.0% Conf. Int.]</th> \n",
       "</tr>\n",
       "<tr>\n",
       "  <th>Intercept</th> <td>    0.2646</td> <td>    0.011</td> <td>   23.667</td> <td> 0.000</td> <td>    0.243     0.286</td>\n",
       "</tr>\n",
       "<tr>\n",
       "  <th>Lhs</th>       <td>    0.0942</td> <td>    0.006</td> <td>   15.358</td> <td> 0.000</td> <td>    0.082     0.106</td>\n",
       "</tr>\n",
       "<tr>\n",
       "  <th>Rhs</th>       <td>   -0.2497</td> <td>    0.008</td> <td>  -29.497</td> <td> 0.000</td> <td>   -0.266    -0.233</td>\n",
       "</tr>\n",
       "</table>"
      ],
      "text/plain": [
       "<class 'statsmodels.iolib.summary.Summary'>\n",
       "\"\"\"\n",
       "                 Generalized Linear Model Regression Results                  \n",
       "==============================================================================\n",
       "Dep. Variable:                  Votes   No. Observations:                19389\n",
       "Model:                            GLM   Df Residuals:                    19386\n",
       "Model Family:        NegativeBinomial   Df Model:                            2\n",
       "Link Function:                    log   Scale:                  0.198364057791\n",
       "Method:                          IRLS   Log-Likelihood:                -30609.\n",
       "Date:                Thu, 28 Apr 2016   Deviance:                       2269.1\n",
       "Time:                        14:54:02   Pearson chi2:                 3.85e+03\n",
       "No. Iterations:                     7                                         \n",
       "==============================================================================\n",
       "                 coef    std err          z      P>|z|      [95.0% Conf. Int.]\n",
       "------------------------------------------------------------------------------\n",
       "Intercept      0.2646      0.011     23.667      0.000         0.243     0.286\n",
       "Lhs            0.0942      0.006     15.358      0.000         0.082     0.106\n",
       "Rhs           -0.2497      0.008    -29.497      0.000        -0.266    -0.233\n",
       "==============================================================================\n",
       "\"\"\""
      ]
     },
     "execution_count": 187,
     "metadata": {},
     "output_type": "execute_result"
    }
   ],
   "source": [
    "fml_3 = 'Votes ~ Lhs + Rhs'\n",
    "r_method = sm.families.NegativeBinomial(link=sm.families.links.log)#sm.families.Poisson(link=sm.families.links.log)\n",
    "datas_3 = votes\n",
    "mod_3 = smf.glm(fml_3, data=datas_3, family=r_method) #, offset=np.log(datas['Age_vot'] + 1))\n",
    "rslt_3 = mod_3.fit(method='bfgs')\n",
    "\n",
    "rslt_3.summary()"
   ]
  },
  {
   "cell_type": "markdown",
   "metadata": {},
   "source": [
    "## Lm with mixed effects"
   ]
  },
  {
   "cell_type": "code",
   "execution_count": 207,
   "metadata": {
    "collapsed": false
   },
   "outputs": [
    {
     "name": "stdout",
     "output_type": "stream",
     "text": [
      "          Mixed Linear Model Regression Results\n",
      "=========================================================\n",
      "Model:            MixedLM Dependent Variable: Votes      \n",
      "No. Observations: 19389   Method:             REML       \n",
      "No. Groups:       5577    Scale:              0.7449     \n",
      "Min. group size:  1       Likelihood:         -29413.9915\n",
      "Max. group size:  509     Converged:          Yes        \n",
      "Mean group size:  3.5                                    \n",
      "---------------------------------------------------------\n",
      "               Coef.  Std.Err.   z    P>|z| [0.025 0.975]\n",
      "---------------------------------------------------------\n",
      "Norm_DRank     -0.186    0.038 -4.872 0.000 -0.260 -0.111\n",
      "Intercept RE    1.647    0.054                           \n",
      "=========================================================\n",
      "\n"
     ]
    }
   ],
   "source": [
    "formula = \"Votes ~ Norm_DRank - 1\"\n",
    "model = sm.MixedLM.from_formula(formula, votes, groups=votes[\"AnsId\"])\n",
    "result = model.fit()\n",
    "print result.summary()"
   ]
  },
  {
   "cell_type": "code",
   "execution_count": null,
   "metadata": {
    "collapsed": true
   },
   "outputs": [],
   "source": []
  }
 ],
 "metadata": {
  "kernelspec": {
   "display_name": "Python 2",
   "language": "python",
   "name": "python2"
  },
  "language_info": {
   "codemirror_mode": {
    "name": "ipython",
    "version": 2
   },
   "file_extension": ".py",
   "mimetype": "text/x-python",
   "name": "python",
   "nbconvert_exporter": "python",
   "pygments_lexer": "ipython2",
   "version": "2.7.11"
  }
 },
 "nbformat": 4,
 "nbformat_minor": 0
}
