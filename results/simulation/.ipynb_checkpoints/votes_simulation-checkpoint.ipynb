{
 "cells": [
  {
   "cell_type": "code",
   "execution_count": 1,
   "metadata": {
    "collapsed": true
   },
   "outputs": [],
   "source": [
    "import pandas as pd\n",
    "import numpy as np\n",
    "import random\n",
    "from functools import partial\n",
    "\n",
    "%matplotlib inline\n",
    "from matplotlib import pyplot"
   ]
  },
  {
   "cell_type": "markdown",
   "metadata": {},
   "source": [
    "## Experiment 1: static vote counting"
   ]
  },
  {
   "cell_type": "code",
   "execution_count": 3,
   "metadata": {
    "collapsed": false
   },
   "outputs": [],
   "source": [
    "def count_votes(sampling_dist,nb_iter,condition):\n",
    "    def check_quality(idx_ans):\n",
    "        if condition.iloc[idx_ans]>random.random() :\n",
    "            return idx_ans + 1\n",
    "        return 0\n",
    "                \n",
    "    counts_cond = pd.concat([sampling_dist]*nb_iter,axis=1).apply(\n",
    "                        lambda col: check_quality(col[col>random.random()].index[0]))\n",
    "    return counts_cond[counts_cond>0].values"
   ]
  },
  {
   "cell_type": "code",
   "execution_count": 7,
   "metadata": {
    "collapsed": false
   },
   "outputs": [
    {
     "data": {
      "image/png": "[encoded data removed]",
      "text/plain": [
       "<matplotlib.figure.Figure at 0xce3cda0>"
      ]
     },
     "metadata": {},
     "output_type": "display_data"
    }
   ],
   "source": [
    "\n",
    "nb_iter = 10000\n",
    "nb_ans = 8\n",
    "pbias = pd.Series([1 - i/nb_ans for i in range(1,nb_ans+1)])\n",
    "pbias = (pbias/pbias.sum()).cumsum()\n",
    "count_experiment = partial(count_votes,pbias,nb_iter)\n",
    "\n",
    "q1 = pd.Series([float(i)/nb_ans for i in range(1,nb_ans+1)])\n",
    "q2 = pd.Series([1 - float(i)/nb_ans for i in range(1,nb_ans+1)])\n",
    "#q2 = pd.Series([(nb_ans**-i) for i in range(1,nb_ans+1)])\n",
    "\n",
    "\n",
    "bins = np.linspace(0, nb_ans, int((nb_ans-1)/0.5)+1)        \n",
    "pyplot.hist(count_experiment(q1), bins, alpha=0.5,label='condition1 - q = i/L')\n",
    "pyplot.hist(count_experiment(q2), bins, alpha=0.5,label='condition2 - q = L^-i')\n",
    "pyplot.legend(loc='best')\n",
    "pyplot.show()"
   ]
  },
  {
   "cell_type": "markdown",
   "metadata": {},
   "source": [
    "## Experiment 2: do answers find a stable position?"
   ]
  },
  {
   "cell_type": "code",
   "execution_count": 8,
   "metadata": {
    "collapsed": true
   },
   "outputs": [],
   "source": [
    "from scipy.stats import beta"
   ]
  },
  {
   "cell_type": "code",
   "execution_count": 13,
   "metadata": {
    "collapsed": true
   },
   "outputs": [],
   "source": [
    "def sim_voting(sampling_dist,nb_iter,init_q):\n",
    "    q_votes = pd.concat([init_q['q'],init_q['ans'],pd.Series(np.zeros(init_q.shape[0]),name='votes')],axis=1)\n",
    "    for _ in range(nb_iter):\n",
    "        sample_idx = sampling_dist[sampling_dist>random.random()].index[0]\n",
    "        if q_votes['q'].iloc[sample_idx]>random.random():\n",
    "            q_votes.loc[q_votes.index==sample_idx,'votes'] = q_votes.loc[q_votes.index==sample_idx,'votes'] + 1\n",
    "            q_votes = q_votes.sort_values(by=['votes'],ascending=False)\n",
    "            q_votes.index = range(q_votes.shape[0])\n",
    "    return q_votes"
   ]
  },
  {
   "cell_type": "code",
   "execution_count": 27,
   "metadata": {
    "collapsed": false
   },
   "outputs": [],
   "source": [
    "def run_exp(nb_ans=8,nb_iter=200):\n",
    "    q_ans = pd.DataFrame({'ans':range(1,nb_ans+1),'q': sorted(np.random.uniform(0,1.0,nb_ans))})\n",
    "    pbias = pd.Series([1-(float(i)+1)/nb_ans for i in range(1,nb_ans+1)])\n",
    "    pbias = (pbias/pbias.sum()).cumsum()\n",
    "    vote_experiment = partial(sim_voting,pbias,nb_iter)\n",
    "    results1 = vote_experiment(q_ans)\n",
    "    q_ans.rename(columns={'ans':'ans_init','q':'q_init'},inplace=True)\n",
    "    res = pd.concat([results,q_ans],axis=1)\n",
    "    res = res.reset_index(level=[0],drop=False)\n",
    "    res = pd.merge(res[['index','ans']],res[['index','ans_init']],\n",
    "         how='inner',left_on='ans',right_on='ans_init',suffixes=['_res','_init'])\n",
    "    pos:ans goes up neg:ans goes down\n",
    "    return (res['index_init'] - res['index_res']).values"
   ]
  },
  {
   "cell_type": "code",
   "execution_count": 119,
   "metadata": {
    "collapsed": false
   },
   "outputs": [
    {
     "data": {
      "image/png": "[encoded data removed]",
      "text/plain": [
       "<matplotlib.figure.Figure at 0x1d7194e0>"
      ]
     },
     "metadata": {},
     "output_type": "display_data"
    }
   ],
   "source": [
    "shift_values = np.array([])\n",
    "nb_ans = 5\n",
    "nb_exp = 100\n",
    "for _ in range(nb_exp):\n",
    "    shift_values = np.hstack([shift_values,run_exp(nb_ans=nb_ans)])\n",
    "\n",
    "bins = np.linspace(-nb_ans, nb_ans, int((2*nb_ans)/0.5)+1)        \n",
    "pyplot.hist(shift_values, bins, alpha=0.5,label='pos. shift(init-final)')\n",
    "pyplot.legend(loc='best')\n",
    "pyplot.show()"
   ]
  },
  {
   "cell_type": "code",
   "execution_count": null,
   "metadata": {
    "collapsed": true
   },
   "outputs": [],
   "source": []
  }
 ],
 "metadata": {
  "kernelspec": {
   "display_name": "Python 2",
   "language": "python",
   "name": "python2"
  },
  "language_info": {
   "codemirror_mode": {
    "name": "ipython",
    "version": 2
   },
   "file_extension": ".py",
   "mimetype": "text/x-python",
   "name": "python",
   "nbconvert_exporter": "python",
   "pygments_lexer": "ipython2",
   "version": "2.7.11"
  }
 },
 "nbformat": 4,
 "nbformat_minor": 0
}
