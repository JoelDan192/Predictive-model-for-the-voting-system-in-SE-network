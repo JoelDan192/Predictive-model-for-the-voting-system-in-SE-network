{
 "cells": [
  {
   "cell_type": "markdown",
   "metadata": {},
   "source": [
    "## Prepare for Binomial model"
   ]
  },
  {
   "cell_type": "code",
   "execution_count": 6,
   "metadata": {
    "collapsed": true
   },
   "outputs": [],
   "source": [
    "import pandas as pd\n",
    "import numpy as np"
   ]
  },
  {
   "cell_type": "code",
   "execution_count": 8,
   "metadata": {
    "collapsed": false
   },
   "outputs": [],
   "source": [
    "votes = pd.DataFrame.from_csv('VotesRaw.csv')"
   ]
  },
  {
   "cell_type": "code",
   "execution_count": 10,
   "metadata": {
    "collapsed": false
   },
   "outputs": [
    {
     "data": {
      "text/plain": [
       "2516"
      ]
     },
     "execution_count": 10,
     "metadata": {},
     "output_type": "execute_result"
    }
   ],
   "source": [
    "np.unique(votes['QuestionId'].values).size"
   ]
  },
  {
   "cell_type": "code",
   "execution_count": 5,
   "metadata": {
    "collapsed": false
   },
   "outputs": [
    {
     "data": {
      "text/plain": [
       "2     7182\n",
       "3     5820\n",
       "1     4121\n",
       "4     3764\n",
       "5     2255\n",
       "6     1212\n",
       "8      680\n",
       "10     660\n",
       "7      616\n",
       "9      504\n",
       "11     143\n",
       "12      84\n",
       "Name: Ans_count, dtype: int64"
      ]
     },
     "execution_count": 5,
     "metadata": {},
     "output_type": "execute_result"
    }
   ],
   "source": [
    "votes['Ans_count'].value_counts()"
   ]
  },
  {
   "cell_type": "code",
   "execution_count": 5,
   "metadata": {
    "collapsed": false
   },
   "outputs": [
    {
     "data": {
      "text/plain": [
       "1     6978\n",
       "2     2273\n",
       "3     1022\n",
       "4      498\n",
       "5      290\n",
       "6      187\n",
       "7      114\n",
       "8       66\n",
       "9       36\n",
       "11      26\n",
       "10      23\n",
       "12      15\n",
       "13      10\n",
       "14       7\n",
       "15       4\n",
       "18       4\n",
       "16       3\n",
       "20       2\n",
       "19       2\n",
       "21       1\n",
       "Name: Votes, dtype: int64"
      ]
     },
     "execution_count": 5,
     "metadata": {},
     "output_type": "execute_result"
    }
   ],
   "source": [
    "votesnnet = pd.DataFrame.from_csv('QtnnetAll.csv')\n",
    "votesnnet.groupby(['QuestionId','Age']).sum()['Votes'].value_counts()"
   ]
  },
  {
   "cell_type": "code",
   "execution_count": null,
   "metadata": {
    "collapsed": true
   },
   "outputs": [],
   "source": []
  },
  {
   "cell_type": "code",
   "execution_count": null,
   "metadata": {
    "collapsed": true
   },
   "outputs": [],
   "source": [
    "## Check uniqueness of qidt-position pair for plm and mlogit format from R\n",
    "votes.groupby(['QuestionId','Age','AnsRank']).apply(lambda df:df.shape[0]>1).reset_index(drop=True).any()"
   ]
  },
  {
   "cell_type": "code",
   "execution_count": null,
   "metadata": {
    "collapsed": true
   },
   "outputs": [],
   "source": [
    "#There should not be only 0 choice\n",
    "votes.groupby(['QuestionId','Age']).apply(lambda df: (df.Votes==0).all()).reset_index(drop=True).any()"
   ]
  },
  {
   "cell_type": "code",
   "execution_count": null,
   "metadata": {
    "collapsed": true
   },
   "outputs": [],
   "source": [
    "from functools import partial\n",
    "\n",
    "nn_feats =['QuestionId','Age','AnsRank','Votes','ReScore','Norm_Pos','Norm_Pos_2','Norm_DRank']\n",
    "def replicate(df,pos=1):\n",
    "    #assert df.Ans_count.iloc[0] >= pos,\"Target position must be less than or eq than Tot nb of answers.\"\n",
    "    binary_ch = pd.DataFrame()\n",
    "    failures = int(df[df.AnsRank!=pos].Votes.sum())\n",
    "    #assert df[df.AnsRank==pos].Votes.shape[0]==1,\"There must be one ans at a given position per Qid-age pair.\"\n",
    "    try:\n",
    "        successes = int(df[df.AnsRank==pos].Votes.iloc[0])\n",
    "    except:\n",
    "        print \"No pos%d in df\"%pos\n",
    "        print df\n",
    "    if failures > 0:\n",
    "        pos_feats = df[df.AnsRank==pos][nn_feats]\n",
    "        pos_feats.loc[:,'Votes'] = 0 \n",
    "        binary_ch = binary_ch.append([pos_feats]*failures,ignore_index=True)\n",
    "    if successes > 0:\n",
    "        pos_feats = df[df.AnsRank==pos][nn_feats]\n",
    "        pos_feats.loc[:,'Votes'] = 1 \n",
    "        binary_ch = binary_ch.append([pos_feats]*successes,ignore_index=True)\n",
    "    return binary_ch\n",
    "\n",
    "tgt_pos = 3\n",
    "replicated_bin = pd.DataFrame()\n",
    "for k,g in votes.groupby(['QuestionId','Age']):\n",
    "    assert (int(g.Ans_count.iloc[0])==g.Ans_count).all(), 'Ans count must be unique per Qid-age pair'\n",
    "    if int(g.Ans_count.iloc[0]) >= tgt_pos:\n",
    "        replicated_bin = replicated_bin.append(replicate(g,pos=tgt_pos))\n",
    "        \n",
    "replicated_bin.to_csv('BinCh%d.csv'%(tgt_pos))       \n",
    "replicated_bin.head(10)"
   ]
  },
  {
   "cell_type": "code",
   "execution_count": null,
   "metadata": {
    "collapsed": true
   },
   "outputs": [],
   "source": [
    "replicated_bin[replicated_bin.Votes>1]"
   ]
  },
  {
   "cell_type": "code",
   "execution_count": null,
   "metadata": {
    "collapsed": true
   },
   "outputs": [],
   "source": [
    "replicated_bin.shape"
   ]
  },
  {
   "cell_type": "markdown",
   "metadata": {},
   "source": [
    "## Prepare for nnet, replicate rows"
   ]
  },
  {
   "cell_type": "code",
   "execution_count": null,
   "metadata": {
    "collapsed": true
   },
   "outputs": [],
   "source": [
    "qt_idx = votes.groupby(['QuestionId','Age']).count().reset_index(level=[0,1],drop=False)[['QuestionId','Age']]\n",
    "#qt_idx.to_csv('Qt_idx.csv')"
   ]
  },
  {
   "cell_type": "code",
   "execution_count": null,
   "metadata": {
    "collapsed": true
   },
   "outputs": [],
   "source": [
    "# nnet to predict for a fixed nbr of choices\n",
    "for_nnet = pd.DataFrame()\n",
    "nb_choices_nnet = 2\n",
    "for k,g in votes[votes.Ans_count==nb_choices_nnet].groupby(['Votes']):\n",
    "    if k>1:\n",
    "        for_nnet = for_nnet.append([g]*(int(k-1)),ignore_index=True)\n",
    "    else:\n",
    "        for_nnet = for_nnet.append(g,ignore_index=True)\n",
    "for_nnet.loc[for_nnet.Votes>1,'Votes']=1\n",
    "for_nnet = for_nnet[['QuestionId','AnsRank','Ans_count','AnsId','Age','Votes','ReScore','Norm_Pos','Norm_Pos_2','Norm_DRank']]\n",
    "for_nnet = for_nnet[for_nnet.Votes>0]\n",
    "for_nnet = pd.merge(for_nnet,qt_idx.reset_index(drop=False),how='left',on=['QuestionId','Age'])\n",
    "for_nnet.to_csv('Qtnnet%d.csv'%nb_choices_nnet)\n",
    "print for_nnet.shape\n",
    "for_nnet.head()"
   ]
  },
  {
   "cell_type": "markdown",
   "metadata": {},
   "source": [
    "## Prepare for mlogit, fixed nb of choices"
   ]
  },
  {
   "cell_type": "code",
   "execution_count": null,
   "metadata": {
    "collapsed": true
   },
   "outputs": [],
   "source": [
    "votes_qt_idx = pd.merge(votes,qt_idx.reset_index(drop=False),how='left',on=['QuestionId','Age'])\n",
    "votes_qt_idx = votes_qt_idx[['AnsId','QuestionId','Ans_count','index','Votes','AnsRank',\n",
    "                             'Age','ReScore','Norm_Pos','Norm_Pos_2','Norm_DRank','EPbias']]"
   ]
  },
  {
   "cell_type": "code",
   "execution_count": null,
   "metadata": {
    "collapsed": true
   },
   "outputs": [],
   "source": [
    "nb_choices = 2\n",
    "features = ['AnsId','QuestionId','index','Votes','AnsRank','Age',\n",
    "            'ReScore','Norm_Pos','Norm_Pos_2','Norm_DRank','EPbias']\n",
    "fixed_ch = votes_qt_idx[votes_qt_idx.Ans_count==nb_choices][features]\n",
    "fixed_ch.to_csv('Qt%d.csv'%(nb_choices))"
   ]
  },
  {
   "cell_type": "markdown",
   "metadata": {},
   "source": [
    "## Prepare for plm package, as a panel "
   ]
  },
  {
   "cell_type": "code",
   "execution_count": null,
   "metadata": {
    "collapsed": true
   },
   "outputs": [],
   "source": [
    "# test this part later\n",
    "features = ['ReScore','Norm_Pos','Norm_Pos_2','Norm_DRank','EPbias']\n",
    "def prepare_logit(df):\n",
    "    s_df = df.sort_values(by='AnsRank')\n",
    "    ref = s_df.iloc[-1]\n",
    "    feats_df = s_df.apply(lambda row: row[features] - ref[features], axis=1).iloc[:-1]\n",
    "    feats_df['AnsId'] = s_df['AnsId'][:-1]\n",
    "    feats_df['AnsRank'] = s_df['AnsRank'][:-1]\n",
    "    feats_df['Votes'] = s_df['Votes'][:-1]\n",
    "    return feats_df"
   ]
  },
  {
   "cell_type": "code",
   "execution_count": null,
   "metadata": {
    "collapsed": true
   },
   "outputs": [],
   "source": [
    "votes_logit = votes.groupby(['QuestionId','Age']).apply(prepare_logit).reset_index(level=[0,1],drop=False)"
   ]
  },
  {
   "cell_type": "code",
   "execution_count": null,
   "metadata": {
    "collapsed": true
   },
   "outputs": [],
   "source": [
    "get_comp = lambda df: int(df.shape[0])>1 \n",
    "tt = votes_logit.groupby(['QuestionId','Age','AnsRank']).apply(get_comp).reset_index(drop=True)\n",
    "sum(tt)"
   ]
  },
  {
   "cell_type": "code",
   "execution_count": null,
   "metadata": {
    "collapsed": true
   },
   "outputs": [],
   "source": [
    "print votes_logit.shape\n",
    "print votes_logit[votes_logit.Votes==0].shape"
   ]
  },
  {
   "cell_type": "code",
   "execution_count": null,
   "metadata": {
    "collapsed": true
   },
   "outputs": [],
   "source": [
    "map_qt_idx = votes_logit.groupby(['QuestionId','Age']).count().reset_index(level=[0,1],drop=False)[['QuestionId','Age']]\n",
    "map_qt_idx.head()"
   ]
  },
  {
   "cell_type": "code",
   "execution_count": null,
   "metadata": {
    "collapsed": true
   },
   "outputs": [],
   "source": [
    "map_qt_idx.duplicated().any()"
   ]
  },
  {
   "cell_type": "code",
   "execution_count": null,
   "metadata": {
    "collapsed": true
   },
   "outputs": [],
   "source": [
    "map_qt_idx.to_csv('Qt_idx.csv')"
   ]
  },
  {
   "cell_type": "code",
   "execution_count": null,
   "metadata": {
    "collapsed": true
   },
   "outputs": [],
   "source": [
    "## Keep in mind that features are now differences for last choice for a given question-time pair\n",
    "idxed_X = pd.merge(votes_logit,map_qt_idx.reset_index(drop=False),how='left',on=['QuestionId','Age'])\n",
    "\n",
    "for_r = idxed_X[['index','QuestionId','AnsId','AnsRank','Votes','Age',\n",
    "                 'ReScore','Norm_Pos','Norm_Pos_2','Norm_DRank','EPbias']]"
   ]
  },
  {
   "cell_type": "code",
   "execution_count": null,
   "metadata": {
    "collapsed": true
   },
   "outputs": [],
   "source": [
    "for_r.to_csv('QtPanelFull.csv')"
   ]
  },
  {
   "cell_type": "code",
   "execution_count": null,
   "metadata": {
    "collapsed": true
   },
   "outputs": [],
   "source": [
    "for_r.shape"
   ]
  },
  {
   "cell_type": "code",
   "execution_count": null,
   "metadata": {
    "collapsed": true
   },
   "outputs": [],
   "source": [
    "for_r[for_r.Votes==0].shape"
   ]
  },
  {
   "cell_type": "code",
   "execution_count": null,
   "metadata": {
    "collapsed": true
   },
   "outputs": [],
   "source": [
    "for_r[pd.isnull(for_r).any(axis=1)]"
   ]
  },
  {
   "cell_type": "code",
   "execution_count": null,
   "metadata": {
    "collapsed": true
   },
   "outputs": [],
   "source": [
    "sum(for_r.groupby('index').count().reset_index(drop=True).Votes>1)"
   ]
  },
  {
   "cell_type": "code",
   "execution_count": null,
   "metadata": {
    "collapsed": true
   },
   "outputs": [],
   "source": [
    "for_r.groupby(['index','AnsRank']).count()"
   ]
  },
  {
   "cell_type": "code",
   "execution_count": null,
   "metadata": {
    "collapsed": true
   },
   "outputs": [],
   "source": []
  },
  {
   "cell_type": "code",
   "execution_count": null,
   "metadata": {
    "collapsed": true
   },
   "outputs": [],
   "source": []
  }
 ],
 "metadata": {
  "kernelspec": {
   "display_name": "Python 2",
   "language": "python",
   "name": "python2"
  },
  "language_info": {
   "codemirror_mode": {
    "name": "ipython",
    "version": 2
   },
   "file_extension": ".py",
   "mimetype": "text/x-python",
   "name": "python",
   "nbconvert_exporter": "python",
   "pygments_lexer": "ipython2",
   "version": "2.7.11"
  }
 },
 "nbformat": 4,
 "nbformat_minor": 0
}
