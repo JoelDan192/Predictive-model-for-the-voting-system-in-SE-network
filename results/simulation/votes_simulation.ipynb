{
 "cells": [
  {
   "cell_type": "code",
   "execution_count": 88,
   "metadata": {
    "collapsed": true
   },
   "outputs": [],
   "source": [
    "import pandas as pd\n",
    "import numpy as np\n",
    "import random\n",
    "from functools import partial\n",
    "\n",
    "%matplotlib inline\n",
    "from matplotlib import pyplot"
   ]
  },
  {
   "cell_type": "markdown",
   "metadata": {},
   "source": [
    "## Experiment 1: static vote counting"
   ]
  },
  {
   "cell_type": "code",
   "execution_count": 3,
   "metadata": {
    "collapsed": false
   },
   "outputs": [],
   "source": [
    "def count_votes(sampling_dist,nb_iter,condition):\n",
    "    def check_quality(idx_ans):\n",
    "        if condition.iloc[idx_ans]>random.random() :\n",
    "            return idx_ans + 1\n",
    "        return 0\n",
    "                \n",
    "    counts_cond = pd.concat([sampling_dist]*nb_iter,axis=1).apply(\n",
    "                        lambda col: check_quality(col[col>random.random()].index[0]))\n",
    "    return counts_cond[counts_cond>0].values"
   ]
  },
  {
   "cell_type": "code",
   "execution_count": 7,
   "metadata": {
    "collapsed": false
   },
   "outputs": [
    {
     "data": {
      "image/png": "[encoded data removed]",
      "text/plain": [
       "<matplotlib.figure.Figure at 0xce3cda0>"
      ]
     },
     "metadata": {},
     "output_type": "display_data"
    }
   ],
   "source": [
    "\n",
    "nb_iter = 10000\n",
    "nb_ans = 8\n",
    "pbias = pd.Series([1 - i/nb_ans for i in range(1,nb_ans+1)])\n",
    "pbias = (pbias/pbias.sum()).cumsum()\n",
    "count_experiment = partial(count_votes,pbias,nb_iter)\n",
    "\n",
    "q1 = pd.Series([float(i)/nb_ans for i in range(1,nb_ans+1)])\n",
    "q2 = pd.Series([1 - float(i)/nb_ans for i in range(1,nb_ans+1)])\n",
    "#q2 = pd.Series([(nb_ans**-i) for i in range(1,nb_ans+1)])\n",
    "\n",
    "\n",
    "bins = np.linspace(0, nb_ans, int((nb_ans-1)/0.5)+1)        \n",
    "pyplot.hist(count_experiment(q1), bins, alpha=0.5,label='condition1 - q = i/L')\n",
    "pyplot.hist(count_experiment(q2), bins, alpha=0.5,label='condition2 - q = L^-i')\n",
    "pyplot.legend(loc='best')\n",
    "pyplot.show()"
   ]
  },
  {
   "cell_type": "markdown",
   "metadata": {},
   "source": [
    "## Experiment 2: do answers find a stable position?"
   ]
  },
  {
   "cell_type": "code",
   "execution_count": 69,
   "metadata": {
    "collapsed": true
   },
   "outputs": [],
   "source": [
    "from scipy.stats import beta"
   ]
  },
  {
   "cell_type": "code",
   "execution_count": 70,
   "metadata": {
    "collapsed": true
   },
   "outputs": [],
   "source": [
    "def voting_pq(pbias,tgt_order,init_q):\n",
    "    q_votes = pd.concat([init_q['q'],init_q['ans'],pd.Series(np.zeros(init_q.shape[0]),name='votes')],axis=1)\n",
    "    while True:\n",
    "        sample_idx = pbias[pbias>random.random()].index[0]\n",
    "        if q_votes['q'].iloc[sample_idx]>random.random():\n",
    "            q_votes.loc[q_votes.index==sample_idx,'votes'] = q_votes.loc[q_votes.index==sample_idx,'votes'] + 1\n",
    "            q_votes = q_votes.sort_values(by=['votes'],ascending=False)\n",
    "            q_votes.index = range(q_votes.shape[0])\n",
    "            yield np.absolute(q_votes['ans'].values-tgt_order).sum()"
   ]
  },
  {
   "cell_type": "code",
   "execution_count": 71,
   "metadata": {
    "collapsed": true
   },
   "outputs": [],
   "source": [
    "def voting_p(pbias,tgt_order,init_q):\n",
    "    q_votes = pd.concat([init_q['q'],init_q['ans'],pd.Series(np.zeros(init_q.shape[0]),name='votes')],axis=1)\n",
    "    while True:\n",
    "        sample_idx = pbias[pbias>random.random()].index[0]\n",
    "        q_votes.loc[q_votes.index==sample_idx,'votes'] = q_votes.loc[q_votes.index==sample_idx,'votes'] + 1\n",
    "        q_votes = q_votes.sort_values(by=['votes'],ascending=False)\n",
    "        q_votes.index = range(q_votes.shape[0])\n",
    "        yield np.absolute(q_votes['ans'].values-tgt_order).sum()"
   ]
  },
  {
   "cell_type": "code",
   "execution_count": 72,
   "metadata": {
    "collapsed": true
   },
   "outputs": [],
   "source": [
    "def voting_q(pbias,tgt_order,init_q):\n",
    "    q_votes = pd.concat([init_q['q'],init_q['ans'],pd.Series(np.zeros(init_q.shape[0]),name='votes')],axis=1)\n",
    "    while True:\n",
    "        sample_idx = random.choice(q_votes.index)\n",
    "        if q_votes['q'].iloc[sample_idx]>random.random():\n",
    "            q_votes.loc[q_votes.index==sample_idx,'votes'] = q_votes.loc[q_votes.index==sample_idx,'votes'] + 1\n",
    "            q_votes = q_votes.sort_values(by=['votes'],ascending=False)\n",
    "            q_votes.index = range(q_votes.shape[0])\n",
    "            yield np.absolute(q_votes['ans'].values-tgt_order).sum()"
   ]
  },
  {
   "cell_type": "code",
   "execution_count": 73,
   "metadata": {
    "collapsed": false
   },
   "outputs": [],
   "source": [
    "def voting_cascade(pbias,tgt_order,init_q):\n",
    "    q_votes = pd.concat([init_q['q'],init_q['ans'],pd.Series(np.zeros(init_q.shape[0]),name='votes')],axis=1)\n",
    "    while True:\n",
    "        q_votes.loc[:,'prev_q_prod'] = np.log(1-q_votes['q'])\n",
    "        q_votes.loc[:,'prev_q_prod'] = np.exp(q_votes['prev_q_prod'].cumsum()\n",
    "                                            -np.log(1-q_votes['q'])\n",
    "                                            +np.log(q_votes['q']))\n",
    "        q_votes.loc[:,'prev_q_prod'] = (q_votes['prev_q_prod']/q_votes['prev_q_prod'].sum()).cumsum()\n",
    "        sample_idx = q_votes['prev_q_prod'][q_votes['prev_q_prod']>random.random()].index[0]\n",
    "        q_votes.loc[q_votes.index==sample_idx,'votes'] = q_votes.loc[q_votes.index==sample_idx,'votes'] + 1\n",
    "        q_votes = q_votes.sort_values(by=['votes'],ascending=False)\n",
    "        q_votes.index = range(q_votes.shape[0])\n",
    "        yield np.absolute(q_votes['ans'].values-tgt_order).sum()"
   ]
  },
  {
   "cell_type": "code",
   "execution_count": null,
   "metadata": {
    "collapsed": true
   },
   "outputs": [],
   "source": [
    "from itertools import takewhile,izip\n",
    "\n",
    "def run_exp(nb_ans=8,max_votes=100):\n",
    "    q_ans = pd.DataFrame({'ans':range(1,nb_ans+1),'q': np.random.uniform(0,1.0,nb_ans)})\n",
    "    ans_sorted = q_ans.sort_values(by='q',ascending=False)['ans'].values\n",
    "    pbias = pd.Series([1-(float(i)-1)/nb_ans for i in range(1,nb_ans+1)])\n",
    "    pbias = (pbias/pbias.sum()).cumsum()\n",
    "      \n",
    "    pbias_voting = partial(voting_p,pbias,ans_sorted)\n",
    "    q_voting = partial(voting_q,pbias,ans_sorted)\n",
    "    pq_voting = partial(voting_pq,pbias,ans_sorted)\n",
    "    cascade_voting = partial(voting_cascade,pbias,ans_sorted)\n",
    "    \n",
    "    distances = [(p,q,pq,casc) for i,(p,q,pq,casc) in takewhile(lambda t:t[0]<max_votes, enumerate(izip(pbias_voting(q_ans),\n",
    "                                                                        q_voting(q_ans),\n",
    "                                                                        pq_voting(q_ans),\n",
    "                                                                        cascade_voting(q_ans))))]\n",
    "    return zip(*distances)\n",
    "    "
   ]
  },
  {
   "cell_type": "code",
   "execution_count": 110,
   "metadata": {
    "collapsed": false
   },
   "outputs": [
    {
     "data": {
      "image/png": "[encoded data removed]",
      "text/plain": [
       "<matplotlib.figure.Figure at 0xc2a50f0>"
      ]
     },
     "metadata": {},
     "output_type": "display_data"
    }
   ],
   "source": [
    "\n",
    "nb_ans = 5\n",
    "nb_exp = 20\n",
    "nb_votes = 150\n",
    "pbias_dist, quality_dist, pbias_quality_dist, cascade_dist = [np.zeros(nb_votes)]*4\n",
    "\n",
    "for _ in range(nb_exp):\n",
    "    p,q,pq,csc = run_exp(nb_ans=nb_ans,max_votes=nb_votes)\n",
    "    pbias_dist,quality_dist,pbias_quality_dist,cascade_dist = p+pbias_dist,q+quality_dist,pq+pbias_quality_dist,csc+cascade_dist\n",
    "pbias_dist,quality_dist = pbias_dist/float(nb_exp),quality_dist/float(nb_exp)\n",
    "pbias_quality_dist,cascade_dist = pbias_quality_dist/float(nb_exp),cascade_dist/float(nb_exp)\n",
    "\n",
    "\n",
    "\n",
    "fig = pyplot.figure(1)\n",
    "ax = fig.add_subplot(111)\n",
    "\n",
    "votes_ax = range(nb_votes)\n",
    "ax.plot(votes_ax,pbias_dist,label='position_only')\n",
    "ax.plot(votes_ax,quality_dist,label='quality_only')\n",
    "ax.plot(votes_ax,pbias_quality_dist,label='pq')\n",
    "ax.plot(votes_ax,cascade_dist,label='cascade')\n",
    "lgd = ax.legend(bbox_to_anchor=(1, 0.5), loc='center left')\n",
    "pyplot.show()"
   ]
  },
  {
   "cell_type": "code",
   "execution_count": null,
   "metadata": {
    "collapsed": true
   },
   "outputs": [],
   "source": []
  }
 ],
 "metadata": {
  "kernelspec": {
   "display_name": "Python 2",
   "language": "python",
   "name": "python2"
  },
  "language_info": {
   "codemirror_mode": {
    "name": "ipython",
    "version": 2
   },
   "file_extension": ".py",
   "mimetype": "text/x-python",
   "name": "python",
   "nbconvert_exporter": "python",
   "pygments_lexer": "ipython2",
   "version": "2.7.11"
  }
 },
 "nbformat": 4,
 "nbformat_minor": 0
}
