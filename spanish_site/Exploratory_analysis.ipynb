{
 "cells": [
  {
   "cell_type": "code",
   "execution_count": 1,
   "metadata": {
    "collapsed": true
   },
   "outputs": [],
   "source": [
    "%matplotlib inline\n",
    "import pandas as pd"
   ]
  },
  {
   "cell_type": "code",
   "execution_count": 21,
   "metadata": {
    "collapsed": false
   },
   "outputs": [
    {
     "data": {
      "text/html": [
       "<div>\n",
       "<table border=\"1\" class=\"dataframe\">\n",
       "  <thead>\n",
       "    <tr style=\"text-align: right;\">\n",
       "      <th></th>\n",
       "      <th>parent_id</th>\n",
       "      <th>ans_count</th>\n",
       "      <th>acc_id</th>\n",
       "      <th>reply_time</th>\n",
       "      <th>rep_reputation</th>\n",
       "      <th>rep_id</th>\n",
       "    </tr>\n",
       "  </thead>\n",
       "  <tbody>\n",
       "    <tr>\n",
       "      <th>0</th>\n",
       "      <td>1</td>\n",
       "      <td>7</td>\n",
       "      <td>56</td>\n",
       "      <td>2011-11-15T20:53:36.853</td>\n",
       "      <td>708</td>\n",
       "      <td>4</td>\n",
       "    </tr>\n",
       "    <tr>\n",
       "      <th>1</th>\n",
       "      <td>1</td>\n",
       "      <td>7</td>\n",
       "      <td>56</td>\n",
       "      <td>2011-11-15T20:54:09.083</td>\n",
       "      <td>3</td>\n",
       "      <td>5</td>\n",
       "    </tr>\n",
       "    <tr>\n",
       "      <th>2</th>\n",
       "      <td>2</td>\n",
       "      <td>6</td>\n",
       "      <td>10</td>\n",
       "      <td>2011-11-15T20:54:49.410</td>\n",
       "      <td>111</td>\n",
       "      <td>6</td>\n",
       "    </tr>\n",
       "    <tr>\n",
       "      <th>3</th>\n",
       "      <td>2</td>\n",
       "      <td>6</td>\n",
       "      <td>10</td>\n",
       "      <td>2011-11-15T20:57:41.503</td>\n",
       "      <td>445</td>\n",
       "      <td>8</td>\n",
       "    </tr>\n",
       "    <tr>\n",
       "      <th>4</th>\n",
       "      <td>3</td>\n",
       "      <td>11</td>\n",
       "      <td>109</td>\n",
       "      <td>2011-11-15T20:58:01.207</td>\n",
       "      <td>404</td>\n",
       "      <td>9</td>\n",
       "    </tr>\n",
       "    <tr>\n",
       "      <th>5</th>\n",
       "      <td>2</td>\n",
       "      <td>6</td>\n",
       "      <td>10</td>\n",
       "      <td>2011-11-15T20:58:23.697</td>\n",
       "      <td>2173</td>\n",
       "      <td>10</td>\n",
       "    </tr>\n",
       "    <tr>\n",
       "      <th>6</th>\n",
       "      <td>3</td>\n",
       "      <td>11</td>\n",
       "      <td>109</td>\n",
       "      <td>2011-11-15T20:59:05.460</td>\n",
       "      <td>708</td>\n",
       "      <td>11</td>\n",
       "    </tr>\n",
       "    <tr>\n",
       "      <th>7</th>\n",
       "      <td>3</td>\n",
       "      <td>11</td>\n",
       "      <td>109</td>\n",
       "      <td>2011-11-15T20:59:33.323</td>\n",
       "      <td>445</td>\n",
       "      <td>12</td>\n",
       "    </tr>\n",
       "  </tbody>\n",
       "</table>\n",
       "</div>"
      ],
      "text/plain": [
       "   parent_id  ans_count  acc_id               reply_time  rep_reputation  \\\n",
       "0          1          7      56  2011-11-15T20:53:36.853             708   \n",
       "1          1          7      56  2011-11-15T20:54:09.083               3   \n",
       "2          2          6      10  2011-11-15T20:54:49.410             111   \n",
       "3          2          6      10  2011-11-15T20:57:41.503             445   \n",
       "4          3         11     109  2011-11-15T20:58:01.207             404   \n",
       "5          2          6      10  2011-11-15T20:58:23.697            2173   \n",
       "6          3         11     109  2011-11-15T20:59:05.460             708   \n",
       "7          3         11     109  2011-11-15T20:59:33.323             445   \n",
       "\n",
       "   rep_id  \n",
       "0       4  \n",
       "1       5  \n",
       "2       6  \n",
       "3       8  \n",
       "4       9  \n",
       "5      10  \n",
       "6      11  \n",
       "7      12  "
      ]
     },
     "execution_count": 21,
     "metadata": {},
     "output_type": "execute_result"
    }
   ],
   "source": [
    "self_posts = pd.DataFrame.from_csv('self_post.csv', index_col=None)\n",
    "self_posts.head(8)"
   ]
  },
  {
   "cell_type": "code",
   "execution_count": 3,
   "metadata": {
    "collapsed": false
   },
   "outputs": [
    {
     "data": {
      "text/html": [
       "<div>\n",
       "<table border=\"1\" class=\"dataframe\">\n",
       "  <thead>\n",
       "    <tr style=\"text-align: right;\">\n",
       "      <th></th>\n",
       "      <th>id</th>\n",
       "      <th>type</th>\n",
       "      <th>ans_count</th>\n",
       "      <th>cr_time</th>\n",
       "      <th>score</th>\n",
       "      <th>poster_rep</th>\n",
       "    </tr>\n",
       "  </thead>\n",
       "  <tbody>\n",
       "    <tr>\n",
       "      <th>0</th>\n",
       "      <td>1</td>\n",
       "      <td>1</td>\n",
       "      <td>7</td>\n",
       "      <td>2011-11-15T20:45:51.037</td>\n",
       "      <td>12</td>\n",
       "      <td>1317</td>\n",
       "    </tr>\n",
       "    <tr>\n",
       "      <th>1</th>\n",
       "      <td>2</td>\n",
       "      <td>1</td>\n",
       "      <td>6</td>\n",
       "      <td>2011-11-15T20:50:11.270</td>\n",
       "      <td>12</td>\n",
       "      <td>708</td>\n",
       "    </tr>\n",
       "    <tr>\n",
       "      <th>2</th>\n",
       "      <td>3</td>\n",
       "      <td>1</td>\n",
       "      <td>11</td>\n",
       "      <td>2011-11-15T20:52:27.287</td>\n",
       "      <td>26</td>\n",
       "      <td>380</td>\n",
       "    </tr>\n",
       "    <tr>\n",
       "      <th>3</th>\n",
       "      <td>4</td>\n",
       "      <td>2</td>\n",
       "      <td>NaN</td>\n",
       "      <td>2011-11-15T20:53:36.853</td>\n",
       "      <td>2</td>\n",
       "      <td>708</td>\n",
       "    </tr>\n",
       "    <tr>\n",
       "      <th>4</th>\n",
       "      <td>5</td>\n",
       "      <td>2</td>\n",
       "      <td>NaN</td>\n",
       "      <td>2011-11-15T20:54:09.083</td>\n",
       "      <td>0</td>\n",
       "      <td>3</td>\n",
       "    </tr>\n",
       "    <tr>\n",
       "      <th>5</th>\n",
       "      <td>6</td>\n",
       "      <td>2</td>\n",
       "      <td>NaN</td>\n",
       "      <td>2011-11-15T20:54:49.410</td>\n",
       "      <td>1</td>\n",
       "      <td>111</td>\n",
       "    </tr>\n",
       "    <tr>\n",
       "      <th>6</th>\n",
       "      <td>7</td>\n",
       "      <td>1</td>\n",
       "      <td>7</td>\n",
       "      <td>2011-11-15T20:56:40.383</td>\n",
       "      <td>23</td>\n",
       "      <td>460</td>\n",
       "    </tr>\n",
       "    <tr>\n",
       "      <th>7</th>\n",
       "      <td>8</td>\n",
       "      <td>2</td>\n",
       "      <td>NaN</td>\n",
       "      <td>2011-11-15T20:57:41.503</td>\n",
       "      <td>1</td>\n",
       "      <td>445</td>\n",
       "    </tr>\n",
       "  </tbody>\n",
       "</table>\n",
       "</div>"
      ],
      "text/plain": [
       "   id  type  ans_count                  cr_time  score  poster_rep\n",
       "0   1     1          7  2011-11-15T20:45:51.037     12        1317\n",
       "1   2     1          6  2011-11-15T20:50:11.270     12         708\n",
       "2   3     1         11  2011-11-15T20:52:27.287     26         380\n",
       "3   4     2        NaN  2011-11-15T20:53:36.853      2         708\n",
       "4   5     2        NaN  2011-11-15T20:54:09.083      0           3\n",
       "5   6     2        NaN  2011-11-15T20:54:49.410      1         111\n",
       "6   7     1          7  2011-11-15T20:56:40.383     23         460\n",
       "7   8     2        NaN  2011-11-15T20:57:41.503      1         445"
      ]
     },
     "execution_count": 3,
     "metadata": {},
     "output_type": "execute_result"
    }
   ],
   "source": [
    "posts = pd.DataFrame.from_csv('post_rep.csv', index_col=None)\n",
    "posts.head(8)"
   ]
  },
  {
   "cell_type": "markdown",
   "metadata": {},
   "source": [
    "# Looking for Data Heterogeneity"
   ]
  },
  {
   "cell_type": "code",
   "execution_count": 4,
   "metadata": {
    "collapsed": false
   },
   "outputs": [
    {
     "data": {
      "text/plain": [
       "1     821\n",
       "2     804\n",
       "3     518\n",
       "4     256\n",
       "5     126\n",
       "6      74\n",
       "7      27\n",
       "0      19\n",
       "8      14\n",
       "9      10\n",
       "11      5\n",
       "10      4\n",
       "13      3\n",
       "12      2\n",
       "14      1\n",
       "Name: ans_count, dtype: int64"
      ]
     },
     "execution_count": 4,
     "metadata": {},
     "output_type": "execute_result"
    }
   ],
   "source": [
    "posts.ans_count.value_counts()"
   ]
  },
  {
   "cell_type": "code",
   "execution_count": 12,
   "metadata": {
    "collapsed": false
   },
   "outputs": [
    {
     "data": {
      "text/plain": [
       "<matplotlib.axes._subplots.AxesSubplot at 0xbc65c18>"
      ]
     },
     "execution_count": 12,
     "metadata": {},
     "output_type": "execute_result"
    },
    {
     "data": {
      "image/png": "[encoded data removed]",
      "text/plain": [
       "<matplotlib.figure.Figure at 0x3e89588>"
      ]
     },
     "metadata": {},
     "output_type": "display_data"
    }
   ],
   "source": [
    "by_ans = posts[posts.ans_count.notnull()]\n",
    "by_ans = by_ans[by_ans.ans_count <=6].groupby(['ans_count']).mean().poster_rep\n",
    "\n",
    "ax = by_ans.plot(lw=2,colormap='jet',marker='.',markersize=10)\n",
    "ax.set(xlabel=\"answer count\", ylabel=\"avg asker reputation\")\n",
    "by_ans.plot()"
   ]
  },
  {
   "cell_type": "markdown",
   "metadata": {},
   "source": [
    "# Response time vs Rank"
   ]
  },
  {
   "cell_type": "code",
   "execution_count": 22,
   "metadata": {
    "collapsed": false
   },
   "outputs": [
    {
     "data": {
      "text/plain": [
       "<matplotlib.axes._subplots.AxesSubplot at 0xd241dd8>"
      ]
     },
     "execution_count": 22,
     "metadata": {},
     "output_type": "execute_result"
    },
    {
     "data": {
      "image/png": "[encoded data removed]",
      "text/plain": [
       "<matplotlib.figure.Figure at 0xde1b160>"
      ]
     },
     "metadata": {},
     "output_type": "display_data"
    },
    {
     "data": {
      "image/png": "[encoded data removed]",
      "text/plain": [
       "<matplotlib.figure.Figure at 0xda940b8>"
      ]
     },
     "metadata": {},
     "output_type": "display_data"
    },
    {
     "data": {
      "image/png": "[encoded data removed]",
      "text/plain": [
       "<matplotlib.figure.Figure at 0xd49bb70>"
      ]
     },
     "metadata": {},
     "output_type": "display_data"
    }
   ],
   "source": [
    "by_r = self_posts[self_posts.ans_count == 5]\n",
    "by_r = by_r.groupby('parent_id').apply(lambda x: pd.concat([x.sort_values(by='reply_time').head(5).rep_reputation, x.sort_values(by='reply_time').head(5).reply_time.rank()], axis=1))\n",
    "by_r = by_r.reset_index(drop=True)\n",
    "by_r.groupby('reply_time').mean().plot()\n",
    "\n",
    "by_r = self_posts[self_posts.ans_count == 4]\n",
    "by_r = by_r.groupby('parent_id').apply(lambda x: pd.concat([x.sort_values(by='reply_time').head(5).rep_reputation, x.sort_values(by='reply_time').head(5).reply_time.rank()], axis=1))\n",
    "by_r = by_r.reset_index(drop=True)\n",
    "by_r.groupby('reply_time').mean().plot()\n",
    "\n",
    "by_r = self_posts[self_posts.ans_count == 3]\n",
    "by_r = by_r.groupby('parent_id').apply(lambda x: pd.concat([x.sort_values(by='reply_time').head(5).rep_reputation, x.sort_values(by='reply_time').head(5).reply_time.rank()], axis=1))\n",
    "by_r = by_r.reset_index(drop=True)\n",
    "by_r.groupby('reply_time').mean().plot()"
   ]
  },
  {
   "cell_type": "code",
   "execution_count": 30,
   "metadata": {
    "collapsed": false
   },
   "outputs": [
    {
     "data": {
      "text/plain": [
       "<matplotlib.axes._subplots.AxesSubplot at 0xd4bab70>"
      ]
     },
     "execution_count": 30,
     "metadata": {},
     "output_type": "execute_result"
    },
    {
     "data": {
      "image/png": "[encoded data removed]",
      "text/plain": [
       "<matplotlib.figure.Figure at 0xd775c50>"
      ]
     },
     "metadata": {},
     "output_type": "display_data"
    }
   ],
   "source": [
    "by_ac = self_posts[self_posts.ans_count == 4]\n",
    "by_ac = by_ac.groupby('parent_id').apply(lambda x: x.sort_values(by='reply_time').head(5)[['acc_id','rep_id']].join(x.sort_values(by='reply_time').head(5).reply_time.rank()))\n",
    "by_ac = by_ac.reset_index(drop=True)\n",
    "by_ac.groupby('reply_time').apply(lambda x: (x.acc_id==x.rep_id).mean()).plot(title='acceptance rate')\n"
   ]
  },
  {
   "cell_type": "code",
   "execution_count": null,
   "metadata": {
    "collapsed": true
   },
   "outputs": [],
   "source": []
  }
 ],
 "metadata": {
  "kernelspec": {
   "display_name": "Python 2",
   "language": "python",
   "name": "python2"
  },
  "language_info": {
   "codemirror_mode": {
    "name": "ipython",
    "version": 2
   },
   "file_extension": ".py",
   "mimetype": "text/x-python",
   "name": "python",
   "nbconvert_exporter": "python",
   "pygments_lexer": "ipython2",
   "version": "2.7.11"
  }
 },
 "nbformat": 4,
 "nbformat_minor": 0
}
