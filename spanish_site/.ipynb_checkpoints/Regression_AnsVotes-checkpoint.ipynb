{
 "cells": [
  {
   "cell_type": "code",
   "execution_count": 1,
   "metadata": {
    "collapsed": true
   },
   "outputs": [],
   "source": [
    "%matplotlib inline\n",
    "import pandas as pd\n",
    "import numpy as np\n",
    "import matplotlib.pyplot as plt\n",
    "\n",
    "import statsmodels.formula.api as smf\n",
    "import statsmodels.api as sm"
   ]
  },
  {
   "cell_type": "code",
   "execution_count": 2,
   "metadata": {
    "collapsed": false,
    "scrolled": true
   },
   "outputs": [
    {
     "data": {
      "text/html": [
       "<div>\n",
       "<table border=\"1\" class=\"dataframe\">\n",
       "  <thead>\n",
       "    <tr style=\"text-align: right;\">\n",
       "      <th></th>\n",
       "      <th>QuestionId</th>\n",
       "      <th>AnsId</th>\n",
       "      <th>Age_vot</th>\n",
       "      <th>AnsWordCount</th>\n",
       "      <th>AcceptedAnsId</th>\n",
       "      <th>QScore</th>\n",
       "      <th>QVotes</th>\n",
       "      <th>Score</th>\n",
       "      <th>Votes</th>\n",
       "      <th>CumVotes</th>\n",
       "      <th>CumScore</th>\n",
       "      <th>ReScore</th>\n",
       "      <th>QReScore</th>\n",
       "      <th>Comments</th>\n",
       "      <th>AnsRank</th>\n",
       "      <th>ReScore_rank</th>\n",
       "      <th>Ans_count</th>\n",
       "      <th>Pbias</th>\n",
       "      <th>DRank</th>\n",
       "      <th>EPbias</th>\n",
       "    </tr>\n",
       "  </thead>\n",
       "  <tbody>\n",
       "    <tr>\n",
       "      <th>0</th>\n",
       "      <td>1</td>\n",
       "      <td>56</td>\n",
       "      <td>0</td>\n",
       "      <td>201</td>\n",
       "      <td>56</td>\n",
       "      <td>0</td>\n",
       "      <td>0</td>\n",
       "      <td>2</td>\n",
       "      <td>2</td>\n",
       "      <td>2</td>\n",
       "      <td>2</td>\n",
       "      <td>0.666667</td>\n",
       "      <td>0</td>\n",
       "      <td>0</td>\n",
       "      <td>1</td>\n",
       "      <td>1</td>\n",
       "      <td>1</td>\n",
       "      <td>1</td>\n",
       "      <td>0</td>\n",
       "      <td>1</td>\n",
       "    </tr>\n",
       "    <tr>\n",
       "      <th>1</th>\n",
       "      <td>2</td>\n",
       "      <td>10</td>\n",
       "      <td>0</td>\n",
       "      <td>145</td>\n",
       "      <td>10</td>\n",
       "      <td>0</td>\n",
       "      <td>0</td>\n",
       "      <td>3</td>\n",
       "      <td>3</td>\n",
       "      <td>3</td>\n",
       "      <td>3</td>\n",
       "      <td>0.750000</td>\n",
       "      <td>0</td>\n",
       "      <td>0</td>\n",
       "      <td>1</td>\n",
       "      <td>1</td>\n",
       "      <td>1</td>\n",
       "      <td>1</td>\n",
       "      <td>0</td>\n",
       "      <td>1</td>\n",
       "    </tr>\n",
       "    <tr>\n",
       "      <th>2</th>\n",
       "      <td>2</td>\n",
       "      <td>10</td>\n",
       "      <td>0</td>\n",
       "      <td>145</td>\n",
       "      <td>10</td>\n",
       "      <td>0</td>\n",
       "      <td>0</td>\n",
       "      <td>3</td>\n",
       "      <td>3</td>\n",
       "      <td>3</td>\n",
       "      <td>3</td>\n",
       "      <td>0.750000</td>\n",
       "      <td>0</td>\n",
       "      <td>0</td>\n",
       "      <td>1</td>\n",
       "      <td>1</td>\n",
       "      <td>1</td>\n",
       "      <td>1</td>\n",
       "      <td>0</td>\n",
       "      <td>1</td>\n",
       "    </tr>\n",
       "    <tr>\n",
       "      <th>3</th>\n",
       "      <td>3</td>\n",
       "      <td>9</td>\n",
       "      <td>0</td>\n",
       "      <td>25</td>\n",
       "      <td>109</td>\n",
       "      <td>0</td>\n",
       "      <td>0</td>\n",
       "      <td>4</td>\n",
       "      <td>4</td>\n",
       "      <td>4</td>\n",
       "      <td>4</td>\n",
       "      <td>0.800000</td>\n",
       "      <td>0</td>\n",
       "      <td>0</td>\n",
       "      <td>1</td>\n",
       "      <td>1</td>\n",
       "      <td>1</td>\n",
       "      <td>1</td>\n",
       "      <td>0</td>\n",
       "      <td>1</td>\n",
       "    </tr>\n",
       "    <tr>\n",
       "      <th>4</th>\n",
       "      <td>7</td>\n",
       "      <td>16</td>\n",
       "      <td>0</td>\n",
       "      <td>45</td>\n",
       "      <td>2977</td>\n",
       "      <td>0</td>\n",
       "      <td>0</td>\n",
       "      <td>3</td>\n",
       "      <td>3</td>\n",
       "      <td>3</td>\n",
       "      <td>3</td>\n",
       "      <td>0.750000</td>\n",
       "      <td>0</td>\n",
       "      <td>0</td>\n",
       "      <td>1</td>\n",
       "      <td>1</td>\n",
       "      <td>1</td>\n",
       "      <td>1</td>\n",
       "      <td>0</td>\n",
       "      <td>1</td>\n",
       "    </tr>\n",
       "    <tr>\n",
       "      <th>5</th>\n",
       "      <td>14</td>\n",
       "      <td>20</td>\n",
       "      <td>0</td>\n",
       "      <td>28</td>\n",
       "      <td>20</td>\n",
       "      <td>0</td>\n",
       "      <td>0</td>\n",
       "      <td>7</td>\n",
       "      <td>7</td>\n",
       "      <td>7</td>\n",
       "      <td>7</td>\n",
       "      <td>0.875000</td>\n",
       "      <td>0</td>\n",
       "      <td>0</td>\n",
       "      <td>1</td>\n",
       "      <td>1</td>\n",
       "      <td>1</td>\n",
       "      <td>1</td>\n",
       "      <td>0</td>\n",
       "      <td>1</td>\n",
       "    </tr>\n",
       "    <tr>\n",
       "      <th>6</th>\n",
       "      <td>18</td>\n",
       "      <td>33</td>\n",
       "      <td>0</td>\n",
       "      <td>133</td>\n",
       "      <td>33</td>\n",
       "      <td>0</td>\n",
       "      <td>0</td>\n",
       "      <td>3</td>\n",
       "      <td>3</td>\n",
       "      <td>3</td>\n",
       "      <td>3</td>\n",
       "      <td>0.750000</td>\n",
       "      <td>0</td>\n",
       "      <td>0</td>\n",
       "      <td>1</td>\n",
       "      <td>1</td>\n",
       "      <td>1</td>\n",
       "      <td>1</td>\n",
       "      <td>0</td>\n",
       "      <td>1</td>\n",
       "    </tr>\n",
       "    <tr>\n",
       "      <th>7</th>\n",
       "      <td>18</td>\n",
       "      <td>33</td>\n",
       "      <td>0</td>\n",
       "      <td>133</td>\n",
       "      <td>33</td>\n",
       "      <td>0</td>\n",
       "      <td>0</td>\n",
       "      <td>3</td>\n",
       "      <td>3</td>\n",
       "      <td>3</td>\n",
       "      <td>3</td>\n",
       "      <td>0.750000</td>\n",
       "      <td>0</td>\n",
       "      <td>0</td>\n",
       "      <td>1</td>\n",
       "      <td>1</td>\n",
       "      <td>1</td>\n",
       "      <td>1</td>\n",
       "      <td>0</td>\n",
       "      <td>1</td>\n",
       "    </tr>\n",
       "    <tr>\n",
       "      <th>8</th>\n",
       "      <td>18</td>\n",
       "      <td>33</td>\n",
       "      <td>0</td>\n",
       "      <td>133</td>\n",
       "      <td>33</td>\n",
       "      <td>0</td>\n",
       "      <td>0</td>\n",
       "      <td>3</td>\n",
       "      <td>3</td>\n",
       "      <td>3</td>\n",
       "      <td>3</td>\n",
       "      <td>0.750000</td>\n",
       "      <td>0</td>\n",
       "      <td>0</td>\n",
       "      <td>1</td>\n",
       "      <td>1</td>\n",
       "      <td>1</td>\n",
       "      <td>1</td>\n",
       "      <td>0</td>\n",
       "      <td>1</td>\n",
       "    </tr>\n",
       "    <tr>\n",
       "      <th>9</th>\n",
       "      <td>21</td>\n",
       "      <td>80</td>\n",
       "      <td>0</td>\n",
       "      <td>43</td>\n",
       "      <td>80</td>\n",
       "      <td>0</td>\n",
       "      <td>0</td>\n",
       "      <td>1</td>\n",
       "      <td>1</td>\n",
       "      <td>1</td>\n",
       "      <td>1</td>\n",
       "      <td>0.500000</td>\n",
       "      <td>0</td>\n",
       "      <td>0</td>\n",
       "      <td>1</td>\n",
       "      <td>1</td>\n",
       "      <td>1</td>\n",
       "      <td>1</td>\n",
       "      <td>0</td>\n",
       "      <td>1</td>\n",
       "    </tr>\n",
       "  </tbody>\n",
       "</table>\n",
       "</div>"
      ],
      "text/plain": [
       "   QuestionId  AnsId  Age_vot  AnsWordCount  AcceptedAnsId  QScore  QVotes  \\\n",
       "0           1     56        0           201             56       0       0   \n",
       "1           2     10        0           145             10       0       0   \n",
       "2           2     10        0           145             10       0       0   \n",
       "3           3      9        0            25            109       0       0   \n",
       "4           7     16        0            45           2977       0       0   \n",
       "5          14     20        0            28             20       0       0   \n",
       "6          18     33        0           133             33       0       0   \n",
       "7          18     33        0           133             33       0       0   \n",
       "8          18     33        0           133             33       0       0   \n",
       "9          21     80        0            43             80       0       0   \n",
       "\n",
       "   Score  Votes  CumVotes  CumScore   ReScore  QReScore  Comments  AnsRank  \\\n",
       "0      2      2         2         2  0.666667         0         0        1   \n",
       "1      3      3         3         3  0.750000         0         0        1   \n",
       "2      3      3         3         3  0.750000         0         0        1   \n",
       "3      4      4         4         4  0.800000         0         0        1   \n",
       "4      3      3         3         3  0.750000         0         0        1   \n",
       "5      7      7         7         7  0.875000         0         0        1   \n",
       "6      3      3         3         3  0.750000         0         0        1   \n",
       "7      3      3         3         3  0.750000         0         0        1   \n",
       "8      3      3         3         3  0.750000         0         0        1   \n",
       "9      1      1         1         1  0.500000         0         0        1   \n",
       "\n",
       "   ReScore_rank  Ans_count  Pbias  DRank  EPbias  \n",
       "0             1          1      1      0       1  \n",
       "1             1          1      1      0       1  \n",
       "2             1          1      1      0       1  \n",
       "3             1          1      1      0       1  \n",
       "4             1          1      1      0       1  \n",
       "5             1          1      1      0       1  \n",
       "6             1          1      1      0       1  \n",
       "7             1          1      1      0       1  \n",
       "8             1          1      1      0       1  \n",
       "9             1          1      1      0       1  "
      ]
     },
     "execution_count": 2,
     "metadata": {},
     "output_type": "execute_result"
    }
   ],
   "source": [
    "votes = pd.DataFrame.from_csv('AnsVotes_TSeries.csv', index_col=None)\n",
    "votes.head(10)"
   ]
  },
  {
   "cell_type": "code",
   "execution_count": 3,
   "metadata": {
    "collapsed": false
   },
   "outputs": [
    {
     "data": {
      "text/plain": [
       "Index([u'QuestionId', u'AnsId', u'Age_vot', u'AnsWordCount', u'AcceptedAnsId',\n",
       "       u'QScore', u'QVotes', u'Score', u'Votes', u'CumVotes', u'CumScore',\n",
       "       u'ReScore', u'QReScore', u'Comments', u'AnsRank', u'ReScore_rank',\n",
       "       u'Ans_count', u'Pbias', u'DRank', u'EPbias'],\n",
       "      dtype='object')"
      ]
     },
     "execution_count": 3,
     "metadata": {},
     "output_type": "execute_result"
    }
   ],
   "source": [
    "votes.columns"
   ]
  },
  {
   "cell_type": "code",
   "execution_count": 97,
   "metadata": {
    "collapsed": false,
    "scrolled": false
   },
   "outputs": [
    {
     "data": {
      "text/html": [
       "<div>\n",
       "<table border=\"1\" class=\"dataframe\">\n",
       "  <thead>\n",
       "    <tr style=\"text-align: right;\">\n",
       "      <th></th>\n",
       "      <th>Age_vot</th>\n",
       "      <th>AnsWordCount</th>\n",
       "      <th>Comments</th>\n",
       "      <th>Ans_count</th>\n",
       "      <th>Votes</th>\n",
       "    </tr>\n",
       "  </thead>\n",
       "  <tbody>\n",
       "    <tr>\n",
       "      <th>count</th>\n",
       "      <td>23328.000000</td>\n",
       "      <td>23328.000000</td>\n",
       "      <td>23328.000000</td>\n",
       "      <td>23328.000000</td>\n",
       "      <td>23328.000000</td>\n",
       "    </tr>\n",
       "    <tr>\n",
       "      <th>mean</th>\n",
       "      <td>212.595508</td>\n",
       "      <td>143.485039</td>\n",
       "      <td>2.033522</td>\n",
       "      <td>2.721622</td>\n",
       "      <td>1.445773</td>\n",
       "    </tr>\n",
       "    <tr>\n",
       "      <th>std</th>\n",
       "      <td>380.532603</td>\n",
       "      <td>150.314528</td>\n",
       "      <td>2.851866</td>\n",
       "      <td>2.061537</td>\n",
       "      <td>1.040349</td>\n",
       "    </tr>\n",
       "    <tr>\n",
       "      <th>min</th>\n",
       "      <td>0.000000</td>\n",
       "      <td>3.000000</td>\n",
       "      <td>0.000000</td>\n",
       "      <td>1.000000</td>\n",
       "      <td>1.000000</td>\n",
       "    </tr>\n",
       "    <tr>\n",
       "      <th>25%</th>\n",
       "      <td>1.000000</td>\n",
       "      <td>51.000000</td>\n",
       "      <td>0.000000</td>\n",
       "      <td>1.000000</td>\n",
       "      <td>1.000000</td>\n",
       "    </tr>\n",
       "    <tr>\n",
       "      <th>50%</th>\n",
       "      <td>7.000000</td>\n",
       "      <td>97.000000</td>\n",
       "      <td>1.000000</td>\n",
       "      <td>2.000000</td>\n",
       "      <td>1.000000</td>\n",
       "    </tr>\n",
       "    <tr>\n",
       "      <th>75%</th>\n",
       "      <td>231.000000</td>\n",
       "      <td>178.000000</td>\n",
       "      <td>3.000000</td>\n",
       "      <td>3.000000</td>\n",
       "      <td>1.000000</td>\n",
       "    </tr>\n",
       "    <tr>\n",
       "      <th>max</th>\n",
       "      <td>1504.000000</td>\n",
       "      <td>2142.000000</td>\n",
       "      <td>18.000000</td>\n",
       "      <td>12.000000</td>\n",
       "      <td>12.000000</td>\n",
       "    </tr>\n",
       "  </tbody>\n",
       "</table>\n",
       "</div>"
      ],
      "text/plain": [
       "            Age_vot  AnsWordCount      Comments     Ans_count         Votes\n",
       "count  23328.000000  23328.000000  23328.000000  23328.000000  23328.000000\n",
       "mean     212.595508    143.485039      2.033522      2.721622      1.445773\n",
       "std      380.532603    150.314528      2.851866      2.061537      1.040349\n",
       "min        0.000000      3.000000      0.000000      1.000000      1.000000\n",
       "25%        1.000000     51.000000      0.000000      1.000000      1.000000\n",
       "50%        7.000000     97.000000      1.000000      2.000000      1.000000\n",
       "75%      231.000000    178.000000      3.000000      3.000000      1.000000\n",
       "max     1504.000000   2142.000000     18.000000     12.000000     12.000000"
      ]
     },
     "execution_count": 97,
     "metadata": {},
     "output_type": "execute_result"
    }
   ],
   "source": [
    "votes[['Age_vot','AnsWordCount','Comments','Ans_count','Votes']].describe()"
   ]
  },
  {
   "cell_type": "code",
   "execution_count": 98,
   "metadata": {
    "collapsed": false
   },
   "outputs": [
    {
     "data": {
      "text/html": [
       "<div>\n",
       "<table border=\"1\" class=\"dataframe\">\n",
       "  <thead>\n",
       "    <tr style=\"text-align: right;\">\n",
       "      <th></th>\n",
       "      <th>ReScore</th>\n",
       "      <th>QReScore</th>\n",
       "      <th>Pbias</th>\n",
       "      <th>EPbias</th>\n",
       "    </tr>\n",
       "  </thead>\n",
       "  <tbody>\n",
       "    <tr>\n",
       "      <th>count</th>\n",
       "      <td>23328.000000</td>\n",
       "      <td>23328.000000</td>\n",
       "      <td>23328.000000</td>\n",
       "      <td>23328.000000</td>\n",
       "    </tr>\n",
       "    <tr>\n",
       "      <th>mean</th>\n",
       "      <td>0.709506</td>\n",
       "      <td>0.669346</td>\n",
       "      <td>0.778752</td>\n",
       "      <td>0.584075</td>\n",
       "    </tr>\n",
       "    <tr>\n",
       "      <th>std</th>\n",
       "      <td>0.256047</td>\n",
       "      <td>0.330834</td>\n",
       "      <td>0.296463</td>\n",
       "      <td>0.302189</td>\n",
       "    </tr>\n",
       "    <tr>\n",
       "      <th>min</th>\n",
       "      <td>-0.875000</td>\n",
       "      <td>-0.875000</td>\n",
       "      <td>0.090909</td>\n",
       "      <td>0.005837</td>\n",
       "    </tr>\n",
       "    <tr>\n",
       "      <th>25%</th>\n",
       "      <td>0.666667</td>\n",
       "      <td>0.625000</td>\n",
       "      <td>0.500000</td>\n",
       "      <td>0.407261</td>\n",
       "    </tr>\n",
       "    <tr>\n",
       "      <th>50%</th>\n",
       "      <td>0.800000</td>\n",
       "      <td>0.800000</td>\n",
       "      <td>1.000000</td>\n",
       "      <td>0.496412</td>\n",
       "    </tr>\n",
       "    <tr>\n",
       "      <th>75%</th>\n",
       "      <td>0.875000</td>\n",
       "      <td>0.900000</td>\n",
       "      <td>1.000000</td>\n",
       "      <td>1.000000</td>\n",
       "    </tr>\n",
       "    <tr>\n",
       "      <th>max</th>\n",
       "      <td>0.981481</td>\n",
       "      <td>0.979592</td>\n",
       "      <td>1.000000</td>\n",
       "      <td>1.000000</td>\n",
       "    </tr>\n",
       "  </tbody>\n",
       "</table>\n",
       "</div>"
      ],
      "text/plain": [
       "            ReScore      QReScore         Pbias        EPbias\n",
       "count  23328.000000  23328.000000  23328.000000  23328.000000\n",
       "mean       0.709506      0.669346      0.778752      0.584075\n",
       "std        0.256047      0.330834      0.296463      0.302189\n",
       "min       -0.875000     -0.875000      0.090909      0.005837\n",
       "25%        0.666667      0.625000      0.500000      0.407261\n",
       "50%        0.800000      0.800000      1.000000      0.496412\n",
       "75%        0.875000      0.900000      1.000000      1.000000\n",
       "max        0.981481      0.979592      1.000000      1.000000"
      ]
     },
     "execution_count": 98,
     "metadata": {},
     "output_type": "execute_result"
    }
   ],
   "source": [
    "votes[['ReScore','QReScore','Pbias','EPbias']].describe()"
   ]
  },
  {
   "cell_type": "code",
   "execution_count": 14,
   "metadata": {
    "collapsed": false
   },
   "outputs": [
    {
     "data": {
      "text/html": [
       "<div>\n",
       "<table border=\"1\" class=\"dataframe\">\n",
       "  <thead>\n",
       "    <tr style=\"text-align: right;\">\n",
       "      <th></th>\n",
       "      <th>log_Comments</th>\n",
       "      <th>log_AnsWordCount</th>\n",
       "      <th>log_DRank</th>\n",
       "      <th>log_QScore</th>\n",
       "      <th>log_QVotes</th>\n",
       "      <th>log_Score</th>\n",
       "      <th>log_Votes</th>\n",
       "      <th>log_CumVotes</th>\n",
       "      <th>log_CumScore</th>\n",
       "    </tr>\n",
       "  </thead>\n",
       "  <tbody>\n",
       "    <tr>\n",
       "      <th>count</th>\n",
       "      <td>23328.000000</td>\n",
       "      <td>23328.000000</td>\n",
       "      <td>23328.000000</td>\n",
       "      <td>23328.000000</td>\n",
       "      <td>23328.000000</td>\n",
       "      <td>23328.000000</td>\n",
       "      <td>23328.000000</td>\n",
       "      <td>23328.000000</td>\n",
       "      <td>23328.000000</td>\n",
       "    </tr>\n",
       "    <tr>\n",
       "      <th>mean</th>\n",
       "      <td>0.770312</td>\n",
       "      <td>4.558133</td>\n",
       "      <td>2.080226</td>\n",
       "      <td>2.639874</td>\n",
       "      <td>1.734719</td>\n",
       "      <td>1.653324</td>\n",
       "      <td>0.839298</td>\n",
       "      <td>1.675927</td>\n",
       "      <td>2.551954</td>\n",
       "    </tr>\n",
       "    <tr>\n",
       "      <th>std</th>\n",
       "      <td>0.792142</td>\n",
       "      <td>0.932438</td>\n",
       "      <td>0.144555</td>\n",
       "      <td>0.503274</td>\n",
       "      <td>1.043817</td>\n",
       "      <td>0.197792</td>\n",
       "      <td>0.296533</td>\n",
       "      <td>0.741073</td>\n",
       "      <td>0.385146</td>\n",
       "    </tr>\n",
       "    <tr>\n",
       "      <th>min</th>\n",
       "      <td>0.000000</td>\n",
       "      <td>1.386300</td>\n",
       "      <td>0.000000</td>\n",
       "      <td>0.000000</td>\n",
       "      <td>0.000000</td>\n",
       "      <td>0.000000</td>\n",
       "      <td>0.693100</td>\n",
       "      <td>0.693100</td>\n",
       "      <td>0.000000</td>\n",
       "    </tr>\n",
       "    <tr>\n",
       "      <th>25%</th>\n",
       "      <td>0.000000</td>\n",
       "      <td>3.951200</td>\n",
       "      <td>2.079400</td>\n",
       "      <td>2.302600</td>\n",
       "      <td>1.098600</td>\n",
       "      <td>1.609400</td>\n",
       "      <td>0.693100</td>\n",
       "      <td>1.098600</td>\n",
       "      <td>2.302600</td>\n",
       "    </tr>\n",
       "    <tr>\n",
       "      <th>50%</th>\n",
       "      <td>0.693100</td>\n",
       "      <td>4.585000</td>\n",
       "      <td>2.079400</td>\n",
       "      <td>2.564900</td>\n",
       "      <td>1.791800</td>\n",
       "      <td>1.609400</td>\n",
       "      <td>0.693100</td>\n",
       "      <td>1.609400</td>\n",
       "      <td>2.484900</td>\n",
       "    </tr>\n",
       "    <tr>\n",
       "      <th>75%</th>\n",
       "      <td>1.386300</td>\n",
       "      <td>5.187400</td>\n",
       "      <td>2.079400</td>\n",
       "      <td>2.890400</td>\n",
       "      <td>2.397900</td>\n",
       "      <td>1.609400</td>\n",
       "      <td>0.693100</td>\n",
       "      <td>2.079400</td>\n",
       "      <td>2.708100</td>\n",
       "    </tr>\n",
       "    <tr>\n",
       "      <th>max</th>\n",
       "      <td>2.944400</td>\n",
       "      <td>7.670000</td>\n",
       "      <td>2.890400</td>\n",
       "      <td>4.189700</td>\n",
       "      <td>4.143100</td>\n",
       "      <td>2.772600</td>\n",
       "      <td>2.564900</td>\n",
       "      <td>4.143100</td>\n",
       "      <td>4.158900</td>\n",
       "    </tr>\n",
       "  </tbody>\n",
       "</table>\n",
       "</div>"
      ],
      "text/plain": [
       "       log_Comments  log_AnsWordCount     log_DRank    log_QScore  \\\n",
       "count  23328.000000      23328.000000  23328.000000  23328.000000   \n",
       "mean       0.770312          4.558133      2.080226      2.639874   \n",
       "std        0.792142          0.932438      0.144555      0.503274   \n",
       "min        0.000000          1.386300      0.000000      0.000000   \n",
       "25%        0.000000          3.951200      2.079400      2.302600   \n",
       "50%        0.693100          4.585000      2.079400      2.564900   \n",
       "75%        1.386300          5.187400      2.079400      2.890400   \n",
       "max        2.944400          7.670000      2.890400      4.189700   \n",
       "\n",
       "         log_QVotes     log_Score     log_Votes  log_CumVotes  log_CumScore  \n",
       "count  23328.000000  23328.000000  23328.000000  23328.000000  23328.000000  \n",
       "mean       1.734719      1.653324      0.839298      1.675927      2.551954  \n",
       "std        1.043817      0.197792      0.296533      0.741073      0.385146  \n",
       "min        0.000000      0.000000      0.693100      0.693100      0.000000  \n",
       "25%        1.098600      1.609400      0.693100      1.098600      2.302600  \n",
       "50%        1.791800      1.609400      0.693100      1.609400      2.484900  \n",
       "75%        2.397900      1.609400      0.693100      2.079400      2.708100  \n",
       "max        4.143100      2.772600      2.564900      4.143100      4.158900  "
      ]
     },
     "execution_count": 14,
     "metadata": {},
     "output_type": "execute_result"
    }
   ],
   "source": [
    "#votes[['log_Comments','log_AnsWordCount','log_DRank','log_QScore','log_QVotes',\n",
    "#log_Score','log_Votes','log_CumVotes','log_CumScore']].describe()"
   ]
  },
  {
   "cell_type": "code",
   "execution_count": 4,
   "metadata": {
    "collapsed": false
   },
   "outputs": [
    {
     "data": {
      "text/plain": [
       "1     7132\n",
       "2     6866\n",
       "3     4033\n",
       "4     2172\n",
       "5     1169\n",
       "6      535\n",
       "10     484\n",
       "7      283\n",
       "8      273\n",
       "9      240\n",
       "11      73\n",
       "12      68\n",
       "Name: Ans_count, dtype: int64"
      ]
     },
     "execution_count": 4,
     "metadata": {},
     "output_type": "execute_result"
    }
   ],
   "source": [
    "votes['Ans_count'].value_counts().head(15)"
   ]
  },
  {
   "cell_type": "code",
   "execution_count": 11,
   "metadata": {
    "collapsed": false,
    "scrolled": true
   },
   "outputs": [
    {
     "data": {
      "text/html": [
       "<div>\n",
       "<table border=\"1\" class=\"dataframe\">\n",
       "  <thead>\n",
       "    <tr style=\"text-align: right;\">\n",
       "      <th></th>\n",
       "      <th>Score</th>\n",
       "      <th>Votes</th>\n",
       "      <th>CumScore</th>\n",
       "      <th>CumVotes</th>\n",
       "      <th>QScore</th>\n",
       "      <th>QVotes</th>\n",
       "      <th>ReScore</th>\n",
       "      <th>QReScore</th>\n",
       "      <th>Ans_count</th>\n",
       "      <th>DRank</th>\n",
       "    </tr>\n",
       "  </thead>\n",
       "  <tbody>\n",
       "    <tr>\n",
       "      <th>count</th>\n",
       "      <td>11949.000000</td>\n",
       "      <td>11949.000000</td>\n",
       "      <td>11949.000000</td>\n",
       "      <td>11949.000000</td>\n",
       "      <td>11949.000000</td>\n",
       "      <td>11949.000000</td>\n",
       "      <td>11949.000000</td>\n",
       "      <td>11949.000000</td>\n",
       "      <td>11949.000000</td>\n",
       "      <td>11949.000000</td>\n",
       "    </tr>\n",
       "    <tr>\n",
       "      <th>mean</th>\n",
       "      <td>1.674785</td>\n",
       "      <td>1.787765</td>\n",
       "      <td>3.338020</td>\n",
       "      <td>3.505733</td>\n",
       "      <td>4.262030</td>\n",
       "      <td>4.482802</td>\n",
       "      <td>0.667576</td>\n",
       "      <td>0.523072</td>\n",
       "      <td>1.892125</td>\n",
       "      <td>0.069462</td>\n",
       "    </tr>\n",
       "    <tr>\n",
       "      <th>std</th>\n",
       "      <td>1.404004</td>\n",
       "      <td>1.326312</td>\n",
       "      <td>2.641695</td>\n",
       "      <td>2.575425</td>\n",
       "      <td>6.957248</td>\n",
       "      <td>7.212644</td>\n",
       "      <td>0.233654</td>\n",
       "      <td>0.380433</td>\n",
       "      <td>1.204971</td>\n",
       "      <td>0.589805</td>\n",
       "    </tr>\n",
       "    <tr>\n",
       "      <th>min</th>\n",
       "      <td>-3.000000</td>\n",
       "      <td>1.000000</td>\n",
       "      <td>-6.000000</td>\n",
       "      <td>1.000000</td>\n",
       "      <td>-7.000000</td>\n",
       "      <td>0.000000</td>\n",
       "      <td>-0.857143</td>\n",
       "      <td>-0.875000</td>\n",
       "      <td>1.000000</td>\n",
       "      <td>-4.000000</td>\n",
       "    </tr>\n",
       "    <tr>\n",
       "      <th>25%</th>\n",
       "      <td>1.000000</td>\n",
       "      <td>1.000000</td>\n",
       "      <td>1.000000</td>\n",
       "      <td>2.000000</td>\n",
       "      <td>0.000000</td>\n",
       "      <td>0.000000</td>\n",
       "      <td>0.500000</td>\n",
       "      <td>0.000000</td>\n",
       "      <td>1.000000</td>\n",
       "      <td>0.000000</td>\n",
       "    </tr>\n",
       "    <tr>\n",
       "      <th>50%</th>\n",
       "      <td>1.000000</td>\n",
       "      <td>1.000000</td>\n",
       "      <td>3.000000</td>\n",
       "      <td>3.000000</td>\n",
       "      <td>3.000000</td>\n",
       "      <td>3.000000</td>\n",
       "      <td>0.750000</td>\n",
       "      <td>0.666667</td>\n",
       "      <td>2.000000</td>\n",
       "      <td>0.000000</td>\n",
       "    </tr>\n",
       "    <tr>\n",
       "      <th>75%</th>\n",
       "      <td>2.000000</td>\n",
       "      <td>2.000000</td>\n",
       "      <td>5.000000</td>\n",
       "      <td>5.000000</td>\n",
       "      <td>6.000000</td>\n",
       "      <td>6.000000</td>\n",
       "      <td>0.833333</td>\n",
       "      <td>0.833333</td>\n",
       "      <td>2.000000</td>\n",
       "      <td>0.000000</td>\n",
       "    </tr>\n",
       "    <tr>\n",
       "      <th>max</th>\n",
       "      <td>12.000000</td>\n",
       "      <td>12.000000</td>\n",
       "      <td>18.000000</td>\n",
       "      <td>18.000000</td>\n",
       "      <td>58.000000</td>\n",
       "      <td>62.000000</td>\n",
       "      <td>0.947368</td>\n",
       "      <td>0.979592</td>\n",
       "      <td>9.000000</td>\n",
       "      <td>8.000000</td>\n",
       "    </tr>\n",
       "  </tbody>\n",
       "</table>\n",
       "</div>"
      ],
      "text/plain": [
       "              Score         Votes      CumScore      CumVotes        QScore  \\\n",
       "count  11949.000000  11949.000000  11949.000000  11949.000000  11949.000000   \n",
       "mean       1.674785      1.787765      3.338020      3.505733      4.262030   \n",
       "std        1.404004      1.326312      2.641695      2.575425      6.957248   \n",
       "min       -3.000000      1.000000     -6.000000      1.000000     -7.000000   \n",
       "25%        1.000000      1.000000      1.000000      2.000000      0.000000   \n",
       "50%        1.000000      1.000000      3.000000      3.000000      3.000000   \n",
       "75%        2.000000      2.000000      5.000000      5.000000      6.000000   \n",
       "max       12.000000     12.000000     18.000000     18.000000     58.000000   \n",
       "\n",
       "             QVotes       ReScore      QReScore     Ans_count         DRank  \n",
       "count  11949.000000  11949.000000  11949.000000  11949.000000  11949.000000  \n",
       "mean       4.482802      0.667576      0.523072      1.892125      0.069462  \n",
       "std        7.212644      0.233654      0.380433      1.204971      0.589805  \n",
       "min        0.000000     -0.857143     -0.875000      1.000000     -4.000000  \n",
       "25%        0.000000      0.500000      0.000000      1.000000      0.000000  \n",
       "50%        3.000000      0.750000      0.666667      2.000000      0.000000  \n",
       "75%        6.000000      0.833333      0.833333      2.000000      0.000000  \n",
       "max       62.000000      0.947368      0.979592      9.000000      8.000000  "
      ]
     },
     "execution_count": 11,
     "metadata": {},
     "output_type": "execute_result"
    }
   ],
   "source": [
    "#votes = votes[ votes.age_vot>=3]\n",
    "votes_r = votes[votes.Age_vot<=7]\n",
    "votes_r[['Score','Votes','CumScore','CumVotes','QScore','QVotes','ReScore','QReScore','Ans_count','DRank']].describe()"
   ]
  },
  {
   "cell_type": "markdown",
   "metadata": {},
   "source": [
    "# Votes/day on a given answer . (Context information: question, ans aggregates)"
   ]
  },
  {
   "cell_type": "markdown",
   "metadata": {},
   "source": [
    "# Does user quality estimation boost/reduce votes with respect to quality?"
   ]
  },
  {
   "cell_type": "code",
   "execution_count": 178,
   "metadata": {
    "collapsed": false
   },
   "outputs": [
    {
     "name": "stdout",
     "output_type": "stream",
     "text": [
      "                1         2         3         4         5         6\n",
      "ReScore  1.468211  1.371319  1.343079  1.331610  1.327997  1.327188\n",
      "DRank    0.000000 -0.184078 -0.166000 -0.161494 -0.155221 -0.147797\n"
     ]
    },
    {
     "data": {
      "text/plain": [
       "<matplotlib.axes._subplots.AxesSubplot at 0x3c5c7358>"
      ]
     },
     "execution_count": 178,
     "metadata": {},
     "output_type": "execute_result"
    },
    {
     "data": {
      "image/png": "[encoded data removed]",
      "text/plain": [
       "<matplotlib.figure.Figure at 0x37d107b8>"
      ]
     },
     "metadata": {},
     "output_type": "display_data"
    }
   ],
   "source": [
    "##DRank (+) crwod underestimates\n",
    "##DRank (-) crowd overestimate\n",
    "fml = 'np.log(Votes+1) ~ ReScore + DRank -1'\n",
    "mat_1 = []\n",
    "r2s_1 = []\n",
    "acounts = [e+1 for e in range(6)]\n",
    "for ans_count in acounts:\n",
    "    mod = sm.OLS.from_formula(fml, votes_r[votes_r.Ans_count<=ans_count])\n",
    "    rslt = mod.fit()\n",
    "    mat_1.append(rslt.params)\n",
    "    r2s_1.append(rslt.rsquared)\n",
    "mat_1 = pd.DataFrame(mat_1, index=[str(x) for x in acounts])\n",
    "print mat_1.T\n",
    "mat_1.plot()\n",
    "#underestimate produces relative drecrease (in Votes) of ~20% w/r to ReScore(ans_quality)"
   ]
  },
  {
   "cell_type": "code",
   "execution_count": 179,
   "metadata": {
    "collapsed": false
   },
   "outputs": [
    {
     "data": {
      "image/png": "[encoded data removed]",
      "text/plain": [
       "<matplotlib.figure.Figure at 0x3f3284e0>"
      ]
     },
     "metadata": {},
     "output_type": "display_data"
    }
   ],
   "source": [
    "plt.plot(acounts,r2s_1,label='R^2')\n",
    "plt.legend(loc='upper right')\n",
    "plt.show()"
   ]
  },
  {
   "cell_type": "markdown",
   "metadata": {},
   "source": [
    "# Do users correct for position bias?"
   ]
  },
  {
   "cell_type": "code",
   "execution_count": 180,
   "metadata": {
    "collapsed": false
   },
   "outputs": [
    {
     "name": "stdout",
     "output_type": "stream",
     "text": [
      "             1         2         3         4         5         6\n",
      "Pbias  1.05278  1.069563  1.077669  1.080445  1.080574  1.081424\n",
      "DRank  0.00000  0.256133  0.225358  0.197568  0.191629  0.183998\n"
     ]
    },
    {
     "data": {
      "text/plain": [
       "<matplotlib.axes._subplots.AxesSubplot at 0x3c511e48>"
      ]
     },
     "execution_count": 180,
     "metadata": {},
     "output_type": "execute_result"
    },
    {
     "data": {
      "image/png": "[encoded data removed]",
      "text/plain": [
       "<matplotlib.figure.Figure at 0x3b99ad68>"
      ]
     },
     "metadata": {},
     "output_type": "display_data"
    }
   ],
   "source": [
    "fml = 'np.log(Votes+1) ~ Pbias + DRank -1'\n",
    "mat_2 = []\n",
    "r2s_2 = []\n",
    "acounts = [e+1 for e in range(6)]\n",
    "for ans_count in acounts:\n",
    "    mod = sm.OLS.from_formula(fml, votes_r[votes_r.Ans_count<=ans_count])\n",
    "    rslt = mod.fit()\n",
    "    mat_2.append(rslt.params)\n",
    "    r2s_2.append(rslt.rsquared)\n",
    "mat_2 = pd.DataFrame(mat_2, index=[str(x) for x in acounts])\n",
    "print mat_2.T\n",
    "mat_2.plot()\n",
    "#underestimate produces relative increase (in Votes) of ~25% w/r to Position bias (helps lower positions)\n",
    "# rel decrease (corrects top positions)"
   ]
  },
  {
   "cell_type": "code",
   "execution_count": 181,
   "metadata": {
    "collapsed": false
   },
   "outputs": [
    {
     "data": {
      "image/png": "[encoded data removed]",
      "text/plain": [
       "<matplotlib.figure.Figure at 0x3bc74e80>"
      ]
     },
     "metadata": {},
     "output_type": "display_data"
    }
   ],
   "source": [
    "plt.plot(acounts,r2s_2,label='R^2')\n",
    "plt.legend(loc='upper right')\n",
    "plt.show()"
   ]
  },
  {
   "cell_type": "markdown",
   "metadata": {},
   "source": [
    "# Group Ranks"
   ]
  },
  {
   "cell_type": "code",
   "execution_count": 173,
   "metadata": {
    "collapsed": false
   },
   "outputs": [
    {
     "name": "stdout",
     "output_type": "stream",
     "text": [
      "[[ 1.  3.  0.  0.]\n",
      " [ 1. -1.  2.  0.]\n",
      " [ 1. -1. -1.  1.]\n",
      " [ 1. -1. -1. -1.]]\n"
     ]
    }
   ],
   "source": [
    "levels = [e+1 for e in range(4)]\n",
    "contrast = KRanksG().code_with_intercept(levels)\n",
    "print contrast.matrix"
   ]
  },
  {
   "cell_type": "code",
   "execution_count": 175,
   "metadata": {
    "collapsed": false
   },
   "outputs": [
    {
     "name": "stdout",
     "output_type": "stream",
     "text": [
      "                            OLS Regression Results                            \n",
      "==============================================================================\n",
      "Dep. Variable:      np.log(Votes + 1)   R-squared:                       0.849\n",
      "Model:                            OLS   Adj. R-squared:                  0.848\n",
      "Method:                 Least Squares   F-statistic:                 1.080e+04\n",
      "Date:                Sun, 03 Apr 2016   Prob (F-statistic):               0.00\n",
      "Time:                        01:39:53   Log-Likelihood:                 6125.1\n",
      "No. Observations:               11573   AIC:                        -1.224e+04\n",
      "Df Residuals:                   11566   BIC:                        -1.218e+04\n",
      "Df Model:                           6                                         \n",
      "Covariance Type:            nonrobust                                         \n",
      "======================================================================================================\n",
      "                                         coef    std err          t      P>|t|      [95.0% Conf. Int.]\n",
      "------------------------------------------------------------------------------------------------------\n",
      "C(AnsRank, KRanksG)[K-r.intercept] -2.941e+10   3.21e+10     -0.917      0.359     -9.23e+10  3.35e+10\n",
      "C(AnsRank, KRanksG)[K-r.2]          -9.02e+09   9.84e+09     -0.917      0.359     -2.83e+10  1.03e+10\n",
      "C(AnsRank, KRanksG)[K-r.3]         -3.922e+09   4.28e+09     -0.917      0.359     -1.23e+10  4.46e+09\n",
      "C(AnsRank, KRanksG)[K-r.4]         -2.353e+09   2.57e+09     -0.917      0.359     -7.38e+09  2.68e+09\n",
      "ReScore                               -0.4015      0.007    -60.170      0.000        -0.415    -0.388\n",
      "Score                                  0.2629      0.001    241.030      0.000         0.261     0.265\n",
      "Pbias                               5.648e+10   6.16e+10      0.917      0.359     -6.43e+10  1.77e+11\n",
      "==============================================================================\n",
      "Omnibus:                     4295.029   Durbin-Watson:                   1.222\n",
      "Prob(Omnibus):                  0.000   Jarque-Bera (JB):            59733.950\n",
      "Skew:                           1.393   Prob(JB):                         0.00\n",
      "Kurtosis:                      13.776   Cond. No.                     1.76e+14\n",
      "==============================================================================\n",
      "\n",
      "Warnings:\n",
      "[1] Standard Errors assume that the covariance matrix of the errors is correctly specified.\n",
      "[2] The smallest eigenvalue is 4.11e-24. This might indicate that there are\n",
      "strong multicollinearity problems or that the design matrix is singular.\n"
     ]
    }
   ],
   "source": [
    "#Comments Ans_count AnsWordCount DRank Age_vot \n",
    "mod_ols = smf.ols(formula='np.log(Votes+1) ~ ReScore + Score + Pbias + C(AnsRank,KRanksG) -1', data= votes_r[votes_r.Ans_count<=4])\n",
    "res = mod_ols.fit()\n",
    "print res.summary()\n",
    "##EPbias collinear with C(AnsRank,KRanks)"
   ]
  },
  {
   "cell_type": "code",
   "execution_count": 170,
   "metadata": {
    "collapsed": false,
    "scrolled": false
   },
   "outputs": [
    {
     "name": "stdout",
     "output_type": "stream",
     "text": [
      "                                         0.0     0.015      0.03     0.045  \\\n",
      "C(AnsRank, KRanksG)[K-r.intercept]  0.570149  0.535153  0.511420  0.485895   \n",
      "C(AnsRank, KRanksG)[K-r.2]         -0.056268  0.000000  0.000000  0.001658   \n",
      "C(AnsRank, KRanksG)[K-r.3]         -0.025600  0.000000  0.000000  0.000000   \n",
      "C(AnsRank, KRanksG)[K-r.4]         -0.016460  0.000000  0.000000  0.000000   \n",
      "ReScore                            -0.401547  0.000000  0.000000  0.000000   \n",
      "Pbias                               0.378563  0.000000  0.000000  0.000000   \n",
      "Score                               0.262928  0.237144  0.242315  0.246878   \n",
      "\n",
      "                                        0.06     0.075      0.09     0.105  \\\n",
      "C(AnsRank, KRanksG)[K-r.intercept]  0.459919  0.433944  0.407968  0.381993   \n",
      "C(AnsRank, KRanksG)[K-r.2]          0.003732  0.005807  0.007881  0.009956   \n",
      "C(AnsRank, KRanksG)[K-r.3]          0.000000  0.000000  0.000000  0.000000   \n",
      "C(AnsRank, KRanksG)[K-r.4]          0.000000  0.000000  0.000000  0.000000   \n",
      "ReScore                             0.000000  0.000000  0.000000  0.000000   \n",
      "Pbias                               0.000000  0.000000  0.000000  0.000000   \n",
      "Score                               0.251288  0.255699  0.260109  0.264519   \n",
      "\n",
      "                                        0.12  \n",
      "C(AnsRank, KRanksG)[K-r.intercept]  0.356017  \n",
      "C(AnsRank, KRanksG)[K-r.2]          0.012030  \n",
      "C(AnsRank, KRanksG)[K-r.3]          0.000000  \n",
      "C(AnsRank, KRanksG)[K-r.4]          0.000000  \n",
      "ReScore                             0.000000  \n",
      "Pbias                               0.000000  \n",
      "Score                               0.268929  \n"
     ]
    }
   ],
   "source": [
    "fml = 'np.log(Votes+1) ~ ReScore + Pbias + Score +  C(AnsRank,KRanksG) -1'\n",
    "mat = []\n",
    "mses = []\n",
    "r2s = []\n",
    "alphas = np.arange(0, 0.125, 0.015)\n",
    "for alpha in alphas:\n",
    "    mod = sm.OLS.from_formula(fml, votes_r[votes_r.Ans_count<=4])\n",
    "    rslt = mod.fit_regularized(alpha=alpha)\n",
    "    mat.append(rslt.params)\n",
    "    mses.append(rslt.mse_resid)\n",
    "    r2s.append(rslt.rsquared)\n",
    "mat = pd.DataFrame(mat, index=[str(x) for x in alphas])\n",
    "print mat.T"
   ]
  },
  {
   "cell_type": "code",
   "execution_count": 171,
   "metadata": {
    "collapsed": false
   },
   "outputs": [
    {
     "data": {
      "image/png": "[encoded data removed]",
      "text/plain": [
       "<matplotlib.figure.Figure at 0x38a38550>"
      ]
     },
     "metadata": {},
     "output_type": "display_data"
    }
   ],
   "source": [
    "plt.plot(alphas,r2s,label='R^2')\n",
    "plt.legend(loc='upper right')\n",
    "plt.show()"
   ]
  },
  {
   "cell_type": "code",
   "execution_count": 172,
   "metadata": {
    "collapsed": false,
    "scrolled": false
   },
   "outputs": [
    {
     "data": {
      "text/plain": [
       "<matplotlib.axes._subplots.AxesSubplot at 0x3a1e0748>"
      ]
     },
     "execution_count": 172,
     "metadata": {},
     "output_type": "execute_result"
    },
    {
     "data": {
      "image/png": "[encoded data removed]",
      "text/plain": [
       "<matplotlib.figure.Figure at 0x3925a358>"
      ]
     },
     "metadata": {},
     "output_type": "display_data"
    },
    {
     "data": {
      "image/png": "[encoded data removed]",
      "text/plain": [
       "<matplotlib.figure.Figure at 0x39b2ee10>"
      ]
     },
     "metadata": {},
     "output_type": "display_data"
    }
   ],
   "source": [
    "#With no regularization: Groups contribute positively with respect to top individual answers. Coefficients don't seem inflated, so interpretation is plausible.\n",
    "# Pbias and ReScore die after first step of regularization (0.015). Score thrives\n",
    "mat.plot(legend=False)\n",
    "mat.plot()"
   ]
  },
  {
   "cell_type": "markdown",
   "metadata": {},
   "source": [
    "## Kranks"
   ]
  },
  {
   "cell_type": "code",
   "execution_count": 174,
   "metadata": {
    "collapsed": false
   },
   "outputs": [
    {
     "name": "stdout",
     "output_type": "stream",
     "text": [
      "[[ 1.  1.  0.  0.]\n",
      " [ 0. -1. -1. -1.]\n",
      " [ 0.  0.  1.  0.]\n",
      " [ 0.  0.  0.  1.]]\n"
     ]
    }
   ],
   "source": [
    "contrast = KRanks(2).code_with_intercept(levels)\n",
    "print contrast.matrix"
   ]
  },
  {
   "cell_type": "code",
   "execution_count": 176,
   "metadata": {
    "collapsed": false
   },
   "outputs": [
    {
     "name": "stdout",
     "output_type": "stream",
     "text": [
      "                            OLS Regression Results                            \n",
      "==============================================================================\n",
      "Dep. Variable:      np.log(Votes + 1)   R-squared:                       0.850\n",
      "Model:                            OLS   Adj. R-squared:                  0.849\n",
      "Method:                 Least Squares   F-statistic:                 1.088e+04\n",
      "Date:                Sun, 03 Apr 2016   Prob (F-statistic):               0.00\n",
      "Time:                        01:40:18   Log-Likelihood:                 6162.6\n",
      "No. Observations:               11573   AIC:                        -1.231e+04\n",
      "Df Residuals:                   11566   BIC:                        -1.226e+04\n",
      "Df Model:                           6                                         \n",
      "Covariance Type:            nonrobust                                         \n",
      "===============================================================================================\n",
      "                                  coef    std err          t      P>|t|      [95.0% Conf. Int.]\n",
      "-----------------------------------------------------------------------------------------------\n",
      "C(AnsRank, KRanks(2))[mean]     3.0614      0.023    133.308      0.000         3.016     3.106\n",
      "C(AnsRank, KRanks(2))[S.1]     -2.2850      0.017   -134.327      0.000        -2.318    -2.252\n",
      "C(AnsRank, KRanks(2))[S.3]      0.7604      0.006    118.860      0.000         0.748     0.773\n",
      "C(AnsRank, KRanks(2))[S.4]      0.7620      0.011     70.708      0.000         0.741     0.783\n",
      "ReScore                        -0.4009      0.007    -59.384      0.000        -0.414    -0.388\n",
      "Score                           0.2628      0.001    236.678      0.000         0.261     0.265\n",
      "EPbias                          0.0038      0.007      0.555      0.579        -0.010     0.017\n",
      "==============================================================================\n",
      "Omnibus:                     4274.580   Durbin-Watson:                   1.230\n",
      "Prob(Omnibus):                  0.000   Jarque-Bera (JB):            58931.493\n",
      "Skew:                           1.387   Prob(JB):                         0.00\n",
      "Kurtosis:                      13.701   Cond. No.                         58.0\n",
      "==============================================================================\n",
      "\n",
      "Warnings:\n",
      "[1] Standard Errors assume that the covariance matrix of the errors is correctly specified.\n"
     ]
    }
   ],
   "source": [
    "#Comments Ans_count AnsWordCount DRank Age_vot \n",
    "mod_ols = smf.ols(formula='np.log(Votes+1) ~ ReScore + Score + EPbias + C(AnsRank,KRanks(2)) -1', data= votes_r[votes_r.Ans_count<=4])\n",
    "res = mod_ols.fit()\n",
    "print res.summary()\n",
    "##EPbias collinear with C(AnsRank,KRanks)"
   ]
  },
  {
   "cell_type": "code",
   "execution_count": 167,
   "metadata": {
    "collapsed": false
   },
   "outputs": [
    {
     "name": "stdout",
     "output_type": "stream",
     "text": [
      "                                  0.0      0.01      0.02      0.03      0.04  \\\n",
      "C(AnsRank, KRanks(2))[mean]  3.048121  0.000000  0.000000  0.000000  0.000000   \n",
      "C(AnsRank, KRanks(2))[S.1]  -2.275478 -0.013338  0.000000  0.000000  0.000000   \n",
      "C(AnsRank, KRanks(2))[S.3]   0.757876  0.000000  0.000000  0.000000  0.000000   \n",
      "C(AnsRank, KRanks(2))[S.4]   0.757672 -0.143124 -0.129021 -0.096351 -0.063681   \n",
      "ReScore                     -0.398410  0.181517  0.157714  0.136790  0.115866   \n",
      "EPbias                       0.006334  0.471038  0.443348  0.427216  0.411083   \n",
      "Score                        0.262689  0.242498  0.252289  0.262078  0.271866   \n",
      "\n",
      "                                 0.05      0.06      0.07  \n",
      "C(AnsRank, KRanks(2))[mean]  0.000000  0.000000  0.000000  \n",
      "C(AnsRank, KRanks(2))[S.1]   0.000000  0.000000  0.000000  \n",
      "C(AnsRank, KRanks(2))[S.3]   0.000000  0.000000  0.000000  \n",
      "C(AnsRank, KRanks(2))[S.4]  -0.031012  0.000000  0.000000  \n",
      "ReScore                      0.094942  0.073109  0.034259  \n",
      "EPbias                       0.394951  0.379168  0.369929  \n",
      "Score                        0.281655  0.291494  0.302274  \n"
     ]
    }
   ],
   "source": [
    "# Removes contrast tag against level to compare to (omit_i)\n",
    "fml = 'np.log(Votes+1) ~ ReScore + EPbias + Score +  C(AnsRank,KRanks(2)) -1'\n",
    "mat = []\n",
    "mses = []\n",
    "r2s = []\n",
    "alphas = np.arange(0, 0.075, 0.01)\n",
    "for alpha in alphas:\n",
    "    mod = sm.OLS.from_formula(fml, votes_r[votes_r.Ans_count<=4])\n",
    "    rslt = mod.fit_regularized(alpha=alpha)\n",
    "    mat.append(rslt.params)\n",
    "    mses.append(rslt.mse_resid)\n",
    "    r2s.append(rslt.rsquared)\n",
    "mat = pd.DataFrame(mat, index=[str(x) for x in alphas])\n",
    "print mat.T"
   ]
  },
  {
   "cell_type": "code",
   "execution_count": 168,
   "metadata": {
    "collapsed": false
   },
   "outputs": [
    {
     "data": {
      "image/png": "[encoded data removed]",
      "text/plain": [
       "<matplotlib.figure.Figure at 0x3452bef0>"
      ]
     },
     "metadata": {},
     "output_type": "display_data"
    }
   ],
   "source": [
    "plt.plot(alphas,r2s,label='R^2')\n",
    "plt.legend(loc='upper right')\n",
    "plt.show()"
   ]
  },
  {
   "cell_type": "code",
   "execution_count": 169,
   "metadata": {
    "collapsed": false
   },
   "outputs": [
    {
     "data": {
      "text/plain": [
       "<matplotlib.axes._subplots.AxesSubplot at 0x394bbf28>"
      ]
     },
     "execution_count": 169,
     "metadata": {},
     "output_type": "execute_result"
    },
    {
     "data": {
      "image/png": "[encoded data removed]",
      "text/plain": [
       "<matplotlib.figure.Figure at 0x3749b8d0>"
      ]
     },
     "metadata": {},
     "output_type": "display_data"
    },
    {
     "data": {
      "image/png": "[encoded data removed]",
      "text/plain": [
       "<matplotlib.figure.Figure at 0x3884f8d0>"
      ]
     },
     "metadata": {},
     "output_type": "display_data"
    }
   ],
   "source": [
    "# Coefficients are small because these are relative increase/decrease\n",
    "# After first setp of regularization(0.015) there's evidence for the model: (e.g. 2 optimizes w/r to 3)\n",
    "# ReScore+EPbias+Score (all pos) +C(AnsRank,KRanks(2))[s.3 or 4] (neg e.g. pos 2 contributes positively w/r to 3)\n",
    "#\n",
    "#\n",
    "# Note that C(AnsRank,KRanks(2))[s.2] and C(AnsRank,KRanks(2))[mean] die after (0.015)\n",
    "# At 0.0 coeffs are really inflated (interpretation between -1,1 is not useless for Score,ReScore and EPbias at that point). Indeed, regularization is necessary\n",
    "mat.plot(legend=False)\n",
    "mat.plot()"
   ]
  },
  {
   "cell_type": "markdown",
   "metadata": {},
   "source": [
    "## Poisson Regression"
   ]
  },
  {
   "cell_type": "code",
   "execution_count": 98,
   "metadata": {
    "collapsed": false
   },
   "outputs": [
    {
     "name": "stdout",
     "output_type": "stream",
     "text": [
      "                 Generalized Linear Model Regression Results                  \n",
      "==============================================================================\n",
      "Dep. Variable:                  Votes   No. Observations:                23328\n",
      "Model:                            GLM   Df Residuals:                    23325\n",
      "Model Family:                 Poisson   Df Model:                            2\n",
      "Link Function:                    log   Scale:                             1.0\n",
      "Method:                          IRLS   Log-Likelihood:                -26890.\n",
      "Date:                Sat, 02 Apr 2016   Deviance:                       2634.0\n",
      "Time:                        03:10:15   Pearson chi2:                 2.62e+03\n",
      "No. Iterations:                     8                                         \n",
      "==============================================================================\n",
      "                 coef    std err          z      P>|z|      [95.0% Conf. Int.]\n",
      "------------------------------------------------------------------------------\n",
      "ReScore       -0.3761      0.016    -24.106      0.000        -0.407    -0.346\n",
      "EPbias         0.1970      0.017     11.755      0.000         0.164     0.230\n",
      "Score          0.3150      0.003    105.583      0.000         0.309     0.321\n",
      "==============================================================================\n"
     ]
    }
   ],
   "source": [
    "mod_poi = smf.glm('Votes ~ ReScore + EPbias + Score  - 1 ', data=votes,\n",
    "                  family=sm.families.Poisson(link=sm.families.links.log)).fit(method='bfgs') #\n",
    "#print mod_poi.mle_retvals['converged']\n",
    "print mod_poi.summary()"
   ]
  },
  {
   "cell_type": "markdown",
   "metadata": {
    "collapsed": true
   },
   "source": [
    "## How does question quality relate to answer quality"
   ]
  },
  {
   "cell_type": "code",
   "execution_count": 19,
   "metadata": {
    "collapsed": false
   },
   "outputs": [
    {
     "name": "stdout",
     "output_type": "stream",
     "text": [
      "                            OLS Regression Results                            \n",
      "==============================================================================\n",
      "Dep. Variable:               QReScore   R-squared:                       0.810\n",
      "Model:                            OLS   Adj. R-squared:                  0.809\n",
      "Method:                 Least Squares   F-statistic:                     1261.\n",
      "Date:                Sat, 02 Apr 2016   Prob (F-statistic):          6.16e-214\n",
      "Time:                        23:20:51   Log-Likelihood:                -181.87\n",
      "No. Observations:                 593   AIC:                             367.7\n",
      "Df Residuals:                     591   BIC:                             376.5\n",
      "Df Model:                           2                                         \n",
      "Covariance Type:            nonrobust                                         \n",
      "==============================================================================\n",
      "                 coef    std err          t      P>|t|      [95.0% Conf. Int.]\n",
      "------------------------------------------------------------------------------\n",
      "ReScore        0.4712      0.037     12.674      0.000         0.398     0.544\n",
      "EPbias         1.4124      0.092     15.303      0.000         1.231     1.594\n",
      "==============================================================================\n",
      "Omnibus:                       36.424   Durbin-Watson:                   1.069\n",
      "Prob(Omnibus):                  0.000   Jarque-Bera (JB):               44.051\n",
      "Skew:                          -0.564   Prob(JB):                     2.72e-10\n",
      "Kurtosis:                       3.716   Cond. No.                         5.20\n",
      "==============================================================================\n",
      "\n",
      "Warnings:\n",
      "[1] Standard Errors assume that the covariance matrix of the errors is correctly specified.\n"
     ]
    }
   ],
   "source": [
    "#Comments Ans_count AnsWordCount DRank Age_vot\n",
    "four_ans = smf.ols(formula='QReScore ~ ReScore + EPbias - 1 ', data=votes_r[votes_r['Ans_count']==4])\n",
    "re_four = four_ans.fit()\n",
    "print re_four.summary()"
   ]
  },
  {
   "cell_type": "code",
   "execution_count": 106,
   "metadata": {
    "collapsed": false,
    "scrolled": true
   },
   "outputs": [
    {
     "name": "stdout",
     "output_type": "stream",
     "text": [
      "                 Generalized Linear Model Regression Results                  \n",
      "==============================================================================\n",
      "Dep. Variable:               QReScore   No. Observations:                 2172\n",
      "Model:                            GLM   Df Residuals:                     2170\n",
      "Model Family:                 Poisson   Df Model:                            1\n",
      "Link Function:                    log   Scale:                             1.0\n",
      "Method:                          IRLS   Log-Likelihood:                -2016.8\n",
      "Date:                Sat, 02 Apr 2016   Deviance:                       168.97\n",
      "Time:                        14:28:45   Pearson chi2:                     143.\n",
      "No. Iterations:                     7                                         \n",
      "==============================================================================\n",
      "                 coef    std err          z      P>|z|      [95.0% Conf. Int.]\n",
      "------------------------------------------------------------------------------\n",
      "ReScore        0.0081      0.067      0.121      0.904        -0.123     0.139\n",
      "EPbias        -0.7037      0.172     -4.091      0.000        -1.041    -0.367\n",
      "==============================================================================\n"
     ]
    }
   ],
   "source": [
    "mod_poi = smf.glm('QReScore ~ ReScore + EPbias - 1 ', data=votes[votes['Ans_count']==4],\n",
    "                  family=sm.families.Poisson(link=sm.families.links.log)).fit(method='bfgs') #\n",
    "#print mod_poi.mle_retvals['converged']\n",
    "print mod_poi.summary()"
   ]
  },
  {
   "cell_type": "code",
   "execution_count": 22,
   "metadata": {
    "collapsed": true
   },
   "outputs": [],
   "source": [
    "from patsy.contrasts import ContrastMatrix\n",
    "\n",
    "def _name_levels(prefix, levels):\n",
    "    return [\"[%s%s]\" % (prefix, level) for level in levels]\n",
    "\n",
    "class KRanksG(object):\n",
    "    \"\"\"K-rank contrasts.\n",
    "       Compare relative effect on output variable for a given level\n",
    "       against all those below.\n",
    "       \n",
    "       # Reduced rank\n",
    "       dmatrix(\"C(a, KRanks)\", balanced(a=4))\n",
    "       # Full rank\n",
    "       dmatrix(\"0 + C(a, KRanks)\", balanced(a=4))\n",
    "    \"\"\"\n",
    "    def _kranksg_contrast(self, levels):\n",
    "        n = len(levels)\n",
    "        contr = np.zeros((n, n - 1))\n",
    "        contr[:-1][np.diag_indices(n - 1)] = np.arange(1, n)[::-1]\n",
    "        rows,cols = np.tril_indices(n-1)\n",
    "        contr[(rows+1,cols)] = -1\n",
    "        return contr\n",
    "\n",
    "    def code_with_intercept(self, levels):\n",
    "        contrast = np.column_stack((np.ones(len(levels)),\n",
    "                                    self._kranksg_contrast(levels)))\n",
    "        column_suffixes = _name_levels(\"K-r.\", [\"intercept\"] + list(levels[1:]))\n",
    "        return ContrastMatrix(contrast, column_suffixes)\n",
    "\n",
    "    def code_without_intercept(self, levels):\n",
    "        contrast = self._kranksg_contrast(levels)\n",
    "        return ContrastMatrix(contrast, _name_levels(\"K-r.\", levels[1:]))\n",
    "                              "
   ]
  },
  {
   "cell_type": "code",
   "execution_count": 153,
   "metadata": {
    "collapsed": true
   },
   "outputs": [],
   "source": [
    "class KRanks(object):\n",
    "    \"\"\"\n",
    "       # Reduced rank\n",
    "       dmatrix(\"C(a, TwoRanks)\", balanced(a=4))\n",
    "       # Full rank\n",
    "       dmatrix(\"0 + C(a, TwoRanks)\", balanced(a=4))\n",
    "       # Omit a different level\n",
    "       dmatrix(\"C(a, TwoRanks(1))\", balanced(a=3))\n",
    "       dmatrix(\"C(a, TwoRanks('a1'))\", balanced(a=3))\n",
    "    \"\"\"\n",
    "    #We assume levels are all different\n",
    "    def _get_level(self,levels,omit):\n",
    "        return levels.index(omit)\n",
    "    \n",
    "    def __init__(self, omit=None):\n",
    "        self.omit = omit\n",
    "\n",
    "    def _omit_i(self, levels):\n",
    "        if self.omit is None:\n",
    "            # We assume below that this is positive\n",
    "            return len(levels) - 1\n",
    "        else:\n",
    "            return self._get_level(levels, self.omit)\n",
    "\n",
    "    def _kranks_contrast(self, levels):\n",
    "        n = len(levels)\n",
    "        omit_i = self._omit_i(levels)\n",
    "        #self._omit_i(levels)\n",
    "        eye = np.eye(n - 1)\n",
    "        out = np.empty((n, n - 1))\n",
    "        out[:omit_i, :] = eye[:omit_i, :]\n",
    "        out[omit_i, :] = -1\n",
    "        out[omit_i + 1:, :] = eye[omit_i:, :]\n",
    "        return out\n",
    "\n",
    "    def code_with_intercept(self, levels):\n",
    "        contrast = self.code_without_intercept(levels)\n",
    "        n_zeros = np.zeros(len(levels))\n",
    "        np.put(n_zeros,0,[1])\n",
    "        matrix = np.column_stack((n_zeros,\n",
    "                                  contrast.matrix))\n",
    "        column_suffixes = [\"[mean]\"] + contrast.column_suffixes\n",
    "        return ContrastMatrix(matrix, column_suffixes)\n",
    "\n",
    "    def code_without_intercept(self, levels):\n",
    "        matrix = self._kranks_contrast(levels)\n",
    "        omit_i = self._omit_i(levels)\n",
    "        included_levels = levels[:omit_i] + levels[omit_i + 1:]\n",
    "        return ContrastMatrix(matrix, _name_levels(\"S.\", included_levels))\n"
   ]
  },
  {
   "cell_type": "code",
   "execution_count": null,
   "metadata": {
    "collapsed": true
   },
   "outputs": [],
   "source": []
  }
 ],
 "metadata": {
  "kernelspec": {
   "display_name": "Python 2",
   "language": "python",
   "name": "python2"
  },
  "language_info": {
   "codemirror_mode": {
    "name": "ipython",
    "version": 2
   },
   "file_extension": ".py",
   "mimetype": "text/x-python",
   "name": "python",
   "nbconvert_exporter": "python",
   "pygments_lexer": "ipython2",
   "version": "2.7.11"
  }
 },
 "nbformat": 4,
 "nbformat_minor": 0
}
