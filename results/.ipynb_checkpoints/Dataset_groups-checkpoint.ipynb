{
 "cells": [
  {
   "cell_type": "code",
   "execution_count": 1,
   "metadata": {
    "collapsed": true
   },
   "outputs": [],
   "source": [
    "%matplotlib inline\n",
    "import pandas as pd\n",
    "import numpy as np\n",
    "import matplotlib.pyplot as plt"
   ]
  },
  {
   "cell_type": "code",
   "execution_count": 2,
   "metadata": {
    "collapsed": true
   },
   "outputs": [],
   "source": [
    "epbias_idx = pd.DataFrame.from_csv(\n",
    "    'c:/Users/Joel/Predictive-model-for-the-voting-system-in-SE-network/spanish_site/EPbiasbyAnsCountRank.csv')"
   ]
  },
  {
   "cell_type": "code",
   "execution_count": 3,
   "metadata": {
    "collapsed": true
   },
   "outputs": [],
   "source": [
    "mx_count = epbias_idx.Ans_count.max()\n",
    "epbias_idx = epbias_idx.append(pd.DataFrame(\n",
    "        {'Ans_count':range(0,mx_count),'AnsRank':[0]*len(range(0,mx_count)),\"EPbias\":[0]*len(range(0,mx_count))}))"
   ]
  },
  {
   "cell_type": "code",
   "execution_count": 4,
   "metadata": {
    "collapsed": false,
    "scrolled": true
   },
   "outputs": [
    {
     "data": {
      "text/html": [
       "<div>\n",
       "<table border=\"1\" class=\"dataframe\">\n",
       "  <thead>\n",
       "    <tr style=\"text-align: right;\">\n",
       "      <th></th>\n",
       "      <th>Unnamed: 0</th>\n",
       "      <th>QuestionId</th>\n",
       "      <th>AnsId</th>\n",
       "      <th>Age</th>\n",
       "      <th>AnsWordCount</th>\n",
       "      <th>AcceptedAnsId</th>\n",
       "      <th>QScore</th>\n",
       "      <th>QVotes</th>\n",
       "      <th>Score</th>\n",
       "      <th>Votes</th>\n",
       "      <th>...</th>\n",
       "      <th>CumVotes</th>\n",
       "      <th>CumScore</th>\n",
       "      <th>ReScore</th>\n",
       "      <th>QReScore</th>\n",
       "      <th>AnsRank</th>\n",
       "      <th>ReScore_rank</th>\n",
       "      <th>Ans_count</th>\n",
       "      <th>Pbias</th>\n",
       "      <th>DRank</th>\n",
       "      <th>EPbias</th>\n",
       "    </tr>\n",
       "  </thead>\n",
       "  <tbody>\n",
       "    <tr>\n",
       "      <th>0</th>\n",
       "      <td>0</td>\n",
       "      <td>1</td>\n",
       "      <td>56</td>\n",
       "      <td>0</td>\n",
       "      <td>201</td>\n",
       "      <td>56</td>\n",
       "      <td>0</td>\n",
       "      <td>0</td>\n",
       "      <td>2</td>\n",
       "      <td>2</td>\n",
       "      <td>...</td>\n",
       "      <td>0</td>\n",
       "      <td>0</td>\n",
       "      <td>0</td>\n",
       "      <td>0</td>\n",
       "      <td>1</td>\n",
       "      <td>1</td>\n",
       "      <td>1</td>\n",
       "      <td>1</td>\n",
       "      <td>0</td>\n",
       "      <td>1</td>\n",
       "    </tr>\n",
       "    <tr>\n",
       "      <th>1</th>\n",
       "      <td>1</td>\n",
       "      <td>2</td>\n",
       "      <td>10</td>\n",
       "      <td>0</td>\n",
       "      <td>145</td>\n",
       "      <td>10</td>\n",
       "      <td>0</td>\n",
       "      <td>0</td>\n",
       "      <td>3</td>\n",
       "      <td>3</td>\n",
       "      <td>...</td>\n",
       "      <td>0</td>\n",
       "      <td>0</td>\n",
       "      <td>0</td>\n",
       "      <td>0</td>\n",
       "      <td>1</td>\n",
       "      <td>1</td>\n",
       "      <td>1</td>\n",
       "      <td>1</td>\n",
       "      <td>0</td>\n",
       "      <td>1</td>\n",
       "    </tr>\n",
       "    <tr>\n",
       "      <th>2</th>\n",
       "      <td>2</td>\n",
       "      <td>3</td>\n",
       "      <td>9</td>\n",
       "      <td>0</td>\n",
       "      <td>25</td>\n",
       "      <td>109</td>\n",
       "      <td>0</td>\n",
       "      <td>0</td>\n",
       "      <td>4</td>\n",
       "      <td>4</td>\n",
       "      <td>...</td>\n",
       "      <td>0</td>\n",
       "      <td>0</td>\n",
       "      <td>0</td>\n",
       "      <td>0</td>\n",
       "      <td>1</td>\n",
       "      <td>1</td>\n",
       "      <td>1</td>\n",
       "      <td>1</td>\n",
       "      <td>0</td>\n",
       "      <td>1</td>\n",
       "    </tr>\n",
       "    <tr>\n",
       "      <th>3</th>\n",
       "      <td>3</td>\n",
       "      <td>7</td>\n",
       "      <td>16</td>\n",
       "      <td>0</td>\n",
       "      <td>45</td>\n",
       "      <td>2977</td>\n",
       "      <td>0</td>\n",
       "      <td>0</td>\n",
       "      <td>3</td>\n",
       "      <td>3</td>\n",
       "      <td>...</td>\n",
       "      <td>0</td>\n",
       "      <td>0</td>\n",
       "      <td>0</td>\n",
       "      <td>0</td>\n",
       "      <td>1</td>\n",
       "      <td>1</td>\n",
       "      <td>1</td>\n",
       "      <td>1</td>\n",
       "      <td>0</td>\n",
       "      <td>1</td>\n",
       "    </tr>\n",
       "    <tr>\n",
       "      <th>4</th>\n",
       "      <td>4</td>\n",
       "      <td>14</td>\n",
       "      <td>20</td>\n",
       "      <td>0</td>\n",
       "      <td>28</td>\n",
       "      <td>20</td>\n",
       "      <td>0</td>\n",
       "      <td>0</td>\n",
       "      <td>7</td>\n",
       "      <td>7</td>\n",
       "      <td>...</td>\n",
       "      <td>0</td>\n",
       "      <td>0</td>\n",
       "      <td>0</td>\n",
       "      <td>0</td>\n",
       "      <td>1</td>\n",
       "      <td>1</td>\n",
       "      <td>1</td>\n",
       "      <td>1</td>\n",
       "      <td>0</td>\n",
       "      <td>1</td>\n",
       "    </tr>\n",
       "  </tbody>\n",
       "</table>\n",
       "<p>5 rows × 22 columns</p>\n",
       "</div>"
      ],
      "text/plain": [
       "   Unnamed: 0  QuestionId  AnsId  Age  AnsWordCount  AcceptedAnsId  QScore  \\\n",
       "0           0           1     56    0           201             56       0   \n",
       "1           1           2     10    0           145             10       0   \n",
       "2           2           3      9    0            25            109       0   \n",
       "3           3           7     16    0            45           2977       0   \n",
       "4           4          14     20    0            28             20       0   \n",
       "\n",
       "   QVotes  Score  Votes   ...    CumVotes  CumScore  ReScore  QReScore  \\\n",
       "0       0      2      2   ...           0         0        0         0   \n",
       "1       0      3      3   ...           0         0        0         0   \n",
       "2       0      4      4   ...           0         0        0         0   \n",
       "3       0      3      3   ...           0         0        0         0   \n",
       "4       0      7      7   ...           0         0        0         0   \n",
       "\n",
       "   AnsRank  ReScore_rank  Ans_count  Pbias  DRank  EPbias  \n",
       "0        1             1          1      1      0       1  \n",
       "1        1             1          1      1      0       1  \n",
       "2        1             1          1      1      0       1  \n",
       "3        1             1          1      1      0       1  \n",
       "4        1             1          1      1      0       1  \n",
       "\n",
       "[5 rows x 22 columns]"
      ]
     },
     "execution_count": 4,
     "metadata": {},
     "output_type": "execute_result"
    }
   ],
   "source": [
    "#There are deleted users among these votes. To Take into account only active users refer to  ExploratoryPlotsByGroups.ipynb\n",
    "votes = pd.DataFrame.from_csv('c:/Users/Joel/Predictive-model-for-the-voting-system-in-SE-network/spanish_site/AnsVotes_TSeries.csv', index_col=None)\n",
    "votes.head()"
   ]
  },
  {
   "cell_type": "markdown",
   "metadata": {},
   "source": [
    "## No ties in position for a given AnsId-Age"
   ]
  },
  {
   "cell_type": "code",
   "execution_count": 5,
   "metadata": {
    "collapsed": false
   },
   "outputs": [
    {
     "data": {
      "text/plain": [
       "614"
      ]
     },
     "execution_count": 5,
     "metadata": {},
     "output_type": "execute_result"
    }
   ],
   "source": [
    "get_comp = lambda df: int(df.shape[0])>1 \n",
    "tt = votes.groupby(['QuestionId','Age','AnsRank']).apply(get_comp).reset_index(drop=True)\n",
    "sum(tt)"
   ]
  },
  {
   "cell_type": "markdown",
   "metadata": {},
   "source": [
    "## Always check AnsId-Age are unique pairs"
   ]
  },
  {
   "cell_type": "code",
   "execution_count": 6,
   "metadata": {
    "collapsed": false
   },
   "outputs": [
    {
     "data": {
      "text/plain": [
       "(0, 3)"
      ]
     },
     "execution_count": 6,
     "metadata": {},
     "output_type": "execute_result"
    }
   ],
   "source": [
    "tt = votes.groupby(['AnsId','Age']).Votes.count().reset_index(level=[0,1],drop=False)\n",
    "tt[tt.Votes>1].shape"
   ]
  },
  {
   "cell_type": "code",
   "execution_count": 7,
   "metadata": {
    "collapsed": false
   },
   "outputs": [
    {
     "data": {
      "text/html": [
       "<div>\n",
       "<table border=\"1\" class=\"dataframe\">\n",
       "  <thead>\n",
       "    <tr style=\"text-align: right;\">\n",
       "      <th></th>\n",
       "      <th>Unnamed: 0</th>\n",
       "      <th>QuestionId</th>\n",
       "      <th>AnsId</th>\n",
       "      <th>Age</th>\n",
       "      <th>AnsWordCount</th>\n",
       "      <th>AcceptedAnsId</th>\n",
       "      <th>QScore</th>\n",
       "      <th>QVotes</th>\n",
       "      <th>Score</th>\n",
       "      <th>Votes</th>\n",
       "      <th>...</th>\n",
       "      <th>CumVotes</th>\n",
       "      <th>CumScore</th>\n",
       "      <th>ReScore</th>\n",
       "      <th>QReScore</th>\n",
       "      <th>AnsRank</th>\n",
       "      <th>ReScore_rank</th>\n",
       "      <th>Ans_count</th>\n",
       "      <th>Pbias</th>\n",
       "      <th>DRank</th>\n",
       "      <th>EPbias</th>\n",
       "    </tr>\n",
       "  </thead>\n",
       "  <tbody>\n",
       "  </tbody>\n",
       "</table>\n",
       "<p>0 rows × 22 columns</p>\n",
       "</div>"
      ],
      "text/plain": [
       "Empty DataFrame\n",
       "Columns: [Unnamed: 0, QuestionId, AnsId, Age, AnsWordCount, AcceptedAnsId, QScore, QVotes, Score, Votes, Upvotes, Downvotes, CumVotes, CumScore, ReScore, QReScore, AnsRank, ReScore_rank, Ans_count, Pbias, DRank, EPbias]\n",
       "Index: []\n",
       "\n",
       "[0 rows x 22 columns]"
      ]
     },
     "execution_count": 7,
     "metadata": {},
     "output_type": "execute_result"
    }
   ],
   "source": [
    "# Little test\n",
    "votes[(votes.Upvotes.isnull())|(votes.Downvotes.isnull())]"
   ]
  },
  {
   "cell_type": "code",
   "execution_count": 8,
   "metadata": {
    "collapsed": false
   },
   "outputs": [
    {
     "data": {
      "text/html": [
       "<div>\n",
       "<table border=\"1\" class=\"dataframe\">\n",
       "  <thead>\n",
       "    <tr style=\"text-align: right;\">\n",
       "      <th></th>\n",
       "      <th>Unnamed: 0</th>\n",
       "      <th>QuestionId</th>\n",
       "      <th>AnsId</th>\n",
       "      <th>Age</th>\n",
       "      <th>AnsWordCount</th>\n",
       "      <th>AcceptedAnsId</th>\n",
       "      <th>QScore</th>\n",
       "      <th>QVotes</th>\n",
       "      <th>Score</th>\n",
       "      <th>Votes</th>\n",
       "      <th>...</th>\n",
       "      <th>CumVotes</th>\n",
       "      <th>CumScore</th>\n",
       "      <th>ReScore</th>\n",
       "      <th>QReScore</th>\n",
       "      <th>AnsRank</th>\n",
       "      <th>ReScore_rank</th>\n",
       "      <th>Ans_count</th>\n",
       "      <th>Pbias</th>\n",
       "      <th>DRank</th>\n",
       "      <th>EPbias</th>\n",
       "    </tr>\n",
       "  </thead>\n",
       "  <tbody>\n",
       "  </tbody>\n",
       "</table>\n",
       "<p>0 rows × 22 columns</p>\n",
       "</div>"
      ],
      "text/plain": [
       "Empty DataFrame\n",
       "Columns: [Unnamed: 0, QuestionId, AnsId, Age, AnsWordCount, AcceptedAnsId, QScore, QVotes, Score, Votes, Upvotes, Downvotes, CumVotes, CumScore, ReScore, QReScore, AnsRank, ReScore_rank, Ans_count, Pbias, DRank, EPbias]\n",
       "Index: []\n",
       "\n",
       "[0 rows x 22 columns]"
      ]
     },
     "execution_count": 8,
     "metadata": {},
     "output_type": "execute_result"
    }
   ],
   "source": [
    "votes[votes.Votes != (votes.Upvotes+votes.Downvotes)]"
   ]
  },
  {
   "cell_type": "code",
   "execution_count": 9,
   "metadata": {
    "collapsed": false
   },
   "outputs": [],
   "source": [
    "votes['Norm_DRank'] = votes['DRank']/votes['Ans_count']\n",
    "votes['Norm_Pos'] = votes['AnsRank']/votes['Ans_count']"
   ]
  },
  {
   "cell_type": "code",
   "execution_count": 10,
   "metadata": {
    "collapsed": false
   },
   "outputs": [
    {
     "data": {
      "text/plain": [
       "(15241, 24)"
      ]
     },
     "execution_count": 10,
     "metadata": {},
     "output_type": "execute_result"
    }
   ],
   "source": [
    "votes.shape"
   ]
  },
  {
   "cell_type": "markdown",
   "metadata": {},
   "source": [
    "# Regression happens on votes the day after attributes were measured"
   ]
  },
  {
   "cell_type": "code",
   "execution_count": 12,
   "metadata": {
    "collapsed": false
   },
   "outputs": [],
   "source": [
    "import itertools\n",
    "import sys\n",
    "\n",
    "def idx_gen(votes):\n",
    "    new_idx_start = votes.shape[0]\n",
    "    return itertools.count(new_idx_start)\n",
    "\n",
    "def merge_two_dicts(x, y):\n",
    "    z = x.copy()\n",
    "    z.update(y)\n",
    "    return z\n",
    "\n",
    "def break_ties(df):\n",
    "    s_df = df.sort_values(by=['AnsRank','Votes'],ascending=[True,False])\n",
    "    if sum(s_df.groupby(['AnsRank']).count().reset_index(drop=False).Votes>1)>0 :\n",
    "        tot = df.shape[0]\n",
    "        s_df.index=range(tot)\n",
    "        fst_mn = s_df[s_df['AnsRank']==s_df['AnsRank'].shift(-1)].index\n",
    "        penalties = np.squeeze(np.asarray(np.matrix([np.concatenate([np.zeros(int(e)+1),np.ones(tot-(int(e)+1))]) for e in fst_mn]).sum(axis=0)))\n",
    "        penalties = pd.Series(penalties)\n",
    "        s_df.loc[:,'AnsRank'] = s_df.loc[:,'AnsRank'] + penalties\n",
    "        s_df.index = df.sort_values(by=['AnsRank','Score'],ascending=[True,False]).index\n",
    "    return s_df\n",
    "    \n",
    "## Attributes that can be filled later\n",
    "\n",
    "def pad_votes(df,a,q,aid_idx,index_gen):\n",
    "    assert (df.AcceptedAnsId==int(df.AcceptedAnsId.iloc[0])).all(),'There can only be an Accepted answer per Qid-time'\n",
    "    if aid_idx[q].size==0:\n",
    "        n_ans = df.shape[0]       \n",
    "        aid_idx[q] = aid_idx[q].append(df)\n",
    "        aid_idx[q].loc[:,'Accepted'] = aid_idx[q].AnsId==aid_idx[q].AcceptedAnsId\n",
    "        aid_idx[q] = aid_idx[q].sort_values(by=['Accepted','Score'],ascending=[False,False])\n",
    "        aid_idx[q].loc[:,'AnsRank'] = range(1,n_ans+1)\n",
    "        aid_idx[q].loc[:,'Ans_count'] = n_ans\n",
    "        \n",
    "        by_ReScore = aid_idx[q].sort_values(by='ReScore',ascending=False)\n",
    "        by_ReScore.loc[:,'ReRank'] = range(1,int(by_ReScore.shape[0])+1)\n",
    "        by_SE = aid_idx[q].sort_values(by=['Accepted','Score'],ascending=[False,False])\n",
    "        by_SE.loc[:,'SeRank'] = range(1,int(by_SE.shape[0])+1)\n",
    "        aid_idx[q].loc[:,'DRank'] = by_SE['SeRank'] - by_ReScore['ReRank']\n",
    "        aid_idx[q].loc[:,'EPbias'] = pd.merge(epbias_idx,aid_idx[q][['AnsRank','Ans_count']],how='inner',\n",
    "                                              on=['AnsRank','Ans_count'],left_index=True)['EPbias']\n",
    "                                              \n",
    "    else:    \n",
    "        padding_aids = set(aid_idx[q].AnsId).difference(set(df.AnsId))\n",
    "        df_padding_aids = aid_idx[q][aid_idx[q].AnsId.isin(padding_aids)]\n",
    "        tot_ans = len(padding_aids) + len(df.AnsId)\n",
    "        #True ranking (best reconstruction)\n",
    "        aid_idx[q] = df.append(df_padding_aids)\n",
    "        aid_idx[q].loc[:,'AcceptedAnsId'] = int(df.AcceptedAnsId.iloc[0])\n",
    "        aid_idx[q].loc[:,'Accepted'] = aid_idx[q].AnsId==aid_idx[q].AcceptedAnsId\n",
    "        assert (aid_idx[q].AcceptedAnsId==int(aid_idx[q].AcceptedAnsId.iloc[0])).all(), 'There can only be an Accepted answer per Qid-time'\n",
    "        aid_idx[q] = aid_idx[q].sort_values(by=['Accepted','Score'],ascending=[False,False])\n",
    "        #Calculating D-rank\n",
    "        by_ReScore = aid_idx[q].sort_values(by='ReScore',ascending=False)\n",
    "        by_ReScore.loc[:,'ReRank'] = range(1,int(by_ReScore.shape[0])+1)\n",
    "        by_SE = aid_idx[q].sort_values(by=['Accepted','Score'],ascending=[False,False])\n",
    "        by_SE.loc[:,'SeRank'] = range(1,int(by_SE.shape[0])+1)\n",
    "        aid_idx[q].loc[:,'DRank'] = by_SE['SeRank'] - by_ReScore['ReRank']\n",
    "        \n",
    "        aid_idx[q].loc[:,'AnsRank'] = range(1,tot_ans+1)\n",
    "        aid_idx[q].loc[:,'Ans_count'] = tot_ans\n",
    "        aid_idx[q].loc[aid_idx[q].AnsId.isin(padding_aids),['Votes']] = 0\n",
    "        aid_idx[q].loc[aid_idx[q].AnsId.isin(padding_aids),['Age']] = a\n",
    "        aid_idx[q][aid_idx[q].AnsId.isin(padding_aids)].index = [index_gen.next() for i in range(len(padding_aids))]\n",
    "        aid_idx[q].loc[:,'EPbias'] = pd.merge(epbias_idx,aid_idx[q][['AnsRank','Ans_count']],how='inner',\n",
    "                                              on=['AnsRank','Ans_count'],left_index=True)['EPbias']\n",
    "    return aid_idx[q]\n",
    "    "
   ]
  },
  {
   "cell_type": "markdown",
   "metadata": {},
   "source": [
    "## Introduce null row for the first day"
   ]
  },
  {
   "cell_type": "code",
   "execution_count": 13,
   "metadata": {
    "collapsed": false,
    "scrolled": true
   },
   "outputs": [
    {
     "data": {
      "text/html": [
       "<div>\n",
       "<table border=\"1\" class=\"dataframe\">\n",
       "  <thead>\n",
       "    <tr style=\"text-align: right;\">\n",
       "      <th></th>\n",
       "      <th>AcceptedAnsId</th>\n",
       "      <th>Age</th>\n",
       "      <th>AnsId</th>\n",
       "      <th>AnsRank</th>\n",
       "      <th>AnsWordCount</th>\n",
       "      <th>Ans_count</th>\n",
       "      <th>CumScore</th>\n",
       "      <th>CumVotes</th>\n",
       "      <th>DRank</th>\n",
       "      <th>Downvotes</th>\n",
       "      <th>...</th>\n",
       "      <th>QReScore</th>\n",
       "      <th>QScore</th>\n",
       "      <th>QVotes</th>\n",
       "      <th>QuestionId</th>\n",
       "      <th>ReScore</th>\n",
       "      <th>ReScore_rank</th>\n",
       "      <th>Score</th>\n",
       "      <th>Unnamed: 0</th>\n",
       "      <th>Upvotes</th>\n",
       "      <th>Votes</th>\n",
       "    </tr>\n",
       "  </thead>\n",
       "  <tbody>\n",
       "    <tr>\n",
       "      <th>15242</th>\n",
       "      <td>NaN</td>\n",
       "      <td>0</td>\n",
       "      <td>4</td>\n",
       "      <td>1</td>\n",
       "      <td>NaN</td>\n",
       "      <td>1</td>\n",
       "      <td>NaN</td>\n",
       "      <td>NaN</td>\n",
       "      <td>NaN</td>\n",
       "      <td>0</td>\n",
       "      <td>...</td>\n",
       "      <td>NaN</td>\n",
       "      <td>NaN</td>\n",
       "      <td>NaN</td>\n",
       "      <td>1</td>\n",
       "      <td>0.00</td>\n",
       "      <td>NaN</td>\n",
       "      <td>0</td>\n",
       "      <td>NaN</td>\n",
       "      <td>0</td>\n",
       "      <td>0</td>\n",
       "    </tr>\n",
       "    <tr>\n",
       "      <th>4838</th>\n",
       "      <td>56</td>\n",
       "      <td>1</td>\n",
       "      <td>4</td>\n",
       "      <td>2</td>\n",
       "      <td>190</td>\n",
       "      <td>2</td>\n",
       "      <td>0</td>\n",
       "      <td>0</td>\n",
       "      <td>0</td>\n",
       "      <td>1</td>\n",
       "      <td>...</td>\n",
       "      <td>0.000000</td>\n",
       "      <td>0</td>\n",
       "      <td>0</td>\n",
       "      <td>1</td>\n",
       "      <td>0.00</td>\n",
       "      <td>2</td>\n",
       "      <td>1</td>\n",
       "      <td>4838</td>\n",
       "      <td>2</td>\n",
       "      <td>3</td>\n",
       "    </tr>\n",
       "    <tr>\n",
       "      <th>14427</th>\n",
       "      <td>56</td>\n",
       "      <td>1437</td>\n",
       "      <td>4</td>\n",
       "      <td>3</td>\n",
       "      <td>190</td>\n",
       "      <td>6</td>\n",
       "      <td>1</td>\n",
       "      <td>3</td>\n",
       "      <td>-2</td>\n",
       "      <td>0</td>\n",
       "      <td>...</td>\n",
       "      <td>0.923077</td>\n",
       "      <td>12</td>\n",
       "      <td>12</td>\n",
       "      <td>1</td>\n",
       "      <td>0.25</td>\n",
       "      <td>5</td>\n",
       "      <td>1</td>\n",
       "      <td>14427</td>\n",
       "      <td>1</td>\n",
       "      <td>1</td>\n",
       "    </tr>\n",
       "    <tr>\n",
       "      <th>15243</th>\n",
       "      <td>NaN</td>\n",
       "      <td>0</td>\n",
       "      <td>5</td>\n",
       "      <td>2</td>\n",
       "      <td>NaN</td>\n",
       "      <td>2</td>\n",
       "      <td>NaN</td>\n",
       "      <td>NaN</td>\n",
       "      <td>NaN</td>\n",
       "      <td>0</td>\n",
       "      <td>...</td>\n",
       "      <td>NaN</td>\n",
       "      <td>NaN</td>\n",
       "      <td>NaN</td>\n",
       "      <td>1</td>\n",
       "      <td>0.00</td>\n",
       "      <td>NaN</td>\n",
       "      <td>0</td>\n",
       "      <td>NaN</td>\n",
       "      <td>0</td>\n",
       "      <td>0</td>\n",
       "    </tr>\n",
       "    <tr>\n",
       "      <th>9486</th>\n",
       "      <td>56</td>\n",
       "      <td>1</td>\n",
       "      <td>5</td>\n",
       "      <td>3</td>\n",
       "      <td>37</td>\n",
       "      <td>3</td>\n",
       "      <td>0</td>\n",
       "      <td>0</td>\n",
       "      <td>0</td>\n",
       "      <td>0</td>\n",
       "      <td>...</td>\n",
       "      <td>0.000000</td>\n",
       "      <td>0</td>\n",
       "      <td>0</td>\n",
       "      <td>1</td>\n",
       "      <td>0.00</td>\n",
       "      <td>3</td>\n",
       "      <td>1</td>\n",
       "      <td>9486</td>\n",
       "      <td>1</td>\n",
       "      <td>1</td>\n",
       "    </tr>\n",
       "  </tbody>\n",
       "</table>\n",
       "<p>5 rows × 24 columns</p>\n",
       "</div>"
      ],
      "text/plain": [
       "       AcceptedAnsId   Age  AnsId  AnsRank  AnsWordCount  Ans_count  CumScore  \\\n",
       "15242            NaN     0      4        1           NaN          1       NaN   \n",
       "4838              56     1      4        2           190          2         0   \n",
       "14427             56  1437      4        3           190          6         1   \n",
       "15243            NaN     0      5        2           NaN          2       NaN   \n",
       "9486              56     1      5        3            37          3         0   \n",
       "\n",
       "       CumVotes  DRank  Downvotes  ...    QReScore  QScore  QVotes  \\\n",
       "15242       NaN    NaN          0  ...         NaN     NaN     NaN   \n",
       "4838          0      0          1  ...    0.000000       0       0   \n",
       "14427         3     -2          0  ...    0.923077      12      12   \n",
       "15243       NaN    NaN          0  ...         NaN     NaN     NaN   \n",
       "9486          0      0          0  ...    0.000000       0       0   \n",
       "\n",
       "       QuestionId  ReScore  ReScore_rank  Score  Unnamed: 0  Upvotes  Votes  \n",
       "15242           1     0.00           NaN      0         NaN        0      0  \n",
       "4838            1     0.00             2      1        4838        2      3  \n",
       "14427           1     0.25             5      1       14427        1      1  \n",
       "15243           1     0.00           NaN      0         NaN        0      0  \n",
       "9486            1     0.00             3      1        9486        1      1  \n",
       "\n",
       "[5 rows x 24 columns]"
      ]
     },
     "execution_count": 13,
     "metadata": {},
     "output_type": "execute_result"
    }
   ],
   "source": [
    "get_idx = idx_gen(votes)\n",
    "get_null_row = lambda df,ans_c,age,a_id,q_id: pd.DataFrame(\n",
    "    {'QuestionId':[q_id],'AnsId':[a_id],'Age':[age-1],'Norm_Pos':[1],'Norm_DRank':[0.0],'Ans_count':[ans_c-1],\n",
    "        'ReScore':[0.0],'AnsRank':[ans_c-1],'Votes':[0], 'EPbias':[0],\n",
    "        'Score':[0],'Upvotes':[0],'Downvotes':[0]},index=[get_idx.next()])\n",
    "#Votes:[0] etc will be shifted anyways\n",
    "append_null_day = lambda df: get_null_row(df,df.sort_values(by='Age').Ans_count.iloc[0],int(df['Age'].min()),df.AnsId.iloc[0],df.QuestionId.iloc[0]).append(df)\n",
    "votes = votes.groupby(['AnsId']).apply(append_null_day).reset_index(level=[0],drop=True)\n",
    "votes.loc[:,'Age'] = votes['Age'] + 1\n",
    "votes.head()"
   ]
  },
  {
   "cell_type": "code",
   "execution_count": 14,
   "metadata": {
    "collapsed": false
   },
   "outputs": [
    {
     "data": {
      "text/plain": [
       "1202"
      ]
     },
     "execution_count": 14,
     "metadata": {},
     "output_type": "execute_result"
    }
   ],
   "source": [
    "get_comp = lambda df: int(df.shape[0])>1 \n",
    "tt = votes.groupby(['QuestionId','Age','AnsRank']).apply(get_comp).reset_index(drop=True)\n",
    "sum(tt)"
   ]
  },
  {
   "cell_type": "code",
   "execution_count": 15,
   "metadata": {
    "collapsed": false
   },
   "outputs": [
    {
     "data": {
      "text/plain": [
       "5577"
      ]
     },
     "execution_count": 15,
     "metadata": {},
     "output_type": "execute_result"
    }
   ],
   "source": [
    "sum(votes.Votes==0) #Number of rows introduced"
   ]
  },
  {
   "cell_type": "code",
   "execution_count": 16,
   "metadata": {
    "collapsed": false
   },
   "outputs": [
    {
     "data": {
      "text/plain": [
       "(20818, 24)"
      ]
     },
     "execution_count": 16,
     "metadata": {},
     "output_type": "execute_result"
    }
   ],
   "source": [
    "votes.shape"
   ]
  },
  {
   "cell_type": "markdown",
   "metadata": {},
   "source": [
    "### Shift Votes One day before "
   ]
  },
  {
   "cell_type": "code",
   "execution_count": 17,
   "metadata": {
    "collapsed": false
   },
   "outputs": [],
   "source": [
    "atts_sft = ['Score','EPbias','QuestionId','Age','Norm_Pos','Norm_DRank','Ans_count','ReScore','AnsRank','AcceptedAnsId']\n",
    "select = lambda df,one_vote=True: df[atts_sft + ['Votes','Upvotes','Downvotes']] if one_vote else df[atts_sft]\n",
    "shift = lambda df,att : df[att].shift(-1)#.ffill()\n",
    "shift_select = lambda df: select(df) if df.shape[0]==1 else pd.concat([select(df,one_vote=False),shift(df,'Votes'),shift(df,'Upvotes'),shift(df,'Downvotes')],axis=1)\n",
    "shift_votes = lambda df: shift_select(df.sort_values(by='Age'))\n",
    "\n",
    "votes = votes.groupby(['AnsId']).apply(shift_votes).reset_index(level=[0],drop=False)\n",
    "votes = votes[(votes.Upvotes.notnull())|(votes.Downvotes.notnull())|(votes.Votes.notnull())] #drop last registered day for each ans"
   ]
  },
  {
   "cell_type": "code",
   "execution_count": 18,
   "metadata": {
    "collapsed": false
   },
   "outputs": [
    {
     "data": {
      "text/plain": [
       "739"
      ]
     },
     "execution_count": 18,
     "metadata": {},
     "output_type": "execute_result"
    }
   ],
   "source": [
    "get_comp = lambda df: int(df.shape[0])>1 \n",
    "tt = votes.groupby(['QuestionId','Age','AnsRank']).apply(get_comp).reset_index(drop=True)\n",
    "sum(tt)"
   ]
  },
  {
   "cell_type": "markdown",
   "metadata": {},
   "source": [
    "### Clean accepted ans"
   ]
  },
  {
   "cell_type": "code",
   "execution_count": 19,
   "metadata": {
    "collapsed": false
   },
   "outputs": [],
   "source": [
    "votes.loc[:,'AcceptedAnsId']=votes['AcceptedAnsId'].fillna(-1)\n",
    "def clean_acc(df):\n",
    "    if df[df.AcceptedAnsId!=-1].size==0 or df[df.AcceptedAnsId==-1].size==0:\n",
    "        return df\n",
    "    df.loc[df.AcceptedAnsId==-1,'AcceptedAnsId'] = df[df.AcceptedAnsId!=-1].AcceptedAnsId.iloc[0]\n",
    "    return df\n",
    "votes = votes.groupby(['QuestionId','Age']).apply(clean_acc).reset_index(drop=True)"
   ]
  },
  {
   "cell_type": "code",
   "execution_count": 20,
   "metadata": {
    "collapsed": false
   },
   "outputs": [
    {
     "data": {
      "text/plain": [
       "True"
      ]
     },
     "execution_count": 20,
     "metadata": {},
     "output_type": "execute_result"
    }
   ],
   "source": [
    "#Test if accepted ans is homogeneous\n",
    "homogeneous = votes.groupby(['QuestionId',\n",
    "                             'Age']).apply(\n",
    "    lambda df: (int(df.AcceptedAnsId.iloc[0])==df.AcceptedAnsId).all()).reset_index(drop=True)\n",
    "\n",
    "homogeneous.all()"
   ]
  },
  {
   "cell_type": "code",
   "execution_count": 21,
   "metadata": {
    "collapsed": false
   },
   "outputs": [
    {
     "data": {
      "text/plain": [
       "739"
      ]
     },
     "execution_count": 21,
     "metadata": {},
     "output_type": "execute_result"
    }
   ],
   "source": [
    "get_comp = lambda df: int(df.shape[0])>1 \n",
    "tt = votes.groupby(['QuestionId','Age','AnsRank']).apply(get_comp).reset_index(drop=True)\n",
    "sum(tt)"
   ]
  },
  {
   "cell_type": "code",
   "execution_count": 22,
   "metadata": {
    "collapsed": false
   },
   "outputs": [
    {
     "data": {
      "text/plain": [
       "0"
      ]
     },
     "execution_count": 22,
     "metadata": {},
     "output_type": "execute_result"
    }
   ],
   "source": [
    "sum(votes.Votes==0) # MUST BE ZERO"
   ]
  },
  {
   "cell_type": "markdown",
   "metadata": {},
   "source": [
    "### Fill ans with 0 and prev atts answers with no votes on a given day (if at least one other ans was voted on that day)"
   ]
  },
  {
   "cell_type": "code",
   "execution_count": 23,
   "metadata": {
    "collapsed": false
   },
   "outputs": [
    {
     "data": {
      "text/html": [
       "<div>\n",
       "<table border=\"1\" class=\"dataframe\">\n",
       "  <thead>\n",
       "    <tr style=\"text-align: right;\">\n",
       "      <th></th>\n",
       "      <th>Accepted</th>\n",
       "      <th>AcceptedAnsId</th>\n",
       "      <th>Age</th>\n",
       "      <th>AnsId</th>\n",
       "      <th>AnsRank</th>\n",
       "      <th>Ans_count</th>\n",
       "      <th>DRank</th>\n",
       "      <th>Downvotes</th>\n",
       "      <th>EPbias</th>\n",
       "      <th>Norm_DRank</th>\n",
       "      <th>Norm_Pos</th>\n",
       "      <th>QuestionId</th>\n",
       "      <th>ReScore</th>\n",
       "      <th>Score</th>\n",
       "      <th>Upvotes</th>\n",
       "      <th>Votes</th>\n",
       "    </tr>\n",
       "  </thead>\n",
       "  <tbody>\n",
       "    <tr>\n",
       "      <th>0</th>\n",
       "      <td>False</td>\n",
       "      <td>-1</td>\n",
       "      <td>0</td>\n",
       "      <td>4</td>\n",
       "      <td>1</td>\n",
       "      <td>3</td>\n",
       "      <td>0</td>\n",
       "      <td>1</td>\n",
       "      <td>0.378686</td>\n",
       "      <td>0</td>\n",
       "      <td>1.000000</td>\n",
       "      <td>1</td>\n",
       "      <td>0.000000</td>\n",
       "      <td>0</td>\n",
       "      <td>2</td>\n",
       "      <td>3</td>\n",
       "    </tr>\n",
       "    <tr>\n",
       "      <th>2</th>\n",
       "      <td>False</td>\n",
       "      <td>-1</td>\n",
       "      <td>0</td>\n",
       "      <td>5</td>\n",
       "      <td>2</td>\n",
       "      <td>3</td>\n",
       "      <td>0</td>\n",
       "      <td>0</td>\n",
       "      <td>0.263514</td>\n",
       "      <td>0</td>\n",
       "      <td>1.000000</td>\n",
       "      <td>1</td>\n",
       "      <td>0.000000</td>\n",
       "      <td>0</td>\n",
       "      <td>1</td>\n",
       "      <td>1</td>\n",
       "    </tr>\n",
       "    <tr>\n",
       "      <th>217</th>\n",
       "      <td>False</td>\n",
       "      <td>-1</td>\n",
       "      <td>0</td>\n",
       "      <td>56</td>\n",
       "      <td>3</td>\n",
       "      <td>3</td>\n",
       "      <td>0</td>\n",
       "      <td>0</td>\n",
       "      <td>0.357801</td>\n",
       "      <td>0</td>\n",
       "      <td>1.000000</td>\n",
       "      <td>1</td>\n",
       "      <td>0.000000</td>\n",
       "      <td>0</td>\n",
       "      <td>2</td>\n",
       "      <td>2</td>\n",
       "    </tr>\n",
       "    <tr>\n",
       "      <th>218</th>\n",
       "      <td>True</td>\n",
       "      <td>56</td>\n",
       "      <td>1</td>\n",
       "      <td>56</td>\n",
       "      <td>1</td>\n",
       "      <td>4</td>\n",
       "      <td>0</td>\n",
       "      <td>0</td>\n",
       "      <td>0.327900</td>\n",
       "      <td>0</td>\n",
       "      <td>1.000000</td>\n",
       "      <td>1</td>\n",
       "      <td>0.000000</td>\n",
       "      <td>2</td>\n",
       "      <td>3</td>\n",
       "      <td>3</td>\n",
       "    </tr>\n",
       "    <tr>\n",
       "      <th>1</th>\n",
       "      <td>False</td>\n",
       "      <td>56</td>\n",
       "      <td>1</td>\n",
       "      <td>4</td>\n",
       "      <td>2</td>\n",
       "      <td>4</td>\n",
       "      <td>0</td>\n",
       "      <td>0</td>\n",
       "      <td>0.191223</td>\n",
       "      <td>0</td>\n",
       "      <td>1.000000</td>\n",
       "      <td>1</td>\n",
       "      <td>0.000000</td>\n",
       "      <td>1</td>\n",
       "      <td>1</td>\n",
       "      <td>1</td>\n",
       "    </tr>\n",
       "    <tr>\n",
       "      <th>3</th>\n",
       "      <td>False</td>\n",
       "      <td>56</td>\n",
       "      <td>1</td>\n",
       "      <td>5</td>\n",
       "      <td>3</td>\n",
       "      <td>4</td>\n",
       "      <td>0</td>\n",
       "      <td>1</td>\n",
       "      <td>0.221944</td>\n",
       "      <td>0</td>\n",
       "      <td>1.000000</td>\n",
       "      <td>1</td>\n",
       "      <td>0.000000</td>\n",
       "      <td>1</td>\n",
       "      <td>0</td>\n",
       "      <td>1</td>\n",
       "    </tr>\n",
       "    <tr>\n",
       "      <th>837</th>\n",
       "      <td>False</td>\n",
       "      <td>56</td>\n",
       "      <td>1</td>\n",
       "      <td>210</td>\n",
       "      <td>4</td>\n",
       "      <td>4</td>\n",
       "      <td>0</td>\n",
       "      <td>0</td>\n",
       "      <td>0.258934</td>\n",
       "      <td>0</td>\n",
       "      <td>1.000000</td>\n",
       "      <td>1</td>\n",
       "      <td>0.000000</td>\n",
       "      <td>0</td>\n",
       "      <td>1</td>\n",
       "      <td>1</td>\n",
       "    </tr>\n",
       "    <tr>\n",
       "      <th>219</th>\n",
       "      <td>True</td>\n",
       "      <td>56</td>\n",
       "      <td>2</td>\n",
       "      <td>56</td>\n",
       "      <td>1</td>\n",
       "      <td>4</td>\n",
       "      <td>0</td>\n",
       "      <td>0</td>\n",
       "      <td>0.327900</td>\n",
       "      <td>0</td>\n",
       "      <td>0.333333</td>\n",
       "      <td>1</td>\n",
       "      <td>0.666667</td>\n",
       "      <td>3</td>\n",
       "      <td>1</td>\n",
       "      <td>1</td>\n",
       "    </tr>\n",
       "    <tr>\n",
       "      <th>838</th>\n",
       "      <td>False</td>\n",
       "      <td>56</td>\n",
       "      <td>2</td>\n",
       "      <td>210</td>\n",
       "      <td>2</td>\n",
       "      <td>4</td>\n",
       "      <td>0</td>\n",
       "      <td>0</td>\n",
       "      <td>0.191223</td>\n",
       "      <td>0</td>\n",
       "      <td>0.500000</td>\n",
       "      <td>1</td>\n",
       "      <td>0.000000</td>\n",
       "      <td>1</td>\n",
       "      <td>1</td>\n",
       "      <td>1</td>\n",
       "    </tr>\n",
       "    <tr>\n",
       "      <th>1</th>\n",
       "      <td>False</td>\n",
       "      <td>56</td>\n",
       "      <td>2</td>\n",
       "      <td>4</td>\n",
       "      <td>3</td>\n",
       "      <td>4</td>\n",
       "      <td>0</td>\n",
       "      <td>0</td>\n",
       "      <td>0.221944</td>\n",
       "      <td>0</td>\n",
       "      <td>1.000000</td>\n",
       "      <td>1</td>\n",
       "      <td>0.000000</td>\n",
       "      <td>1</td>\n",
       "      <td>1</td>\n",
       "      <td>0</td>\n",
       "    </tr>\n",
       "  </tbody>\n",
       "</table>\n",
       "</div>"
      ],
      "text/plain": [
       "    Accepted  AcceptedAnsId  Age  AnsId  AnsRank  Ans_count  DRank  Downvotes  \\\n",
       "0      False             -1    0      4        1          3      0          1   \n",
       "2      False             -1    0      5        2          3      0          0   \n",
       "217    False             -1    0     56        3          3      0          0   \n",
       "218     True             56    1     56        1          4      0          0   \n",
       "1      False             56    1      4        2          4      0          0   \n",
       "3      False             56    1      5        3          4      0          1   \n",
       "837    False             56    1    210        4          4      0          0   \n",
       "219     True             56    2     56        1          4      0          0   \n",
       "838    False             56    2    210        2          4      0          0   \n",
       "1      False             56    2      4        3          4      0          0   \n",
       "\n",
       "       EPbias  Norm_DRank  Norm_Pos  QuestionId   ReScore  Score  Upvotes  \\\n",
       "0    0.378686           0  1.000000           1  0.000000      0        2   \n",
       "2    0.263514           0  1.000000           1  0.000000      0        1   \n",
       "217  0.357801           0  1.000000           1  0.000000      0        2   \n",
       "218  0.327900           0  1.000000           1  0.000000      2        3   \n",
       "1    0.191223           0  1.000000           1  0.000000      1        1   \n",
       "3    0.221944           0  1.000000           1  0.000000      1        0   \n",
       "837  0.258934           0  1.000000           1  0.000000      0        1   \n",
       "219  0.327900           0  0.333333           1  0.666667      3        1   \n",
       "838  0.191223           0  0.500000           1  0.000000      1        1   \n",
       "1    0.221944           0  1.000000           1  0.000000      1        1   \n",
       "\n",
       "     Votes  \n",
       "0        3  \n",
       "2        1  \n",
       "217      2  \n",
       "218      3  \n",
       "1        1  \n",
       "3        1  \n",
       "837      1  \n",
       "219      1  \n",
       "838      1  \n",
       "1        0  "
      ]
     },
     "execution_count": 23,
     "metadata": {},
     "output_type": "execute_result"
    }
   ],
   "source": [
    "from collections import defaultdict\n",
    "#VERY expensive transformation\n",
    "padded_votes = pd.DataFrame()\n",
    "genidx = idx_gen(votes)\n",
    "ans_index = defaultdict(lambda: pd.DataFrame()) #Qid,AnsId,Position\n",
    "for q,g_q in votes.groupby(['QuestionId']):\n",
    "    for a,g_a in g_q.sort_values(by='Age').groupby(['Age']):\n",
    "        padded_votes = padded_votes.append(pad_votes(g_a,a,q,ans_index,genidx))\n",
    "        \n",
    "padded_votes.head(10)"
   ]
  },
  {
   "cell_type": "code",
   "execution_count": 24,
   "metadata": {
    "collapsed": false
   },
   "outputs": [
    {
     "data": {
      "text/plain": [
       "11800"
      ]
     },
     "execution_count": 24,
     "metadata": {},
     "output_type": "execute_result"
    }
   ],
   "source": [
    "sum(padded_votes.Votes==0)"
   ]
  },
  {
   "cell_type": "code",
   "execution_count": 25,
   "metadata": {
    "collapsed": true
   },
   "outputs": [],
   "source": [
    "votes = padded_votes\n",
    "votes.loc[:,\"Norm_DRank\"] = votes['DRank']/votes['Ans_count']\n",
    "votes.loc[:,\"Norm_Pos\"] = votes['AnsRank']/votes['Ans_count']\n",
    "votes.loc[:,'Norm_Pos_2'] = np.square(votes['Norm_Pos'])"
   ]
  },
  {
   "cell_type": "code",
   "execution_count": 29,
   "metadata": {
    "collapsed": false
   },
   "outputs": [
    {
     "data": {
      "text/plain": [
       "(27041, 17)"
      ]
     },
     "execution_count": 29,
     "metadata": {},
     "output_type": "execute_result"
    }
   ],
   "source": [
    "votes.shape"
   ]
  },
  {
   "cell_type": "code",
   "execution_count": 30,
   "metadata": {
    "collapsed": false
   },
   "outputs": [
    {
     "data": {
      "text/html": [
       "<div>\n",
       "<table border=\"1\" class=\"dataframe\">\n",
       "  <thead>\n",
       "    <tr style=\"text-align: right;\">\n",
       "      <th></th>\n",
       "      <th>Accepted</th>\n",
       "      <th>AcceptedAnsId</th>\n",
       "      <th>Age</th>\n",
       "      <th>AnsId</th>\n",
       "      <th>AnsRank</th>\n",
       "      <th>Ans_count</th>\n",
       "      <th>DRank</th>\n",
       "      <th>Downvotes</th>\n",
       "      <th>EPbias</th>\n",
       "      <th>Norm_DRank</th>\n",
       "      <th>Norm_Pos</th>\n",
       "      <th>QuestionId</th>\n",
       "      <th>ReScore</th>\n",
       "      <th>Score</th>\n",
       "      <th>Upvotes</th>\n",
       "      <th>Votes</th>\n",
       "      <th>Norm_Pos_2</th>\n",
       "    </tr>\n",
       "  </thead>\n",
       "  <tbody>\n",
       "  </tbody>\n",
       "</table>\n",
       "</div>"
      ],
      "text/plain": [
       "Empty DataFrame\n",
       "Columns: [Accepted, AcceptedAnsId, Age, AnsId, AnsRank, Ans_count, DRank, Downvotes, EPbias, Norm_DRank, Norm_Pos, QuestionId, ReScore, Score, Upvotes, Votes, Norm_Pos_2]\n",
       "Index: []"
      ]
     },
     "execution_count": 30,
     "metadata": {},
     "output_type": "execute_result"
    }
   ],
   "source": [
    "#EPbias is NaN for Ans_count=11 which we don't use in the Regression anyways. TODO:Add later\n",
    "votes.loc[votes.EPbias.isnull(),'EPbias'] = 0\n",
    "votes [votes.isnull().any(axis=1)]"
   ]
  },
  {
   "cell_type": "code",
   "execution_count": 31,
   "metadata": {
    "collapsed": false
   },
   "outputs": [
    {
     "data": {
      "text/plain": [
       "(27041, 17)"
      ]
     },
     "execution_count": 31,
     "metadata": {},
     "output_type": "execute_result"
    }
   ],
   "source": [
    "votes.shape"
   ]
  },
  {
   "cell_type": "code",
   "execution_count": 34,
   "metadata": {
    "collapsed": false
   },
   "outputs": [
    {
     "data": {
      "text/plain": [
       "0"
      ]
     },
     "execution_count": 34,
     "metadata": {},
     "output_type": "execute_result"
    }
   ],
   "source": [
    "## If it is zero you can call it a day\n",
    "get_comp = lambda df: int(df.shape[0])>1 \n",
    "tt = votes.groupby(['QuestionId','Age','AnsRank']).apply(get_comp).reset_index(drop=True)\n",
    "sum(tt)"
   ]
  },
  {
   "cell_type": "code",
   "execution_count": 35,
   "metadata": {
    "collapsed": false
   },
   "outputs": [
    {
     "data": {
      "text/html": [
       "<div>\n",
       "<table border=\"1\" class=\"dataframe\">\n",
       "  <thead>\n",
       "    <tr style=\"text-align: right;\">\n",
       "      <th></th>\n",
       "    </tr>\n",
       "  </thead>\n",
       "  <tbody>\n",
       "  </tbody>\n",
       "</table>\n",
       "</div>"
      ],
      "text/plain": [
       "Empty DataFrame\n",
       "Columns: []\n",
       "Index: []"
      ]
     },
     "execution_count": 35,
     "metadata": {},
     "output_type": "execute_result"
    }
   ],
   "source": [
    "ties=pd.DataFrame()\n",
    "for k,g in votes.groupby(['QuestionId','Age','AnsRank']):\n",
    "    if g.shape[0]>1:\n",
    "        ties=ties.append(g[['QuestionId','Age','AnsRank','AnsId','Ans_count','Votes','AcceptedAnsId']])\n",
    "ties.head(10)"
   ]
  },
  {
   "cell_type": "code",
   "execution_count": 37,
   "metadata": {
    "collapsed": true
   },
   "outputs": [],
   "source": [
    "votes.to_csv('VotesRaw.csv')"
   ]
  },
  {
   "cell_type": "markdown",
   "metadata": {},
   "source": [
    "# Exploratory plots"
   ]
  },
  {
   "cell_type": "markdown",
   "metadata": {},
   "source": [
    "# Group predictors"
   ]
  },
  {
   "cell_type": "code",
   "execution_count": 70,
   "metadata": {
    "collapsed": false
   },
   "outputs": [],
   "source": [
    "def get_intervals(att,quantiles):\n",
    "    qtls = votes[att].quantile(quantiles).values\n",
    "    return dict(zip(zip(qtls,qtls[1:]),[e for e in range(len(zip(qtls,qtls[1:])))]))\n",
    "    \n",
    "def get_group(intervals,pred):\n",
    "    for l,u in intervals:\n",
    "        if l<=pred and pred<u:\n",
    "            return intervals[(l,u)]\n",
    "        \n",
    "def reverse_groups(groups,unit='days'):\n",
    "    if unit == 'Rel Score':\n",
    "        return {groups[(d1,d2)]:\"[%.2f - %.2f[ %s\"%(d1,d2,unit) for d1,d2 in groups}\n",
    "    elif unit in ['Position','Nbr Ans Per Question']:\n",
    "        return {groups[(d1,d2)]:\"[%d - %d[ %s\"%(d1,d2,unit) for d1,d2 in groups} \n",
    "    else:\n",
    "        return {groups[(d1,d2)]:\"%d to %d %s\"%(d1,d2,unit) for d1,d2 in groups}"
   ]
  },
  {
   "cell_type": "code",
   "execution_count": 71,
   "metadata": {
    "collapsed": false
   },
   "outputs": [],
   "source": [
    "from functools import partial\n",
    "\n",
    "age_intervals = get_intervals('Age',[0,.25,.5,.65,.8,.9,1.0])\n",
    "pos_intervals = get_intervals('AnsRank',[0,.75,.85,.95,1.0])\n",
    "rscore_intervals = get_intervals('ReScore',[0,.1,.5,.75,1.0])\n",
    "anscount_intervals = get_intervals('Ans_count',[0,.5,.6,.8,1.0])\n"
   ]
  },
  {
   "cell_type": "code",
   "execution_count": 78,
   "metadata": {
    "collapsed": false
   },
   "outputs": [],
   "source": [
    "votes['Age_vot_group'] = votes['Age'].apply(partial(get_group,age_intervals))\n",
    "votes['AnsRank_group'] = votes['AnsRank'].apply(partial(get_group,pos_intervals))\n",
    "votes['ReScore_group'] = votes['ReScore'].apply(partial(get_group,rscore_intervals))\n",
    "votes['Ans_count_group'] = votes['Ans_count'].apply(partial(get_group,anscount_intervals))"
   ]
  },
  {
   "cell_type": "code",
   "execution_count": 72,
   "metadata": {
    "collapsed": false
   },
   "outputs": [],
   "source": [
    "ReverseGroups = {}\n",
    "ReverseGroups['Age_vot_group'] = reverse_groups(age_intervals)\n",
    "ReverseGroups['AnsRank_group'] = reverse_groups(pos_intervals,unit='Position')\n",
    "ReverseGroups['ReScore_group'] = reverse_groups(rscore_intervals,unit='Rel Score')\n",
    "ReverseGroups['Ans_count_group'] = reverse_groups(anscount_intervals,unit='Nbr Ans Per Question')"
   ]
  },
  {
   "cell_type": "code",
   "execution_count": 73,
   "metadata": {
    "collapsed": false
   },
   "outputs": [
    {
     "data": {
      "text/plain": [
       "{0: '0 to 2 days',\n",
       " 1: '2 to 8 days',\n",
       " 2: '8 to 54 days',\n",
       " 3: '54 to 442 days',\n",
       " 4: '442 to 863 days',\n",
       " 5: '863 to 1497 days'}"
      ]
     },
     "execution_count": 73,
     "metadata": {},
     "output_type": "execute_result"
    }
   ],
   "source": [
    "ReverseGroups['Age_vot_group']"
   ]
  },
  {
   "cell_type": "code",
   "execution_count": 74,
   "metadata": {
    "collapsed": false
   },
   "outputs": [
    {
     "data": {
      "text/plain": [
       "{0: '[1 - 3[ Position',\n",
       " 1: '[3 - 4[ Position',\n",
       " 2: '[4 - 5[ Position',\n",
       " 3: '[5 - 12[ Position'}"
      ]
     },
     "execution_count": 74,
     "metadata": {},
     "output_type": "execute_result"
    }
   ],
   "source": [
    "ReverseGroups['AnsRank_group']"
   ]
  },
  {
   "cell_type": "code",
   "execution_count": 75,
   "metadata": {
    "collapsed": false
   },
   "outputs": [
    {
     "data": {
      "text/plain": [
       "{0: '[-0.83 - 0.00[ Rel Score',\n",
       " 1: '[0.00 - 0.00[ Rel Score',\n",
       " 2: '[0.00 - 0.67[ Rel Score',\n",
       " 3: '[0.67 - 0.98[ Rel Score'}"
      ]
     },
     "execution_count": 75,
     "metadata": {},
     "output_type": "execute_result"
    }
   ],
   "source": [
    "ReverseGroups['ReScore_group']"
   ]
  },
  {
   "cell_type": "code",
   "execution_count": 77,
   "metadata": {
    "collapsed": false
   },
   "outputs": [
    {
     "data": {
      "text/plain": [
       "{0: '[1 - 3[ Nbr Ans Per Question',\n",
       " 1: '[3 - 3[ Nbr Ans Per Question',\n",
       " 2: '[3 - 5[ Nbr Ans Per Question',\n",
       " 3: '[5 - 12[ Nbr Ans Per Question'}"
      ]
     },
     "execution_count": 77,
     "metadata": {},
     "output_type": "execute_result"
    }
   ],
   "source": [
    "ReverseGroups['Ans_count_group']"
   ]
  },
  {
   "cell_type": "code",
   "execution_count": 79,
   "metadata": {
    "collapsed": false
   },
   "outputs": [],
   "source": [
    "votes.loc[votes.ReScore_group.isnull(),'ReScore_group'] = 3"
   ]
  },
  {
   "cell_type": "code",
   "execution_count": 80,
   "metadata": {
    "collapsed": false
   },
   "outputs": [
    {
     "data": {
      "text/html": [
       "<div>\n",
       "<table border=\"1\" class=\"dataframe\">\n",
       "  <thead>\n",
       "    <tr style=\"text-align: right;\">\n",
       "      <th></th>\n",
       "      <th>Accepted</th>\n",
       "      <th>AcceptedAnsId</th>\n",
       "      <th>Age_vot</th>\n",
       "      <th>AnsId</th>\n",
       "      <th>AnsRank</th>\n",
       "      <th>Ans_count</th>\n",
       "      <th>DRank</th>\n",
       "      <th>Downvotes</th>\n",
       "      <th>Norm_DRank</th>\n",
       "      <th>Norm_Pos</th>\n",
       "      <th>QuestionId</th>\n",
       "      <th>ReScore</th>\n",
       "      <th>Score</th>\n",
       "      <th>Upvotes</th>\n",
       "      <th>Votes</th>\n",
       "      <th>Norm_Pos_2</th>\n",
       "      <th>Age_vot_group</th>\n",
       "      <th>AnsRank_group</th>\n",
       "      <th>ReScore_group</th>\n",
       "      <th>Ans_count_group</th>\n",
       "    </tr>\n",
       "  </thead>\n",
       "  <tbody>\n",
       "  </tbody>\n",
       "</table>\n",
       "</div>"
      ],
      "text/plain": [
       "Empty DataFrame\n",
       "Columns: [Accepted, AcceptedAnsId, Age_vot, AnsId, AnsRank, Ans_count, DRank, Downvotes, Norm_DRank, Norm_Pos, QuestionId, ReScore, Score, Upvotes, Votes, Norm_Pos_2, Age_vot_group, AnsRank_group, ReScore_group, Ans_count_group]\n",
       "Index: []"
      ]
     },
     "execution_count": 80,
     "metadata": {},
     "output_type": "execute_result"
    }
   ],
   "source": [
    "votes[votes.ReScore_group.isnull()]"
   ]
  },
  {
   "cell_type": "markdown",
   "metadata": {
    "collapsed": true
   },
   "source": [
    "# Group Plots"
   ]
  },
  {
   "cell_type": "code",
   "execution_count": 86,
   "metadata": {
    "collapsed": false
   },
   "outputs": [],
   "source": [
    "from itertools import product\n",
    "def plot_by(filtered_df,row_att_n, col_att_n,xpred_n,ypred_n,xfsize,yfsize,verbose=False,errbars=False):\n",
    "    plt.figure(figsize=(xfsize,yfsize))\n",
    "    \n",
    "    row_group_name = row_att_n+'_group'\n",
    "    col_group_name = col_att_n+'_group'\n",
    "    \n",
    "    groups = filtered_df.sort_values(by=['Age']).groupby([row_group_name,col_group_name])\n",
    "    \n",
    "    n_rows,n_cols = len(filtered_df[row_group_name].unique()),len(filtered_df[col_group_name].unique())\n",
    "    sort_rows = {e:i for i,e in enumerate(filtered_df[row_group_name].sort_values().unique())}\n",
    "    sort_cols = {e:i for i,e in enumerate(filtered_df[col_group_name].sort_values().unique())}\n",
    "    \n",
    "    to_cover = list(product([sort_rows[e] for e in sort_rows],[sort_cols[e]+1 for e in sort_cols]))\n",
    "    axref = plt.subplot(1,n_cols,1)\n",
    "    \n",
    "    for key,group in groups:\n",
    "        to_cover.remove((sort_rows[group[row_group_name].iloc[0]],sort_cols[group[col_group_name].iloc[0]]+1))\n",
    "        #Convention: row index starts at 0, col index starts at 1\n",
    "        rw_g = sort_rows[group[row_group_name].iloc[0]] \n",
    "        col_g = sort_cols[group[col_group_name].iloc[0]] + 1\n",
    "        if verbose:\n",
    "            print 'rw_g %d'%rw_g, 'col_g %d'%col_g\n",
    "            print 'rl_rw_g %d'%group[row_group_name].iloc[0], 'rl_col_g %d'%group[col_group_name].iloc[0]\n",
    "            print \n",
    "        ax = plt.subplot(1, n_cols, col_g ,sharex=axref,sharey=axref)\n",
    "        \n",
    "        get_rates = lambda df: np.mean(df[ypred_n]) #/(df.Age_vot-df.Age_vot.shift(1).fillna(0) + 1))\n",
    "        get_sdev = lambda df : np.std(df[ypred_n]) #/(df.Age_vot-df.Age_vot.shift(1).fillna(0) + 1))\n",
    "        vote_rates = group.groupby([xpred_n]).apply(get_rates)\n",
    "        std_vtrates = group.groupby([xpred_n]).apply(get_sdev)\n",
    "        \n",
    "        if not errbars:\n",
    "            std_vtrates = np.array([0 for _ in range(len(std_vtrates))])\n",
    "        \n",
    "        row_g_name = '%s'%(ReverseGroups[row_group_name][group[row_group_name].iloc[0]])\n",
    "        plt.errorbar(x = vote_rates.index.values,y=vote_rates.values,yerr=std_vtrates,label=row_g_name)\n",
    "        \n",
    "        if col_g==len(sort_cols):\n",
    "        \n",
    "            # Put a legend to the right of the current axis\n",
    "            ax.legend(loc='center left',bbox_to_anchor=(1, .5))\n",
    "            \n",
    "        if col_g==1:\n",
    "            plt.ylabel('Mean_%s_rate'%ypred_n)\n",
    "            plt.xlabel(xpred_n)\n",
    "        \n",
    "        if rw_g==0:\n",
    "            plt.title('%s'%(ReverseGroups[col_group_name][group[col_group_name].iloc[0]]))\n",
    "    print to_cover\n",
    "    for rw,col in to_cover:\n",
    "        plt.subplot(1, n_cols, col ,sharex=axref,sharey=axref)\n",
    "        if rw==0:\n",
    "            plt.title('%s'%(ReverseGroups[col_group_name][[e for e,i in sort_cols.items() if i == col-1][0]]))\n",
    "    #plt.suptitle('X=%s, Y=%s'%(xpred_n,ypred_n),fontsize=20,y=1.08)\n",
    "    plt.show()"
   ]
  },
  {
   "cell_type": "code",
   "execution_count": 95,
   "metadata": {
    "collapsed": false
   },
   "outputs": [
    {
     "name": "stdout",
     "output_type": "stream",
     "text": [
      "[]\n"
     ]
    },
    {
     "data": {
      "image/png": "[encoded data removed]",
      "text/plain": [
       "<matplotlib.figure.Figure at 0xd88ee80>"
      ]
     },
     "metadata": {},
     "output_type": "display_data"
    }
   ],
   "source": [
    "nb_ans = 5\n",
    "nb_age_groups = 4\n",
    "data = votes[(votes.Ans_count>1) &(votes.Age_vot_group<=4)]\n",
    "data = data[(data['Ans_count']<=nb_ans)&(data['Age_vot_group']<=nb_age_groups-1)]\n",
    "plot_by(data,'Age','Ans_count','Norm_DRank','Votes',15,5,errbars=False)"
   ]
  },
  {
   "cell_type": "code",
   "execution_count": 97,
   "metadata": {
    "collapsed": false
   },
   "outputs": [
    {
     "name": "stdout",
     "output_type": "stream",
     "text": [
      "[]\n"
     ]
    },
    {
     "data": {
      "image/png": "[encoded data removed]",
      "text/plain": [
       "<matplotlib.figure.Figure at 0x109d9668>"
      ]
     },
     "metadata": {},
     "output_type": "display_data"
    }
   ],
   "source": [
    "nb_ans = 6\n",
    "nb_age_groups = 4\n",
    "data = votes[(votes.Ans_count>1)]#&(votes.Age_vot_group==3)]\n",
    "data = data[(data['Ans_count']<=nb_ans)&(data['Age_vot_group']<=nb_age_groups-1)]\n",
    "plot_by(data,'Age','AnsRank','Norm_DRank','Votes',17,5,errbars=False)"
   ]
  },
  {
   "cell_type": "code",
   "execution_count": 99,
   "metadata": {
    "collapsed": false,
    "scrolled": true
   },
   "outputs": [
    {
     "name": "stdout",
     "output_type": "stream",
     "text": [
      "[(0, 1), (0, 3)]\n"
     ]
    },
    {
     "data": {
      "image/png": "[encoded data removed]",
      "text/plain": [
       "<matplotlib.figure.Figure at 0xf0a6a58>"
      ]
     },
     "metadata": {},
     "output_type": "display_data"
    }
   ],
   "source": [
    "nb_ans = 5\n",
    "nb_age_groups = 4\n",
    "\n",
    "data = votes[(votes.Ans_count>1)]\n",
    "dato = data[(data['Ans_count']<=nb_ans)&(data['Age_vot_group']<=nb_age_groups-1)]\n",
    "\n",
    "plot_by(dato,'Age','ReScore','Norm_DRank','Votes', 18, 6, errbars=False)"
   ]
  },
  {
   "cell_type": "markdown",
   "metadata": {},
   "source": [
    "## Regression analysis preparation"
   ]
  },
  {
   "cell_type": "code",
   "execution_count": 2,
   "metadata": {
    "collapsed": false
   },
   "outputs": [],
   "source": [
    "import pandas as pd\n",
    "\n",
    "votes = pd.DataFrame.from_csv('VotesRaw.csv')"
   ]
  },
  {
   "cell_type": "code",
   "execution_count": 3,
   "metadata": {
    "collapsed": false
   },
   "outputs": [
    {
     "data": {
      "text/html": [
       "<div>\n",
       "<table border=\"1\" class=\"dataframe\">\n",
       "  <thead>\n",
       "    <tr style=\"text-align: right;\">\n",
       "      <th></th>\n",
       "      <th>Accepted</th>\n",
       "      <th>AcceptedAnsId</th>\n",
       "      <th>Age</th>\n",
       "      <th>AnsId</th>\n",
       "      <th>AnsRank</th>\n",
       "      <th>Ans_count</th>\n",
       "      <th>DRank</th>\n",
       "      <th>Downvotes</th>\n",
       "      <th>EPbias</th>\n",
       "      <th>Norm_DRank</th>\n",
       "      <th>Norm_Pos</th>\n",
       "      <th>QuestionId</th>\n",
       "      <th>ReScore</th>\n",
       "      <th>Score</th>\n",
       "      <th>Upvotes</th>\n",
       "      <th>Votes</th>\n",
       "      <th>Norm_Pos_2</th>\n",
       "    </tr>\n",
       "  </thead>\n",
       "  <tbody>\n",
       "    <tr>\n",
       "      <th>0</th>\n",
       "      <td>False</td>\n",
       "      <td>-1</td>\n",
       "      <td>0</td>\n",
       "      <td>4</td>\n",
       "      <td>1</td>\n",
       "      <td>3</td>\n",
       "      <td>0</td>\n",
       "      <td>1</td>\n",
       "      <td>0.378686</td>\n",
       "      <td>0</td>\n",
       "      <td>0.333333</td>\n",
       "      <td>1</td>\n",
       "      <td>0</td>\n",
       "      <td>0</td>\n",
       "      <td>2</td>\n",
       "      <td>3</td>\n",
       "      <td>0.111111</td>\n",
       "    </tr>\n",
       "    <tr>\n",
       "      <th>2</th>\n",
       "      <td>False</td>\n",
       "      <td>-1</td>\n",
       "      <td>0</td>\n",
       "      <td>5</td>\n",
       "      <td>2</td>\n",
       "      <td>3</td>\n",
       "      <td>0</td>\n",
       "      <td>0</td>\n",
       "      <td>0.263514</td>\n",
       "      <td>0</td>\n",
       "      <td>0.666667</td>\n",
       "      <td>1</td>\n",
       "      <td>0</td>\n",
       "      <td>0</td>\n",
       "      <td>1</td>\n",
       "      <td>1</td>\n",
       "      <td>0.444444</td>\n",
       "    </tr>\n",
       "    <tr>\n",
       "      <th>217</th>\n",
       "      <td>False</td>\n",
       "      <td>-1</td>\n",
       "      <td>0</td>\n",
       "      <td>56</td>\n",
       "      <td>3</td>\n",
       "      <td>3</td>\n",
       "      <td>0</td>\n",
       "      <td>0</td>\n",
       "      <td>0.357801</td>\n",
       "      <td>0</td>\n",
       "      <td>1.000000</td>\n",
       "      <td>1</td>\n",
       "      <td>0</td>\n",
       "      <td>0</td>\n",
       "      <td>2</td>\n",
       "      <td>2</td>\n",
       "      <td>1.000000</td>\n",
       "    </tr>\n",
       "    <tr>\n",
       "      <th>218</th>\n",
       "      <td>True</td>\n",
       "      <td>56</td>\n",
       "      <td>1</td>\n",
       "      <td>56</td>\n",
       "      <td>1</td>\n",
       "      <td>4</td>\n",
       "      <td>0</td>\n",
       "      <td>0</td>\n",
       "      <td>0.327900</td>\n",
       "      <td>0</td>\n",
       "      <td>0.250000</td>\n",
       "      <td>1</td>\n",
       "      <td>0</td>\n",
       "      <td>2</td>\n",
       "      <td>3</td>\n",
       "      <td>3</td>\n",
       "      <td>0.062500</td>\n",
       "    </tr>\n",
       "    <tr>\n",
       "      <th>1</th>\n",
       "      <td>False</td>\n",
       "      <td>56</td>\n",
       "      <td>1</td>\n",
       "      <td>4</td>\n",
       "      <td>2</td>\n",
       "      <td>4</td>\n",
       "      <td>0</td>\n",
       "      <td>0</td>\n",
       "      <td>0.191223</td>\n",
       "      <td>0</td>\n",
       "      <td>0.500000</td>\n",
       "      <td>1</td>\n",
       "      <td>0</td>\n",
       "      <td>1</td>\n",
       "      <td>1</td>\n",
       "      <td>1</td>\n",
       "      <td>0.250000</td>\n",
       "    </tr>\n",
       "  </tbody>\n",
       "</table>\n",
       "</div>"
      ],
      "text/plain": [
       "    Accepted  AcceptedAnsId  Age  AnsId  AnsRank  Ans_count  DRank  Downvotes  \\\n",
       "0      False             -1    0      4        1          3      0          1   \n",
       "2      False             -1    0      5        2          3      0          0   \n",
       "217    False             -1    0     56        3          3      0          0   \n",
       "218     True             56    1     56        1          4      0          0   \n",
       "1      False             56    1      4        2          4      0          0   \n",
       "\n",
       "       EPbias  Norm_DRank  Norm_Pos  QuestionId  ReScore  Score  Upvotes  \\\n",
       "0    0.378686           0  0.333333           1        0      0        2   \n",
       "2    0.263514           0  0.666667           1        0      0        1   \n",
       "217  0.357801           0  1.000000           1        0      0        2   \n",
       "218  0.327900           0  0.250000           1        0      2        3   \n",
       "1    0.191223           0  0.500000           1        0      1        1   \n",
       "\n",
       "     Votes  Norm_Pos_2  \n",
       "0        3    0.111111  \n",
       "2        1    0.444444  \n",
       "217      2    1.000000  \n",
       "218      3    0.062500  \n",
       "1        1    0.250000  "
      ]
     },
     "execution_count": 3,
     "metadata": {},
     "output_type": "execute_result"
    }
   ],
   "source": [
    "votes.head()"
   ]
  },
  {
   "cell_type": "code",
   "execution_count": 4,
   "metadata": {
    "collapsed": false
   },
   "outputs": [
    {
     "data": {
      "text/plain": [
       "False"
      ]
     },
     "execution_count": 4,
     "metadata": {},
     "output_type": "execute_result"
    }
   ],
   "source": [
    "## Check uniqueness of qidt-position pair for plm and mlogit format from R\n",
    "votes.groupby(['QuestionId','Age','AnsRank']).apply(lambda df:df.shape[0]>1).reset_index(drop=True).any()"
   ]
  },
  {
   "cell_type": "code",
   "execution_count": 5,
   "metadata": {
    "collapsed": false
   },
   "outputs": [
    {
     "data": {
      "text/plain": [
       "0"
      ]
     },
     "execution_count": 5,
     "metadata": {},
     "output_type": "execute_result"
    }
   ],
   "source": [
    "#There should not be only 0 choice\n",
    "sum(votes.groupby(['QuestionId','Age']).apply(lambda df: (df.Votes==0).all()).reset_index(drop=True))"
   ]
  },
  {
   "cell_type": "code",
   "execution_count": 53,
   "metadata": {
    "collapsed": false
   },
   "outputs": [],
   "source": [
    "from functools import partial\n",
    "\n",
    "nn_feats =['QuestionId','Age','AnsRank','Votes','ReScore','Norm_Pos','Norm_Pos_2','Norm_DRank','EPbias']\n",
    "def replicate(df,pos=1):\n",
    "    #assert df.Ans_count.iloc[0] >= pos,\"Target position must be less than or eq than Tot nb of answers.\"\n",
    "    binary_ch = pd.DataFrame()\n",
    "    failures = int(df[df.AnsRank!=pos].Votes.sum())\n",
    "    #assert df[df.AnsRank==pos].Votes.shape[0]==1,\"There must be one ans at a given position per Qid-age pair.\"\n",
    "    successes = int(df[df.AnsRank==pos].Votes.iloc[0])\n",
    "    if failures > 0:\n",
    "        pos_feats = df[df.AnsRank==pos][nn_feats]\n",
    "        pos_feats.loc[:,'Votes'] = 0 \n",
    "        binary_ch = binary_ch.append([pos_feats]*failures,ignore_index=True)\n",
    "    if successes > 0:\n",
    "        pos_feats = df[df.AnsRank==pos][nn_feats]\n",
    "        pos_feats.loc[:,'Votes'] = 1 \n",
    "        binary_ch = binary_ch.append([pos_feats]*successes,ignore_index=True)\n",
    "    return binary_ch\n",
    "for tgt_pos in range(1,6):\n",
    "    replicated_bin = pd.DataFrame()\n",
    "    for k,g in votes.groupby(['QuestionId','Age']):\n",
    "        assert (int(g.Ans_count.iloc[0])==g.Ans_count).all(), 'Ans count must be unique per Qid-age pair'\n",
    "        if int(g.Ans_count.iloc[0]) >= tgt_pos:\n",
    "            replicated_bin = replicated_bin.append(replicate(g,pos=tgt_pos))      \n",
    "    replicated_bin.to_csv('BinCh%d.csv'%(tgt_pos))       \n",
    " "
   ]
  },
  {
   "cell_type": "code",
   "execution_count": 54,
   "metadata": {
    "collapsed": false
   },
   "outputs": [
    {
     "data": {
      "text/html": [
       "<div>\n",
       "<table border=\"1\" class=\"dataframe\">\n",
       "  <thead>\n",
       "    <tr style=\"text-align: right;\">\n",
       "      <th></th>\n",
       "      <th>QuestionId</th>\n",
       "      <th>Age</th>\n",
       "      <th>AnsRank</th>\n",
       "      <th>Votes</th>\n",
       "      <th>ReScore</th>\n",
       "      <th>Norm_Pos</th>\n",
       "      <th>Norm_Pos_2</th>\n",
       "      <th>Norm_DRank</th>\n",
       "      <th>EPbias</th>\n",
       "    </tr>\n",
       "  </thead>\n",
       "  <tbody>\n",
       "  </tbody>\n",
       "</table>\n",
       "</div>"
      ],
      "text/plain": [
       "Empty DataFrame\n",
       "Columns: [QuestionId, Age, AnsRank, Votes, ReScore, Norm_Pos, Norm_Pos_2, Norm_DRank, EPbias]\n",
       "Index: []"
      ]
     },
     "execution_count": 54,
     "metadata": {},
     "output_type": "execute_result"
    }
   ],
   "source": [
    "replicated_bin[replicated_bin.Votes>1]"
   ]
  },
  {
   "cell_type": "markdown",
   "metadata": {},
   "source": [
    "## Prepare for nnet, replicate rows"
   ]
  },
  {
   "cell_type": "code",
   "execution_count": 6,
   "metadata": {
    "collapsed": true
   },
   "outputs": [],
   "source": [
    "qt_idx = votes.groupby(['QuestionId','Age']).count().reset_index(level=[0,1],drop=False)[['QuestionId','Age']]\n",
    "#qt_idx.to_csv('Qt_idx.csv')"
   ]
  },
  {
   "cell_type": "code",
   "execution_count": 7,
   "metadata": {
    "collapsed": false,
    "scrolled": true
   },
   "outputs": [],
   "source": [
    "# nnet to predict for a fixed nbr of choices\n",
    "for nb_choices_nnet in range(2,7):\n",
    "    for_nnet = pd.DataFrame()\n",
    "    for k,g in votes[votes.Ans_count==nb_choices_nnet].groupby(['Votes']):\n",
    "        if k>1:\n",
    "            for_nnet = for_nnet.append([g]*(int(k)),ignore_index=True)\n",
    "        else:\n",
    "            for_nnet = for_nnet.append(g,ignore_index=True)\n",
    "    for_nnet.loc[for_nnet.Votes>1,'Votes']=1\n",
    "    for_nnet = for_nnet[['QuestionId','AnsRank','Ans_count','AnsId','Age','Votes','ReScore','Norm_Pos','Norm_Pos_2','Norm_DRank','EPbias']]\n",
    "    for_nnet = for_nnet[for_nnet.Votes>0]\n",
    "    for_nnet = pd.merge(for_nnet,qt_idx.reset_index(drop=False),how='left',on=['QuestionId','Age'])\n",
    "    for_nnet.to_csv('Qtnnet%d.csv'%nb_choices_nnet)"
   ]
  },
  {
   "cell_type": "code",
   "execution_count": 8,
   "metadata": {
    "collapsed": true
   },
   "outputs": [],
   "source": [
    "for_nnet = pd.DataFrame()\n",
    "for k,g in votes.groupby(['Votes']):\n",
    "    if k>1:\n",
    "        for_nnet = for_nnet.append([g]*(int(k)),ignore_index=True)\n",
    "    else:\n",
    "        for_nnet = for_nnet.append(g,ignore_index=True)\n",
    "    for_nnet.loc[for_nnet.Votes>1,'Votes']=1\n",
    "    for_nnet = for_nnet[['QuestionId','AnsRank','Ans_count','AnsId','Age','Votes','ReScore','Norm_Pos','Norm_Pos_2','Norm_DRank','EPbias']]\n",
    "    for_nnet = for_nnet[for_nnet.Votes>0]\n",
    "    for_nnet = pd.merge(for_nnet,qt_idx.reset_index(drop=False),how='left',on=['QuestionId','Age'])\n",
    "    for_nnet.to_csv('QtnnetAll.csv')"
   ]
  },
  {
   "cell_type": "markdown",
   "metadata": {},
   "source": [
    "## Prepare for mlogit, fixed nb of choices"
   ]
  },
  {
   "cell_type": "code",
   "execution_count": 58,
   "metadata": {
    "collapsed": true
   },
   "outputs": [],
   "source": [
    "votes_qt_idx = pd.merge(votes,qt_idx.reset_index(drop=False),how='left',on=['QuestionId','Age'])\n",
    "votes_qt_idx = votes_qt_idx[['AnsId','QuestionId','Ans_count','index','Votes','AnsRank',\n",
    "                             'Age','ReScore','Norm_Pos','Norm_Pos_2','Norm_DRank','EPbias']]"
   ]
  },
  {
   "cell_type": "code",
   "execution_count": 59,
   "metadata": {
    "collapsed": false
   },
   "outputs": [],
   "source": [
    "for nb_choices in range(2,7):\n",
    "    features = ['AnsId','QuestionId','index','Votes','AnsRank','Age',\n",
    "        'ReScore','Norm_Pos','Norm_Pos_2','Norm_DRank','EPbias']\n",
    "    fixed_ch = votes_qt_idx[votes_qt_idx.Ans_count==nb_choices][features]\n",
    "    fixed_ch.to_csv('Qt%dMlogitFixed.csv'%(nb_choices))"
   ]
  },
  {
   "cell_type": "code",
   "execution_count": 60,
   "metadata": {
    "collapsed": false
   },
   "outputs": [
    {
     "data": {
      "text/html": [
       "<div>\n",
       "<table border=\"1\" class=\"dataframe\">\n",
       "  <thead>\n",
       "    <tr style=\"text-align: right;\">\n",
       "      <th></th>\n",
       "      <th>AnsId</th>\n",
       "      <th>QuestionId</th>\n",
       "      <th>Ans_count</th>\n",
       "      <th>index</th>\n",
       "      <th>Votes</th>\n",
       "      <th>AnsRank</th>\n",
       "      <th>Age</th>\n",
       "      <th>ReScore</th>\n",
       "      <th>Norm_Pos</th>\n",
       "      <th>Norm_Pos_2</th>\n",
       "      <th>Norm_DRank</th>\n",
       "      <th>EPbias</th>\n",
       "    </tr>\n",
       "  </thead>\n",
       "  <tbody>\n",
       "    <tr>\n",
       "      <th>0</th>\n",
       "      <td>4</td>\n",
       "      <td>1</td>\n",
       "      <td>3</td>\n",
       "      <td>0</td>\n",
       "      <td>3</td>\n",
       "      <td>1</td>\n",
       "      <td>0</td>\n",
       "      <td>0</td>\n",
       "      <td>0.333333</td>\n",
       "      <td>0.111111</td>\n",
       "      <td>0</td>\n",
       "      <td>0.378686</td>\n",
       "    </tr>\n",
       "    <tr>\n",
       "      <th>1</th>\n",
       "      <td>5</td>\n",
       "      <td>1</td>\n",
       "      <td>3</td>\n",
       "      <td>0</td>\n",
       "      <td>1</td>\n",
       "      <td>2</td>\n",
       "      <td>0</td>\n",
       "      <td>0</td>\n",
       "      <td>0.666667</td>\n",
       "      <td>0.444444</td>\n",
       "      <td>0</td>\n",
       "      <td>0.263514</td>\n",
       "    </tr>\n",
       "    <tr>\n",
       "      <th>2</th>\n",
       "      <td>56</td>\n",
       "      <td>1</td>\n",
       "      <td>3</td>\n",
       "      <td>0</td>\n",
       "      <td>2</td>\n",
       "      <td>3</td>\n",
       "      <td>0</td>\n",
       "      <td>0</td>\n",
       "      <td>1.000000</td>\n",
       "      <td>1.000000</td>\n",
       "      <td>0</td>\n",
       "      <td>0.357801</td>\n",
       "    </tr>\n",
       "    <tr>\n",
       "      <th>3</th>\n",
       "      <td>56</td>\n",
       "      <td>1</td>\n",
       "      <td>4</td>\n",
       "      <td>1</td>\n",
       "      <td>3</td>\n",
       "      <td>1</td>\n",
       "      <td>1</td>\n",
       "      <td>0</td>\n",
       "      <td>0.250000</td>\n",
       "      <td>0.062500</td>\n",
       "      <td>0</td>\n",
       "      <td>0.327900</td>\n",
       "    </tr>\n",
       "    <tr>\n",
       "      <th>4</th>\n",
       "      <td>4</td>\n",
       "      <td>1</td>\n",
       "      <td>4</td>\n",
       "      <td>1</td>\n",
       "      <td>1</td>\n",
       "      <td>2</td>\n",
       "      <td>1</td>\n",
       "      <td>0</td>\n",
       "      <td>0.500000</td>\n",
       "      <td>0.250000</td>\n",
       "      <td>0</td>\n",
       "      <td>0.191223</td>\n",
       "    </tr>\n",
       "  </tbody>\n",
       "</table>\n",
       "</div>"
      ],
      "text/plain": [
       "   AnsId  QuestionId  Ans_count  index  Votes  AnsRank  Age  ReScore  \\\n",
       "0      4           1          3      0      3        1    0        0   \n",
       "1      5           1          3      0      1        2    0        0   \n",
       "2     56           1          3      0      2        3    0        0   \n",
       "3     56           1          4      1      3        1    1        0   \n",
       "4      4           1          4      1      1        2    1        0   \n",
       "\n",
       "   Norm_Pos  Norm_Pos_2  Norm_DRank    EPbias  \n",
       "0  0.333333    0.111111           0  0.378686  \n",
       "1  0.666667    0.444444           0  0.263514  \n",
       "2  1.000000    1.000000           0  0.357801  \n",
       "3  0.250000    0.062500           0  0.327900  \n",
       "4  0.500000    0.250000           0  0.191223  "
      ]
     },
     "execution_count": 60,
     "metadata": {},
     "output_type": "execute_result"
    }
   ],
   "source": [
    "votes_qt_idx.head()"
   ]
  },
  {
   "cell_type": "markdown",
   "metadata": {},
   "source": [
    "## Prepare for plm package, as a panel "
   ]
  },
  {
   "cell_type": "code",
   "execution_count": 61,
   "metadata": {
    "collapsed": true
   },
   "outputs": [],
   "source": [
    "# test this part later\n",
    "features = ['ReScore','Norm_Pos','Norm_Pos_2','Norm_DRank','EPbias']\n",
    "def prepare_logit(df):\n",
    "    s_df = df.sort_values(by='AnsRank')\n",
    "    ref = s_df.iloc[-1]\n",
    "    feats_df = s_df.apply(lambda row: row[features] - ref[features], axis=1).iloc[:-1]\n",
    "    feats_df['AnsId'] = s_df['AnsId'][:-1]\n",
    "    feats_df['AnsRank'] = s_df['AnsRank'][:-1]\n",
    "    feats_df['Votes'] = s_df['Votes'][:-1]\n",
    "    return feats_df"
   ]
  },
  {
   "cell_type": "code",
   "execution_count": 62,
   "metadata": {
    "collapsed": false
   },
   "outputs": [],
   "source": [
    "votes_logit = votes.groupby(['QuestionId','Age']).apply(prepare_logit).reset_index(level=[0,1],drop=False)"
   ]
  },
  {
   "cell_type": "code",
   "execution_count": 63,
   "metadata": {
    "collapsed": false
   },
   "outputs": [
    {
     "data": {
      "text/plain": [
       "0"
      ]
     },
     "execution_count": 63,
     "metadata": {},
     "output_type": "execute_result"
    }
   ],
   "source": [
    "get_comp = lambda df: int(df.shape[0])>1 \n",
    "tt = votes_logit.groupby(['QuestionId','Age','AnsRank']).apply(get_comp).reset_index(drop=True)\n",
    "sum(tt)"
   ]
  },
  {
   "cell_type": "code",
   "execution_count": 64,
   "metadata": {
    "collapsed": false
   },
   "outputs": [
    {
     "data": {
      "text/plain": [
       "(15480, 10)"
      ]
     },
     "execution_count": 64,
     "metadata": {},
     "output_type": "execute_result"
    }
   ],
   "source": [
    "votes_logit.shape"
   ]
  },
  {
   "cell_type": "code",
   "execution_count": 65,
   "metadata": {
    "collapsed": false
   },
   "outputs": [
    {
     "data": {
      "text/plain": [
       "(7668, 10)"
      ]
     },
     "execution_count": 65,
     "metadata": {},
     "output_type": "execute_result"
    }
   ],
   "source": [
    "votes_logit[votes_logit.Votes==0].shape"
   ]
  },
  {
   "cell_type": "code",
   "execution_count": 66,
   "metadata": {
    "collapsed": false
   },
   "outputs": [],
   "source": [
    "map_qt_idx = votes_logit.groupby(['QuestionId','Age']).count().reset_index(level=[0,1],drop=False)[['QuestionId','Age']]"
   ]
  },
  {
   "cell_type": "code",
   "execution_count": 67,
   "metadata": {
    "collapsed": false
   },
   "outputs": [
    {
     "data": {
      "text/html": [
       "<div>\n",
       "<table border=\"1\" class=\"dataframe\">\n",
       "  <thead>\n",
       "    <tr style=\"text-align: right;\">\n",
       "      <th></th>\n",
       "      <th>QuestionId</th>\n",
       "      <th>Age</th>\n",
       "    </tr>\n",
       "  </thead>\n",
       "  <tbody>\n",
       "    <tr>\n",
       "      <th>0</th>\n",
       "      <td>1</td>\n",
       "      <td>0</td>\n",
       "    </tr>\n",
       "    <tr>\n",
       "      <th>1</th>\n",
       "      <td>1</td>\n",
       "      <td>1</td>\n",
       "    </tr>\n",
       "    <tr>\n",
       "      <th>2</th>\n",
       "      <td>1</td>\n",
       "      <td>2</td>\n",
       "    </tr>\n",
       "    <tr>\n",
       "      <th>3</th>\n",
       "      <td>1</td>\n",
       "      <td>5</td>\n",
       "    </tr>\n",
       "    <tr>\n",
       "      <th>4</th>\n",
       "      <td>1</td>\n",
       "      <td>8</td>\n",
       "    </tr>\n",
       "  </tbody>\n",
       "</table>\n",
       "</div>"
      ],
      "text/plain": [
       "   QuestionId  Age\n",
       "0           1    0\n",
       "1           1    1\n",
       "2           1    2\n",
       "3           1    5\n",
       "4           1    8"
      ]
     },
     "execution_count": 67,
     "metadata": {},
     "output_type": "execute_result"
    }
   ],
   "source": [
    "map_qt_idx.head()"
   ]
  },
  {
   "cell_type": "code",
   "execution_count": 68,
   "metadata": {
    "collapsed": false
   },
   "outputs": [],
   "source": [
    "map_qt_idx.to_csv('Qt_idx_mlogit.csv')"
   ]
  },
  {
   "cell_type": "code",
   "execution_count": 69,
   "metadata": {
    "collapsed": false
   },
   "outputs": [
    {
     "data": {
      "text/plain": [
       "False"
      ]
     },
     "execution_count": 69,
     "metadata": {},
     "output_type": "execute_result"
    }
   ],
   "source": [
    "map_qt_idx.duplicated().any()"
   ]
  },
  {
   "cell_type": "code",
   "execution_count": 70,
   "metadata": {
    "collapsed": false
   },
   "outputs": [
    {
     "data": {
      "text/plain": [
       "Index([u'QuestionId', u'Age', u'ReScore', u'Norm_Pos', u'Norm_Pos_2',\n",
       "       u'Norm_DRank', u'EPbias', u'AnsId', u'AnsRank', u'Votes'],\n",
       "      dtype='object')"
      ]
     },
     "execution_count": 70,
     "metadata": {},
     "output_type": "execute_result"
    }
   ],
   "source": [
    "votes_logit.columns"
   ]
  },
  {
   "cell_type": "code",
   "execution_count": 71,
   "metadata": {
    "collapsed": false
   },
   "outputs": [],
   "source": [
    "## Keep in mind that features are now differences for last choice for a given question-time pair\n",
    "idxed_X = pd.merge(votes_logit,map_qt_idx.reset_index(drop=False),how='left',on=['QuestionId','Age'])\n",
    "\n",
    "for_r = idxed_X[['index','QuestionId','AnsId','AnsRank','Votes','Age',\n",
    "                 'ReScore','Norm_Pos','Norm_Pos_2','Norm_DRank','EPbias']]"
   ]
  },
  {
   "cell_type": "code",
   "execution_count": 75,
   "metadata": {
    "collapsed": false
   },
   "outputs": [],
   "source": [
    "for_r.to_csv('QtPanelFull.csv')"
   ]
  },
  {
   "cell_type": "code",
   "execution_count": 39,
   "metadata": {
    "collapsed": false
   },
   "outputs": [
    {
     "data": {
      "text/plain": [
       "(15480, 10)"
      ]
     },
     "execution_count": 39,
     "metadata": {},
     "output_type": "execute_result"
    }
   ],
   "source": [
    "for_r.shape"
   ]
  },
  {
   "cell_type": "code",
   "execution_count": 40,
   "metadata": {
    "collapsed": false
   },
   "outputs": [
    {
     "data": {
      "text/plain": [
       "(7668, 10)"
      ]
     },
     "execution_count": 40,
     "metadata": {},
     "output_type": "execute_result"
    }
   ],
   "source": [
    "for_r[for_r.Votes==0].shape"
   ]
  },
  {
   "cell_type": "code",
   "execution_count": 76,
   "metadata": {
    "collapsed": false
   },
   "outputs": [
    {
     "data": {
      "text/html": [
       "<div>\n",
       "<table border=\"1\" class=\"dataframe\">\n",
       "  <thead>\n",
       "    <tr style=\"text-align: right;\">\n",
       "      <th></th>\n",
       "      <th>index</th>\n",
       "      <th>QuestionId</th>\n",
       "      <th>AnsId</th>\n",
       "      <th>AnsRank</th>\n",
       "      <th>Votes</th>\n",
       "      <th>Age</th>\n",
       "      <th>ReScore</th>\n",
       "      <th>Norm_Pos</th>\n",
       "      <th>Norm_Pos_2</th>\n",
       "      <th>Norm_DRank</th>\n",
       "      <th>EPbias</th>\n",
       "    </tr>\n",
       "  </thead>\n",
       "  <tbody>\n",
       "  </tbody>\n",
       "</table>\n",
       "</div>"
      ],
      "text/plain": [
       "Empty DataFrame\n",
       "Columns: [index, QuestionId, AnsId, AnsRank, Votes, Age, ReScore, Norm_Pos, Norm_Pos_2, Norm_DRank, EPbias]\n",
       "Index: []"
      ]
     },
     "execution_count": 76,
     "metadata": {},
     "output_type": "execute_result"
    }
   ],
   "source": [
    "for_r[pd.isnull(for_r).any(axis=1)]"
   ]
  },
  {
   "cell_type": "code",
   "execution_count": 77,
   "metadata": {
    "collapsed": false
   },
   "outputs": [
    {
     "data": {
      "text/html": [
       "<div>\n",
       "<table border=\"1\" class=\"dataframe\">\n",
       "  <thead>\n",
       "    <tr style=\"text-align: right;\">\n",
       "      <th></th>\n",
       "      <th></th>\n",
       "      <th>QuestionId</th>\n",
       "      <th>AnsId</th>\n",
       "      <th>Votes</th>\n",
       "      <th>Age</th>\n",
       "      <th>ReScore</th>\n",
       "      <th>Norm_Pos</th>\n",
       "      <th>Norm_Pos_2</th>\n",
       "      <th>Norm_DRank</th>\n",
       "      <th>EPbias</th>\n",
       "    </tr>\n",
       "    <tr>\n",
       "      <th>index</th>\n",
       "      <th>AnsRank</th>\n",
       "      <th></th>\n",
       "      <th></th>\n",
       "      <th></th>\n",
       "      <th></th>\n",
       "      <th></th>\n",
       "      <th></th>\n",
       "      <th></th>\n",
       "      <th></th>\n",
       "      <th></th>\n",
       "    </tr>\n",
       "  </thead>\n",
       "  <tbody>\n",
       "    <tr>\n",
       "      <th rowspan=\"2\" valign=\"top\">0</th>\n",
       "      <th>1</th>\n",
       "      <td>1</td>\n",
       "      <td>1</td>\n",
       "      <td>1</td>\n",
       "      <td>1</td>\n",
       "      <td>1</td>\n",
       "      <td>1</td>\n",
       "      <td>1</td>\n",
       "      <td>1</td>\n",
       "      <td>1</td>\n",
       "    </tr>\n",
       "    <tr>\n",
       "      <th>2</th>\n",
       "      <td>1</td>\n",
       "      <td>1</td>\n",
       "      <td>1</td>\n",
       "      <td>1</td>\n",
       "      <td>1</td>\n",
       "      <td>1</td>\n",
       "      <td>1</td>\n",
       "      <td>1</td>\n",
       "      <td>1</td>\n",
       "    </tr>\n",
       "    <tr>\n",
       "      <th rowspan=\"3\" valign=\"top\">1</th>\n",
       "      <th>1</th>\n",
       "      <td>1</td>\n",
       "      <td>1</td>\n",
       "      <td>1</td>\n",
       "      <td>1</td>\n",
       "      <td>1</td>\n",
       "      <td>1</td>\n",
       "      <td>1</td>\n",
       "      <td>1</td>\n",
       "      <td>1</td>\n",
       "    </tr>\n",
       "    <tr>\n",
       "      <th>2</th>\n",
       "      <td>1</td>\n",
       "      <td>1</td>\n",
       "      <td>1</td>\n",
       "      <td>1</td>\n",
       "      <td>1</td>\n",
       "      <td>1</td>\n",
       "      <td>1</td>\n",
       "      <td>1</td>\n",
       "      <td>1</td>\n",
       "    </tr>\n",
       "    <tr>\n",
       "      <th>3</th>\n",
       "      <td>1</td>\n",
       "      <td>1</td>\n",
       "      <td>1</td>\n",
       "      <td>1</td>\n",
       "      <td>1</td>\n",
       "      <td>1</td>\n",
       "      <td>1</td>\n",
       "      <td>1</td>\n",
       "      <td>1</td>\n",
       "    </tr>\n",
       "    <tr>\n",
       "      <th rowspan=\"3\" valign=\"top\">2</th>\n",
       "      <th>1</th>\n",
       "      <td>1</td>\n",
       "      <td>1</td>\n",
       "      <td>1</td>\n",
       "      <td>1</td>\n",
       "      <td>1</td>\n",
       "      <td>1</td>\n",
       "      <td>1</td>\n",
       "      <td>1</td>\n",
       "      <td>1</td>\n",
       "    </tr>\n",
       "    <tr>\n",
       "      <th>2</th>\n",
       "      <td>1</td>\n",
       "      <td>1</td>\n",
       "      <td>1</td>\n",
       "      <td>1</td>\n",
       "      <td>1</td>\n",
       "      <td>1</td>\n",
       "      <td>1</td>\n",
       "      <td>1</td>\n",
       "      <td>1</td>\n",
       "    </tr>\n",
       "    <tr>\n",
       "      <th>3</th>\n",
       "      <td>1</td>\n",
       "      <td>1</td>\n",
       "      <td>1</td>\n",
       "      <td>1</td>\n",
       "      <td>1</td>\n",
       "      <td>1</td>\n",
       "      <td>1</td>\n",
       "      <td>1</td>\n",
       "      <td>1</td>\n",
       "    </tr>\n",
       "    <tr>\n",
       "      <th rowspan=\"3\" valign=\"top\">3</th>\n",
       "      <th>1</th>\n",
       "      <td>1</td>\n",
       "      <td>1</td>\n",
       "      <td>1</td>\n",
       "      <td>1</td>\n",
       "      <td>1</td>\n",
       "      <td>1</td>\n",
       "      <td>1</td>\n",
       "      <td>1</td>\n",
       "      <td>1</td>\n",
       "    </tr>\n",
       "    <tr>\n",
       "      <th>2</th>\n",
       "      <td>1</td>\n",
       "      <td>1</td>\n",
       "      <td>1</td>\n",
       "      <td>1</td>\n",
       "      <td>1</td>\n",
       "      <td>1</td>\n",
       "      <td>1</td>\n",
       "      <td>1</td>\n",
       "      <td>1</td>\n",
       "    </tr>\n",
       "    <tr>\n",
       "      <th>3</th>\n",
       "      <td>1</td>\n",
       "      <td>1</td>\n",
       "      <td>1</td>\n",
       "      <td>1</td>\n",
       "      <td>1</td>\n",
       "      <td>1</td>\n",
       "      <td>1</td>\n",
       "      <td>1</td>\n",
       "      <td>1</td>\n",
       "    </tr>\n",
       "    <tr>\n",
       "      <th rowspan=\"3\" valign=\"top\">4</th>\n",
       "      <th>1</th>\n",
       "      <td>1</td>\n",
       "      <td>1</td>\n",
       "      <td>1</td>\n",
       "      <td>1</td>\n",
       "      <td>1</td>\n",
       "      <td>1</td>\n",
       "      <td>1</td>\n",
       "      <td>1</td>\n",
       "      <td>1</td>\n",
       "    </tr>\n",
       "    <tr>\n",
       "      <th>2</th>\n",
       "      <td>1</td>\n",
       "      <td>1</td>\n",
       "      <td>1</td>\n",
       "      <td>1</td>\n",
       "      <td>1</td>\n",
       "      <td>1</td>\n",
       "      <td>1</td>\n",
       "      <td>1</td>\n",
       "      <td>1</td>\n",
       "    </tr>\n",
       "    <tr>\n",
       "      <th>3</th>\n",
       "      <td>1</td>\n",
       "      <td>1</td>\n",
       "      <td>1</td>\n",
       "      <td>1</td>\n",
       "      <td>1</td>\n",
       "      <td>1</td>\n",
       "      <td>1</td>\n",
       "      <td>1</td>\n",
       "      <td>1</td>\n",
       "    </tr>\n",
       "    <tr>\n",
       "      <th rowspan=\"4\" valign=\"top\">5</th>\n",
       "      <th>1</th>\n",
       "      <td>1</td>\n",
       "      <td>1</td>\n",
       "      <td>1</td>\n",
       "      <td>1</td>\n",
       "      <td>1</td>\n",
       "      <td>1</td>\n",
       "      <td>1</td>\n",
       "      <td>1</td>\n",
       "      <td>1</td>\n",
       "    </tr>\n",
       "    <tr>\n",
       "      <th>2</th>\n",
       "      <td>1</td>\n",
       "      <td>1</td>\n",
       "      <td>1</td>\n",
       "      <td>1</td>\n",
       "      <td>1</td>\n",
       "      <td>1</td>\n",
       "      <td>1</td>\n",
       "      <td>1</td>\n",
       "      <td>1</td>\n",
       "    </tr>\n",
       "    <tr>\n",
       "      <th>3</th>\n",
       "      <td>1</td>\n",
       "      <td>1</td>\n",
       "      <td>1</td>\n",
       "      <td>1</td>\n",
       "      <td>1</td>\n",
       "      <td>1</td>\n",
       "      <td>1</td>\n",
       "      <td>1</td>\n",
       "      <td>1</td>\n",
       "    </tr>\n",
       "    <tr>\n",
       "      <th>4</th>\n",
       "      <td>1</td>\n",
       "      <td>1</td>\n",
       "      <td>1</td>\n",
       "      <td>1</td>\n",
       "      <td>1</td>\n",
       "      <td>1</td>\n",
       "      <td>1</td>\n",
       "      <td>1</td>\n",
       "      <td>1</td>\n",
       "    </tr>\n",
       "    <tr>\n",
       "      <th rowspan=\"4\" valign=\"top\">6</th>\n",
       "      <th>1</th>\n",
       "      <td>1</td>\n",
       "      <td>1</td>\n",
       "      <td>1</td>\n",
       "      <td>1</td>\n",
       "      <td>1</td>\n",
       "      <td>1</td>\n",
       "      <td>1</td>\n",
       "      <td>1</td>\n",
       "      <td>1</td>\n",
       "    </tr>\n",
       "    <tr>\n",
       "      <th>2</th>\n",
       "      <td>1</td>\n",
       "      <td>1</td>\n",
       "      <td>1</td>\n",
       "      <td>1</td>\n",
       "      <td>1</td>\n",
       "      <td>1</td>\n",
       "      <td>1</td>\n",
       "      <td>1</td>\n",
       "      <td>1</td>\n",
       "    </tr>\n",
       "    <tr>\n",
       "      <th>3</th>\n",
       "      <td>1</td>\n",
       "      <td>1</td>\n",
       "      <td>1</td>\n",
       "      <td>1</td>\n",
       "      <td>1</td>\n",
       "      <td>1</td>\n",
       "      <td>1</td>\n",
       "      <td>1</td>\n",
       "      <td>1</td>\n",
       "    </tr>\n",
       "    <tr>\n",
       "      <th>4</th>\n",
       "      <td>1</td>\n",
       "      <td>1</td>\n",
       "      <td>1</td>\n",
       "      <td>1</td>\n",
       "      <td>1</td>\n",
       "      <td>1</td>\n",
       "      <td>1</td>\n",
       "      <td>1</td>\n",
       "      <td>1</td>\n",
       "    </tr>\n",
       "    <tr>\n",
       "      <th rowspan=\"5\" valign=\"top\">7</th>\n",
       "      <th>1</th>\n",
       "      <td>1</td>\n",
       "      <td>1</td>\n",
       "      <td>1</td>\n",
       "      <td>1</td>\n",
       "      <td>1</td>\n",
       "      <td>1</td>\n",
       "      <td>1</td>\n",
       "      <td>1</td>\n",
       "      <td>1</td>\n",
       "    </tr>\n",
       "    <tr>\n",
       "      <th>2</th>\n",
       "      <td>1</td>\n",
       "      <td>1</td>\n",
       "      <td>1</td>\n",
       "      <td>1</td>\n",
       "      <td>1</td>\n",
       "      <td>1</td>\n",
       "      <td>1</td>\n",
       "      <td>1</td>\n",
       "      <td>1</td>\n",
       "    </tr>\n",
       "    <tr>\n",
       "      <th>3</th>\n",
       "      <td>1</td>\n",
       "      <td>1</td>\n",
       "      <td>1</td>\n",
       "      <td>1</td>\n",
       "      <td>1</td>\n",
       "      <td>1</td>\n",
       "      <td>1</td>\n",
       "      <td>1</td>\n",
       "      <td>1</td>\n",
       "    </tr>\n",
       "    <tr>\n",
       "      <th>4</th>\n",
       "      <td>1</td>\n",
       "      <td>1</td>\n",
       "      <td>1</td>\n",
       "      <td>1</td>\n",
       "      <td>1</td>\n",
       "      <td>1</td>\n",
       "      <td>1</td>\n",
       "      <td>1</td>\n",
       "      <td>1</td>\n",
       "    </tr>\n",
       "    <tr>\n",
       "      <th>5</th>\n",
       "      <td>1</td>\n",
       "      <td>1</td>\n",
       "      <td>1</td>\n",
       "      <td>1</td>\n",
       "      <td>1</td>\n",
       "      <td>1</td>\n",
       "      <td>1</td>\n",
       "      <td>1</td>\n",
       "      <td>1</td>\n",
       "    </tr>\n",
       "    <tr>\n",
       "      <th rowspan=\"3\" valign=\"top\">8</th>\n",
       "      <th>1</th>\n",
       "      <td>1</td>\n",
       "      <td>1</td>\n",
       "      <td>1</td>\n",
       "      <td>1</td>\n",
       "      <td>1</td>\n",
       "      <td>1</td>\n",
       "      <td>1</td>\n",
       "      <td>1</td>\n",
       "      <td>1</td>\n",
       "    </tr>\n",
       "    <tr>\n",
       "      <th>2</th>\n",
       "      <td>1</td>\n",
       "      <td>1</td>\n",
       "      <td>1</td>\n",
       "      <td>1</td>\n",
       "      <td>1</td>\n",
       "      <td>1</td>\n",
       "      <td>1</td>\n",
       "      <td>1</td>\n",
       "      <td>1</td>\n",
       "    </tr>\n",
       "    <tr>\n",
       "      <th>3</th>\n",
       "      <td>1</td>\n",
       "      <td>1</td>\n",
       "      <td>1</td>\n",
       "      <td>1</td>\n",
       "      <td>1</td>\n",
       "      <td>1</td>\n",
       "      <td>1</td>\n",
       "      <td>1</td>\n",
       "      <td>1</td>\n",
       "    </tr>\n",
       "    <tr>\n",
       "      <th>...</th>\n",
       "      <th>...</th>\n",
       "      <td>...</td>\n",
       "      <td>...</td>\n",
       "      <td>...</td>\n",
       "      <td>...</td>\n",
       "      <td>...</td>\n",
       "      <td>...</td>\n",
       "      <td>...</td>\n",
       "      <td>...</td>\n",
       "      <td>...</td>\n",
       "    </tr>\n",
       "    <tr>\n",
       "      <th>7420</th>\n",
       "      <th>1</th>\n",
       "      <td>1</td>\n",
       "      <td>1</td>\n",
       "      <td>1</td>\n",
       "      <td>1</td>\n",
       "      <td>1</td>\n",
       "      <td>1</td>\n",
       "      <td>1</td>\n",
       "      <td>1</td>\n",
       "      <td>1</td>\n",
       "    </tr>\n",
       "    <tr>\n",
       "      <th>7421</th>\n",
       "      <th>1</th>\n",
       "      <td>1</td>\n",
       "      <td>1</td>\n",
       "      <td>1</td>\n",
       "      <td>1</td>\n",
       "      <td>1</td>\n",
       "      <td>1</td>\n",
       "      <td>1</td>\n",
       "      <td>1</td>\n",
       "      <td>1</td>\n",
       "    </tr>\n",
       "    <tr>\n",
       "      <th rowspan=\"2\" valign=\"top\">7422</th>\n",
       "      <th>1</th>\n",
       "      <td>1</td>\n",
       "      <td>1</td>\n",
       "      <td>1</td>\n",
       "      <td>1</td>\n",
       "      <td>1</td>\n",
       "      <td>1</td>\n",
       "      <td>1</td>\n",
       "      <td>1</td>\n",
       "      <td>1</td>\n",
       "    </tr>\n",
       "    <tr>\n",
       "      <th>2</th>\n",
       "      <td>1</td>\n",
       "      <td>1</td>\n",
       "      <td>1</td>\n",
       "      <td>1</td>\n",
       "      <td>1</td>\n",
       "      <td>1</td>\n",
       "      <td>1</td>\n",
       "      <td>1</td>\n",
       "      <td>1</td>\n",
       "    </tr>\n",
       "    <tr>\n",
       "      <th>7423</th>\n",
       "      <th>1</th>\n",
       "      <td>1</td>\n",
       "      <td>1</td>\n",
       "      <td>1</td>\n",
       "      <td>1</td>\n",
       "      <td>1</td>\n",
       "      <td>1</td>\n",
       "      <td>1</td>\n",
       "      <td>1</td>\n",
       "      <td>1</td>\n",
       "    </tr>\n",
       "    <tr>\n",
       "      <th>7424</th>\n",
       "      <th>1</th>\n",
       "      <td>1</td>\n",
       "      <td>1</td>\n",
       "      <td>1</td>\n",
       "      <td>1</td>\n",
       "      <td>1</td>\n",
       "      <td>1</td>\n",
       "      <td>1</td>\n",
       "      <td>1</td>\n",
       "      <td>1</td>\n",
       "    </tr>\n",
       "    <tr>\n",
       "      <th>7425</th>\n",
       "      <th>1</th>\n",
       "      <td>1</td>\n",
       "      <td>1</td>\n",
       "      <td>1</td>\n",
       "      <td>1</td>\n",
       "      <td>1</td>\n",
       "      <td>1</td>\n",
       "      <td>1</td>\n",
       "      <td>1</td>\n",
       "      <td>1</td>\n",
       "    </tr>\n",
       "    <tr>\n",
       "      <th rowspan=\"2\" valign=\"top\">7426</th>\n",
       "      <th>1</th>\n",
       "      <td>1</td>\n",
       "      <td>1</td>\n",
       "      <td>1</td>\n",
       "      <td>1</td>\n",
       "      <td>1</td>\n",
       "      <td>1</td>\n",
       "      <td>1</td>\n",
       "      <td>1</td>\n",
       "      <td>1</td>\n",
       "    </tr>\n",
       "    <tr>\n",
       "      <th>2</th>\n",
       "      <td>1</td>\n",
       "      <td>1</td>\n",
       "      <td>1</td>\n",
       "      <td>1</td>\n",
       "      <td>1</td>\n",
       "      <td>1</td>\n",
       "      <td>1</td>\n",
       "      <td>1</td>\n",
       "      <td>1</td>\n",
       "    </tr>\n",
       "    <tr>\n",
       "      <th rowspan=\"2\" valign=\"top\">7427</th>\n",
       "      <th>1</th>\n",
       "      <td>1</td>\n",
       "      <td>1</td>\n",
       "      <td>1</td>\n",
       "      <td>1</td>\n",
       "      <td>1</td>\n",
       "      <td>1</td>\n",
       "      <td>1</td>\n",
       "      <td>1</td>\n",
       "      <td>1</td>\n",
       "    </tr>\n",
       "    <tr>\n",
       "      <th>2</th>\n",
       "      <td>1</td>\n",
       "      <td>1</td>\n",
       "      <td>1</td>\n",
       "      <td>1</td>\n",
       "      <td>1</td>\n",
       "      <td>1</td>\n",
       "      <td>1</td>\n",
       "      <td>1</td>\n",
       "      <td>1</td>\n",
       "    </tr>\n",
       "    <tr>\n",
       "      <th>7428</th>\n",
       "      <th>1</th>\n",
       "      <td>1</td>\n",
       "      <td>1</td>\n",
       "      <td>1</td>\n",
       "      <td>1</td>\n",
       "      <td>1</td>\n",
       "      <td>1</td>\n",
       "      <td>1</td>\n",
       "      <td>1</td>\n",
       "      <td>1</td>\n",
       "    </tr>\n",
       "    <tr>\n",
       "      <th>7429</th>\n",
       "      <th>1</th>\n",
       "      <td>1</td>\n",
       "      <td>1</td>\n",
       "      <td>1</td>\n",
       "      <td>1</td>\n",
       "      <td>1</td>\n",
       "      <td>1</td>\n",
       "      <td>1</td>\n",
       "      <td>1</td>\n",
       "      <td>1</td>\n",
       "    </tr>\n",
       "    <tr>\n",
       "      <th>7430</th>\n",
       "      <th>1</th>\n",
       "      <td>1</td>\n",
       "      <td>1</td>\n",
       "      <td>1</td>\n",
       "      <td>1</td>\n",
       "      <td>1</td>\n",
       "      <td>1</td>\n",
       "      <td>1</td>\n",
       "      <td>1</td>\n",
       "      <td>1</td>\n",
       "    </tr>\n",
       "    <tr>\n",
       "      <th>7431</th>\n",
       "      <th>1</th>\n",
       "      <td>1</td>\n",
       "      <td>1</td>\n",
       "      <td>1</td>\n",
       "      <td>1</td>\n",
       "      <td>1</td>\n",
       "      <td>1</td>\n",
       "      <td>1</td>\n",
       "      <td>1</td>\n",
       "      <td>1</td>\n",
       "    </tr>\n",
       "    <tr>\n",
       "      <th>7432</th>\n",
       "      <th>1</th>\n",
       "      <td>1</td>\n",
       "      <td>1</td>\n",
       "      <td>1</td>\n",
       "      <td>1</td>\n",
       "      <td>1</td>\n",
       "      <td>1</td>\n",
       "      <td>1</td>\n",
       "      <td>1</td>\n",
       "      <td>1</td>\n",
       "    </tr>\n",
       "    <tr>\n",
       "      <th>7433</th>\n",
       "      <th>1</th>\n",
       "      <td>1</td>\n",
       "      <td>1</td>\n",
       "      <td>1</td>\n",
       "      <td>1</td>\n",
       "      <td>1</td>\n",
       "      <td>1</td>\n",
       "      <td>1</td>\n",
       "      <td>1</td>\n",
       "      <td>1</td>\n",
       "    </tr>\n",
       "    <tr>\n",
       "      <th>7434</th>\n",
       "      <th>1</th>\n",
       "      <td>1</td>\n",
       "      <td>1</td>\n",
       "      <td>1</td>\n",
       "      <td>1</td>\n",
       "      <td>1</td>\n",
       "      <td>1</td>\n",
       "      <td>1</td>\n",
       "      <td>1</td>\n",
       "      <td>1</td>\n",
       "    </tr>\n",
       "    <tr>\n",
       "      <th rowspan=\"2\" valign=\"top\">7435</th>\n",
       "      <th>1</th>\n",
       "      <td>1</td>\n",
       "      <td>1</td>\n",
       "      <td>1</td>\n",
       "      <td>1</td>\n",
       "      <td>1</td>\n",
       "      <td>1</td>\n",
       "      <td>1</td>\n",
       "      <td>1</td>\n",
       "      <td>1</td>\n",
       "    </tr>\n",
       "    <tr>\n",
       "      <th>2</th>\n",
       "      <td>1</td>\n",
       "      <td>1</td>\n",
       "      <td>1</td>\n",
       "      <td>1</td>\n",
       "      <td>1</td>\n",
       "      <td>1</td>\n",
       "      <td>1</td>\n",
       "      <td>1</td>\n",
       "      <td>1</td>\n",
       "    </tr>\n",
       "    <tr>\n",
       "      <th rowspan=\"3\" valign=\"top\">7436</th>\n",
       "      <th>1</th>\n",
       "      <td>1</td>\n",
       "      <td>1</td>\n",
       "      <td>1</td>\n",
       "      <td>1</td>\n",
       "      <td>1</td>\n",
       "      <td>1</td>\n",
       "      <td>1</td>\n",
       "      <td>1</td>\n",
       "      <td>1</td>\n",
       "    </tr>\n",
       "    <tr>\n",
       "      <th>2</th>\n",
       "      <td>1</td>\n",
       "      <td>1</td>\n",
       "      <td>1</td>\n",
       "      <td>1</td>\n",
       "      <td>1</td>\n",
       "      <td>1</td>\n",
       "      <td>1</td>\n",
       "      <td>1</td>\n",
       "      <td>1</td>\n",
       "    </tr>\n",
       "    <tr>\n",
       "      <th>3</th>\n",
       "      <td>1</td>\n",
       "      <td>1</td>\n",
       "      <td>1</td>\n",
       "      <td>1</td>\n",
       "      <td>1</td>\n",
       "      <td>1</td>\n",
       "      <td>1</td>\n",
       "      <td>1</td>\n",
       "      <td>1</td>\n",
       "    </tr>\n",
       "    <tr>\n",
       "      <th rowspan=\"3\" valign=\"top\">7437</th>\n",
       "      <th>1</th>\n",
       "      <td>1</td>\n",
       "      <td>1</td>\n",
       "      <td>1</td>\n",
       "      <td>1</td>\n",
       "      <td>1</td>\n",
       "      <td>1</td>\n",
       "      <td>1</td>\n",
       "      <td>1</td>\n",
       "      <td>1</td>\n",
       "    </tr>\n",
       "    <tr>\n",
       "      <th>2</th>\n",
       "      <td>1</td>\n",
       "      <td>1</td>\n",
       "      <td>1</td>\n",
       "      <td>1</td>\n",
       "      <td>1</td>\n",
       "      <td>1</td>\n",
       "      <td>1</td>\n",
       "      <td>1</td>\n",
       "      <td>1</td>\n",
       "    </tr>\n",
       "    <tr>\n",
       "      <th>3</th>\n",
       "      <td>1</td>\n",
       "      <td>1</td>\n",
       "      <td>1</td>\n",
       "      <td>1</td>\n",
       "      <td>1</td>\n",
       "      <td>1</td>\n",
       "      <td>1</td>\n",
       "      <td>1</td>\n",
       "      <td>1</td>\n",
       "    </tr>\n",
       "    <tr>\n",
       "      <th rowspan=\"3\" valign=\"top\">7438</th>\n",
       "      <th>1</th>\n",
       "      <td>1</td>\n",
       "      <td>1</td>\n",
       "      <td>1</td>\n",
       "      <td>1</td>\n",
       "      <td>1</td>\n",
       "      <td>1</td>\n",
       "      <td>1</td>\n",
       "      <td>1</td>\n",
       "      <td>1</td>\n",
       "    </tr>\n",
       "    <tr>\n",
       "      <th>2</th>\n",
       "      <td>1</td>\n",
       "      <td>1</td>\n",
       "      <td>1</td>\n",
       "      <td>1</td>\n",
       "      <td>1</td>\n",
       "      <td>1</td>\n",
       "      <td>1</td>\n",
       "      <td>1</td>\n",
       "      <td>1</td>\n",
       "    </tr>\n",
       "    <tr>\n",
       "      <th>3</th>\n",
       "      <td>1</td>\n",
       "      <td>1</td>\n",
       "      <td>1</td>\n",
       "      <td>1</td>\n",
       "      <td>1</td>\n",
       "      <td>1</td>\n",
       "      <td>1</td>\n",
       "      <td>1</td>\n",
       "      <td>1</td>\n",
       "    </tr>\n",
       "    <tr>\n",
       "      <th>7439</th>\n",
       "      <th>1</th>\n",
       "      <td>1</td>\n",
       "      <td>1</td>\n",
       "      <td>1</td>\n",
       "      <td>1</td>\n",
       "      <td>1</td>\n",
       "      <td>1</td>\n",
       "      <td>1</td>\n",
       "      <td>1</td>\n",
       "      <td>1</td>\n",
       "    </tr>\n",
       "  </tbody>\n",
       "</table>\n",
       "<p>15480 rows × 9 columns</p>\n",
       "</div>"
      ],
      "text/plain": [
       "               QuestionId  AnsId  Votes  Age  ReScore  Norm_Pos  Norm_Pos_2  \\\n",
       "index AnsRank                                                                 \n",
       "0     1                 1      1      1    1        1         1           1   \n",
       "      2                 1      1      1    1        1         1           1   \n",
       "1     1                 1      1      1    1        1         1           1   \n",
       "      2                 1      1      1    1        1         1           1   \n",
       "      3                 1      1      1    1        1         1           1   \n",
       "2     1                 1      1      1    1        1         1           1   \n",
       "      2                 1      1      1    1        1         1           1   \n",
       "      3                 1      1      1    1        1         1           1   \n",
       "3     1                 1      1      1    1        1         1           1   \n",
       "      2                 1      1      1    1        1         1           1   \n",
       "      3                 1      1      1    1        1         1           1   \n",
       "4     1                 1      1      1    1        1         1           1   \n",
       "      2                 1      1      1    1        1         1           1   \n",
       "      3                 1      1      1    1        1         1           1   \n",
       "5     1                 1      1      1    1        1         1           1   \n",
       "      2                 1      1      1    1        1         1           1   \n",
       "      3                 1      1      1    1        1         1           1   \n",
       "      4                 1      1      1    1        1         1           1   \n",
       "6     1                 1      1      1    1        1         1           1   \n",
       "      2                 1      1      1    1        1         1           1   \n",
       "      3                 1      1      1    1        1         1           1   \n",
       "      4                 1      1      1    1        1         1           1   \n",
       "7     1                 1      1      1    1        1         1           1   \n",
       "      2                 1      1      1    1        1         1           1   \n",
       "      3                 1      1      1    1        1         1           1   \n",
       "      4                 1      1      1    1        1         1           1   \n",
       "      5                 1      1      1    1        1         1           1   \n",
       "8     1                 1      1      1    1        1         1           1   \n",
       "      2                 1      1      1    1        1         1           1   \n",
       "      3                 1      1      1    1        1         1           1   \n",
       "...                   ...    ...    ...  ...      ...       ...         ...   \n",
       "7420  1                 1      1      1    1        1         1           1   \n",
       "7421  1                 1      1      1    1        1         1           1   \n",
       "7422  1                 1      1      1    1        1         1           1   \n",
       "      2                 1      1      1    1        1         1           1   \n",
       "7423  1                 1      1      1    1        1         1           1   \n",
       "7424  1                 1      1      1    1        1         1           1   \n",
       "7425  1                 1      1      1    1        1         1           1   \n",
       "7426  1                 1      1      1    1        1         1           1   \n",
       "      2                 1      1      1    1        1         1           1   \n",
       "7427  1                 1      1      1    1        1         1           1   \n",
       "      2                 1      1      1    1        1         1           1   \n",
       "7428  1                 1      1      1    1        1         1           1   \n",
       "7429  1                 1      1      1    1        1         1           1   \n",
       "7430  1                 1      1      1    1        1         1           1   \n",
       "7431  1                 1      1      1    1        1         1           1   \n",
       "7432  1                 1      1      1    1        1         1           1   \n",
       "7433  1                 1      1      1    1        1         1           1   \n",
       "7434  1                 1      1      1    1        1         1           1   \n",
       "7435  1                 1      1      1    1        1         1           1   \n",
       "      2                 1      1      1    1        1         1           1   \n",
       "7436  1                 1      1      1    1        1         1           1   \n",
       "      2                 1      1      1    1        1         1           1   \n",
       "      3                 1      1      1    1        1         1           1   \n",
       "7437  1                 1      1      1    1        1         1           1   \n",
       "      2                 1      1      1    1        1         1           1   \n",
       "      3                 1      1      1    1        1         1           1   \n",
       "7438  1                 1      1      1    1        1         1           1   \n",
       "      2                 1      1      1    1        1         1           1   \n",
       "      3                 1      1      1    1        1         1           1   \n",
       "7439  1                 1      1      1    1        1         1           1   \n",
       "\n",
       "               Norm_DRank  EPbias  \n",
       "index AnsRank                      \n",
       "0     1                 1       1  \n",
       "      2                 1       1  \n",
       "1     1                 1       1  \n",
       "      2                 1       1  \n",
       "      3                 1       1  \n",
       "2     1                 1       1  \n",
       "      2                 1       1  \n",
       "      3                 1       1  \n",
       "3     1                 1       1  \n",
       "      2                 1       1  \n",
       "      3                 1       1  \n",
       "4     1                 1       1  \n",
       "      2                 1       1  \n",
       "      3                 1       1  \n",
       "5     1                 1       1  \n",
       "      2                 1       1  \n",
       "      3                 1       1  \n",
       "      4                 1       1  \n",
       "6     1                 1       1  \n",
       "      2                 1       1  \n",
       "      3                 1       1  \n",
       "      4                 1       1  \n",
       "7     1                 1       1  \n",
       "      2                 1       1  \n",
       "      3                 1       1  \n",
       "      4                 1       1  \n",
       "      5                 1       1  \n",
       "8     1                 1       1  \n",
       "      2                 1       1  \n",
       "      3                 1       1  \n",
       "...                   ...     ...  \n",
       "7420  1                 1       1  \n",
       "7421  1                 1       1  \n",
       "7422  1                 1       1  \n",
       "      2                 1       1  \n",
       "7423  1                 1       1  \n",
       "7424  1                 1       1  \n",
       "7425  1                 1       1  \n",
       "7426  1                 1       1  \n",
       "      2                 1       1  \n",
       "7427  1                 1       1  \n",
       "      2                 1       1  \n",
       "7428  1                 1       1  \n",
       "7429  1                 1       1  \n",
       "7430  1                 1       1  \n",
       "7431  1                 1       1  \n",
       "7432  1                 1       1  \n",
       "7433  1                 1       1  \n",
       "7434  1                 1       1  \n",
       "7435  1                 1       1  \n",
       "      2                 1       1  \n",
       "7436  1                 1       1  \n",
       "      2                 1       1  \n",
       "      3                 1       1  \n",
       "7437  1                 1       1  \n",
       "      2                 1       1  \n",
       "      3                 1       1  \n",
       "7438  1                 1       1  \n",
       "      2                 1       1  \n",
       "      3                 1       1  \n",
       "7439  1                 1       1  \n",
       "\n",
       "[15480 rows x 9 columns]"
      ]
     },
     "execution_count": 77,
     "metadata": {},
     "output_type": "execute_result"
    }
   ],
   "source": [
    "for_r.groupby(['index','AnsRank']).count()"
   ]
  },
  {
   "cell_type": "code",
   "execution_count": null,
   "metadata": {
    "collapsed": true
   },
   "outputs": [],
   "source": []
  }
 ],
 "metadata": {
  "kernelspec": {
   "display_name": "Python 2",
   "language": "python",
   "name": "python2"
  },
  "language_info": {
   "codemirror_mode": {
    "name": "ipython",
    "version": 2
   },
   "file_extension": ".py",
   "mimetype": "text/x-python",
   "name": "python",
   "nbconvert_exporter": "python",
   "pygments_lexer": "ipython2",
   "version": "2.7.11"
  }
 },
 "nbformat": 4,
 "nbformat_minor": 0
}
