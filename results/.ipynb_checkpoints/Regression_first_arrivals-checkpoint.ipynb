{
 "cells": [
  {
   "cell_type": "code",
   "execution_count": 8,
   "metadata": {
    "collapsed": true
   },
   "outputs": [],
   "source": [
    "%matplotlib inline\n",
    "import pandas as pd\n",
    "import numpy as np\n",
    "import random\n",
    "\n",
    "import os"
   ]
  },
  {
   "cell_type": "code",
   "execution_count": 9,
   "metadata": {
    "collapsed": true
   },
   "outputs": [],
   "source": [
    "shuffle_rows = lambda df: df.reindex(np.random.permutation(df.index))\n",
    "\n",
    "def predict_votes_by_qid(min_nb_choices=2, max_nb_choices=7, train_fraction = 0.7, max_t=None):\n",
    "    os.system(\"rm -rf Train*\")\n",
    "    os.system(\"rm -rf Test*\")\n",
    "    os.system(\"rm -rf RSS*\")   \n",
    "    for choices in range(min_nb_choices,max_nb_choices):\n",
    "        if max_t:\n",
    "            votes = pd.DataFrame.from_csv('Qtnnet%dFirstArr.csv'%choices)\n",
    "            votes = votes[votes['Age_curr']<=max_t]\n",
    "        else:\n",
    "            votes = pd.DataFrame.from_csv('Qtnnet%dFirstArr.csv'%choices)\n",
    "        rand_idx = votes.groupby(['QuestionId']).apply(lambda df: pd.DataFrame({'Rand':\n",
    "                                    [random.random()]})).reset_index(level=[0],drop=False)\n",
    "        votes = pd.merge(votes,rand_idx,how='left',on=['QuestionId'])  \n",
    "        train_idx = votes.Rand < train_fraction\n",
    "        train = shuffle_rows(votes[train_idx])\n",
    "        test = shuffle_rows(votes[~train_idx])\n",
    "        train.to_csv('Train%dOnArr.csv'%choices)\n",
    "        test.to_csv('Test%dOnArr.csv'%choices)\n",
    "        os.system(\"Rscript predictMlogit.R Train%dOnArr.csv Test%dOnArr.csv RSS%dOnArr.csv\"%tuple([choices]*3))  \n",
    "    rss = pd.DataFrame()\n",
    "    for choice in range(min_nb_choices,max_nb_choices):\n",
    "        rss = rss.append(pd.DataFrame.from_csv('RSS%dOnArr.csv'%choice,sep=' '))\n",
    "    os.system(\"rm -rf Train*\")\n",
    "    os.system(\"rm -rf Test*\")\n",
    "    os.system(\"rm -rf RSS*\")\n",
    "    return rss"
   ]
  },
  {
   "cell_type": "code",
   "execution_count": 12,
   "metadata": {
    "collapsed": false
   },
   "outputs": [
    {
     "data": {
      "image/png": "[encoded data removed]",
      "text/plain": [
       "<matplotlib.figure.Figure at 0xc31fda0>"
      ]
     },
     "metadata": {},
     "output_type": "display_data"
    }
   ],
   "source": [
    "nb_iter = 20\n",
    "rss_qid = pd.DataFrame()\n",
    "for e in range(nb_iter):\n",
    "    rss_qid = rss_qid.append(predict_votes_by_qid())\n",
    "ff = rss_qid.reset_index(level=[0],drop=False).boxplot(by='index',column=['RSS_vanilla','RSS_drank','RSS_random'])"
   ]
  },
  {
   "cell_type": "code",
   "execution_count": null,
   "metadata": {
    "collapsed": true
   },
   "outputs": [],
   "source": []
  },
  {
   "cell_type": "code",
   "execution_count": null,
   "metadata": {
    "collapsed": true
   },
   "outputs": [],
   "source": []
  }
 ],
 "metadata": {
  "kernelspec": {
   "display_name": "Python 2",
   "language": "python",
   "name": "python2"
  },
  "language_info": {
   "codemirror_mode": {
    "name": "ipython",
    "version": 2
   },
   "file_extension": ".py",
   "mimetype": "text/x-python",
   "name": "python",
   "nbconvert_exporter": "python",
   "pygments_lexer": "ipython2",
   "version": "2.7.11"
  }
 },
 "nbformat": 4,
 "nbformat_minor": 0
}
